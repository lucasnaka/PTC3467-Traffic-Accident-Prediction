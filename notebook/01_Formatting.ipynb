{
 "cells": [
  {
   "cell_type": "markdown",
   "metadata": {},
   "source": [
    "# Initial Configs\n"
   ]
  },
  {
   "cell_type": "code",
   "execution_count": null,
   "metadata": {
    "ExecuteTime": {
     "end_time": "2021-02-27T14:30:43.008035Z",
     "start_time": "2021-02-27T14:30:42.076692Z"
    },
    "run_control": {
     "marked": true
    }
   },
   "outputs": [],
   "source": [
    "%reload_ext autoreload\n",
    "%autoreload 2\n",
    "%matplotlib inline"
   ]
  },
  {
   "cell_type": "markdown",
   "metadata": {},
   "source": [
    "# Imports"
   ]
  },
  {
   "cell_type": "code",
   "execution_count": null,
   "metadata": {
    "ExecuteTime": {
     "end_time": "2021-02-27T14:30:49.353001Z",
     "start_time": "2021-02-27T14:30:43.011029Z"
    },
    "run_control": {
     "marked": true
    },
    "scrolled": true
   },
   "outputs": [],
   "source": [
    "import pandas as pd\n",
    "import numpy as np\n",
    "\n",
    "import matplotlib.pyplot as plt\n",
    "\n",
    "#import plotly for visualization\n",
    "import chart_studio.plotly as py\n",
    "import plotly.offline as pyoff\n",
    "import plotly.graph_objs as go\n",
    "import plotly.express as px\n",
    "import sys\n",
    "from IPython.core.display import display, HTML\n",
    "sys.path.append('..')\n",
    "pyoff.init_notebook_mode()\n",
    "\n",
    "from scipy import stats\n",
    "import swifter\n",
    "\n",
    "from tqdm import tqdm_notebook as tqdm\n",
    "\n",
    "from bokeh.resources import INLINE\n",
    "import bokeh.io\n",
    "from bokeh import *"
   ]
  },
  {
   "cell_type": "markdown",
   "metadata": {},
   "source": [
    "# Package configs"
   ]
  },
  {
   "cell_type": "code",
   "execution_count": null,
   "metadata": {
    "ExecuteTime": {
     "end_time": "2021-02-27T14:30:50.441268Z",
     "start_time": "2021-02-27T14:30:49.355995Z"
    },
    "run_control": {
     "marked": true
    }
   },
   "outputs": [],
   "source": [
    "pd.set_option('display.max_columns', None)\n",
    "display(HTML(\"<style>.container { width:100% !important; }</style>\"))\n",
    "pd.set_option('plotting.backend', 'pandas_bokeh')\n",
    "bokeh.io.output_notebook(INLINE)"
   ]
  },
  {
   "cell_type": "markdown",
   "metadata": {},
   "source": [
    "# Functions"
   ]
  },
  {
   "cell_type": "code",
   "execution_count": null,
   "metadata": {
    "ExecuteTime": {
     "end_time": "2021-02-27T14:30:50.809290Z",
     "start_time": "2021-02-27T14:30:50.445259Z"
    },
    "run_control": {
     "marked": true
    }
   },
   "outputs": [],
   "source": [
    "# Print rapido para dimensão do Dataframe\n",
    "def SZ(df):\n",
    "    print(f\"\"\"\n",
    "--- Dimensão ---\n",
    "Linhas:  {df.shape[0]}\n",
    "Colunas: {df.shape[1]}\"\"\")"
   ]
  },
  {
   "cell_type": "code",
   "execution_count": null,
   "metadata": {
    "ExecuteTime": {
     "end_time": "2021-02-27T14:30:51.110498Z",
     "start_time": "2021-02-27T14:30:50.814271Z"
    },
    "run_control": {
     "marked": true
    }
   },
   "outputs": [],
   "source": [
    "# Print rapido para dTypes do Dataframe\n",
    "def DT(df):\n",
    "    print(f\"\"\"\n",
    "--- DataTypes ---\n",
    "{df.dtypes}\n",
    "    \"\"\")"
   ]
  },
  {
   "cell_type": "markdown",
   "metadata": {},
   "source": [
    "# Reading Files"
   ]
  },
  {
   "cell_type": "code",
   "execution_count": null,
   "metadata": {
    "ExecuteTime": {
     "end_time": "2021-02-27T14:31:01.706250Z",
     "start_time": "2021-02-27T14:30:51.113490Z"
    },
    "run_control": {
     "marked": true
    }
   },
   "outputs": [],
   "source": [
    "years = range(2016,2020)\n",
    "\n",
    "df_datatran = pd.read_csv(f\"../data/processed/df_datatran_2009_2020.csv\", delimiter=\",\", encoding='iso-8859-1')\n",
    "\n",
    "SZ(df_datatran)\n",
    "DT(df_datatran)"
   ]
  },
  {
   "cell_type": "code",
   "execution_count": null,
   "metadata": {
    "ExecuteTime": {
     "end_time": "2021-02-27T14:31:01.898739Z",
     "start_time": "2021-02-27T14:31:01.708246Z"
    },
    "run_control": {
     "marked": false
    }
   },
   "outputs": [],
   "source": [
    "# df_pib = pd.read_excel('../data/raw/PIB dos Municípios - base de dados 2010-2017.xls')"
   ]
  },
  {
   "cell_type": "code",
   "execution_count": null,
   "metadata": {
    "ExecuteTime": {
     "end_time": "2021-02-27T14:31:02.087780Z",
     "start_time": "2021-02-27T14:31:01.902726Z"
    },
    "run_control": {
     "marked": false
    }
   },
   "outputs": [],
   "source": [
    "# df_populacao = pd.read_csv('../data/raw/populacao_por_municipio.csv')"
   ]
  },
  {
   "cell_type": "code",
   "execution_count": null,
   "metadata": {
    "ExecuteTime": {
     "end_time": "2021-02-27T14:31:02.283159Z",
     "start_time": "2021-02-27T14:31:02.091770Z"
    },
    "run_control": {
     "marked": false
    }
   },
   "outputs": [],
   "source": [
    "# df_depara_municipio = pd.read_excel('../data/raw/RELATORIO_DTB_BRASIL_MUNICIPIO.xls')"
   ]
  },
  {
   "cell_type": "markdown",
   "metadata": {},
   "source": [
    "# Data Processing"
   ]
  },
  {
   "cell_type": "markdown",
   "metadata": {
    "ExecuteTime": {
     "end_time": "2020-11-24T16:17:04.598463Z",
     "start_time": "2020-11-24T16:17:04.462219Z"
    }
   },
   "source": [
    "## PIB Dataset - DEPRECATED"
   ]
  },
  {
   "cell_type": "code",
   "execution_count": null,
   "metadata": {
    "ExecuteTime": {
     "end_time": "2021-02-27T14:31:02.492197Z",
     "start_time": "2021-02-27T14:31:02.284762Z"
    },
    "run_control": {
     "marked": false
    }
   },
   "outputs": [],
   "source": [
    "# df_pib = df_pib[['Ano', 'Código do Município', 'Nome do Município', 'Código da Unidade da Federação', 'Sigla da Unidade da Federação', 'Nome da Unidade da Federação', 'Produto Interno Bruto, \\na preços correntes\\n(R$ 1.000)', 'Produto Interno Bruto per capita, \\na preços correntes\\n(R$ 1,00)']]\n",
    "# \n",
    "# df_pib.columns = ['ano', 'id_municipio', 'municipio', 'id_uf', 'uf', 'nome_uf', 'pib', 'pib_per_capita']"
   ]
  },
  {
   "cell_type": "code",
   "execution_count": null,
   "metadata": {
    "ExecuteTime": {
     "end_time": "2021-02-27T14:31:02.712141Z",
     "start_time": "2021-02-27T14:31:02.494192Z"
    },
    "run_control": {
     "marked": false
    }
   },
   "outputs": [],
   "source": [
    "# df_pib = df_pib[df_pib['ano'] == 2017]"
   ]
  },
  {
   "cell_type": "code",
   "execution_count": null,
   "metadata": {
    "ExecuteTime": {
     "end_time": "2021-02-27T14:31:02.951856Z",
     "start_time": "2021-02-27T14:31:02.714136Z"
    },
    "run_control": {
     "marked": false
    }
   },
   "outputs": [],
   "source": [
    "# df_pib[['municipio', 'nome_uf']] = df_pib[['municipio', 'nome_uf']].apply(\n",
    "#     lambda x: x.str.normalize('NFKD').str.encode('ascii', errors='ignore').str.\n",
    "#     decode('utf-8').str.replace('[^\\w\\s]', '').str.lower().str.strip())"
   ]
  },
  {
   "cell_type": "markdown",
   "metadata": {},
   "source": [
    "Criando depara's"
   ]
  },
  {
   "cell_type": "code",
   "execution_count": null,
   "metadata": {
    "ExecuteTime": {
     "end_time": "2021-02-27T14:31:03.190242Z",
     "start_time": "2021-02-27T14:31:02.955846Z"
    },
    "run_control": {
     "marked": false
    }
   },
   "outputs": [],
   "source": [
    "# df_depara_uf = df_pib[['id_uf', 'uf', 'nome_uf']].drop_duplicates()"
   ]
  },
  {
   "cell_type": "code",
   "execution_count": null,
   "metadata": {
    "ExecuteTime": {
     "end_time": "2021-02-27T14:31:03.418141Z",
     "start_time": "2021-02-27T14:31:03.193232Z"
    },
    "run_control": {
     "marked": false
    }
   },
   "outputs": [],
   "source": [
    "# df_depara_municipio = df_pib[['id_municipio', 'municipio']].drop_duplicates()"
   ]
  },
  {
   "cell_type": "code",
   "execution_count": null,
   "metadata": {
    "ExecuteTime": {
     "end_time": "2021-02-27T14:31:03.623109Z",
     "start_time": "2021-02-27T14:31:03.421134Z"
    },
    "run_control": {
     "marked": false
    }
   },
   "outputs": [],
   "source": [
    "# df_depara_uf_municipio = df_pib[['id_municipio', 'municipio', 'id_uf', 'uf', 'nome_uf']].drop_duplicates()"
   ]
  },
  {
   "cell_type": "markdown",
   "metadata": {},
   "source": [
    "População Dataset"
   ]
  },
  {
   "cell_type": "code",
   "execution_count": null,
   "metadata": {
    "ExecuteTime": {
     "end_time": "2021-02-27T14:31:03.814112Z",
     "start_time": "2021-02-27T14:31:03.626508Z"
    },
    "run_control": {
     "marked": false
    }
   },
   "outputs": [],
   "source": [
    "# df_populacao = df_populacao.merge(df_depara_municipio, how='left', on='id_municipio')"
   ]
  },
  {
   "cell_type": "markdown",
   "metadata": {},
   "source": [
    "## Datatran Dataset"
   ]
  },
  {
   "cell_type": "code",
   "execution_count": null,
   "metadata": {
    "ExecuteTime": {
     "end_time": "2021-02-27T14:31:04.744973Z",
     "start_time": "2021-02-27T14:31:03.817104Z"
    },
    "run_control": {
     "marked": true
    }
   },
   "outputs": [],
   "source": [
    "df_datatran['data_inversa'] = pd.to_datetime(df_datatran['data_inversa'])\n",
    "df_datatran['ano'] = df_datatran['data_inversa'].dt.year"
   ]
  },
  {
   "cell_type": "code",
   "execution_count": null,
   "metadata": {
    "ExecuteTime": {
     "end_time": "2021-02-27T14:31:05.397748Z",
     "start_time": "2021-02-27T14:31:04.746969Z"
    },
    "run_control": {
     "marked": true
    }
   },
   "outputs": [],
   "source": [
    "df_datatran = df_datatran[df_datatran['ano'].isin(years)]"
   ]
  },
  {
   "cell_type": "code",
   "execution_count": null,
   "metadata": {
    "ExecuteTime": {
     "end_time": "2021-02-27T14:31:05.614754Z",
     "start_time": "2021-02-27T14:31:05.400739Z"
    },
    "run_control": {
     "marked": true
    }
   },
   "outputs": [],
   "source": [
    "df_datatran['latitude'] = df_datatran['latitude'].astype('float64')\n",
    "df_datatran['longitude'] = df_datatran['longitude'].astype('float64')"
   ]
  },
  {
   "cell_type": "code",
   "execution_count": null,
   "metadata": {
    "ExecuteTime": {
     "end_time": "2021-02-27T14:31:05.922933Z",
     "start_time": "2021-02-27T14:31:05.616685Z"
    },
    "run_control": {
     "marked": true
    }
   },
   "outputs": [],
   "source": [
    "df_datatran.dropna(subset=['latitude', 'longitude'], inplace=True)"
   ]
  },
  {
   "cell_type": "markdown",
   "metadata": {},
   "source": [
    "Normalização de strings"
   ]
  },
  {
   "cell_type": "code",
   "execution_count": null,
   "metadata": {
    "ExecuteTime": {
     "end_time": "2021-02-27T14:31:17.416561Z",
     "start_time": "2021-02-27T14:31:05.924929Z"
    },
    "run_control": {
     "marked": true
    }
   },
   "outputs": [],
   "source": [
    "string_columns = ['dia_semana', \n",
    "                  'municipio',\n",
    "                  'causa_acidente',\n",
    "                  'tipo_acidente',\n",
    "                  'classificacao_acidente',\n",
    "                  'fase_dia',\n",
    "                  'sentido_via',\n",
    "                  'condicao_metereologica',\n",
    "                  'tipo_pista',\n",
    "                  'tracado_via',\n",
    "                  'uso_solo',\n",
    "                  'regional',\n",
    "                  'delegacia',\n",
    "                  'uop']\n",
    "\n",
    "df_datatran[string_columns] = df_datatran[string_columns].apply(\n",
    "    lambda x: x.str.normalize('NFKD').str.encode('ascii', errors='ignore').str.\n",
    "    decode('utf-8').str.replace('[^\\w\\s]', '').str.lower().str.strip())"
   ]
  },
  {
   "cell_type": "markdown",
   "metadata": {},
   "source": [
    "Processamento da data"
   ]
  },
  {
   "cell_type": "code",
   "execution_count": null,
   "metadata": {
    "ExecuteTime": {
     "end_time": "2021-02-27T14:31:18.149909Z",
     "start_time": "2021-02-27T14:31:17.418559Z"
    },
    "run_control": {
     "marked": true
    }
   },
   "outputs": [],
   "source": [
    "min_data = min(df_datatran['data_inversa'])\n",
    "\n",
    "df_datatran['d'] = (df_datatran['data_inversa'] - min_data)\n",
    "df_datatran['d'] / pd.Timedelta(1, unit='d')\n",
    "df_datatran['d'] = df_datatran['d'].astype('timedelta64[D]')+1"
   ]
  },
  {
   "cell_type": "code",
   "execution_count": null,
   "metadata": {
    "ExecuteTime": {
     "end_time": "2021-02-27T14:31:23.232982Z",
     "start_time": "2021-02-27T14:31:18.155893Z"
    },
    "run_control": {
     "marked": true
    }
   },
   "outputs": [],
   "source": [
    "df_datatran['uso_solo'] = df_datatran.apply(lambda x: 'urbano' if x['uso_solo'] == 'sim' else 'rural', axis=1)"
   ]
  },
  {
   "cell_type": "code",
   "execution_count": null,
   "metadata": {
    "ExecuteTime": {
     "end_time": "2021-02-27T14:31:23.681805Z",
     "start_time": "2021-02-27T14:31:23.234977Z"
    },
    "run_control": {
     "marked": true
    }
   },
   "outputs": [],
   "source": [
    "df_datatran.loc[df_datatran[\"condicao_metereologica\"] == 'ignorada',\"condicao_metereologica\"] = 'ignorado'\n",
    "df_datatran = df_datatran[df_datatran[\"condicao_metereologica\"]!='ignorado']\n",
    "\n",
    "df_datatran.loc[df_datatran[\"condicao_metereologica\"] == 'cau claro',\"condicao_metereologica\"] = 'ceu claro'"
   ]
  },
  {
   "cell_type": "markdown",
   "metadata": {},
   "source": [
    "Completar nulos"
   ]
  },
  {
   "cell_type": "code",
   "execution_count": null,
   "metadata": {
    "ExecuteTime": {
     "end_time": "2021-02-27T14:31:24.700162Z",
     "start_time": "2021-02-27T14:31:23.682797Z"
    },
    "run_control": {
     "marked": true
    }
   },
   "outputs": [],
   "source": [
    "df_datatran['km'] = df_datatran['km'].apply(lambda x: str(x).replace(',','.'))\n",
    "df_datatran = df_datatran[~(df_datatran['br']=='(null)')]\n",
    "df_datatran['br'] = df_datatran['br'].where(pd.notnull(df_datatran['br']), None)\n",
    "df_datatran[['br','km']] = df_datatran[['br','km']].fillna(df_datatran[['br','km']].mode().iloc[0])\n",
    "df_datatran['br'] = df_datatran['br'].astype(int)\n",
    "df_datatran['km'] = df_datatran['km'].astype(float).fillna(df_datatran['km'].mode().iloc[0]).astype(float).astype(int)"
   ]
  },
  {
   "cell_type": "code",
   "execution_count": null,
   "metadata": {
    "ExecuteTime": {
     "end_time": "2021-02-27T14:31:25.149498Z",
     "start_time": "2021-02-27T14:31:24.703154Z"
    },
    "run_control": {
     "marked": true
    }
   },
   "outputs": [],
   "source": [
    "df_datatran['ufbr'] = df_datatran['uf'] + df_datatran['br'].astype(str)"
   ]
  },
  {
   "cell_type": "code",
   "execution_count": null,
   "metadata": {
    "ExecuteTime": {
     "end_time": "2021-02-27T14:31:25.419275Z",
     "start_time": "2021-02-27T14:31:25.153477Z"
    },
    "run_control": {
     "marked": false
    }
   },
   "outputs": [],
   "source": [
    "# df_datatran[['latitude', 'longitude']] = df_datatran[['latitude', 'longitude']].fillna(df_datatran[['latitude', 'longitude']].median())"
   ]
  },
  {
   "cell_type": "code",
   "execution_count": null,
   "metadata": {
    "ExecuteTime": {
     "end_time": "2021-02-27T14:31:27.543210Z",
     "start_time": "2021-02-27T14:31:25.423264Z"
    },
    "run_control": {
     "marked": true
    }
   },
   "outputs": [],
   "source": [
    "df_datatran[string_columns] = df_datatran[string_columns].replace('null', np.nan)\n",
    "df_datatran[string_columns] = df_datatran[string_columns].fillna(df_datatran[string_columns].mode().iloc[0])"
   ]
  },
  {
   "cell_type": "markdown",
   "metadata": {},
   "source": [
    "Criar fator de risco (número de acidente na rodovia-km em questão)/(número total de acidentes)"
   ]
  },
  {
   "cell_type": "code",
   "execution_count": null,
   "metadata": {
    "ExecuteTime": {
     "end_time": "2021-02-27T14:31:27.910247Z",
     "start_time": "2021-02-27T14:31:27.544208Z"
    },
    "run_control": {
     "marked": true
    }
   },
   "outputs": [],
   "source": [
    "df_datatran.sort_values(by='d', ascending=True, inplace=True)"
   ]
  },
  {
   "cell_type": "code",
   "execution_count": null,
   "metadata": {
    "ExecuteTime": {
     "end_time": "2021-02-27T14:31:40.801302Z",
     "start_time": "2021-02-27T14:31:27.912242Z"
    },
    "run_control": {
     "marked": true
    }
   },
   "outputs": [],
   "source": [
    "df_datatran['valor_1'] = 1\n",
    "days_to_analyse = 365\n",
    "\n",
    "# Criar dataset com qtd de acidentes por br/km num periodo de 1 ano ate a data do acidente em questao\n",
    "df_acidentes_brkm = df_datatran.groupby(['br', 'km']).rolling(f'{days_to_analyse}D', on=\"data_inversa\")['valor_1'].sum().reset_index(name='qtd_acidentes_brkm')\n",
    "df_acidentes_brkm.drop_duplicates(subset=['br', 'km', 'data_inversa'], keep='last', inplace=True)\n",
    "\n",
    "# Criar dataset com qtd total de acidentes num periodo de 1 ano ate a data do acidente em questao\n",
    "df_acidentes_brasil = df_datatran.groupby(['valor_1']).rolling(f'{days_to_analyse}D', on=\"data_inversa\")['valor_1'].sum().reset_index(name='qtd_acidentes_brasil')\n",
    "df_acidentes_brasil = df_acidentes_brasil.drop_duplicates(subset='data_inversa', keep='last')[['data_inversa', 'qtd_acidentes_brasil']]\n",
    "\n",
    "# Join datasets\n",
    "df_datatran = df_datatran.merge(df_acidentes_brkm, how='left', on=['br', 'km', 'data_inversa'])\n",
    "df_datatran = df_datatran.merge(df_acidentes_brasil, how='left', on=['data_inversa'])\n",
    "\n",
    "# Criar atributo risco\n",
    "df_datatran['risco'] = df_datatran['qtd_acidentes_brkm']/df_datatran['qtd_acidentes_brasil']\n",
    "\n",
    "# Remover colunas indesejadas\n",
    "del df_datatran['qtd_acidentes_brkm']\n",
    "del df_datatran['qtd_acidentes_brasil']\n",
    "del df_datatran['valor_1']"
   ]
  },
  {
   "cell_type": "code",
   "execution_count": null,
   "metadata": {
    "ExecuteTime": {
     "end_time": "2021-02-27T14:31:56.765775Z",
     "start_time": "2021-02-27T14:31:40.803297Z"
    },
    "run_control": {
     "marked": true
    }
   },
   "outputs": [],
   "source": [
    "df_datatran['contem_vitima_fatal'] = df_datatran.apply(lambda x: 1 if x['mortos'] != 0 else 0, axis=1)\n",
    "df_datatran_mortes = df_datatran[df_datatran['mortos']!=0]\n",
    "\n",
    "# Criar dataset com qtd de acidentes por br/km num periodo de 1 ano ate a data do acidente em questao\n",
    "df_acidentes_brkm = df_datatran_mortes.groupby(['br', 'km']).rolling(f'{days_to_analyse}D', on=\"data_inversa\", closed='left')['contem_vitima_fatal'].sum().reset_index(name='qtd_acidentes_brkm')\n",
    "df_acidentes_brkm.drop_duplicates(subset=['br', 'km', 'data_inversa'], keep='last', inplace=True)\n",
    "\n",
    "# Criar dataset com qtd total de acidentes num periodo de 1 ano ate a data do acidente em questao\n",
    "df_acidentes_brasil = df_datatran_mortes.groupby(['contem_vitima_fatal']).rolling(f'{days_to_analyse}D', on=\"data_inversa\", closed='left')['contem_vitima_fatal'].sum().reset_index(name='qtd_acidentes_brasil')\n",
    "df_acidentes_brasil = df_acidentes_brasil.drop_duplicates(subset='data_inversa', keep='last')[['data_inversa', 'qtd_acidentes_brasil']]\n",
    "\n",
    "# Join datasets\n",
    "df_datatran = df_datatran.merge(df_acidentes_brkm, how='left', on=['br', 'km', 'data_inversa'])\n",
    "df_datatran = df_datatran.merge(df_acidentes_brasil, how='left', on=['data_inversa'])\n",
    "\n",
    "# Criar atributo risco\n",
    "df_datatran['risco_morte'] = df_datatran['qtd_acidentes_brkm']/df_datatran['qtd_acidentes_brasil']\n",
    "df_datatran['risco_morte'].fillna(0, inplace=True)\n",
    "\n",
    "# Remover colunas indesejadas\n",
    "del df_datatran['qtd_acidentes_brkm']\n",
    "del df_datatran['qtd_acidentes_brasil']"
   ]
  },
  {
   "cell_type": "code",
   "execution_count": null,
   "metadata": {
    "ExecuteTime": {
     "end_time": "2021-02-27T14:31:57.684078Z",
     "start_time": "2021-02-27T14:31:56.768770Z"
    },
    "run_control": {
     "marked": true
    }
   },
   "outputs": [],
   "source": [
    "# Remover dados de acidentes do primeiro ano de analise por nao haver dados do ano antecedente para criar o atributo risco (lembrar que a analise é feita em um periodo de 1 ano)\n",
    "df_datatran = df_datatran[df_datatran['data_inversa'].dt.year >= years[1]]"
   ]
  },
  {
   "cell_type": "code",
   "execution_count": null,
   "metadata": {
    "ExecuteTime": {
     "end_time": "2021-02-27T14:31:57.958367Z",
     "start_time": "2021-02-27T14:31:57.687070Z"
    },
    "code_folding": [
     0
    ],
    "run_control": {
     "marked": false
    }
   },
   "outputs": [],
   "source": [
    "# plot_data = [\n",
    "#     go.Histogram(\n",
    "#         x=df_datatran['risco']\n",
    "#     )\n",
    "# ]\n",
    "\n",
    "# plot_layout = go.Layout(\n",
    "#         title='Distribuição do risco'\n",
    "#     )\n",
    "# fig = go.Figure(data=plot_data, layout=plot_layout)\n",
    "# pyoff.iplot(fig)"
   ]
  },
  {
   "cell_type": "code",
   "execution_count": null,
   "metadata": {
    "ExecuteTime": {
     "end_time": "2021-02-27T14:31:58.244110Z",
     "start_time": "2021-02-27T14:31:57.963354Z"
    },
    "code_folding": [
     0
    ],
    "run_control": {
     "marked": false
    }
   },
   "outputs": [],
   "source": [
    "# plot_data = [\n",
    "#     go.Histogram(\n",
    "#         x=np.log(df_datatran['risco'])\n",
    "#     )\n",
    "# ]\n",
    "# \n",
    "# plot_layout = go.Layout(\n",
    "#         title='Distribuição do risco'\n",
    "#     )\n",
    "# fig = go.Figure(data=plot_data, layout=plot_layout)\n",
    "# pyoff.iplot(fig)"
   ]
  },
  {
   "cell_type": "code",
   "execution_count": null,
   "metadata": {
    "ExecuteTime": {
     "end_time": "2021-02-27T14:31:58.481987Z",
     "start_time": "2021-02-27T14:31:58.249099Z"
    },
    "code_folding": [
     0
    ],
    "run_control": {
     "marked": false
    }
   },
   "outputs": [],
   "source": [
    "# df_datatran['risco'] = df_datatran.groupby(['br', 'km'])['valor_1'].cumsum()\n",
    "# df_acidentes_ate_data = df_datatran.groupby(['data_inversa', 'valor_1'])['valor_1'].sum()\n",
    "# df_acidentes_ate_data = df_acidentes_ate_data.groupby(['valor_1']).cumsum().reset_index(name='qtd_acidentes_ate_data')\n",
    "# df_datatran = df_datatran.merge(df_acidentes_ate_data[['data_inversa', 'qtd_acidentes_ate_data']], how='left', on='data_inversa')"
   ]
  },
  {
   "cell_type": "markdown",
   "metadata": {},
   "source": [
    "Transformar dia da semana em dado categórico numérico"
   ]
  },
  {
   "cell_type": "code",
   "execution_count": null,
   "metadata": {
    "ExecuteTime": {
     "end_time": "2021-02-27T14:31:58.711880Z",
     "start_time": "2021-02-27T14:31:58.483981Z"
    },
    "run_control": {
     "marked": true
    }
   },
   "outputs": [],
   "source": [
    "def weekday_process(df, weekday_column):\n",
    "    return np.select(\n",
    "        [\n",
    "            df[weekday_column].str.contains('seg'),\n",
    "            df[weekday_column].str.contains('ter'),\n",
    "            df[weekday_column].str.contains('qua'),\n",
    "            df[weekday_column].str.contains('qui'),\n",
    "            df[weekday_column].str.contains('sex'),\n",
    "            df[weekday_column].str.contains('sab'),\n",
    "            df[weekday_column].str.contains('dom')\n",
    "        ],\n",
    "        [\n",
    "            'seg', 'ter', 'qua', 'qui', 'sex', 'sab', 'dom'\n",
    "        ],\n",
    "        ''\n",
    "    )"
   ]
  },
  {
   "cell_type": "code",
   "execution_count": null,
   "metadata": {
    "ExecuteTime": {
     "end_time": "2021-02-27T14:32:00.044414Z",
     "start_time": "2021-02-27T14:31:58.713875Z"
    },
    "run_control": {
     "marked": true
    }
   },
   "outputs": [],
   "source": [
    "df_datatran['dia_semana'] = weekday_process(df_datatran, weekday_column='dia_semana')"
   ]
  },
  {
   "cell_type": "markdown",
   "metadata": {},
   "source": [
    "Agrupar causas de acidentes para diminuir a cardinalidade do problema"
   ]
  },
  {
   "cell_type": "code",
   "execution_count": null,
   "metadata": {
    "ExecuteTime": {
     "end_time": "2021-02-27T14:32:00.287274Z",
     "start_time": "2021-02-27T14:32:00.046409Z"
    },
    "code_folding": [
     0
    ],
    "run_control": {
     "marked": false
    }
   },
   "outputs": [],
   "source": [
    "# dict_causa_acidente = {\n",
    "#     'falta de atencao':'falta de atencao', \n",
    "#     'falta de atencao a conducao':'falta de atencao',\n",
    "#     'dormindo':'dormindo', \n",
    "#     'condutor dormindo':'dormindo',\n",
    "#     'deficiencia ou nao acionamento do sistema de iluminacaosinalizacao do veiculo': 'defeito mecanico', \n",
    "#     'defeito mecanico em veiculo':'defeito mecanico', \n",
    "#     'avarias eou desgaste excessivo no pneu':'defeito mecanico', \n",
    "#     'defeito mecanico no veiculo':'defeito mecanico',\n",
    "#     'ingestao de alcool':'ingestao de substancias psicoativas', \n",
    "#     'ingestao de substancias psicoativas':'ingestao de substancias psicoativas',\n",
    "#     'restricao de visibilidade':'restricao de visibilidade', \n",
    "#     'sinalizacao da via insuficiente ou inadequada':'restricao de visibilidade',\n",
    "#     'outras':'outras', \n",
    "#     'animais na pista':'animais na pista', \n",
    "#     'desobediencia a sinalizacao':'desobediencia a sinalizacao', \n",
    "#     'velocidade incompativel':'velocidade incompativel', \n",
    "#     'ultrapassagem indevida':'ultrapassagem indevida', \n",
    "#     'nao guardar distancia de seguranca':'nao guardar distancia de seguranca', \n",
    "#     'defeito na via':'defeito na via', \n",
    "#     'fenomenos da natureza':'fenomenos da natureza', \n",
    "#     'desobediencia as normas de transito pelo condutor':'desobediencia as normas de transito pelo condutor', \n",
    "#     'pista escorregadia':'pista escorregadia', \n",
    "#     'mal subito':'mal subito', \n",
    "#     'carga excessiva eou mal acondicionada':'carga excessiva eou mal acondicionada', \n",
    "#     'objeto estatico sobre o leito carrocavel':'objeto estatico sobre o leito carrocavel', \n",
    "#     'agressao externa':'agressao externa', \n",
    "#     'falta de atencao do pedestre':'falta de atencao do pedestre', \n",
    "#     'desobediencia as normas de transito pelo pedestre':'desobediencia as normas de transito pelo pedestre', \n",
    "#     'ingestao de alcool eou substancias psicoativas pelo pedestre':'ingestao de alcool eou substancias psicoativas pelo pedestre'\n",
    "# }"
   ]
  },
  {
   "cell_type": "code",
   "execution_count": null,
   "metadata": {
    "ExecuteTime": {
     "end_time": "2021-02-27T14:32:00.494229Z",
     "start_time": "2021-02-27T14:32:00.289269Z"
    },
    "run_control": {
     "marked": false
    }
   },
   "outputs": [],
   "source": [
    "# df_datatran['causa_acidente'] = df_datatran.apply(lambda x: dict_causa_acidente[x['causa_acidente']], axis=1)"
   ]
  },
  {
   "cell_type": "markdown",
   "metadata": {},
   "source": [
    "Agrupar tipo de acidentes para diminuir a cardinalidade do problema"
   ]
  },
  {
   "cell_type": "code",
   "execution_count": null,
   "metadata": {
    "ExecuteTime": {
     "end_time": "2021-02-27T14:32:00.731594Z",
     "start_time": "2021-02-27T14:32:00.496223Z"
    },
    "code_folding": [
     0
    ],
    "run_control": {
     "marked": false
    }
   },
   "outputs": [],
   "source": [
    "# dict_tipo_acidente = {\n",
    "#     'colisao traseira': 'colisao',\n",
    "#     'saida de pista': 'capotamento',\n",
    "#     'colisao com objeto fixo': 'colisao',\n",
    "#     'colisao transversal': 'colisao',\n",
    "#     'tombamento': 'capotamento',\n",
    "#     'queda de motocicleta  bicicleta  veiculo': 'capotamento',\n",
    "#     'atropelamento de animal': 'atropelamento', \n",
    "#     'capotamento': 'capotamento',\n",
    "#     'colisao lateral': 'colisao',\n",
    "#     'colisao frontal': 'colisao',\n",
    "#     'atropelamento de pessoa': 'atropelamento',\n",
    "#     'colisao com objeto movel': 'colisao',\n",
    "#     'danos eventuais': 'outras',\n",
    "#     'incendio': 'outras',\n",
    "#     'colisao com bicicleta': 'colisao',\n",
    "#     'derramamento de carga': 'outras',\n",
    "#     'queda de ocupante de veiculo': 'atropelamento',\n",
    "#     'colisao com objeto estatico': 'colisao',\n",
    "#     'saida de leito carrocavel': 'outras',\n",
    "#     'atropelamento de pedestre': 'atropelamento',\n",
    "#     'colisao com objeto em movimento': 'colisao',\n",
    "#     'engavetamento': 'colisao'\n",
    "# }"
   ]
  },
  {
   "cell_type": "code",
   "execution_count": null,
   "metadata": {
    "ExecuteTime": {
     "end_time": "2021-02-27T14:32:00.995399Z",
     "start_time": "2021-02-27T14:32:00.735584Z"
    },
    "run_control": {
     "marked": false
    },
    "scrolled": true
   },
   "outputs": [],
   "source": [
    "# df_datatran['tipo_acidente'] = df_datatran.apply(lambda x: dict_tipo_acidente[x['tipo_acidente']], axis=1)"
   ]
  },
  {
   "cell_type": "markdown",
   "metadata": {},
   "source": [
    "Transformar coordenadas (latitude, longitude) em espaço cartesiano"
   ]
  },
  {
   "cell_type": "code",
   "execution_count": null,
   "metadata": {
    "ExecuteTime": {
     "end_time": "2021-02-27T14:32:01.352466Z",
     "start_time": "2021-02-27T14:32:00.998392Z"
    },
    "run_control": {
     "marked": true
    }
   },
   "outputs": [],
   "source": [
    "df_datatran['coordenada_x'] = np.cos(df_datatran['latitude']) * np.cos(df_datatran['longitude'])\n",
    "df_datatran['coordenada_y'] = np.cos(df_datatran['latitude']) * np.sin(df_datatran['longitude'])\n",
    "df_datatran['coordenada_z'] = np.sin(df_datatran['latitude'])"
   ]
  },
  {
   "cell_type": "markdown",
   "metadata": {},
   "source": [
    "### Feriados"
   ]
  },
  {
   "cell_type": "markdown",
   "metadata": {},
   "source": [
    "Criar atributo que indica distância em dias entre data do acidente e data de feriados"
   ]
  },
  {
   "cell_type": "code",
   "execution_count": null,
   "metadata": {
    "ExecuteTime": {
     "end_time": "2021-02-27T14:32:01.694038Z",
     "start_time": "2021-02-27T14:32:01.354439Z"
    },
    "run_control": {
     "marked": true
    }
   },
   "outputs": [],
   "source": [
    "df_holidays = pd.read_parquet('../data/raw/holidays.parquet')"
   ]
  },
  {
   "cell_type": "code",
   "execution_count": null,
   "metadata": {
    "ExecuteTime": {
     "end_time": "2021-02-27T14:32:01.980800Z",
     "start_time": "2021-02-27T14:32:01.696033Z"
    },
    "code_folding": [],
    "run_control": {
     "marked": true
    }
   },
   "outputs": [],
   "source": [
    "# Considerar feriados apenas entre a data de analise\n",
    "data_inicio_analise = f'{years[1]}-01-01'\n",
    "data_fim_analise = f'{years[-1]}-12-31'\n",
    "\n",
    "df_holidays[\"data\"] = pd.to_datetime(df_holidays[\"data\"], format='%d/%m/%Y')\n",
    "df_holidays = df_holidays[(df_holidays['data'] >= data_inicio_analise) & (df_holidays['data'] <= data_fim_analise)]\n",
    "df_holidays = df_holidays.add_prefix('holiday_')\n",
    "df_holidays"
   ]
  },
  {
   "cell_type": "code",
   "execution_count": null,
   "metadata": {
    "ExecuteTime": {
     "end_time": "2021-02-27T14:32:02.328889Z",
     "start_time": "2021-02-27T14:32:01.986785Z"
    },
    "run_control": {
     "marked": true
    }
   },
   "outputs": [],
   "source": [
    "df_holidays.fillna('', inplace=True)\n",
    "df_holidays[['holiday_municipio']] = df_holidays[['holiday_municipio']].apply(\n",
    "    lambda x: x.str.normalize('NFKD').str.encode('ascii', errors='ignore').str.\n",
    "    decode('utf-8').str.replace('[^\\w\\s]', '').str.lower().str.strip())"
   ]
  },
  {
   "cell_type": "code",
   "execution_count": null,
   "metadata": {
    "ExecuteTime": {
     "end_time": "2021-02-27T14:32:02.539327Z",
     "start_time": "2021-02-27T14:32:02.331882Z"
    },
    "run_control": {
     "marked": true
    }
   },
   "outputs": [],
   "source": [
    "days_offset_holiday = 2\n",
    "df_holidays[f'holiday_date_minus_{days_offset_holiday}'] = df_holidays['holiday_data'] + pd.DateOffset(-days_offset_holiday)\n",
    "df_holidays[f'holiday_date_plus_{days_offset_holiday}'] = df_holidays['holiday_data'] + pd.DateOffset(days_offset_holiday)"
   ]
  },
  {
   "cell_type": "code",
   "execution_count": null,
   "metadata": {
    "ExecuteTime": {
     "end_time": "2021-02-27T14:32:02.764724Z",
     "start_time": "2021-02-27T14:32:02.543317Z"
    },
    "run_control": {
     "marked": true
    }
   },
   "outputs": [],
   "source": [
    "df_holidays = df_holidays[(df_holidays['holiday_tipo'] == 'ESTADUAL') |\n",
    "                          (df_holidays['holiday_tipo'] == 'NACIONAL') |\n",
    "                          (df_holidays['holiday_nome'] == 'Carnaval')]"
   ]
  },
  {
   "cell_type": "code",
   "execution_count": null,
   "metadata": {
    "ExecuteTime": {
     "end_time": "2021-02-27T14:33:04.381386Z",
     "start_time": "2021-02-27T14:32:02.767716Z"
    },
    "run_control": {
     "marked": true
    }
   },
   "outputs": [],
   "source": [
    "import pandasql as ps\n",
    "\n",
    "sqlcode = f'''\n",
    "select *\n",
    "from df_datatran\n",
    "inner join df_holidays on \n",
    "    df_datatran.data_inversa >= df_holidays.holiday_date_minus_{days_offset_holiday}\n",
    "    AND df_datatran.data_inversa <= df_holidays.holiday_date_plus_{days_offset_holiday}\n",
    "WHERE\n",
    "    -- (df_holidays.holiday_tipo LIKE 'MUNICIPAL' AND df_datatran.municipio = df_holidays.holiday_municipio)\n",
    "    (df_holidays.holiday_tipo LIKE 'ESTADUAL' AND df_datatran.uf = df_holidays.holiday_uf)\n",
    "    OR df_holidays.holiday_tipo LIKE 'NACIONAL'\n",
    "    OR df_holidays.holiday_nome LIKE 'Carnaval'\n",
    "'''\n",
    "\n",
    "df_datatran_near_holidays = ps.sqldf(sqlcode,locals())"
   ]
  },
  {
   "cell_type": "code",
   "execution_count": null,
   "metadata": {
    "ExecuteTime": {
     "end_time": "2021-02-27T14:35:04.990167Z",
     "start_time": "2021-02-27T14:35:04.577251Z"
    },
    "run_control": {
     "marked": true
    }
   },
   "outputs": [],
   "source": [
    "df_datatran_near_holidays[\"data_inversa\"] = pd.to_datetime(df_datatran_near_holidays[\"data_inversa\"])\n",
    "df_datatran_near_holidays[\"holiday_data\"] = pd.to_datetime(df_datatran_near_holidays[\"holiday_data\"])\n",
    "df_datatran_near_holidays['diff_ac_feriado_dias'] = df_datatran_near_holidays['data_inversa'] - df_datatran_near_holidays['holiday_data']\n",
    "df_datatran_near_holidays['diff_ac_feriado_dias'] = df_datatran_near_holidays['diff_ac_feriado_dias'].astype('timedelta64[D]').astype(int)"
   ]
  },
  {
   "cell_type": "code",
   "execution_count": null,
   "metadata": {
    "ExecuteTime": {
     "end_time": "2021-02-27T14:35:10.028943Z",
     "start_time": "2021-02-27T14:35:04.991164Z"
    },
    "run_control": {
     "marked": true
    }
   },
   "outputs": [],
   "source": [
    "df_datatran_near_holidays['diff_ac_feriado_dias'] = df_datatran_near_holidays['diff_ac_feriado_dias'].astype('category')\n",
    "df_datatran_near_holidays['diff_ac_feriado_dias'] = pd.Categorical(df_datatran_near_holidays['diff_ac_feriado_dias'], categories=[0,-1,1,-2,2, np.inf], ordered=True)\n",
    "df_datatran_near_holidays = df_datatran_near_holidays.sort_values('diff_ac_feriado_dias').groupby('id', as_index=False).first()\n",
    "df_datatran_near_holidays['em_janela_feriado'] = 1"
   ]
  },
  {
   "cell_type": "code",
   "execution_count": null,
   "metadata": {
    "ExecuteTime": {
     "end_time": "2021-02-27T14:35:12.843980Z",
     "start_time": "2021-02-27T14:35:10.032933Z"
    },
    "run_control": {
     "marked": true
    }
   },
   "outputs": [],
   "source": [
    "# df_datatran = df_datatran.merge(df_datatran_near_holidays[['id', 'diff_ac_feriado_dias', 'holiday_data', 'holiday_nome']], how='left', on=['id'])\n",
    "df_datatran = df_datatran.merge(df_datatran_near_holidays[['id', 'em_janela_feriado']], how='left', on=['id'])\n",
    "df_datatran['em_janela_feriado'] = df_datatran['em_janela_feriado'].fillna(0)\n",
    "df_datatran.drop_duplicates(inplace=True)"
   ]
  },
  {
   "cell_type": "code",
   "execution_count": null,
   "metadata": {
    "ExecuteTime": {
     "end_time": "2021-02-27T14:35:13.298406Z",
     "start_time": "2021-02-27T14:35:12.846120Z"
    },
    "run_control": {
     "marked": true
    }
   },
   "outputs": [],
   "source": [
    "df_datatran.sort_values([\"data_inversa\"], ascending=True, inplace=True)"
   ]
  },
  {
   "cell_type": "code",
   "execution_count": null,
   "metadata": {
    "ExecuteTime": {
     "end_time": "2021-02-04T00:52:37.576083Z",
     "start_time": "2021-02-04T00:52:37.458123Z"
    },
    "code_folding": [
     0
    ],
    "run_control": {
     "marked": false
    }
   },
   "outputs": [],
   "source": [
    "# df_datatran['dia'] = df_datatran['data_inversa'].dt.day\n",
    "# df_datatran['mes'] = df_datatran['data_inversa'].dt.month\n",
    "# df_datatran['ano'] = df_datatran['data_inversa'].dt.year\n",
    "# df_datatran['diadoano'] = df_datatran['data_inversa'].dt.dayofyear"
   ]
  },
  {
   "cell_type": "code",
   "execution_count": null,
   "metadata": {
    "ExecuteTime": {
     "end_time": "2021-02-04T00:52:37.701054Z",
     "start_time": "2021-02-04T00:52:37.576083Z"
    },
    "code_folding": [
     0
    ],
    "run_control": {
     "marked": false
    },
    "scrolled": true
   },
   "outputs": [],
   "source": [
    "# plot_data = [\n",
    "#     go.Histogram(\n",
    "#         x=df_datatran['diff_ac_feriado_dias']\n",
    "#     )\n",
    "# ]\n",
    "# \n",
    "# plot_layout = go.Layout(\n",
    "#         title='Número acidentes por janela feriado'\n",
    "#     )\n",
    "# fig = go.Figure(data=plot_data, layout=plot_layout)\n",
    "# pyoff.iplot(fig)"
   ]
  },
  {
   "cell_type": "code",
   "execution_count": null,
   "metadata": {
    "ExecuteTime": {
     "end_time": "2021-02-04T00:52:37.836230Z",
     "start_time": "2021-02-04T00:52:37.701054Z"
    },
    "code_folding": [
     0
    ],
    "run_control": {
     "marked": false
    },
    "scrolled": true
   },
   "outputs": [],
   "source": [
    "# plot_data = [\n",
    "#     go.Histogram(\n",
    "#         x=df_datatran['holiday_nome']\n",
    "#     )\n",
    "# ]\n",
    "# \n",
    "# plot_layout = go.Layout(\n",
    "#         title='Número acidentes por feriado'\n",
    "#     )\n",
    "# fig = go.Figure(data=plot_data, layout=plot_layout)\n",
    "# pyoff.iplot(fig)"
   ]
  },
  {
   "cell_type": "markdown",
   "metadata": {},
   "source": [
    "# Remoção de outliers numéricos"
   ]
  },
  {
   "cell_type": "code",
   "execution_count": null,
   "metadata": {
    "ExecuteTime": {
     "end_time": "2021-02-27T14:35:31.052146Z",
     "start_time": "2021-02-27T14:35:30.699531Z"
    },
    "run_control": {
     "marked": true
    }
   },
   "outputs": [],
   "source": [
    "SZ(df_datatran)\n",
    "DT(df_datatran)\n",
    "z_score = stats.zscore(df_datatran['pessoas'])\n",
    "abs_z_scores = np.abs(z_score)\n",
    "filtered_entries = (abs_z_scores < 3)\n",
    "#USAR A LINHA DE BAIXO SE AUMENTAR QTD DE COLUNAS NO ZSCORE\n",
    "#filtered_entries = (abs_z_scores < 3).all(axis=1) \n",
    "df_datatran = df_datatran[filtered_entries]\n",
    "SZ(df_datatran)\n",
    "DT(df_datatran)"
   ]
  },
  {
   "cell_type": "markdown",
   "metadata": {},
   "source": [
    "# Clustering"
   ]
  },
  {
   "cell_type": "markdown",
   "metadata": {},
   "source": [
    "## K-Means"
   ]
  },
  {
   "cell_type": "code",
   "execution_count": null,
   "metadata": {
    "run_control": {
     "marked": false
    }
   },
   "outputs": [],
   "source": [
    "# from sklearn.preprocessing import LabelEncoder\n",
    "# \n",
    "# lb_make = LabelEncoder()\n",
    "# tx_data[\"SEGMENTO_AZURE_CODE\"] = lb_make.fit_transform(tx_data[\"SEGMENTO_AZURE\"])"
   ]
  },
  {
   "cell_type": "code",
   "execution_count": null,
   "metadata": {
    "ExecuteTime": {
     "end_time": "2021-02-27T14:43:22.971634Z",
     "start_time": "2021-02-27T14:43:22.830006Z"
    },
    "run_control": {
     "marked": true
    }
   },
   "outputs": [],
   "source": [
    "df_kmeans = df_datatran[['latitude', 'longitude', 'risco_morte']]"
   ]
  },
  {
   "cell_type": "code",
   "execution_count": null,
   "metadata": {
    "ExecuteTime": {
     "end_time": "2021-02-27T14:44:01.905761Z",
     "start_time": "2021-02-27T14:43:27.263426Z"
    },
    "run_control": {
     "marked": true
    },
    "scrolled": true
   },
   "outputs": [],
   "source": [
    "from sklearn.cluster import KMeans\n",
    "\n",
    "sse={}\n",
    "\n",
    "with tqdm(total = len(range(1, 10))) as pbar:\n",
    "    for k in range(1, 10):\n",
    "        kmeans = KMeans(n_clusters=k, max_iter=1000).fit(df_kmeans)\n",
    "        df_kmeans[\"clusters\"] = kmeans.labels_\n",
    "        sse[k] = kmeans.inertia_ \n",
    "        \n",
    "        pbar.update()\n",
    "plt.figure()\n",
    "plt.plot(list(sse.keys()), list(sse.values()))\n",
    "plt.xlabel(\"Number of cluster\")\n",
    "plt.show()"
   ]
  },
  {
   "cell_type": "code",
   "execution_count": null,
   "metadata": {
    "ExecuteTime": {
     "end_time": "2021-02-27T14:44:15.843565Z",
     "start_time": "2021-02-27T14:44:11.470202Z"
    },
    "run_control": {
     "marked": true
    }
   },
   "outputs": [],
   "source": [
    "# Build N clusters and add it to dataframe\n",
    "kmeans = KMeans(n_clusters=6)\n",
    "kmeans.fit(df_kmeans)\n",
    "df_kmeans['cluster_coords'] = kmeans.predict(df_kmeans)\n",
    "del df_kmeans['clusters']"
   ]
  },
  {
   "cell_type": "code",
   "execution_count": null,
   "metadata": {
    "ExecuteTime": {
     "end_time": "2021-02-27T14:44:31.970244Z",
     "start_time": "2021-02-27T14:44:31.768637Z"
    }
   },
   "outputs": [],
   "source": [
    "df_kmeans['cluster_coords'].value_counts().plot(kind='bar', title='Qtde amostras por cluster');"
   ]
  },
  {
   "cell_type": "code",
   "execution_count": null,
   "metadata": {
    "ExecuteTime": {
     "end_time": "2021-02-21T18:02:04.991686Z",
     "start_time": "2021-02-21T18:02:04.713536Z"
    },
    "run_control": {
     "marked": true
    }
   },
   "outputs": [],
   "source": [
    "df_kmeans['cluster_coords'].value_counts().plot(kind='bar', title='Qtde amostras por cluster');"
   ]
  },
  {
   "cell_type": "code",
   "execution_count": null,
   "metadata": {
    "ExecuteTime": {
     "end_time": "2021-02-27T14:45:16.904026Z",
     "start_time": "2021-02-27T14:45:10.128342Z"
    },
    "run_control": {
     "marked": true
    }
   },
   "outputs": [],
   "source": [
    "df_datatran = df_datatran.merge(df_kmeans[['latitude', 'longitude', 'risco_morte', 'cluster_coords']], how='left', on=['latitude','longitude','risco_morte'])"
   ]
  },
  {
   "cell_type": "code",
   "execution_count": null,
   "metadata": {
    "ExecuteTime": {
     "end_time": "2021-02-27T14:45:18.485427Z",
     "start_time": "2021-02-27T14:45:16.906022Z"
    },
    "run_control": {
     "marked": true
    }
   },
   "outputs": [],
   "source": [
    "df_datatran.drop_duplicates(subset='id', inplace=True)"
   ]
  },
  {
   "cell_type": "code",
   "execution_count": null,
   "metadata": {
    "ExecuteTime": {
     "end_time": "2021-02-27T14:45:30.484673Z",
     "start_time": "2021-02-27T14:45:23.884313Z"
    }
   },
   "outputs": [],
   "source": [
    "fig = px.scatter(df_datatran, x=\"longitude\", y=\"latitude\", color=\"cluster_coords\", title='Cluster de coordenadas', width=500, height=500)\n",
    "fig.show()"
   ]
  },
  {
   "cell_type": "code",
   "execution_count": null,
   "metadata": {
    "ExecuteTime": {
     "end_time": "2021-02-21T18:03:04.033419Z",
     "start_time": "2021-02-21T18:03:01.066453Z"
    },
    "run_control": {
     "marked": true
    }
   },
   "outputs": [],
   "source": [
    "fig = px.scatter(df_datatran, x=\"longitude\", y=\"latitude\", color=\"cluster_coords\", title='Cluster de coordenadas', width=500, height=500)\n",
    "fig.show()"
   ]
  },
  {
   "cell_type": "markdown",
   "metadata": {},
   "source": [
    "## DBSCAN"
   ]
  },
  {
   "cell_type": "code",
   "execution_count": null,
   "metadata": {
    "ExecuteTime": {
     "end_time": "2021-02-21T18:03:18.193399Z",
     "start_time": "2021-02-21T18:03:17.970392Z"
    },
    "run_control": {
     "marked": false
    }
   },
   "outputs": [],
   "source": [
    "from sklearn.cluster import DBSCAN\n",
    "from geopy.distance import great_circle\n",
    "from shapely.geometry import MultiPoint"
   ]
  },
  {
   "cell_type": "code",
   "execution_count": null,
   "metadata": {
    "ExecuteTime": {
     "end_time": "2021-02-21T18:04:09.085574Z",
     "start_time": "2021-02-21T18:03:34.958534Z"
    },
    "run_control": {
     "marked": false
    }
   },
   "outputs": [],
   "source": [
    "kms_per_radian = 6371.0088\n",
    "epsilon = 1.5 / kms_per_radian\n",
    "db = DBSCAN(eps=epsilon, min_samples=1, algorithm='ball_tree', metric='haversine').fit(np.radians(df_kmeans))\n",
    "cluster_labels = db.labels_\n",
    "num_clusters = len(set(cluster_labels))\n",
    "clusters = pd.Series([df_kmeans[cluster_labels == n] for n in range(num_clusters)])\n",
    "print('Number of clusters: {}'.format(num_clusters))"
   ]
  },
  {
   "cell_type": "code",
   "execution_count": null,
   "metadata": {
    "ExecuteTime": {
     "end_time": "2021-02-21T18:04:21.012777Z",
     "start_time": "2021-02-21T18:04:09.086575Z"
    },
    "run_control": {
     "marked": false
    }
   },
   "outputs": [],
   "source": [
    "# Compute DBSCAN\n",
    "db = DBSCAN(eps=0.3, min_samples=10).fit(df_kmeans)\n",
    "core_samples_mask = np.zeros_like(db.labels_, dtype=bool)\n",
    "core_samples_mask[db.core_sample_indices_] = True\n",
    "labels = db.labels_\n",
    "\n",
    "# Number of clusters in labels, ignoring noise if present.\n",
    "n_clusters_ = len(set(labels)) - (1 if -1 in labels else 0)\n",
    "n_noise_ = list(labels).count(-1)\n",
    "\n",
    "print('Estimated number of clusters: %d' % n_clusters_)\n",
    "print('Estimated number of noise points: %d' % n_noise_)"
   ]
  },
  {
   "cell_type": "code",
   "execution_count": null,
   "metadata": {
    "ExecuteTime": {
     "end_time": "2021-02-21T18:04:22.130729Z",
     "start_time": "2021-02-21T18:04:21.014772Z"
    },
    "run_control": {
     "marked": false
    }
   },
   "outputs": [],
   "source": [
    "# Black removed and is used for noise instead.\n",
    "unique_labels = set(labels)\n",
    "colors = [plt.cm.Spectral(each)\n",
    "          for each in np.linspace(0, 1, len(unique_labels))]\n",
    "for k, col in zip(unique_labels, colors):\n",
    "    if k == -1:\n",
    "        # Black used for noise.\n",
    "        col = [0, 0, 0, 1]\n",
    "\n",
    "    class_member_mask = (labels == k)\n",
    "\n",
    "    xy = df_kmeans[class_member_mask & core_samples_mask]\n",
    "    plt.plot(xy['latitude'], xy['longitude'], 'o', markerfacecolor=tuple(col),\n",
    "             markeredgecolor='k', markersize=14)\n",
    "\n",
    "    xy = df_kmeans[class_member_mask & ~core_samples_mask]\n",
    "    plt.plot(xy['latitude'], xy['longitude'], 'o', markerfacecolor=tuple(col),\n",
    "             markeredgecolor='k', markersize=6)\n",
    "\n",
    "plt.title('Estimated number of clusters: %d' % n_clusters_)\n",
    "plt.show()"
   ]
  },
  {
   "cell_type": "code",
   "execution_count": null,
   "metadata": {
    "ExecuteTime": {
     "end_time": "2021-02-16T16:51:36.520384Z",
     "start_time": "2021-02-16T16:51:36.133950Z"
    },
    "run_control": {
     "marked": false
    }
   },
   "outputs": [],
   "source": [
    "df_kmeans[class_member_mask & ~core_samples_mask]"
   ]
  },
  {
   "cell_type": "markdown",
   "metadata": {},
   "source": [
    "Drop unwanted columns"
   ]
  },
  {
   "cell_type": "code",
   "execution_count": null,
   "metadata": {
    "ExecuteTime": {
     "end_time": "2021-02-21T18:09:37.336452Z",
     "start_time": "2021-02-21T18:09:37.055204Z"
    },
    "run_control": {
     "marked": false
    }
   },
   "outputs": [],
   "source": [
    "drop_columns = [\n",
    "    'horario'\n",
    "    , 'br'\n",
    "    , 'km'\n",
    "    , 'municipio'\n",
    "    , 'causa_acidente'\n",
    "    , 'tipo_acidente'\n",
    "    , 'classificacao_acidente'\n",
    "    , 'ano'\n",
    "    , 'mortos'\n",
    "    , 'feridos_leves'\n",
    "    , 'feridos_graves'\n",
    "    , 'ilesos'\n",
    "    , 'ignorados'\n",
    "    , 'feridos'\n",
    "    , 'veiculos'\n",
    "    , 'latitude'\n",
    "    , 'longitude'\n",
    "    , 'regional'\n",
    "    , 'delegacia'\n",
    "    , 'uop'\n",
    "    , 'd'\n",
    "    , 'ufbr'\n",
    "]\n",
    "\n",
    "df_datatran.drop(drop_columns, axis=1, inplace=True)\n",
    "df_datatran.head()"
   ]
  },
  {
   "cell_type": "code",
   "execution_count": null,
   "metadata": {
    "ExecuteTime": {
     "end_time": "2021-02-21T18:09:39.358362Z",
     "start_time": "2021-02-21T18:09:39.119526Z"
    },
    "run_control": {
     "marked": true
    }
   },
   "outputs": [],
   "source": [
    "df_datatran.isnull().sum().sum()"
   ]
  },
  {
   "cell_type": "markdown",
   "metadata": {},
   "source": [
    "# Under/Oversampling "
   ]
  },
  {
   "cell_type": "code",
   "execution_count": null,
   "metadata": {
    "ExecuteTime": {
     "end_time": "2021-02-16T18:00:51.309855Z",
     "start_time": "2021-02-16T18:00:50.910295Z"
    },
    "code_folding": [],
    "run_control": {
     "marked": false
    }
   },
   "outputs": [],
   "source": [
    "#df_SMOTE.to_parquet('../data/processed/datasetSMOTENC2020.parquet', index=False)"
   ]
  },
  {
   "cell_type": "code",
   "execution_count": null,
   "metadata": {
    "ExecuteTime": {
     "end_time": "2021-02-16T18:01:20.835236Z",
     "start_time": "2021-02-16T18:01:20.268444Z"
    },
    "run_control": {
     "marked": false
    }
   },
   "outputs": [],
   "source": [
    "#df_class_0_under = df_class_0.sample(count_class_1)\n",
    "#df_datatran_under = pd.concat([df_class_0_under, df_class_1], axis=0)\n",
    "\n",
    "#print('Random under-sampling:')\n",
    "#print(df_datatran_under['contem_vitima_fatal'].value_counts())\n",
    "\n",
    "#df_datatran_under['contem_vitima_fatal'].value_counts().plot(kind='bar', title='Count (target)');"
   ]
  },
  {
   "cell_type": "markdown",
   "metadata": {},
   "source": [
    "Oversampling por cópia simples - deprecated"
   ]
  },
  {
   "cell_type": "code",
   "execution_count": null,
   "metadata": {
    "ExecuteTime": {
     "end_time": "2021-02-16T18:00:57.297575Z",
     "start_time": "2021-02-16T18:00:55.854255Z"
    },
    "run_control": {
     "marked": false
    },
    "scrolled": true
   },
   "outputs": [],
   "source": [
    "#df_SMOTE['contem_vitima_fatal'].value_counts().plot(kind='bar', title='Count (target)');"
   ]
  },
  {
   "cell_type": "markdown",
   "metadata": {},
   "source": [
    "Oversampling SMOTENC"
   ]
  },
  {
   "cell_type": "code",
   "execution_count": null,
   "metadata": {
    "ExecuteTime": {
     "end_time": "2021-02-21T18:09:50.746169Z",
     "start_time": "2021-02-21T18:09:50.263863Z"
    },
    "run_control": {
     "marked": false
    }
   },
   "outputs": [],
   "source": [
    "from imblearn.over_sampling import SMOTENC\n",
    "from sklearn.model_selection import train_test_split\n",
    "\n",
    "#Splitando os dados de teste e treino para balancear apenas os dados de treino\n",
    "new_df2_split = df_datatran.drop(['data_inversa'], axis=1)\n",
    "\n",
    "new_df_split_train, new_df_split_test, target_df_split_train, target_df_split_test = train_test_split(new_df2_split.drop(['contem_vitima_fatal'], axis=1), new_df2_split['contem_vitima_fatal'], test_size=0.3,stratify=new_df2_split['contem_vitima_fatal'])\n",
    "\n",
    "#new_df_split_train = only_features_df_split_train\n",
    "pd.options.mode.chained_assignment = None  # default='warn'\n",
    "#new_df_split_train['contem_vitima_fatal'] = target_df_split_train\n",
    "\n",
    "#new_df_split_test = only_features_df_split_test\n",
    "new_df_split_test['contem_vitima_fatal'] = target_df_split_test"
   ]
  },
  {
   "cell_type": "code",
   "execution_count": null,
   "metadata": {
    "ExecuteTime": {
     "end_time": "2021-02-21T18:09:51.536571Z",
     "start_time": "2021-02-21T18:09:51.358926Z"
    },
    "run_control": {
     "marked": false
    }
   },
   "outputs": [],
   "source": [
    "cat_columns = [\n",
    "      'dia_semana'\n",
    "    , 'fase_dia'\n",
    "    , 'sentido_via'\n",
    "    , 'condicao_metereologica'\n",
    "    , 'tipo_pista'\n",
    "    , 'tracado_via'\n",
    "    , 'uf'\n",
    "    , 'uso_solo'\n",
    "    , 'em_janela_feriado'\n",
    "]"
   ]
  },
  {
   "cell_type": "code",
   "execution_count": null,
   "metadata": {
    "ExecuteTime": {
     "end_time": "2021-02-21T18:10:19.361252Z",
     "start_time": "2021-02-21T18:09:54.515193Z"
    },
    "run_control": {
     "marked": false
    }
   },
   "outputs": [],
   "source": [
    "cat_col_indices = []\n",
    "for cat in cat_columns:\n",
    "    cat_col_indices.append(new_df_split_train.columns.get_loc(cat))\n",
    "cat_col_indices = sorted(cat_col_indices)\n",
    "\n",
    "smote_nc = SMOTENC(categorical_features = cat_col_indices)#,k_neighbors = 100)\n",
    "new_df_resampled, target_df_resampled = smote_nc.fit_resample(new_df_split_train, target_df_split_train)\n",
    "new_df_resampled['contem_vitima_fatal'] = target_df_resampled"
   ]
  },
  {
   "cell_type": "code",
   "execution_count": null,
   "metadata": {
    "ExecuteTime": {
     "end_time": "2021-02-21T18:10:19.557946Z",
     "start_time": "2021-02-21T18:10:19.363280Z"
    },
    "run_control": {
     "marked": false
    }
   },
   "outputs": [],
   "source": [
    "df_datatran['contem_vitima_fatal'].value_counts().plot(kind='bar', title='Antes Balanceamento');"
   ]
  },
  {
   "cell_type": "code",
   "execution_count": null,
   "metadata": {
    "ExecuteTime": {
     "end_time": "2021-02-21T18:10:19.799274Z",
     "start_time": "2021-02-21T18:10:19.559905Z"
    },
    "run_control": {
     "marked": false
    }
   },
   "outputs": [],
   "source": [
    "new_df_resampled['contem_vitima_fatal'].value_counts().plot(kind='bar', title='Depois Balancemento');"
   ]
  },
  {
   "cell_type": "markdown",
   "metadata": {},
   "source": [
    "# Export de dados para modelagem"
   ]
  },
  {
   "cell_type": "code",
   "execution_count": null,
   "metadata": {
    "ExecuteTime": {
     "end_time": "2021-02-21T18:10:20.015737Z",
     "start_time": "2021-02-21T18:10:19.801294Z"
    },
    "run_control": {
     "marked": false
    }
   },
   "outputs": [],
   "source": [
    "SZ(df_datatran)"
   ]
  },
  {
   "cell_type": "code",
   "execution_count": null,
   "metadata": {
    "ExecuteTime": {
     "end_time": "2021-02-21T18:10:20.217148Z",
     "start_time": "2021-02-21T18:10:20.016684Z"
    },
    "run_control": {
     "marked": false
    }
   },
   "outputs": [],
   "source": [
    "SZ(new_df_resampled)"
   ]
  },
  {
   "cell_type": "code",
   "execution_count": null,
   "metadata": {
    "ExecuteTime": {
     "end_time": "2021-02-21T18:10:20.417320Z",
     "start_time": "2021-02-21T18:10:20.220139Z"
    },
    "run_control": {
     "marked": false
    }
   },
   "outputs": [],
   "source": [
    "SZ(new_df_split_test)"
   ]
  },
  {
   "cell_type": "code",
   "execution_count": null,
   "metadata": {
    "ExecuteTime": {
     "end_time": "2021-02-21T18:10:32.247580Z",
     "start_time": "2021-02-21T18:10:31.083474Z"
    },
    "run_control": {
     "marked": false
    }
   },
   "outputs": [],
   "source": [
    "df_datatran.to_parquet('../data/processed/datasetCompDesb.parquet', index=False)\n",
    "new_df_resampled.to_parquet('../data/processed/dataset_SMOTENC_TREINO.parquet', index=False)\n",
    "new_df_split_test.to_parquet('../data/processed/dataset_SMOTENC_TESTE.parquet', index=False)"
   ]
  },
  {
   "cell_type": "markdown",
   "metadata": {},
   "source": [
    "## FIM DA GERAÇÃO DE DADOS PARA MODELAGEM"
   ]
  },
  {
   "cell_type": "markdown",
   "metadata": {},
   "source": [
    "## Teste dataset desbalanceado para SMOTE"
   ]
  },
  {
   "cell_type": "code",
   "execution_count": null,
   "metadata": {
    "ExecuteTime": {
     "end_time": "2021-02-21T17:14:17.339650Z",
     "start_time": "2021-02-21T17:14:16.350874Z"
    },
    "run_control": {
     "marked": false
    }
   },
   "outputs": [],
   "source": [
    "df_SMOTE = df_datatran.drop(drop_columns, axis=1, inplace=False)\n",
    "SZ(df_datatran)\n",
    "DT(df_datatran)\n",
    "SZ(df_SMOTE)\n",
    "DT(df_SMOTE)"
   ]
  },
  {
   "cell_type": "code",
   "execution_count": null,
   "metadata": {
    "run_control": {
     "marked": false
    }
   },
   "outputs": [],
   "source": [
    "df_SMOTE.to_parquet('../data/processed/datasetSMOTENC2020.parquet', index=False)"
   ]
  },
  {
   "cell_type": "code",
   "execution_count": null,
   "metadata": {
    "run_control": {
     "marked": false
    }
   },
   "outputs": [],
   "source": [
    "df_SMOTE['contem_vitima_fatal'].value_counts().plot(kind='bar', title='Count (target)');"
   ]
  },
  {
   "cell_type": "markdown",
   "metadata": {},
   "source": [
    "## Join Datasets - PIB DEPRECATED"
   ]
  },
  {
   "cell_type": "code",
   "execution_count": null,
   "metadata": {
    "ExecuteTime": {
     "end_time": "2021-01-10T14:43:24.569921Z",
     "start_time": "2021-01-10T14:43:21.535983Z"
    },
    "run_control": {
     "marked": false
    }
   },
   "outputs": [],
   "source": [
    "#df_final = df_datatran.merge(df_pib[['municipio', 'uf', 'id_municipio', 'pib', 'pib_per_capita']], how='left', on=['uf', 'municipio'])"
   ]
  },
  {
   "cell_type": "code",
   "execution_count": null,
   "metadata": {
    "ExecuteTime": {
     "end_time": "2021-01-10T14:43:25.938677Z",
     "start_time": "2021-01-10T14:43:24.573873Z"
    },
    "run_control": {
     "marked": false
    }
   },
   "outputs": [],
   "source": [
    "#df_final = df_final.merge(df_populacao, how='left', on=['ano', 'id_municipio', 'municipio'])"
   ]
  },
  {
   "cell_type": "code",
   "execution_count": null,
   "metadata": {
    "ExecuteTime": {
     "end_time": "2021-01-10T14:43:27.492775Z",
     "start_time": "2021-01-10T14:43:25.948571Z"
    },
    "run_control": {
     "marked": false
    }
   },
   "outputs": [],
   "source": [
    "#df_final[['pib', 'pib_per_capita', 'populacao']] = df_final[['uf', 'pib', 'pib_per_capita', 'populacao']].groupby(\"uf\").transform(lambda x: x.fillna(x.mean()))"
   ]
  },
  {
   "cell_type": "code",
   "execution_count": null,
   "metadata": {
    "ExecuteTime": {
     "end_time": "2021-01-10T14:43:27.934801Z",
     "start_time": "2021-01-10T14:43:27.496773Z"
    },
    "run_control": {
     "marked": false
    }
   },
   "outputs": [],
   "source": [
    "#df_final.head()"
   ]
  },
  {
   "cell_type": "code",
   "execution_count": null,
   "metadata": {
    "ExecuteTime": {
     "end_time": "2020-12-02T13:15:38.138651Z",
     "start_time": "2020-12-02T13:15:25.269873Z"
    },
    "run_control": {
     "marked": false
    }
   },
   "outputs": [],
   "source": [
    "# df_final.to_csv('../data/processed/dataset_v4.csv', index=False, encoding='iso-8859-1')\n",
    "# df_final.to_parquet('../data/processed/dataset_v4.parquet', index=False)"
   ]
  },
  {
   "cell_type": "markdown",
   "metadata": {},
   "source": [
    "# Exploratory Analysis - DEPRECATED"
   ]
  },
  {
   "cell_type": "code",
   "execution_count": null,
   "metadata": {
    "ExecuteTime": {
     "end_time": "2021-01-10T14:43:28.922895Z",
     "start_time": "2021-01-10T14:43:27.940139Z"
    },
    "run_control": {
     "marked": false
    }
   },
   "outputs": [],
   "source": [
    "#df_datatran[['pessoas', 'mortos', 'feridos_leves', 'feridos_graves', 'ilesos', 'ignorados', 'feridos', 'veiculos']].describe()"
   ]
  },
  {
   "cell_type": "code",
   "execution_count": null,
   "metadata": {
    "ExecuteTime": {
     "end_time": "2021-01-10T14:43:29.423487Z",
     "start_time": "2021-01-10T14:43:28.926900Z"
    },
    "run_control": {
     "marked": false
    }
   },
   "outputs": [],
   "source": [
    "#df_datatran.head()"
   ]
  },
  {
   "cell_type": "code",
   "execution_count": null,
   "metadata": {
    "ExecuteTime": {
     "end_time": "2021-01-10T14:43:30.233685Z",
     "start_time": "2021-01-10T14:43:29.432443Z"
    },
    "run_control": {
     "marked": false
    }
   },
   "outputs": [],
   "source": [
    "#df_datatran_causa_acidente_count = df_datatran.groupby(['causa_acidente'])['id'].count().reset_index()\n",
    "\n",
    "#df_datatran_causa_acidente_count.set_index('causa_acidente', inplace=True)"
   ]
  },
  {
   "cell_type": "code",
   "execution_count": null,
   "metadata": {
    "ExecuteTime": {
     "end_time": "2021-01-10T14:43:30.758014Z",
     "start_time": "2021-01-10T14:43:30.239277Z"
    },
    "run_control": {
     "marked": false
    }
   },
   "outputs": [],
   "source": [
    "#df_datatran_causa_acidente_count.sort_values(by='id', ascending=True).plot(kind='barh', figsize=(10,10))"
   ]
  }
 ],
 "metadata": {
  "kernelspec": {
   "display_name": "Python 3",
   "language": "python",
   "name": "python3"
  },
  "language_info": {
   "codemirror_mode": {
    "name": "ipython",
    "version": 3
   },
   "file_extension": ".py",
   "mimetype": "text/x-python",
   "name": "python",
   "nbconvert_exporter": "python",
   "pygments_lexer": "ipython3",
   "version": "3.7.9"
  },
  "toc": {
   "nav_menu": {},
   "number_sections": true,
   "sideBar": true,
   "skip_h1_title": false,
   "title_cell": "Table of Contents",
   "title_sidebar": "Contents",
   "toc_cell": false,
   "toc_position": {},
   "toc_section_display": true,
   "toc_window_display": false
  }
 },
 "nbformat": 4,
 "nbformat_minor": 4
}
