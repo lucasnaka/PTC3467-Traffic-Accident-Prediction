{
 "cells": [
  {
   "cell_type": "markdown",
   "metadata": {},
   "source": [
    "# Initial Configs\n"
   ]
  },
  {
   "cell_type": "code",
   "execution_count": null,
   "metadata": {
    "ExecuteTime": {
     "end_time": "2020-11-11T10:50:43.361911Z",
     "start_time": "2020-11-11T10:50:41.346436Z"
    },
    "run_control": {
     "marked": true
    }
   },
   "outputs": [],
   "source": [
    "%reload_ext autoreload\n",
    "%autoreload 2\n",
    "%matplotlib inline"
   ]
  },
  {
   "cell_type": "markdown",
   "metadata": {},
   "source": [
    "# Imports"
   ]
  },
  {
   "cell_type": "code",
   "execution_count": null,
   "metadata": {
    "ExecuteTime": {
     "end_time": "2020-11-11T10:50:49.593445Z",
     "start_time": "2020-11-11T10:50:43.366666Z"
    },
    "run_control": {
     "marked": true
    }
   },
   "outputs": [],
   "source": [
    "import pandas as pd\n",
    "import numpy as np\n",
    "\n",
    "#import plotly for visualization\n",
    "import chart_studio.plotly as py\n",
    "import plotly.offline as pyoff\n",
    "import plotly.graph_objs as go\n",
    "import plotly.express as px\n",
    "import sys\n",
    "from IPython.core.display import display, HTML\n",
    "sys.path.append('..')\n",
    "pyoff.init_notebook_mode()\n",
    "\n",
    "from bokeh.resources import INLINE\n",
    "import bokeh.io\n",
    "from bokeh import *"
   ]
  },
  {
   "cell_type": "markdown",
   "metadata": {},
   "source": [
    "# Package configs"
   ]
  },
  {
   "cell_type": "code",
   "execution_count": null,
   "metadata": {
    "ExecuteTime": {
     "end_time": "2020-11-11T10:50:54.528526Z",
     "start_time": "2020-11-11T10:50:49.601421Z"
    },
    "run_control": {
     "marked": true
    }
   },
   "outputs": [],
   "source": [
    "pd.set_option('display.max_columns', None)\n",
    "display(HTML(\"<style>.container { width:100% !important; }</style>\"))\n",
    "pd.set_option('plotting.backend', 'pandas_bokeh')\n",
    "bokeh.io.output_notebook(INLINE)"
   ]
  },
  {
   "cell_type": "markdown",
   "metadata": {},
   "source": [
    "# Functions"
   ]
  },
  {
   "cell_type": "code",
   "execution_count": null,
   "metadata": {
    "ExecuteTime": {
     "end_time": "2020-11-11T10:50:54.871294Z",
     "start_time": "2020-11-11T10:50:54.533439Z"
    },
    "run_control": {
     "marked": true
    }
   },
   "outputs": [],
   "source": [
    "# Print rapido para dimensão do Dataframe\n",
    "def SZ(df):\n",
    "    print(f\"\"\"\n",
    "--- Dimensão ---\n",
    "Linhas:  {df.shape[0]}\n",
    "Colunas: {df.shape[1]}\"\"\")"
   ]
  },
  {
   "cell_type": "code",
   "execution_count": null,
   "metadata": {
    "ExecuteTime": {
     "end_time": "2020-11-11T10:50:55.299218Z",
     "start_time": "2020-11-11T10:50:54.876277Z"
    },
    "run_control": {
     "marked": true
    }
   },
   "outputs": [],
   "source": [
    "# Print rapido para dTypes do Dataframe\n",
    "def DT(df):\n",
    "    print(f\"\"\"\n",
    "--- DataTypes ---\n",
    "{df.dtypes}\n",
    "    \"\"\")"
   ]
  },
  {
   "cell_type": "markdown",
   "metadata": {},
   "source": [
    "# Reading Files"
   ]
  },
  {
   "cell_type": "code",
   "execution_count": null,
   "metadata": {
    "ExecuteTime": {
     "end_time": "2020-11-11T10:50:59.877176Z",
     "start_time": "2020-11-11T10:50:55.307197Z"
    },
    "run_control": {
     "marked": true
    }
   },
   "outputs": [],
   "source": [
    "# df_datatran2020 = pd.read_csv(\"../dataset/datatran2020.csv\", delimiter=\";\", encoding='iso-8859-1')\n",
    "df_datatran2019 = pd.read_csv(\"../data/raw/datatran2019.csv\", delimiter=\";\", encoding='iso-8859-1')\n",
    "df_datatran2018 = pd.read_csv(\"../data/raw/datatran2018.csv\", delimiter=\";\", encoding='iso-8859-1')\n",
    "df_datatran2017 = pd.read_csv(\"../data/raw/datatran2017.csv\", delimiter=\";\", encoding='iso-8859-1')\n",
    "df_datatran2016 = pd.read_csv(\"../data/raw/datatran2016.csv\", delimiter=\";\", encoding='iso-8859-1')\n",
    "df_datatran2015 = pd.read_csv(\"../data/raw/datatran2015.csv\", delimiter=\";\", encoding='iso-8859-1')"
   ]
  },
  {
   "cell_type": "code",
   "execution_count": null,
   "metadata": {
    "ExecuteTime": {
     "end_time": "2020-11-11T10:51:02.075427Z",
     "start_time": "2020-11-11T10:50:59.881269Z"
    },
    "run_control": {
     "marked": true
    }
   },
   "outputs": [],
   "source": [
    "df_datatran = pd.concat([df_datatran2015, df_datatran2016, df_datatran2017, df_datatran2018, df_datatran2019])\n",
    "\n",
    "df_datatran['data_inversa'] = pd.to_datetime(df_datatran['data_inversa'])\n",
    "\n",
    "df_datatran[['latitude', 'longitude']] = df_datatran[['latitude', 'longitude']].apply(lambda x: x.str.replace(',','.'))\n",
    "df_datatran['latitude'] = df_datatran['latitude'].astype('float64')\n",
    "df_datatran['longitude'] = df_datatran['longitude'].astype('float64')\n",
    "\n",
    "SZ(df_datatran)\n",
    "DT(df_datatran)"
   ]
  },
  {
   "cell_type": "code",
   "execution_count": null,
   "metadata": {
    "ExecuteTime": {
     "end_time": "2020-11-11T10:51:02.424468Z",
     "start_time": "2020-11-11T10:51:02.078418Z"
    },
    "run_control": {
     "marked": true
    }
   },
   "outputs": [],
   "source": [
    "df_datatran.head()"
   ]
  },
  {
   "cell_type": "code",
   "execution_count": null,
   "metadata": {
    "ExecuteTime": {
     "end_time": "2020-11-11T10:51:02.726998Z",
     "start_time": "2020-11-11T10:51:02.431449Z"
    }
   },
   "outputs": [],
   "source": [
    "df_datatran.shape"
   ]
  },
  {
   "cell_type": "markdown",
   "metadata": {},
   "source": [
    "# Data Processing"
   ]
  },
  {
   "cell_type": "markdown",
   "metadata": {},
   "source": [
    "Normalização de strings"
   ]
  },
  {
   "cell_type": "code",
   "execution_count": null,
   "metadata": {
    "ExecuteTime": {
     "end_time": "2020-10-31T20:16:55.673731Z",
     "start_time": "2020-10-31T20:16:19.513089Z"
    },
    "run_control": {
     "marked": true
    }
   },
   "outputs": [],
   "source": [
    "string_columns = ['dia_semana', \n",
    "                  'municipio',\n",
    "                  'causa_acidente',\n",
    "                  'tipo_acidente',\n",
    "                  'classificacao_acidente',\n",
    "                  'fase_dia',\n",
    "                  'sentido_via',\n",
    "                  'condicao_metereologica',\n",
    "                  'tipo_pista',\n",
    "                  'tracado_via',\n",
    "                  'uso_solo',\n",
    "                  'regional',\n",
    "                  'delegacia',\n",
    "                  'uop']\n",
    "\n",
    "df_datatran[string_columns] = df_datatran[string_columns].apply(\n",
    "    lambda x: x.str.normalize('NFKD').str.encode('ascii', errors='ignore').str.\n",
    "    decode('utf-8').str.replace('[^\\w\\s]', '').str.lower().str.strip())"
   ]
  },
  {
   "cell_type": "markdown",
   "metadata": {},
   "source": [
    "Transformar data em dado numérico ordinal"
   ]
  },
  {
   "cell_type": "code",
   "execution_count": null,
   "metadata": {
    "ExecuteTime": {
     "end_time": "2020-11-11T10:55:00.666867Z",
     "start_time": "2020-11-11T10:54:58.861941Z"
    },
    "run_control": {
     "marked": true
    }
   },
   "outputs": [],
   "source": [
    "min_data = min(df_datatran['data_inversa'])\n",
    "\n",
    "df_datatran['d'] = (df_datatran['data_inversa'] - min_data)\n",
    "df_datatran['d'] / pd.Timedelta(1, unit='d')\n",
    "df_datatran['d'] = df_datatran['d'].astype('timedelta64[D]')+1"
   ]
  },
  {
   "cell_type": "markdown",
   "metadata": {},
   "source": [
    "Completar nulos"
   ]
  },
  {
   "cell_type": "code",
   "execution_count": null,
   "metadata": {
    "ExecuteTime": {
     "end_time": "2020-10-31T20:11:57.703246Z",
     "start_time": "2020-10-31T20:11:55.556021Z"
    },
    "run_control": {
     "marked": true
    }
   },
   "outputs": [],
   "source": [
    "df_datatran[['br','km']] = df_datatran[['br','km']].apply(lambda x: x.astype(str).str.replace(',','.'))\n",
    "df_datatran[['br','km']].fillna(df_datatran[['br','km']].mode().iloc[0], inplace=True)\n",
    "df_datatran[['br','km']] = df_datatran[['br','km']].astype(str)"
   ]
  },
  {
   "cell_type": "code",
   "execution_count": null,
   "metadata": {
    "ExecuteTime": {
     "end_time": "2020-10-31T20:18:22.354039Z",
     "start_time": "2020-10-31T20:18:21.996347Z"
    },
    "run_control": {
     "marked": true
    }
   },
   "outputs": [],
   "source": [
    "df_datatran[['latitude', 'longitude']] = df_datatran[['latitude', 'longitude']].fillna(df_datatran[['latitude', 'longitude']].median())"
   ]
  },
  {
   "cell_type": "code",
   "execution_count": null,
   "metadata": {
    "ExecuteTime": {
     "end_time": "2020-10-31T20:18:24.608995Z",
     "start_time": "2020-10-31T20:18:22.358526Z"
    },
    "run_control": {
     "marked": true
    }
   },
   "outputs": [],
   "source": [
    "df_datatran[string_columns] = df_datatran[string_columns].fillna('')\n",
    "df_datatran[string_columns] = df_datatran[string_columns].replace('null', '')"
   ]
  },
  {
   "cell_type": "markdown",
   "metadata": {},
   "source": [
    "Transformar dia da semana em dado categórico numérico"
   ]
  },
  {
   "cell_type": "code",
   "execution_count": null,
   "metadata": {
    "ExecuteTime": {
     "end_time": "2020-10-31T20:18:24.893445Z",
     "start_time": "2020-10-31T20:18:24.614912Z"
    },
    "run_control": {
     "marked": true
    }
   },
   "outputs": [],
   "source": [
    "def weekday_process(df, weekday_column):\n",
    "    return np.select(\n",
    "        [\n",
    "            df[weekday_column].str.contains('seg'),\n",
    "            df[weekday_column].str.contains('ter'),\n",
    "            df[weekday_column].str.contains('qua'),\n",
    "            df[weekday_column].str.contains('qui'),\n",
    "            df[weekday_column].str.contains('sex'),\n",
    "            df[weekday_column].str.contains('sab'),\n",
    "            df[weekday_column].str.contains('dom')\n",
    "        ],\n",
    "        [\n",
    "            0,1,2,3,4,5,6\n",
    "        ],\n",
    "        ''\n",
    "    )"
   ]
  },
  {
   "cell_type": "code",
   "execution_count": null,
   "metadata": {
    "ExecuteTime": {
     "end_time": "2020-10-31T20:18:28.168234Z",
     "start_time": "2020-10-31T20:18:24.897434Z"
    },
    "run_control": {
     "marked": true
    }
   },
   "outputs": [],
   "source": [
    "df_datatran['dia_semana'] = weekday_process(df_datatran, weekday_column='dia_semana')"
   ]
  },
  {
   "cell_type": "markdown",
   "metadata": {},
   "source": [
    "Tranformar target em variável binária"
   ]
  },
  {
   "cell_type": "code",
   "execution_count": null,
   "metadata": {
    "ExecuteTime": {
     "end_time": "2020-10-31T20:18:42.114155Z",
     "start_time": "2020-10-31T20:18:28.172764Z"
    },
    "run_control": {
     "marked": true
    }
   },
   "outputs": [],
   "source": [
    "df_datatran['contem_vitima_fatal'] = df_datatran.apply(lambda x: 1 if x['mortos'] != 0 else 0, axis=1)"
   ]
  },
  {
   "cell_type": "code",
   "execution_count": null,
   "metadata": {
    "ExecuteTime": {
     "end_time": "2020-10-31T20:19:11.558576Z",
     "start_time": "2020-10-31T20:18:42.118797Z"
    },
    "run_control": {
     "marked": true
    }
   },
   "outputs": [],
   "source": [
    "df_datatran.to_csv('../data/processed/dataset_v1.csv', index=False, encoding='iso-8859-1')\n",
    "df_datatran.to_parquet('../data/processed/dataset_v1.parquet', index=False)"
   ]
  },
  {
   "cell_type": "markdown",
   "metadata": {},
   "source": [
    "# Exploratory Analysis"
   ]
  },
  {
   "cell_type": "code",
   "execution_count": null,
   "metadata": {
    "ExecuteTime": {
     "end_time": "2020-09-28T00:09:28.074902Z",
     "start_time": "2020-09-28T00:09:27.520597Z"
    }
   },
   "outputs": [],
   "source": [
    "df_datatran[['pessoas', 'mortos', 'feridos_leves', 'feridos_graves', 'ilesos', 'ignorados', 'feridos', 'veiculos']].describe()"
   ]
  },
  {
   "cell_type": "code",
   "execution_count": null,
   "metadata": {
    "ExecuteTime": {
     "end_time": "2020-09-28T00:20:03.695629Z",
     "start_time": "2020-09-28T00:20:03.650752Z"
    }
   },
   "outputs": [],
   "source": [
    "df_datatran.head()"
   ]
  },
  {
   "cell_type": "code",
   "execution_count": null,
   "metadata": {
    "ExecuteTime": {
     "end_time": "2020-09-28T00:22:50.881618Z",
     "start_time": "2020-09-28T00:22:48.111615Z"
    }
   },
   "outputs": [],
   "source": [
    "df_datatran_causa_acidente_count = df_datatran.groupby(['causa_acidente'])['id'].count().reset_index()\n",
    "\n",
    "df_datatran_causa_acidente_count.set_index('causa_acidente', inplace=True)"
   ]
  },
  {
   "cell_type": "code",
   "execution_count": null,
   "metadata": {
    "ExecuteTime": {
     "end_time": "2020-09-28T00:19:16.668987Z",
     "start_time": "2020-09-28T00:19:15.718131Z"
    }
   },
   "outputs": [],
   "source": [
    "df_datatran_causa_acidente_count.sort_values(by='id', ascending=True).plot(kind='barh', figsize=(10,10))"
   ]
  },
  {
   "cell_type": "code",
   "execution_count": null,
   "metadata": {},
   "outputs": [],
   "source": []
  }
 ],
 "metadata": {
  "kernelspec": {
   "display_name": "Python 3",
   "language": "python",
   "name": "python3"
  },
  "language_info": {
   "codemirror_mode": {
    "name": "ipython",
    "version": 3
   },
   "file_extension": ".py",
   "mimetype": "text/x-python",
   "name": "python",
   "nbconvert_exporter": "python",
   "pygments_lexer": "ipython3",
   "version": "3.7.4"
  },
  "toc": {
   "nav_menu": {},
   "number_sections": true,
   "sideBar": true,
   "skip_h1_title": false,
   "title_cell": "Table of Contents",
   "title_sidebar": "Contents",
   "toc_cell": false,
   "toc_position": {},
   "toc_section_display": true,
   "toc_window_display": false
  }
 },
 "nbformat": 4,
 "nbformat_minor": 4
}
