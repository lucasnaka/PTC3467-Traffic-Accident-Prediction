{
 "cells": [
  {
   "cell_type": "markdown",
   "metadata": {},
   "source": [
    "# Initial Configs\n"
   ]
  },
  {
   "cell_type": "code",
   "execution_count": null,
   "metadata": {
    "ExecuteTime": {
     "end_time": "2021-02-13T22:56:17.679397Z",
     "start_time": "2021-02-13T22:56:17.413110Z"
    },
    "run_control": {
     "marked": true
    }
   },
   "outputs": [],
   "source": [
    "%reload_ext autoreload\n",
    "%autoreload 2\n",
    "%matplotlib inline"
   ]
  },
  {
   "cell_type": "markdown",
   "metadata": {},
   "source": [
    "# Imports"
   ]
  },
  {
   "cell_type": "code",
   "execution_count": null,
   "metadata": {
    "ExecuteTime": {
     "end_time": "2021-02-13T22:56:17.978598Z",
     "start_time": "2021-02-13T22:56:17.686379Z"
    },
    "run_control": {
     "marked": true
    },
    "scrolled": true
   },
   "outputs": [],
   "source": [
    "import pandas as pd\n",
    "import numpy as np\n",
    "\n",
    "import matplotlib.pyplot as plt\n",
    "\n",
    "#import plotly for visualization\n",
    "import chart_studio.plotly as py\n",
    "import plotly.offline as pyoff\n",
    "import plotly.graph_objs as go\n",
    "import plotly.express as px\n",
    "import sys\n",
    "from IPython.core.display import display, HTML\n",
    "sys.path.append('..')\n",
    "pyoff.init_notebook_mode()\n",
    "\n",
    "from scipy import stats\n",
    "import swifter\n",
    "\n",
    "from tqdm import tqdm_notebook as tqdm\n",
    "\n",
    "from bokeh.resources import INLINE\n",
    "import bokeh.io\n",
    "from bokeh import *"
   ]
  },
  {
   "cell_type": "markdown",
   "metadata": {},
   "source": [
    "# Package configs"
   ]
  },
  {
   "cell_type": "code",
   "execution_count": null,
   "metadata": {
    "ExecuteTime": {
     "end_time": "2021-02-13T22:56:18.610945Z",
     "start_time": "2021-02-13T22:56:18.306741Z"
    },
    "run_control": {
     "marked": true
    }
   },
   "outputs": [],
   "source": [
    "pd.set_option('display.max_columns', None)\n",
    "display(HTML(\"<style>.container { width:100% !important; }</style>\"))\n",
    "pd.set_option('plotting.backend', 'pandas_bokeh')\n",
    "bokeh.io.output_notebook(INLINE)"
   ]
  },
  {
   "cell_type": "markdown",
   "metadata": {},
   "source": [
    "# Functions"
   ]
  },
  {
   "cell_type": "code",
   "execution_count": null,
   "metadata": {
    "ExecuteTime": {
     "end_time": "2021-02-13T22:56:19.132062Z",
     "start_time": "2021-02-13T22:56:18.855292Z"
    },
    "run_control": {
     "marked": true
    }
   },
   "outputs": [],
   "source": [
    "# Print rapido para dimensão do Dataframe\n",
    "def SZ(df):\n",
    "    print(f\"\"\"\n",
    "--- Dimensão ---\n",
    "Linhas:  {df.shape[0]}\n",
    "Colunas: {df.shape[1]}\"\"\")"
   ]
  },
  {
   "cell_type": "code",
   "execution_count": null,
   "metadata": {
    "ExecuteTime": {
     "end_time": "2021-02-13T22:56:19.393363Z",
     "start_time": "2021-02-13T22:56:19.139043Z"
    },
    "run_control": {
     "marked": true
    }
   },
   "outputs": [],
   "source": [
    "# Print rapido para dTypes do Dataframe\n",
    "def DT(df):\n",
    "    print(f\"\"\"\n",
    "--- DataTypes ---\n",
    "{df.dtypes}\n",
    "    \"\"\")"
   ]
  },
  {
   "cell_type": "markdown",
   "metadata": {},
   "source": [
    "# Reading Files"
   ]
  },
  {
   "cell_type": "code",
   "execution_count": null,
   "metadata": {
    "ExecuteTime": {
     "end_time": "2021-02-13T22:56:25.735424Z",
     "start_time": "2021-02-13T22:56:19.401342Z"
    },
    "run_control": {
     "marked": true
    }
   },
   "outputs": [],
   "source": [
    "years = range(2016,2020)\n",
    "\n",
    "df_datatran = pd.read_csv(f\"../data/processed/df_datatran_2009_2020.csv\", delimiter=\",\", encoding='iso-8859-1')\n",
    "\n",
    "SZ(df_datatran)\n",
    "DT(df_datatran)"
   ]
  },
  {
   "cell_type": "code",
   "execution_count": null,
   "metadata": {
    "ExecuteTime": {
     "end_time": "2021-02-02T01:02:41.044463Z",
     "start_time": "2021-02-02T01:02:40.904893Z"
    },
    "run_control": {
     "marked": false
    }
   },
   "outputs": [],
   "source": [
    "# df_pib = pd.read_excel('../data/raw/PIB dos Municípios - base de dados 2010-2017.xls')"
   ]
  },
  {
   "cell_type": "code",
   "execution_count": null,
   "metadata": {
    "ExecuteTime": {
     "end_time": "2021-02-02T01:02:41.614877Z",
     "start_time": "2021-02-02T01:02:41.474511Z"
    },
    "run_control": {
     "marked": false
    }
   },
   "outputs": [],
   "source": [
    "# df_populacao = pd.read_csv('../data/raw/populacao_por_municipio.csv')"
   ]
  },
  {
   "cell_type": "code",
   "execution_count": null,
   "metadata": {
    "ExecuteTime": {
     "end_time": "2021-02-02T01:02:41.825273Z",
     "start_time": "2021-02-02T01:02:41.674848Z"
    },
    "run_control": {
     "marked": false
    }
   },
   "outputs": [],
   "source": [
    "# df_depara_municipio = pd.read_excel('../data/raw/RELATORIO_DTB_BRASIL_MUNICIPIO.xls')"
   ]
  },
  {
   "cell_type": "markdown",
   "metadata": {},
   "source": [
    "# Data Processing"
   ]
  },
  {
   "cell_type": "markdown",
   "metadata": {
    "ExecuteTime": {
     "end_time": "2020-11-24T16:17:04.598463Z",
     "start_time": "2020-11-24T16:17:04.462219Z"
    }
   },
   "source": [
    "## PIB Dataset"
   ]
  },
  {
   "cell_type": "code",
   "execution_count": null,
   "metadata": {
    "ExecuteTime": {
     "end_time": "2021-02-02T01:02:42.374446Z",
     "start_time": "2021-02-02T01:02:42.224884Z"
    },
    "run_control": {
     "marked": false
    }
   },
   "outputs": [],
   "source": [
    "# df_pib = df_pib[['Ano', 'Código do Município', 'Nome do Município', 'Código da Unidade da Federação', 'Sigla da Unidade da Federação', 'Nome da Unidade da Federação', 'Produto Interno Bruto, \\na preços correntes\\n(R$ 1.000)', 'Produto Interno Bruto per capita, \\na preços correntes\\n(R$ 1,00)']]\n",
    "# \n",
    "# df_pib.columns = ['ano', 'id_municipio', 'municipio', 'id_uf', 'uf', 'nome_uf', 'pib', 'pib_per_capita']"
   ]
  },
  {
   "cell_type": "code",
   "execution_count": null,
   "metadata": {
    "ExecuteTime": {
     "end_time": "2021-02-02T01:02:42.885012Z",
     "start_time": "2021-02-02T01:02:42.725044Z"
    },
    "run_control": {
     "marked": false
    }
   },
   "outputs": [],
   "source": [
    "# df_pib = df_pib[df_pib['ano'] == 2017]"
   ]
  },
  {
   "cell_type": "code",
   "execution_count": null,
   "metadata": {
    "ExecuteTime": {
     "end_time": "2021-02-02T01:02:43.174829Z",
     "start_time": "2021-02-02T01:02:43.030128Z"
    },
    "run_control": {
     "marked": false
    }
   },
   "outputs": [],
   "source": [
    "# df_pib[['municipio', 'nome_uf']] = df_pib[['municipio', 'nome_uf']].apply(\n",
    "#     lambda x: x.str.normalize('NFKD').str.encode('ascii', errors='ignore').str.\n",
    "#     decode('utf-8').str.replace('[^\\w\\s]', '').str.lower().str.strip())"
   ]
  },
  {
   "cell_type": "markdown",
   "metadata": {},
   "source": [
    "Criando depara's"
   ]
  },
  {
   "cell_type": "code",
   "execution_count": null,
   "metadata": {
    "ExecuteTime": {
     "end_time": "2021-02-02T01:02:43.548459Z",
     "start_time": "2021-02-02T01:02:43.404986Z"
    },
    "run_control": {
     "marked": false
    }
   },
   "outputs": [],
   "source": [
    "# df_depara_uf = df_pib[['id_uf', 'uf', 'nome_uf']].drop_duplicates()"
   ]
  },
  {
   "cell_type": "code",
   "execution_count": null,
   "metadata": {
    "ExecuteTime": {
     "end_time": "2021-02-02T01:02:43.724618Z",
     "start_time": "2021-02-02T01:02:43.580140Z"
    },
    "run_control": {
     "marked": false
    }
   },
   "outputs": [],
   "source": [
    "# df_depara_municipio = df_pib[['id_municipio', 'municipio']].drop_duplicates()"
   ]
  },
  {
   "cell_type": "code",
   "execution_count": null,
   "metadata": {
    "ExecuteTime": {
     "end_time": "2021-02-02T01:02:43.904976Z",
     "start_time": "2021-02-02T01:02:43.724618Z"
    },
    "run_control": {
     "marked": false
    }
   },
   "outputs": [],
   "source": [
    "# df_depara_uf_municipio = df_pib[['id_municipio', 'municipio', 'id_uf', 'uf', 'nome_uf']].drop_duplicates()"
   ]
  },
  {
   "cell_type": "markdown",
   "metadata": {},
   "source": [
    "População Dataset"
   ]
  },
  {
   "cell_type": "code",
   "execution_count": null,
   "metadata": {
    "ExecuteTime": {
     "end_time": "2021-02-02T01:02:44.568287Z",
     "start_time": "2021-02-02T01:02:44.375077Z"
    },
    "run_control": {
     "marked": false
    }
   },
   "outputs": [],
   "source": [
    "# df_populacao = df_populacao.merge(df_depara_municipio, how='left', on='id_municipio')"
   ]
  },
  {
   "cell_type": "markdown",
   "metadata": {},
   "source": [
    "## Datatran Dataset"
   ]
  },
  {
   "cell_type": "code",
   "execution_count": null,
   "metadata": {
    "ExecuteTime": {
     "end_time": "2021-02-13T22:56:26.518353Z",
     "start_time": "2021-02-13T22:56:25.742406Z"
    },
    "run_control": {
     "marked": true
    }
   },
   "outputs": [],
   "source": [
    "df_datatran['data_inversa'] = pd.to_datetime(df_datatran['data_inversa'])\n",
    "df_datatran['ano'] = df_datatran['data_inversa'].dt.year"
   ]
  },
  {
   "cell_type": "code",
   "execution_count": null,
   "metadata": {
    "ExecuteTime": {
     "end_time": "2021-02-13T22:56:27.098799Z",
     "start_time": "2021-02-13T22:56:26.526582Z"
    },
    "run_control": {
     "marked": true
    }
   },
   "outputs": [],
   "source": [
    "df_datatran = df_datatran[df_datatran['ano'].isin(years)]"
   ]
  },
  {
   "cell_type": "code",
   "execution_count": null,
   "metadata": {
    "ExecuteTime": {
     "end_time": "2021-02-13T22:56:27.346144Z",
     "start_time": "2021-02-13T22:56:27.104785Z"
    },
    "run_control": {
     "marked": true
    }
   },
   "outputs": [],
   "source": [
    "df_datatran['latitude'] = df_datatran['latitude'].astype('float64')\n",
    "df_datatran['longitude'] = df_datatran['longitude'].astype('float64')"
   ]
  },
  {
   "cell_type": "markdown",
   "metadata": {},
   "source": [
    "Normalização de strings"
   ]
  },
  {
   "cell_type": "code",
   "execution_count": null,
   "metadata": {
    "ExecuteTime": {
     "end_time": "2021-02-13T22:56:38.525684Z",
     "start_time": "2021-02-13T22:56:27.351126Z"
    },
    "run_control": {
     "marked": true
    }
   },
   "outputs": [],
   "source": [
    "string_columns = ['dia_semana', \n",
    "                  'municipio',\n",
    "                  'causa_acidente',\n",
    "                  'tipo_acidente',\n",
    "                  'classificacao_acidente',\n",
    "                  'fase_dia',\n",
    "                  'sentido_via',\n",
    "                  'condicao_metereologica',\n",
    "                  'tipo_pista',\n",
    "                  'tracado_via',\n",
    "                  'uso_solo',\n",
    "                  'regional',\n",
    "                  'delegacia',\n",
    "                  'uop']\n",
    "\n",
    "df_datatran[string_columns] = df_datatran[string_columns].apply(\n",
    "    lambda x: x.str.normalize('NFKD').str.encode('ascii', errors='ignore').str.\n",
    "    decode('utf-8').str.replace('[^\\w\\s]', '').str.lower().str.strip())"
   ]
  },
  {
   "cell_type": "markdown",
   "metadata": {},
   "source": [
    "Processamento da data"
   ]
  },
  {
   "cell_type": "code",
   "execution_count": null,
   "metadata": {
    "ExecuteTime": {
     "end_time": "2021-02-13T22:56:39.509076Z",
     "start_time": "2021-02-13T22:56:38.532666Z"
    },
    "run_control": {
     "marked": true
    }
   },
   "outputs": [],
   "source": [
    "min_data = min(df_datatran['data_inversa'])\n",
    "\n",
    "df_datatran['d'] = (df_datatran['data_inversa'] - min_data)\n",
    "df_datatran['d'] / pd.Timedelta(1, unit='d')\n",
    "df_datatran['d'] = df_datatran['d'].astype('timedelta64[D]')+1"
   ]
  },
  {
   "cell_type": "code",
   "execution_count": null,
   "metadata": {
    "ExecuteTime": {
     "end_time": "2021-02-13T22:56:43.798732Z",
     "start_time": "2021-02-13T22:56:39.514569Z"
    },
    "run_control": {
     "marked": true
    }
   },
   "outputs": [],
   "source": [
    "df_datatran['uso_solo'] = df_datatran.apply(lambda x: 'urbano' if x['uso_solo'] == 'sim' else 'rural', axis=1)"
   ]
  },
  {
   "cell_type": "code",
   "execution_count": null,
   "metadata": {
    "ExecuteTime": {
     "end_time": "2021-02-13T22:56:44.303383Z",
     "start_time": "2021-02-13T22:56:43.804717Z"
    },
    "run_control": {
     "marked": true
    }
   },
   "outputs": [],
   "source": [
    "df_datatran.loc[df_datatran[\"condicao_metereologica\"] == 'ignorada',\"condicao_metereologica\"] = 'ignorado'\n",
    "df_datatran = df_datatran[df_datatran[\"condicao_metereologica\"]!='ignorado']"
   ]
  },
  {
   "cell_type": "markdown",
   "metadata": {},
   "source": [
    "Completar nulos"
   ]
  },
  {
   "cell_type": "code",
   "execution_count": null,
   "metadata": {
    "ExecuteTime": {
     "end_time": "2021-02-13T22:56:45.413921Z",
     "start_time": "2021-02-13T22:56:44.313357Z"
    },
    "run_control": {
     "marked": true
    }
   },
   "outputs": [],
   "source": [
    "df_datatran['km'] = df_datatran['km'].apply(lambda x: str(x).replace(',','.'))\n",
    "df_datatran = df_datatran[~(df_datatran['br']=='(null)')]\n",
    "df_datatran['br'] = df_datatran['br'].where(pd.notnull(df_datatran['br']), None)\n",
    "df_datatran[['br','km']] = df_datatran[['br','km']].fillna(df_datatran[['br','km']].mode().iloc[0])\n",
    "df_datatran['br'] = df_datatran['br'].astype(int)\n",
    "df_datatran['km'] = df_datatran['km'].astype(float).fillna(df_datatran['km'].mode().iloc[0]).astype(float).astype(int)"
   ]
  },
  {
   "cell_type": "code",
   "execution_count": null,
   "metadata": {
    "ExecuteTime": {
     "end_time": "2021-02-13T22:56:45.924578Z",
     "start_time": "2021-02-13T22:56:45.419906Z"
    },
    "run_control": {
     "marked": true
    }
   },
   "outputs": [],
   "source": [
    "df_datatran['ufbr'] = df_datatran['uf'] + df_datatran['br'].astype(str)"
   ]
  },
  {
   "cell_type": "code",
   "execution_count": null,
   "metadata": {
    "ExecuteTime": {
     "end_time": "2021-02-13T22:56:46.184872Z",
     "start_time": "2021-02-13T22:56:45.932548Z"
    },
    "run_control": {
     "marked": true
    }
   },
   "outputs": [],
   "source": [
    "# df_datatran[['latitude', 'longitude']] = df_datatran[['latitude', 'longitude']].fillna(df_datatran[['latitude', 'longitude']].median())"
   ]
  },
  {
   "cell_type": "code",
   "execution_count": null,
   "metadata": {
    "ExecuteTime": {
     "end_time": "2021-02-13T22:56:48.360137Z",
     "start_time": "2021-02-13T22:56:46.193849Z"
    },
    "run_control": {
     "marked": true
    }
   },
   "outputs": [],
   "source": [
    "df_datatran[string_columns] = df_datatran[string_columns].replace('null', np.nan)\n",
    "df_datatran[string_columns] = df_datatran[string_columns].fillna(df_datatran[string_columns].mode().iloc[0])"
   ]
  },
  {
   "cell_type": "markdown",
   "metadata": {},
   "source": [
    "Criar fator de risco (número de acidente na rodovia-km em questão)/(número total de acidentes)"
   ]
  },
  {
   "cell_type": "code",
   "execution_count": null,
   "metadata": {
    "ExecuteTime": {
     "end_time": "2021-02-13T22:56:48.903685Z",
     "start_time": "2021-02-13T22:56:48.365124Z"
    },
    "run_control": {
     "marked": true
    }
   },
   "outputs": [],
   "source": [
    "df_datatran.sort_values(by='d', ascending=True, inplace=True)"
   ]
  },
  {
   "cell_type": "code",
   "execution_count": null,
   "metadata": {
    "ExecuteTime": {
     "end_time": "2021-02-13T22:57:00.685214Z",
     "start_time": "2021-02-13T22:56:48.916650Z"
    },
    "run_control": {
     "marked": true
    }
   },
   "outputs": [],
   "source": [
    "df_datatran['valor_1'] = 1\n",
    "days_to_analyse = 365\n",
    "\n",
    "# Criar dataset com qtd de acidentes por br/km num periodo de 1 ano ate a data do acidente em questao\n",
    "df_acidentes_brkm = df_datatran.groupby(['br', 'km']).rolling(f'{days_to_analyse}D', on=\"data_inversa\")['valor_1'].sum().reset_index(name='qtd_acidentes_brkm')\n",
    "df_acidentes_brkm.drop_duplicates(subset=['br', 'km', 'data_inversa'], keep='last', inplace=True)\n",
    "\n",
    "# Criar dataset com qtd total de acidentes num periodo de 1 ano ate a data do acidente em questao\n",
    "df_acidentes_brasil = df_datatran.groupby(['valor_1']).rolling(f'{days_to_analyse}D', on=\"data_inversa\")['valor_1'].sum().reset_index(name='qtd_acidentes_brasil')\n",
    "df_acidentes_brasil = df_acidentes_brasil.drop_duplicates(subset='data_inversa', keep='last')[['data_inversa', 'qtd_acidentes_brasil']]\n",
    "\n",
    "# Join datasets\n",
    "df_datatran = df_datatran.merge(df_acidentes_brkm, how='left', on=['br', 'km', 'data_inversa'])\n",
    "df_datatran = df_datatran.merge(df_acidentes_brasil, how='left', on=['data_inversa'])\n",
    "\n",
    "# Criar atributo risco\n",
    "df_datatran['risco'] = df_datatran['qtd_acidentes_brkm']/df_datatran['qtd_acidentes_brasil']\n",
    "\n",
    "# Remover colunas indesejadas\n",
    "del df_datatran['qtd_acidentes_brkm']\n",
    "del df_datatran['qtd_acidentes_brasil']\n",
    "del df_datatran['valor_1']"
   ]
  },
  {
   "cell_type": "code",
   "execution_count": null,
   "metadata": {
    "ExecuteTime": {
     "end_time": "2021-02-13T22:57:06.567599Z",
     "start_time": "2021-02-13T22:57:00.691193Z"
    },
    "run_control": {
     "marked": true
    }
   },
   "outputs": [],
   "source": [
    "df_datatran['contem_vitima_fatal'] = df_datatran.apply(lambda x: 1 if x['mortos'] != 0 else 0, axis=1)\n",
    "df_datatran_mortes = df_datatran[df_datatran['mortos']!=0]\n",
    "\n",
    "# Criar dataset com qtd de acidentes por br/km num periodo de 1 ano ate a data do acidente em questao\n",
    "df_acidentes_brkm = df_datatran_mortes.groupby(['br', 'km']).rolling(f'{days_to_analyse}D', on=\"data_inversa\")['contem_vitima_fatal'].sum().reset_index(name='qtd_acidentes_brkm')\n",
    "df_acidentes_brkm.drop_duplicates(subset=['br', 'km', 'data_inversa'], keep='last', inplace=True)\n",
    "\n",
    "# Criar dataset com qtd total de acidentes num periodo de 1 ano ate a data do acidente em questao\n",
    "df_acidentes_brasil = df_datatran_mortes.groupby(['contem_vitima_fatal']).rolling(f'{days_to_analyse}D', on=\"data_inversa\")['contem_vitima_fatal'].sum().reset_index(name='qtd_acidentes_brasil')\n",
    "df_acidentes_brasil = df_acidentes_brasil.drop_duplicates(subset='data_inversa', keep='last')[['data_inversa', 'qtd_acidentes_brasil']]\n",
    "\n",
    "# Join datasets\n",
    "df_datatran = df_datatran.merge(df_acidentes_brkm, how='left', on=['br', 'km', 'data_inversa'])\n",
    "df_datatran = df_datatran.merge(df_acidentes_brasil, how='left', on=['data_inversa'])\n",
    "\n",
    "# Criar atributo risco\n",
    "df_datatran['risco_morte'] = df_datatran['qtd_acidentes_brkm']/df_datatran['qtd_acidentes_brasil']\n",
    "df_datatran['risco_morte'].fillna(0, inplace=True)\n",
    "\n",
    "# Remover colunas indesejadas\n",
    "del df_datatran['qtd_acidentes_brkm']\n",
    "del df_datatran['qtd_acidentes_brasil']"
   ]
  },
  {
   "cell_type": "code",
   "execution_count": null,
   "metadata": {
    "ExecuteTime": {
     "end_time": "2021-02-13T22:57:07.253758Z",
     "start_time": "2021-02-13T22:57:06.572580Z"
    },
    "run_control": {
     "marked": true
    }
   },
   "outputs": [],
   "source": [
    "# Remover dados de acidentes do primeiro ano de analise por nao haver dados do ano antecedente para criar o atributo risco (lembrar que a analise é feita em um periodo de 1 ano)\n",
    "df_datatran = df_datatran[df_datatran['data_inversa'].dt.year >= years[1]]"
   ]
  },
  {
   "cell_type": "code",
   "execution_count": null,
   "metadata": {
    "ExecuteTime": {
     "end_time": "2021-02-04T00:51:53.611979Z",
     "start_time": "2021-02-04T00:51:53.471058Z"
    },
    "code_folding": [
     0
    ]
   },
   "outputs": [],
   "source": [
    "# plot_data = [\n",
    "#     go.Histogram(\n",
    "#         x=df_datatran['risco']\n",
    "#     )\n",
    "# ]\n",
    "\n",
    "# plot_layout = go.Layout(\n",
    "#         title='Distribuição do risco'\n",
    "#     )\n",
    "# fig = go.Figure(data=plot_data, layout=plot_layout)\n",
    "# pyoff.iplot(fig)"
   ]
  },
  {
   "cell_type": "code",
   "execution_count": null,
   "metadata": {
    "ExecuteTime": {
     "end_time": "2021-02-04T00:51:53.747616Z",
     "start_time": "2021-02-04T00:51:53.612977Z"
    },
    "code_folding": [
     0
    ]
   },
   "outputs": [],
   "source": [
    "# plot_data = [\n",
    "#     go.Histogram(\n",
    "#         x=np.log(df_datatran['risco'])\n",
    "#     )\n",
    "# ]\n",
    "# \n",
    "# plot_layout = go.Layout(\n",
    "#         title='Distribuição do risco'\n",
    "#     )\n",
    "# fig = go.Figure(data=plot_data, layout=plot_layout)\n",
    "# pyoff.iplot(fig)"
   ]
  },
  {
   "cell_type": "code",
   "execution_count": null,
   "metadata": {
    "ExecuteTime": {
     "end_time": "2021-02-04T00:51:53.933120Z",
     "start_time": "2021-02-04T00:51:53.748615Z"
    },
    "code_folding": [
     0
    ],
    "run_control": {
     "marked": false
    }
   },
   "outputs": [],
   "source": [
    "# df_datatran['risco'] = df_datatran.groupby(['br', 'km'])['valor_1'].cumsum()\n",
    "# df_acidentes_ate_data = df_datatran.groupby(['data_inversa', 'valor_1'])['valor_1'].sum()\n",
    "# df_acidentes_ate_data = df_acidentes_ate_data.groupby(['valor_1']).cumsum().reset_index(name='qtd_acidentes_ate_data')\n",
    "# df_datatran = df_datatran.merge(df_acidentes_ate_data[['data_inversa', 'qtd_acidentes_ate_data']], how='left', on='data_inversa')"
   ]
  },
  {
   "cell_type": "markdown",
   "metadata": {},
   "source": [
    "Transformar dia da semana em dado categórico numérico"
   ]
  },
  {
   "cell_type": "code",
   "execution_count": null,
   "metadata": {
    "ExecuteTime": {
     "end_time": "2021-02-13T22:57:07.507198Z",
     "start_time": "2021-02-13T22:57:07.259743Z"
    },
    "run_control": {
     "marked": true
    }
   },
   "outputs": [],
   "source": [
    "def weekday_process(df, weekday_column):\n",
    "    return np.select(\n",
    "        [\n",
    "            df[weekday_column].str.contains('seg'),\n",
    "            df[weekday_column].str.contains('ter'),\n",
    "            df[weekday_column].str.contains('qua'),\n",
    "            df[weekday_column].str.contains('qui'),\n",
    "            df[weekday_column].str.contains('sex'),\n",
    "            df[weekday_column].str.contains('sab'),\n",
    "            df[weekday_column].str.contains('dom')\n",
    "        ],\n",
    "        [\n",
    "            'seg', 'ter', 'qua', 'qui', 'sex', 'sab', 'dom'\n",
    "        ],\n",
    "        ''\n",
    "    )"
   ]
  },
  {
   "cell_type": "code",
   "execution_count": null,
   "metadata": {
    "ExecuteTime": {
     "end_time": "2021-02-13T22:57:08.362952Z",
     "start_time": "2021-02-13T22:57:07.515205Z"
    },
    "run_control": {
     "marked": true
    }
   },
   "outputs": [],
   "source": [
    "df_datatran['dia_semana'] = weekday_process(df_datatran, weekday_column='dia_semana')"
   ]
  },
  {
   "cell_type": "markdown",
   "metadata": {},
   "source": [
    "Agrupar causas de acidentes para diminuir a cardinalidade do problema"
   ]
  },
  {
   "cell_type": "code",
   "execution_count": null,
   "metadata": {
    "ExecuteTime": {
     "end_time": "2021-02-04T00:51:55.208593Z",
     "start_time": "2021-02-04T00:51:55.029203Z"
    },
    "code_folding": [
     0
    ],
    "run_control": {
     "marked": false
    }
   },
   "outputs": [],
   "source": [
    "# dict_causa_acidente = {\n",
    "#     'falta de atencao':'falta de atencao', \n",
    "#     'falta de atencao a conducao':'falta de atencao',\n",
    "#     'dormindo':'dormindo', \n",
    "#     'condutor dormindo':'dormindo',\n",
    "#     'deficiencia ou nao acionamento do sistema de iluminacaosinalizacao do veiculo': 'defeito mecanico', \n",
    "#     'defeito mecanico em veiculo':'defeito mecanico', \n",
    "#     'avarias eou desgaste excessivo no pneu':'defeito mecanico', \n",
    "#     'defeito mecanico no veiculo':'defeito mecanico',\n",
    "#     'ingestao de alcool':'ingestao de substancias psicoativas', \n",
    "#     'ingestao de substancias psicoativas':'ingestao de substancias psicoativas',\n",
    "#     'restricao de visibilidade':'restricao de visibilidade', \n",
    "#     'sinalizacao da via insuficiente ou inadequada':'restricao de visibilidade',\n",
    "#     'outras':'outras', \n",
    "#     'animais na pista':'animais na pista', \n",
    "#     'desobediencia a sinalizacao':'desobediencia a sinalizacao', \n",
    "#     'velocidade incompativel':'velocidade incompativel', \n",
    "#     'ultrapassagem indevida':'ultrapassagem indevida', \n",
    "#     'nao guardar distancia de seguranca':'nao guardar distancia de seguranca', \n",
    "#     'defeito na via':'defeito na via', \n",
    "#     'fenomenos da natureza':'fenomenos da natureza', \n",
    "#     'desobediencia as normas de transito pelo condutor':'desobediencia as normas de transito pelo condutor', \n",
    "#     'pista escorregadia':'pista escorregadia', \n",
    "#     'mal subito':'mal subito', \n",
    "#     'carga excessiva eou mal acondicionada':'carga excessiva eou mal acondicionada', \n",
    "#     'objeto estatico sobre o leito carrocavel':'objeto estatico sobre o leito carrocavel', \n",
    "#     'agressao externa':'agressao externa', \n",
    "#     'falta de atencao do pedestre':'falta de atencao do pedestre', \n",
    "#     'desobediencia as normas de transito pelo pedestre':'desobediencia as normas de transito pelo pedestre', \n",
    "#     'ingestao de alcool eou substancias psicoativas pelo pedestre':'ingestao de alcool eou substancias psicoativas pelo pedestre'\n",
    "# }"
   ]
  },
  {
   "cell_type": "code",
   "execution_count": null,
   "metadata": {
    "ExecuteTime": {
     "end_time": "2021-02-04T00:51:55.357196Z",
     "start_time": "2021-02-04T00:51:55.209591Z"
    },
    "run_control": {
     "marked": false
    }
   },
   "outputs": [],
   "source": [
    "# df_datatran['causa_acidente'] = df_datatran.apply(lambda x: dict_causa_acidente[x['causa_acidente']], axis=1)"
   ]
  },
  {
   "cell_type": "markdown",
   "metadata": {},
   "source": [
    "Agrupar tipo de acidentes para diminuir a cardinalidade do problema"
   ]
  },
  {
   "cell_type": "code",
   "execution_count": null,
   "metadata": {
    "ExecuteTime": {
     "end_time": "2021-02-04T00:51:55.501979Z",
     "start_time": "2021-02-04T00:51:55.359191Z"
    },
    "code_folding": [
     0
    ],
    "run_control": {
     "marked": false
    }
   },
   "outputs": [],
   "source": [
    "# dict_tipo_acidente = {\n",
    "#     'colisao traseira': 'colisao',\n",
    "#     'saida de pista': 'capotamento',\n",
    "#     'colisao com objeto fixo': 'colisao',\n",
    "#     'colisao transversal': 'colisao',\n",
    "#     'tombamento': 'capotamento',\n",
    "#     'queda de motocicleta  bicicleta  veiculo': 'capotamento',\n",
    "#     'atropelamento de animal': 'atropelamento', \n",
    "#     'capotamento': 'capotamento',\n",
    "#     'colisao lateral': 'colisao',\n",
    "#     'colisao frontal': 'colisao',\n",
    "#     'atropelamento de pessoa': 'atropelamento',\n",
    "#     'colisao com objeto movel': 'colisao',\n",
    "#     'danos eventuais': 'outras',\n",
    "#     'incendio': 'outras',\n",
    "#     'colisao com bicicleta': 'colisao',\n",
    "#     'derramamento de carga': 'outras',\n",
    "#     'queda de ocupante de veiculo': 'atropelamento',\n",
    "#     'colisao com objeto estatico': 'colisao',\n",
    "#     'saida de leito carrocavel': 'outras',\n",
    "#     'atropelamento de pedestre': 'atropelamento',\n",
    "#     'colisao com objeto em movimento': 'colisao',\n",
    "#     'engavetamento': 'colisao'\n",
    "# }"
   ]
  },
  {
   "cell_type": "code",
   "execution_count": null,
   "metadata": {
    "ExecuteTime": {
     "end_time": "2021-02-04T00:51:55.650582Z",
     "start_time": "2021-02-04T00:51:55.502976Z"
    },
    "run_control": {
     "marked": false
    },
    "scrolled": true
   },
   "outputs": [],
   "source": [
    "# df_datatran['tipo_acidente'] = df_datatran.apply(lambda x: dict_tipo_acidente[x['tipo_acidente']], axis=1)"
   ]
  },
  {
   "cell_type": "markdown",
   "metadata": {},
   "source": [
    "Transformar coordenadas (latitude, longitude) em espaço cartesiano"
   ]
  },
  {
   "cell_type": "code",
   "execution_count": null,
   "metadata": {
    "ExecuteTime": {
     "end_time": "2021-02-13T22:57:08.628242Z",
     "start_time": "2021-02-13T22:57:08.369928Z"
    },
    "run_control": {
     "marked": true
    }
   },
   "outputs": [],
   "source": [
    "df_datatran['coordenada_x'] = np.cos(df_datatran['latitude']) * np.cos(df_datatran['longitude'])\n",
    "df_datatran['coordenada_y'] = np.cos(df_datatran['latitude']) * np.sin(df_datatran['longitude'])\n",
    "df_datatran['coordenada_z'] = np.sin(df_datatran['latitude'])"
   ]
  },
  {
   "cell_type": "markdown",
   "metadata": {},
   "source": [
    "### Feriados"
   ]
  },
  {
   "cell_type": "markdown",
   "metadata": {},
   "source": [
    "Criar atributo que indica distância em dias entre data do acidente e data de feriados"
   ]
  },
  {
   "cell_type": "code",
   "execution_count": null,
   "metadata": {
    "ExecuteTime": {
     "end_time": "2021-02-13T22:57:08.909491Z",
     "start_time": "2021-02-13T22:57:08.632225Z"
    },
    "run_control": {
     "marked": true
    }
   },
   "outputs": [],
   "source": [
    "df_holidays = pd.read_parquet('../data/raw/holidays.parquet')"
   ]
  },
  {
   "cell_type": "code",
   "execution_count": null,
   "metadata": {
    "ExecuteTime": {
     "end_time": "2021-02-13T22:57:09.216663Z",
     "start_time": "2021-02-13T22:57:08.931427Z"
    },
    "code_folding": [],
    "run_control": {
     "marked": true
    }
   },
   "outputs": [],
   "source": [
    "# Considerar feriados apenas entre a data de analise\n",
    "data_inicio_analise = f'{years[1]}-01-01'\n",
    "data_fim_analise = f'{years[-1]}-12-31'\n",
    "\n",
    "df_holidays[\"data\"] = pd.to_datetime(df_holidays[\"data\"], format='%d/%m/%Y')\n",
    "df_holidays = df_holidays[(df_holidays['data'] >= data_inicio_analise) & (df_holidays['data'] <= data_fim_analise)]\n",
    "df_holidays = df_holidays.add_prefix('holiday_')\n",
    "df_holidays"
   ]
  },
  {
   "cell_type": "code",
   "execution_count": null,
   "metadata": {
    "ExecuteTime": {
     "end_time": "2021-02-13T22:57:09.548781Z",
     "start_time": "2021-02-13T22:57:09.225640Z"
    },
    "run_control": {
     "marked": true
    }
   },
   "outputs": [],
   "source": [
    "df_holidays.fillna('', inplace=True)\n",
    "df_holidays[['holiday_municipio']] = df_holidays[['holiday_municipio']].apply(\n",
    "    lambda x: x.str.normalize('NFKD').str.encode('ascii', errors='ignore').str.\n",
    "    decode('utf-8').str.replace('[^\\w\\s]', '').str.lower().str.strip())"
   ]
  },
  {
   "cell_type": "code",
   "execution_count": null,
   "metadata": {
    "ExecuteTime": {
     "end_time": "2021-02-13T22:57:09.853959Z",
     "start_time": "2021-02-13T22:57:09.555757Z"
    },
    "run_control": {
     "marked": true
    }
   },
   "outputs": [],
   "source": [
    "days_offset_holiday = 2\n",
    "df_holidays[f'holiday_date_minus_{days_offset_holiday}'] = df_holidays['holiday_data'] + pd.DateOffset(-days_offset_holiday)\n",
    "df_holidays[f'holiday_date_plus_{days_offset_holiday}'] = df_holidays['holiday_data'] + pd.DateOffset(days_offset_holiday)"
   ]
  },
  {
   "cell_type": "code",
   "execution_count": null,
   "metadata": {
    "ExecuteTime": {
     "end_time": "2021-02-13T22:57:10.221483Z",
     "start_time": "2021-02-13T22:57:09.863933Z"
    },
    "run_control": {
     "marked": true
    }
   },
   "outputs": [],
   "source": [
    "df_holidays = df_holidays[(df_holidays['holiday_tipo'] == 'ESTADUAL') |\n",
    "                          (df_holidays['holiday_tipo'] == 'NACIONAL') |\n",
    "                          (df_holidays['holiday_nome'] == 'Carnaval')]"
   ]
  },
  {
   "cell_type": "code",
   "execution_count": null,
   "metadata": {
    "ExecuteTime": {
     "end_time": "2021-02-13T22:57:46.053264Z",
     "start_time": "2021-02-13T22:57:10.231456Z"
    },
    "run_control": {
     "marked": true
    }
   },
   "outputs": [],
   "source": [
    "import pandasql as ps\n",
    "\n",
    "sqlcode = f'''\n",
    "select *\n",
    "from df_datatran\n",
    "inner join df_holidays on \n",
    "    df_datatran.data_inversa >= df_holidays.holiday_date_minus_{days_offset_holiday}\n",
    "    AND df_datatran.data_inversa <= df_holidays.holiday_date_plus_{days_offset_holiday}\n",
    "WHERE\n",
    "    -- (df_holidays.holiday_tipo LIKE 'MUNICIPAL' AND df_datatran.municipio = df_holidays.holiday_municipio)\n",
    "    (df_holidays.holiday_tipo LIKE 'ESTADUAL' AND df_datatran.uf = df_holidays.holiday_uf)\n",
    "    OR df_holidays.holiday_tipo LIKE 'NACIONAL'\n",
    "    OR df_holidays.holiday_nome LIKE 'Carnaval'\n",
    "'''\n",
    "\n",
    "df_datatran_near_holidays = ps.sqldf(sqlcode,locals())"
   ]
  },
  {
   "cell_type": "code",
   "execution_count": null,
   "metadata": {
    "ExecuteTime": {
     "end_time": "2021-02-13T22:57:46.504065Z",
     "start_time": "2021-02-13T22:57:46.058252Z"
    },
    "run_control": {
     "marked": true
    }
   },
   "outputs": [],
   "source": [
    "df_datatran_near_holidays[\"data_inversa\"] = pd.to_datetime(df_datatran_near_holidays[\"data_inversa\"])\n",
    "df_datatran_near_holidays[\"holiday_data\"] = pd.to_datetime(df_datatran_near_holidays[\"holiday_data\"])\n",
    "df_datatran_near_holidays['diff_ac_feriado_dias'] = df_datatran_near_holidays['data_inversa'] - df_datatran_near_holidays['holiday_data']\n",
    "df_datatran_near_holidays['diff_ac_feriado_dias'] = df_datatran_near_holidays['diff_ac_feriado_dias'].astype('timedelta64[D]').astype(int)"
   ]
  },
  {
   "cell_type": "code",
   "execution_count": null,
   "metadata": {
    "ExecuteTime": {
     "end_time": "2021-02-13T22:57:50.072573Z",
     "start_time": "2021-02-13T22:57:46.515030Z"
    },
    "run_control": {
     "marked": true
    }
   },
   "outputs": [],
   "source": [
    "df_datatran_near_holidays['diff_ac_feriado_dias'] = df_datatran_near_holidays['diff_ac_feriado_dias'].astype('category')\n",
    "df_datatran_near_holidays['diff_ac_feriado_dias'] = pd.Categorical(df_datatran_near_holidays['diff_ac_feriado_dias'], categories=[0,-1,1,-2,2, np.inf], ordered=True)\n",
    "df_datatran_near_holidays = df_datatran_near_holidays.sort_values('diff_ac_feriado_dias').groupby('id', as_index=False).first()\n",
    "df_datatran_near_holidays['em_janela_feriado'] = 1"
   ]
  },
  {
   "cell_type": "code",
   "execution_count": null,
   "metadata": {
    "ExecuteTime": {
     "end_time": "2021-02-13T22:57:52.034335Z",
     "start_time": "2021-02-13T22:57:50.079548Z"
    },
    "run_control": {
     "marked": true
    }
   },
   "outputs": [],
   "source": [
    "# df_datatran = df_datatran.merge(df_datatran_near_holidays[['id', 'diff_ac_feriado_dias', 'holiday_data', 'holiday_nome']], how='left', on=['id'])\n",
    "df_datatran = df_datatran.merge(df_datatran_near_holidays[['id', 'em_janela_feriado']], how='left', on=['id'])\n",
    "df_datatran['em_janela_feriado'] = df_datatran['em_janela_feriado'].fillna(0)\n",
    "df_datatran.drop_duplicates(inplace=True)"
   ]
  },
  {
   "cell_type": "code",
   "execution_count": null,
   "metadata": {
    "ExecuteTime": {
     "end_time": "2021-02-13T22:57:52.435263Z",
     "start_time": "2021-02-13T22:57:52.042315Z"
    },
    "run_control": {
     "marked": true
    }
   },
   "outputs": [],
   "source": [
    "df_datatran.sort_values([\"data_inversa\"], ascending=True, inplace=True)"
   ]
  },
  {
   "cell_type": "code",
   "execution_count": null,
   "metadata": {
    "ExecuteTime": {
     "end_time": "2021-02-04T00:52:37.576083Z",
     "start_time": "2021-02-04T00:52:37.458123Z"
    },
    "code_folding": [
     0
    ],
    "run_control": {
     "marked": false
    }
   },
   "outputs": [],
   "source": [
    "# df_datatran['dia'] = df_datatran['data_inversa'].dt.day\n",
    "# df_datatran['mes'] = df_datatran['data_inversa'].dt.month\n",
    "# df_datatran['ano'] = df_datatran['data_inversa'].dt.year\n",
    "# df_datatran['diadoano'] = df_datatran['data_inversa'].dt.dayofyear"
   ]
  },
  {
   "cell_type": "code",
   "execution_count": null,
   "metadata": {
    "ExecuteTime": {
     "end_time": "2021-02-04T00:52:37.701054Z",
     "start_time": "2021-02-04T00:52:37.576083Z"
    },
    "code_folding": [
     0
    ],
    "run_control": {
     "marked": false
    },
    "scrolled": true
   },
   "outputs": [],
   "source": [
    "# plot_data = [\n",
    "#     go.Histogram(\n",
    "#         x=df_datatran['diff_ac_feriado_dias']\n",
    "#     )\n",
    "# ]\n",
    "# \n",
    "# plot_layout = go.Layout(\n",
    "#         title='Número acidentes por janela feriado'\n",
    "#     )\n",
    "# fig = go.Figure(data=plot_data, layout=plot_layout)\n",
    "# pyoff.iplot(fig)"
   ]
  },
  {
   "cell_type": "code",
   "execution_count": null,
   "metadata": {
    "ExecuteTime": {
     "end_time": "2021-02-04T00:52:37.836230Z",
     "start_time": "2021-02-04T00:52:37.701054Z"
    },
    "code_folding": [
     0
    ],
    "run_control": {
     "marked": false
    },
    "scrolled": true
   },
   "outputs": [],
   "source": [
    "# plot_data = [\n",
    "#     go.Histogram(\n",
    "#         x=df_datatran['holiday_nome']\n",
    "#     )\n",
    "# ]\n",
    "# \n",
    "# plot_layout = go.Layout(\n",
    "#         title='Número acidentes por feriado'\n",
    "#     )\n",
    "# fig = go.Figure(data=plot_data, layout=plot_layout)\n",
    "# pyoff.iplot(fig)"
   ]
  },
  {
   "cell_type": "markdown",
   "metadata": {},
   "source": [
    "Tranformar target em variável binária"
   ]
  },
  {
   "cell_type": "code",
   "execution_count": null,
   "metadata": {
    "ExecuteTime": {
     "end_time": "2021-02-04T00:52:37.961526Z",
     "start_time": "2021-02-04T00:52:37.836230Z"
    },
    "run_control": {
     "marked": false
    }
   },
   "outputs": [],
   "source": [
    "# df_datatran['contem_vitima_fatal'] = df_datatran.apply(lambda x: 1 if x['mortos'] != 0 else 0, axis=1)"
   ]
  },
  {
   "cell_type": "code",
   "execution_count": null,
   "metadata": {
    "ExecuteTime": {
     "end_time": "2021-02-04T00:52:38.206126Z",
     "start_time": "2021-02-04T00:52:37.961526Z"
    },
    "code_folding": [],
    "run_control": {
     "marked": false
    }
   },
   "outputs": [],
   "source": [
    "# Class count\n",
    "count_class_0, count_class_1 = df_datatran['contem_vitima_fatal'].value_counts()\n",
    "\n",
    "# Divide by class\n",
    "df_class_0 = df_datatran[df_datatran['contem_vitima_fatal'] == 0]\n",
    "df_class_1 = df_datatran[df_datatran['contem_vitima_fatal'] == 1]"
   ]
  },
  {
   "cell_type": "markdown",
   "metadata": {},
   "source": [
    "Random Under-Sampling"
   ]
  },
  {
   "cell_type": "code",
   "execution_count": null,
   "metadata": {
    "ExecuteTime": {
     "end_time": "2021-02-04T00:52:38.470490Z",
     "start_time": "2021-02-04T00:52:38.207888Z"
    },
    "run_control": {
     "marked": false
    }
   },
   "outputs": [],
   "source": [
    "df_class_0_under = df_class_0.sample(count_class_1)\n",
    "df_datatran_under = pd.concat([df_class_0_under, df_class_1], axis=0)\n",
    "\n",
    "print('Random under-sampling:')\n",
    "print(df_datatran_under['contem_vitima_fatal'].value_counts())\n",
    "\n",
    "df_datatran_under['contem_vitima_fatal'].value_counts().plot(kind='bar', title='Count (target)');"
   ]
  },
  {
   "cell_type": "markdown",
   "metadata": {},
   "source": [
    "Random Over-Sampling"
   ]
  },
  {
   "cell_type": "code",
   "execution_count": null,
   "metadata": {
    "ExecuteTime": {
     "end_time": "2021-02-04T00:52:39.231770Z",
     "start_time": "2021-02-04T00:52:38.470490Z"
    },
    "run_control": {
     "marked": false
    },
    "scrolled": true
   },
   "outputs": [],
   "source": [
    "df_class_1_over = df_class_1.sample(count_class_0, replace=True)\n",
    "df_datatran_over = pd.concat([df_class_0, df_class_1_over], axis=0)\n",
    "\n",
    "print('Random over-sampling:')\n",
    "print(df_datatran_over['contem_vitima_fatal'].value_counts())\n",
    "\n",
    "df_datatran_over['contem_vitima_fatal'].value_counts().plot(kind='bar', title='Count (target)');"
   ]
  },
  {
   "cell_type": "markdown",
   "metadata": {},
   "source": [
    "Drop unwanted columns"
   ]
  },
  {
   "cell_type": "code",
   "execution_count": null,
   "metadata": {
    "ExecuteTime": {
     "end_time": "2021-02-04T00:52:39.405087Z",
     "start_time": "2021-02-04T00:52:39.231770Z"
    },
    "run_control": {
     "marked": false
    }
   },
   "outputs": [],
   "source": [
    "drop_columns = [\n",
    "    'horario'\n",
    "    , 'br'\n",
    "    , 'km'\n",
    "    , 'municipio'\n",
    "    , 'causa_acidente'\n",
    "    , 'tipo_acidente'\n",
    "    , 'classificacao_acidente'\n",
    "    , 'ano'\n",
    "    , 'mortos'\n",
    "    , 'feridos_leves'\n",
    "    , 'feridos_graves'\n",
    "    , 'ilesos'\n",
    "    , 'ignorados'\n",
    "    , 'feridos'\n",
    "    , 'veiculos'\n",
    "    , 'latitude'\n",
    "    , 'longitude'\n",
    "    , 'regional'\n",
    "    , 'delegacia'\n",
    "    , 'uop'\n",
    "    , 'd'\n",
    "    , 'ufbr'\n",
    "]"
   ]
  },
  {
   "cell_type": "code",
   "execution_count": null,
   "metadata": {
    "ExecuteTime": {
     "end_time": "2021-02-04T00:52:39.712661Z",
     "start_time": "2021-02-04T00:52:39.405087Z"
    },
    "run_control": {
     "marked": false
    }
   },
   "outputs": [],
   "source": [
    "df_datatran.drop(drop_columns, axis=1).isnull().sum().sum()"
   ]
  },
  {
   "cell_type": "code",
   "execution_count": null,
   "metadata": {
    "ExecuteTime": {
     "end_time": "2021-02-04T00:52:39.937674Z",
     "start_time": "2021-02-04T00:52:39.714235Z"
    },
    "run_control": {
     "marked": false
    }
   },
   "outputs": [],
   "source": [
    "df_datatran.drop(drop_columns, axis=1, inplace=True)"
   ]
  },
  {
   "cell_type": "code",
   "execution_count": null,
   "metadata": {
    "ExecuteTime": {
     "end_time": "2021-02-04T00:52:40.279840Z",
     "start_time": "2021-02-04T00:52:39.937674Z"
    },
    "run_control": {
     "marked": false
    }
   },
   "outputs": [],
   "source": [
    "SZ(df_datatran)\n",
    "DT(df_datatran)\n",
    "print('--- Data Unique ---\\n')\n",
    "print(df_datatran.nunique())"
   ]
  },
  {
   "cell_type": "code",
   "execution_count": null,
   "metadata": {
    "ExecuteTime": {
     "end_time": "2021-02-04T00:52:40.860960Z",
     "start_time": "2021-02-04T00:52:40.283831Z"
    },
    "run_control": {
     "marked": false
    }
   },
   "outputs": [],
   "source": [
    "df_datatran.to_parquet('../data/processed/dataset_v1.parquet', index=False)"
   ]
  },
  {
   "cell_type": "code",
   "execution_count": null,
   "metadata": {
    "ExecuteTime": {
     "end_time": "2020-12-04T01:19:50.882405Z",
     "start_time": "2020-12-04T01:19:46.963464Z"
    },
    "run_control": {
     "marked": false
    }
   },
   "outputs": [],
   "source": [
    "# df_test_over.to_parquet('../data/processed/dataset_over_v2.parquet', index=False)"
   ]
  },
  {
   "cell_type": "code",
   "execution_count": null,
   "metadata": {
    "ExecuteTime": {
     "end_time": "2020-12-04T01:18:34.174823Z",
     "start_time": "2020-12-04T01:18:33.428119Z"
    },
    "run_control": {
     "marked": false
    }
   },
   "outputs": [],
   "source": [
    "# df_test_under.to_parquet('../data/processed/dataset_under_v2.parquet', index=False)"
   ]
  },
  {
   "cell_type": "markdown",
   "metadata": {},
   "source": [
    "## Join Datasets"
   ]
  },
  {
   "cell_type": "code",
   "execution_count": null,
   "metadata": {
    "ExecuteTime": {
     "end_time": "2021-01-10T14:43:24.569921Z",
     "start_time": "2021-01-10T14:43:21.535983Z"
    },
    "run_control": {
     "marked": false
    }
   },
   "outputs": [],
   "source": [
    "df_final = df_datatran.merge(df_pib[['municipio', 'uf', 'id_municipio', 'pib', 'pib_per_capita']], how='left', on=['uf', 'municipio'])"
   ]
  },
  {
   "cell_type": "code",
   "execution_count": null,
   "metadata": {
    "ExecuteTime": {
     "end_time": "2021-01-10T14:43:25.938677Z",
     "start_time": "2021-01-10T14:43:24.573873Z"
    },
    "run_control": {
     "marked": false
    }
   },
   "outputs": [],
   "source": [
    "df_final = df_final.merge(df_populacao, how='left', on=['ano', 'id_municipio', 'municipio'])"
   ]
  },
  {
   "cell_type": "code",
   "execution_count": null,
   "metadata": {
    "ExecuteTime": {
     "end_time": "2021-01-10T14:43:27.492775Z",
     "start_time": "2021-01-10T14:43:25.948571Z"
    },
    "run_control": {
     "marked": false
    }
   },
   "outputs": [],
   "source": [
    "df_final[['pib', 'pib_per_capita', 'populacao']] = df_final[['uf', 'pib', 'pib_per_capita', 'populacao']].groupby(\"uf\").transform(lambda x: x.fillna(x.mean()))"
   ]
  },
  {
   "cell_type": "code",
   "execution_count": null,
   "metadata": {
    "ExecuteTime": {
     "end_time": "2021-01-10T14:43:27.934801Z",
     "start_time": "2021-01-10T14:43:27.496773Z"
    },
    "run_control": {
     "marked": false
    }
   },
   "outputs": [],
   "source": [
    "df_final.head()"
   ]
  },
  {
   "cell_type": "code",
   "execution_count": null,
   "metadata": {
    "ExecuteTime": {
     "end_time": "2020-12-02T13:15:38.138651Z",
     "start_time": "2020-12-02T13:15:25.269873Z"
    },
    "run_control": {
     "marked": false
    }
   },
   "outputs": [],
   "source": [
    "# df_final.to_csv('../data/processed/dataset_v4.csv', index=False, encoding='iso-8859-1')\n",
    "# df_final.to_parquet('../data/processed/dataset_v4.parquet', index=False)"
   ]
  },
  {
   "cell_type": "markdown",
   "metadata": {},
   "source": [
    "# Exploratory Analysis"
   ]
  },
  {
   "cell_type": "code",
   "execution_count": null,
   "metadata": {
    "ExecuteTime": {
     "end_time": "2021-01-10T14:43:28.922895Z",
     "start_time": "2021-01-10T14:43:27.940139Z"
    },
    "run_control": {
     "marked": false
    }
   },
   "outputs": [],
   "source": [
    "df_datatran[['pessoas', 'mortos', 'feridos_leves', 'feridos_graves', 'ilesos', 'ignorados', 'feridos', 'veiculos']].describe()"
   ]
  },
  {
   "cell_type": "code",
   "execution_count": null,
   "metadata": {
    "ExecuteTime": {
     "end_time": "2021-01-10T14:43:29.423487Z",
     "start_time": "2021-01-10T14:43:28.926900Z"
    },
    "run_control": {
     "marked": false
    }
   },
   "outputs": [],
   "source": [
    "df_datatran.head()"
   ]
  },
  {
   "cell_type": "code",
   "execution_count": null,
   "metadata": {
    "ExecuteTime": {
     "end_time": "2021-01-10T14:43:30.233685Z",
     "start_time": "2021-01-10T14:43:29.432443Z"
    },
    "run_control": {
     "marked": false
    }
   },
   "outputs": [],
   "source": [
    "df_datatran_causa_acidente_count = df_datatran.groupby(['causa_acidente'])['id'].count().reset_index()\n",
    "\n",
    "df_datatran_causa_acidente_count.set_index('causa_acidente', inplace=True)"
   ]
  },
  {
   "cell_type": "code",
   "execution_count": null,
   "metadata": {
    "ExecuteTime": {
     "end_time": "2021-01-10T14:43:30.758014Z",
     "start_time": "2021-01-10T14:43:30.239277Z"
    },
    "run_control": {
     "marked": false
    }
   },
   "outputs": [],
   "source": [
    "df_datatran_causa_acidente_count.sort_values(by='id', ascending=True).plot(kind='barh', figsize=(10,10))"
   ]
  },
  {
   "cell_type": "markdown",
   "metadata": {},
   "source": [
    "# K-Means"
   ]
  },
  {
   "cell_type": "code",
   "execution_count": null,
   "metadata": {
    "run_control": {
     "marked": false
    }
   },
   "outputs": [],
   "source": [
    "# from sklearn.preprocessing import LabelEncoder\n",
    "# \n",
    "# lb_make = LabelEncoder()\n",
    "# tx_data[\"SEGMENTO_AZURE_CODE\"] = lb_make.fit_transform(tx_data[\"SEGMENTO_AZURE\"])"
   ]
  },
  {
   "cell_type": "code",
   "execution_count": null,
   "metadata": {
    "ExecuteTime": {
     "end_time": "2021-01-10T14:43:31.323356Z",
     "start_time": "2021-01-10T14:43:30.762374Z"
    },
    "run_control": {
     "marked": false
    }
   },
   "outputs": [],
   "source": [
    "drop_columns = [\n",
    "    'id'\n",
    "    , 'br'\n",
    "    , 'km'\n",
    "    , 'classificacao_acidente'\n",
    "    , 'ano'\n",
    "    , 'data_inversa'\n",
    "    , 'horario'\n",
    "    , 'mortos'\n",
    "    , 'regional'\n",
    "    , 'delegacia'\n",
    "    , 'uop'\n",
    "    , 'municipio'\n",
    "    , 'pessoas'\n",
    "    , 'feridos_leves'\n",
    "    , 'feridos_graves'\n",
    "    , 'ilesos'\n",
    "    , 'ignorados'\n",
    "    , 'feridos'\n",
    "    , 'veiculos'\n",
    "]"
   ]
  },
  {
   "cell_type": "code",
   "execution_count": null,
   "metadata": {
    "ExecuteTime": {
     "end_time": "2021-01-10T14:43:33.308971Z",
     "start_time": "2021-01-10T14:43:31.331328Z"
    },
    "run_control": {
     "marked": false
    }
   },
   "outputs": [],
   "source": [
    "z_score = stats.zscore(df_datatran.drop(drop_columns, axis=1).drop(['contem_vitima_fatal'], axis=1).select_dtypes(include=[np.number]))\n",
    "abs_z_scores = np.abs(z_score)\n",
    "filtered_entries = (abs_z_scores < 3).all(axis=1)\n",
    "new_df = df_datatran[filtered_entries]\n",
    "df_kmeans = new_df.drop(drop_columns, axis=1)"
   ]
  },
  {
   "cell_type": "code",
   "execution_count": null,
   "metadata": {
    "ExecuteTime": {
     "end_time": "2021-01-10T14:43:37.164670Z",
     "start_time": "2021-01-10T14:43:33.313306Z"
    },
    "run_control": {
     "marked": false
    }
   },
   "outputs": [],
   "source": [
    "plot_data = [\n",
    "    go.Histogram(\n",
    "        x = df_kmeans['contem_vitima_fatal'],\n",
    "        orientation='v',\n",
    "        name='Acidentes Vítima Fatal'\n",
    "    )\n",
    "]\n",
    "\n",
    "plot_layout = go.Layout(\n",
    "        width=700,\n",
    "        height=300\n",
    "    )\n",
    "fig = go.Figure(data=plot_data, layout=plot_layout)\n",
    "pyoff.iplot(fig)"
   ]
  },
  {
   "cell_type": "code",
   "execution_count": null,
   "metadata": {
    "ExecuteTime": {
     "end_time": "2021-01-10T14:43:39.934779Z",
     "start_time": "2021-01-10T14:43:37.169167Z"
    },
    "run_control": {
     "marked": false
    }
   },
   "outputs": [],
   "source": [
    "category_cols = [\n",
    "      'dia_semana'\n",
    "    , 'uf'\n",
    "#     , 'br'\n",
    "#     , 'km'\n",
    "#     , 'municipio'\n",
    "    , 'causa_acidente'\n",
    "    , 'tipo_acidente'\n",
    "#     , 'classificacao_acidente'\n",
    "    , 'fase_dia'\n",
    "    , 'sentido_via'\n",
    "    , 'condicao_metereologica'\n",
    "    , 'tipo_pista'\n",
    "    , 'tracado_via'\n",
    "    , 'uso_solo'\n",
    "]\n",
    "\n",
    "df_kmeans = df_kmeans.drop(category_cols, axis=1).reset_index(drop=True).merge(pd.get_dummies(df_kmeans[category_cols]).reset_index(drop=True), how='left', left_index=True, right_index=True)"
   ]
  },
  {
   "cell_type": "code",
   "execution_count": null,
   "metadata": {
    "ExecuteTime": {
     "end_time": "2021-01-10T14:43:40.793069Z",
     "start_time": "2021-01-10T14:43:39.944631Z"
    },
    "run_control": {
     "marked": false
    }
   },
   "outputs": [],
   "source": [
    "del df_kmeans['contem_vitima_fatal']"
   ]
  },
  {
   "cell_type": "code",
   "execution_count": null,
   "metadata": {
    "ExecuteTime": {
     "end_time": "2021-02-13T23:14:16.444989Z",
     "start_time": "2021-02-13T23:14:15.242267Z"
    }
   },
   "outputs": [],
   "source": [
    "df_kmeans = df_datatran[['latitude', 'longitude']]"
   ]
  },
  {
   "cell_type": "code",
   "execution_count": null,
   "metadata": {
    "ExecuteTime": {
     "end_time": "2021-02-13T23:19:33.370368Z",
     "start_time": "2021-02-13T23:19:09.376410Z"
    },
    "run_control": {
     "marked": false
    }
   },
   "outputs": [],
   "source": [
    "K_clusters = range(1,10)\n",
    "kmeans = [KMeans(n_clusters=i) for i in K_clusters]\n",
    "score = [kmeans[i].fit(df_kmeans).score(df_kmeans) for i in range(len(kmeans))]\n",
    "plt.plot(K_clusters, score)\n",
    "plt.xlabel('Number of Clusters')\n",
    "plt.ylabel('Score')\n",
    "plt.title('Elbow Curve')\n",
    "plt.show()"
   ]
  },
  {
   "cell_type": "code",
   "execution_count": null,
   "metadata": {
    "ExecuteTime": {
     "end_time": "2021-02-13T23:05:22.955872Z",
     "start_time": "2021-02-13T23:05:11.026637Z"
    },
    "run_control": {
     "marked": false
    }
   },
   "outputs": [],
   "source": [
    "from sklearn.cluster import KMeans\n",
    "\n",
    "sse={}\n",
    "\n",
    "with tqdm(total = len(range(1, 10))) as pbar:\n",
    "    for k in range(1, 10):\n",
    "        kmeans = KMeans(n_clusters=k, max_iter=1000).fit(df_kmeans)\n",
    "        df_kmeans[\"clusters\"] = kmeans.labels_\n",
    "        sse[k] = kmeans.inertia_ \n",
    "        \n",
    "        pbar.update()\n",
    "plt.figure()\n",
    "plt.plot(list(sse.keys()), list(sse.values()))\n",
    "plt.xlabel(\"Number of cluster\")\n",
    "plt.show()"
   ]
  },
  {
   "cell_type": "code",
   "execution_count": null,
   "metadata": {
    "ExecuteTime": {
     "end_time": "2021-02-13T22:58:59.435085Z",
     "start_time": "2021-02-13T22:58:58.157995Z"
    },
    "run_control": {
     "marked": false
    }
   },
   "outputs": [],
   "source": [
    "#build 4 clusters for recency and add it to dataframe\n",
    "kmeans = KMeans(n_clusters=5)\n",
    "kmeans.fit(df_kmeans)\n",
    "df_kmeans['Cluster K-Means'] = kmeans.predict(df_kmeans)"
   ]
  },
  {
   "cell_type": "code",
   "execution_count": null,
   "metadata": {
    "ExecuteTime": {
     "end_time": "2021-02-13T22:59:04.150192Z",
     "start_time": "2021-02-13T22:59:03.069712Z"
    },
    "run_control": {
     "marked": false
    }
   },
   "outputs": [],
   "source": [
    "plot_data = [\n",
    "    go.Histogram(\n",
    "        x = df_kmeans['Cluster K-Means'],\n",
    "        orientation='v',\n",
    "        name='Clusters'\n",
    "    )\n",
    "]\n",
    "\n",
    "plot_layout = go.Layout(\n",
    "        width=700,\n",
    "        height=300\n",
    "    )\n",
    "fig = go.Figure(data=plot_data, layout=plot_layout)\n",
    "pyoff.iplot(fig)"
   ]
  },
  {
   "cell_type": "code",
   "execution_count": null,
   "metadata": {
    "ExecuteTime": {
     "end_time": "2021-01-10T14:43:41.809055Z",
     "start_time": "2021-01-10T14:42:38.876Z"
    },
    "run_control": {
     "marked": false
    }
   },
   "outputs": [],
   "source": [
    "df_datatran"
   ]
  },
  {
   "cell_type": "code",
   "execution_count": null,
   "metadata": {
    "run_control": {
     "marked": false
    }
   },
   "outputs": [],
   "source": []
  }
 ],
 "metadata": {
  "kernelspec": {
   "display_name": "Python 3",
   "language": "python",
   "name": "python3"
  },
  "language_info": {
   "codemirror_mode": {
    "name": "ipython",
    "version": 3
   },
   "file_extension": ".py",
   "mimetype": "text/x-python",
   "name": "python",
   "nbconvert_exporter": "python",
   "pygments_lexer": "ipython3",
   "version": "3.7.9"
  },
  "toc": {
   "nav_menu": {},
   "number_sections": true,
   "sideBar": true,
   "skip_h1_title": false,
   "title_cell": "Table of Contents",
   "title_sidebar": "Contents",
   "toc_cell": false,
   "toc_position": {},
   "toc_section_display": true,
   "toc_window_display": false
  }
 },
 "nbformat": 4,
 "nbformat_minor": 4
}
