{
 "cells": [
  {
   "cell_type": "markdown",
   "metadata": {},
   "source": [
    "# Initial Configs\n"
   ]
  },
  {
   "cell_type": "code",
   "execution_count": null,
   "metadata": {
    "ExecuteTime": {
     "end_time": "2021-04-25T19:21:44.475305Z",
     "start_time": "2021-04-25T19:21:43.798113Z"
    },
    "run_control": {
     "marked": false
    }
   },
   "outputs": [],
   "source": [
    "%reload_ext autoreload\n",
    "%autoreload 2\n",
    "%matplotlib inline"
   ]
  },
  {
   "cell_type": "markdown",
   "metadata": {},
   "source": [
    "# Imports"
   ]
  },
  {
   "cell_type": "code",
   "execution_count": null,
   "metadata": {
    "ExecuteTime": {
     "end_time": "2021-04-25T19:21:45.157477Z",
     "start_time": "2021-04-25T19:21:44.488268Z"
    },
    "run_control": {
     "marked": false
    },
    "scrolled": true
   },
   "outputs": [],
   "source": [
    "import pandas as pd\n",
    "import numpy as np\n",
    "\n",
    "import re\n",
    "import matplotlib.pyplot as plt\n",
    "\n",
    "import chart_studio.plotly as py\n",
    "import plotly.offline as pyoff\n",
    "import plotly.graph_objs as go\n",
    "import plotly.express as px\n",
    "import sys\n",
    "from IPython.core.display import display, HTML\n",
    "sys.path.append('..')\n",
    "pyoff.init_notebook_mode()\n",
    "\n",
    "from os import listdir\n",
    "from os.path import isfile, join\n",
    "\n",
    "from tqdm import tqdm_notebook as tqdm\n",
    "\n",
    "from bokeh.resources import INLINE\n",
    "import bokeh.io\n",
    "from bokeh import *\n",
    "\n",
    "# In-House library\n",
    "from src.data import make_dataset as md\n",
    "from src.features import build_features as bf\n",
    "from src.features import setup as st\n",
    "\n",
    "import warnings\n",
    "warnings.filterwarnings('ignore')\n",
    "\n",
    "%load_ext autoreload\n",
    "%autoreload 2"
   ]
  },
  {
   "cell_type": "markdown",
   "metadata": {},
   "source": [
    "# Package configs"
   ]
  },
  {
   "cell_type": "code",
   "execution_count": null,
   "metadata": {
    "ExecuteTime": {
     "end_time": "2021-04-25T19:21:46.116911Z",
     "start_time": "2021-04-25T19:21:45.418778Z"
    },
    "run_control": {
     "marked": false
    }
   },
   "outputs": [],
   "source": [
    "pd.set_option('display.max_columns', None)\n",
    "display(HTML(\"<style>.container { width:100% !important; }</style>\"))\n",
    "# pd.set_option('plotting.backend', 'pandas_bokeh')\n",
    "bokeh.io.output_notebook(INLINE)"
   ]
  },
  {
   "cell_type": "markdown",
   "metadata": {},
   "source": [
    "# Functions"
   ]
  },
  {
   "cell_type": "code",
   "execution_count": null,
   "metadata": {
    "ExecuteTime": {
     "end_time": "2021-04-25T19:21:46.949687Z",
     "start_time": "2021-04-25T19:21:46.313386Z"
    },
    "run_control": {
     "marked": false
    }
   },
   "outputs": [],
   "source": [
    "# Print rapido para dimensão do Dataframe\n",
    "def SZ(df):\n",
    "    print(f\"\"\"\n",
    "--- Dimensão ---\n",
    "Linhas:  {df.shape[0]}\n",
    "Colunas: {df.shape[1]}\"\"\")"
   ]
  },
  {
   "cell_type": "code",
   "execution_count": null,
   "metadata": {
    "ExecuteTime": {
     "end_time": "2021-04-25T19:21:47.606929Z",
     "start_time": "2021-04-25T19:21:46.965642Z"
    },
    "run_control": {
     "marked": false
    }
   },
   "outputs": [],
   "source": [
    "# Print rapido para dTypes do Dataframe\n",
    "def DT(df):\n",
    "    print(f\"\"\"\n",
    "--- DataTypes ---\n",
    "{df.dtypes}\n",
    "    \"\"\")"
   ]
  },
  {
   "cell_type": "markdown",
   "metadata": {},
   "source": [
    "# Make Dataset"
   ]
  },
  {
   "cell_type": "code",
   "execution_count": null,
   "metadata": {
    "ExecuteTime": {
     "end_time": "2021-04-25T19:22:12.834485Z",
     "start_time": "2021-04-25T19:21:47.615903Z"
    },
    "run_control": {
     "marked": false
    }
   },
   "outputs": [],
   "source": [
    "# Calling MakeDataset class and parsing parameters\n",
    "dataset = md.MakeDataset(train_date_range=('2017-01-01','2019-12-31')\n",
    "                        ,test_date_range=('2020-01-01','2020-12-31')\n",
    "                        ,verbose=True)\n",
    "\n",
    "# Running the make method to download and preprocess all datasets\n",
    "dataset.make()"
   ]
  },
  {
   "cell_type": "code",
   "execution_count": null,
   "metadata": {
    "ExecuteTime": {
     "end_time": "2021-04-25T19:23:16.662086Z",
     "start_time": "2021-04-25T19:22:12.843625Z"
    },
    "code_folding": [],
    "run_control": {
     "marked": false
    }
   },
   "outputs": [],
   "source": [
    "%%time\n",
    "# Calling BuildFeatures class and parsing parameters\n",
    "builder = bf.BuildFeatures(dataset=dataset, \n",
    "                           train_date_range=('2017-01-01','2019-12-31'), \n",
    "                           test_date_range=('2020-01-01','2020-12-31'),\n",
    "                           verbose=True)\n",
    "\n",
    "# Running the build_features method to prepare all features\n",
    "builder.build_features()"
   ]
  },
  {
   "cell_type": "code",
   "execution_count": null,
   "metadata": {
    "ExecuteTime": {
     "end_time": "2021-04-25T19:23:18.575930Z",
     "start_time": "2021-04-25T19:23:17.813970Z"
    },
    "run_control": {
     "marked": false
    }
   },
   "outputs": [],
   "source": [
    "setup = st.PrepareDataset(dataset=builder.dataset,\n",
    "                          test_date_range=('2020-01-01','2020-12-31'))"
   ]
  },
  {
   "cell_type": "code",
   "execution_count": null,
   "metadata": {
    "ExecuteTime": {
     "end_time": "2021-04-25T19:23:24.643668Z",
     "start_time": "2021-04-25T19:23:19.418158Z"
    },
    "code_folding": [],
    "run_control": {
     "marked": false
    },
    "scrolled": true
   },
   "outputs": [],
   "source": [
    "%%time\n",
    "cols_dummie = ['dia_semana', \n",
    "               'uf', \n",
    "               'fase_dia', \n",
    "               'sentido_via',\n",
    "               'condicao_metereologica', \n",
    "               'tipo_pista', \n",
    "               'tracado_via', \n",
    "               'uso_solo',\n",
    "]\n",
    "\n",
    "categorical_features = ['dia_semana', \n",
    "                        'uf', \n",
    "                        'fase_dia', \n",
    "                        'sentido_via',\n",
    "                        'condicao_metereologica', \n",
    "                        'tipo_pista', \n",
    "                        'tracado_via', \n",
    "                        'uso_solo',\n",
    "                        'em_janela_feriado'\n",
    "]\n",
    "\n",
    "numerical_features = ['pessoas', \n",
    "                      'risco', \n",
    "                      'risco_morte', \n",
    "#                       'coordenada_x', \n",
    "#                       'coordenada_y', \n",
    "#                       'coordenada_z'\n",
    "]\n",
    "\n",
    "setup.setup(target_variable='Target',\n",
    "            categorical_features=categorical_features,\n",
    "            numerical_features=numerical_features,\n",
    "            indices=['id'],\n",
    "            remove_outliers=True,\n",
    "            remove_outliers_method='pca',\n",
    "            normalize=True,\n",
    "            normalize_method='zscore',\n",
    "            fix_imbalance=False,\n",
    "            fix_imbalance_method='SMOTENC',\n",
    "            dummies=cols_dummie,\n",
    "            )"
   ]
  },
  {
   "cell_type": "markdown",
   "metadata": {},
   "source": [
    "# Export data"
   ]
  },
  {
   "cell_type": "code",
   "execution_count": null,
   "metadata": {
    "ExecuteTime": {
     "end_time": "2021-04-25T19:23:25.259711Z",
     "start_time": "2021-04-25T19:23:24.651648Z"
    },
    "run_control": {
     "marked": false
    }
   },
   "outputs": [],
   "source": [
    "SZ(setup.dataset_train)"
   ]
  },
  {
   "cell_type": "code",
   "execution_count": null,
   "metadata": {
    "ExecuteTime": {
     "end_time": "2021-04-25T19:23:25.859832Z",
     "start_time": "2021-04-25T19:23:25.266693Z"
    },
    "run_control": {
     "marked": false
    }
   },
   "outputs": [],
   "source": [
    "SZ(setup.dataset_validation)"
   ]
  },
  {
   "cell_type": "code",
   "execution_count": null,
   "metadata": {
    "ExecuteTime": {
     "end_time": "2021-04-25T19:23:26.460483Z",
     "start_time": "2021-04-25T19:23:25.864822Z"
    },
    "run_control": {
     "marked": false
    }
   },
   "outputs": [],
   "source": [
    "SZ(setup.dataset_test)"
   ]
  },
  {
   "cell_type": "code",
   "execution_count": null,
   "metadata": {
    "ExecuteTime": {
     "end_time": "2021-04-25T19:34:42.347057Z",
     "start_time": "2021-04-25T19:34:41.764626Z"
    },
    "run_control": {
     "marked": false
    }
   },
   "outputs": [],
   "source": [
    "# Get last saved version\n",
    "dataset_versions_path = '../data/processed'\n",
    "dataset_versions_list = [f for f in listdir(dataset_versions_path) if isfile(join(dataset_versions_path, f))]\n",
    "\n",
    "last_train_dataset = None\n",
    "last_version = 0\n",
    "for file_name in dataset_versions_list:\n",
    "    if 'dataset_' in file_name:\n",
    "        last_train_dataset = file_name\n",
    "\n",
    "if last_train_dataset:\n",
    "    last_version = [int(s) for s in re.findall(r'\\d+',last_train_dataset)][0]\n",
    "\n",
    "print(f'New version will be saved as: v{last_version + 1}')"
   ]
  },
  {
   "cell_type": "code",
   "execution_count": null,
   "metadata": {
    "ExecuteTime": {
     "end_time": "2021-04-25T19:23:55.591413Z",
     "start_time": "2021-04-25T19:23:54.510784Z"
    },
    "run_control": {
     "marked": false
    }
   },
   "outputs": [],
   "source": [
    "setup.dataset_train.to_parquet(f'../data/processed/dataset_train_v{last_version + 1}.parquet', index=False)\n",
    "setup.dataset_validation.to_parquet(f'../data/processed/dataset_validation_v{last_version + 1}.parquet', index=False)\n",
    "setup.dataset_test.to_parquet(f'../data/processed/dataset_test_v{last_version + 1}.parquet', index=False)"
   ]
  }
 ],
 "metadata": {
  "kernelspec": {
   "display_name": "Python 3",
   "language": "python",
   "name": "python3"
  },
  "language_info": {
   "codemirror_mode": {
    "name": "ipython",
    "version": 3
   },
   "file_extension": ".py",
   "mimetype": "text/x-python",
   "name": "python",
   "nbconvert_exporter": "python",
   "pygments_lexer": "ipython3",
   "version": "3.7.9"
  },
  "toc": {
   "nav_menu": {},
   "number_sections": true,
   "sideBar": true,
   "skip_h1_title": false,
   "title_cell": "Table of Contents",
   "title_sidebar": "Contents",
   "toc_cell": false,
   "toc_position": {},
   "toc_section_display": true,
   "toc_window_display": false
  }
 },
 "nbformat": 4,
 "nbformat_minor": 4
}
