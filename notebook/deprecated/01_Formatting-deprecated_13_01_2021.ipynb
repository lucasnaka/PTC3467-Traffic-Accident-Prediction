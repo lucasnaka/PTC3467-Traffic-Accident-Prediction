{
 "cells": [
  {
   "cell_type": "markdown",
   "metadata": {},
   "source": [
    "# Initial Configs\n"
   ]
  },
  {
   "cell_type": "code",
   "execution_count": null,
   "metadata": {
    "ExecuteTime": {
     "end_time": "2021-03-13T14:24:18.530897Z",
     "start_time": "2021-03-13T14:24:18.210534Z"
    },
    "run_control": {
     "marked": true
    }
   },
   "outputs": [],
   "source": [
    "%reload_ext autoreload\n",
    "%autoreload 2\n",
    "%matplotlib inline"
   ]
  },
  {
   "cell_type": "markdown",
   "metadata": {},
   "source": [
    "# Imports"
   ]
  },
  {
   "cell_type": "code",
   "execution_count": null,
   "metadata": {
    "ExecuteTime": {
     "end_time": "2021-03-13T14:24:18.898693Z",
     "start_time": "2021-03-13T14:24:18.545638Z"
    },
    "run_control": {
     "marked": true
    },
    "scrolled": true
   },
   "outputs": [],
   "source": [
    "import pandas as pd\n",
    "import numpy as np\n",
    "\n",
    "import matplotlib.pyplot as plt\n",
    "\n",
    "#import plotly for visualization\n",
    "import chart_studio.plotly as py\n",
    "import plotly.offline as pyoff\n",
    "import plotly.graph_objs as go\n",
    "import plotly.express as px\n",
    "import sys\n",
    "from IPython.core.display import display, HTML\n",
    "sys.path.append('..')\n",
    "pyoff.init_notebook_mode()\n",
    "\n",
    "import matplotlib.cm as cm\n",
    "from sklearn.metrics import silhouette_score, silhouette_samples\n",
    "\n",
    "from tqdm import tqdm_notebook as tqdm\n",
    "\n",
    "from bokeh.resources import INLINE\n",
    "import bokeh.io\n",
    "from bokeh import *\n",
    "\n",
    "from src.utils.preprocessing import *\n",
    "\n",
    "%load_ext autoreload\n",
    "%autoreload 2"
   ]
  },
  {
   "cell_type": "markdown",
   "metadata": {},
   "source": [
    "# Package configs"
   ]
  },
  {
   "cell_type": "code",
   "execution_count": null,
   "metadata": {
    "ExecuteTime": {
     "end_time": "2021-03-13T14:24:19.613782Z",
     "start_time": "2021-03-13T14:24:19.187951Z"
    },
    "run_control": {
     "marked": true
    }
   },
   "outputs": [],
   "source": [
    "pd.set_option('display.max_columns', None)\n",
    "display(HTML(\"<style>.container { width:100% !important; }</style>\"))\n",
    "pd.set_option('plotting.backend', 'pandas_bokeh')\n",
    "bokeh.io.output_notebook(INLINE)"
   ]
  },
  {
   "cell_type": "markdown",
   "metadata": {},
   "source": [
    "# Functions"
   ]
  },
  {
   "cell_type": "code",
   "execution_count": null,
   "metadata": {
    "ExecuteTime": {
     "end_time": "2021-03-13T14:24:20.116440Z",
     "start_time": "2021-03-13T14:24:19.802309Z"
    },
    "run_control": {
     "marked": true
    }
   },
   "outputs": [],
   "source": [
    "# Print rapido para dimensão do Dataframe\n",
    "def SZ(df):\n",
    "    print(f\"\"\"\n",
    "--- Dimensão ---\n",
    "Linhas:  {df.shape[0]}\n",
    "Colunas: {df.shape[1]}\"\"\")"
   ]
  },
  {
   "cell_type": "code",
   "execution_count": null,
   "metadata": {
    "ExecuteTime": {
     "end_time": "2021-03-13T14:24:20.473485Z",
     "start_time": "2021-03-13T14:24:20.124418Z"
    },
    "run_control": {
     "marked": true
    }
   },
   "outputs": [],
   "source": [
    "# Print rapido para dTypes do Dataframe\n",
    "def DT(df):\n",
    "    print(f\"\"\"\n",
    "--- DataTypes ---\n",
    "{df.dtypes}\n",
    "    \"\"\")"
   ]
  },
  {
   "cell_type": "markdown",
   "metadata": {},
   "source": [
    "# Reading Files"
   ]
  },
  {
   "cell_type": "code",
   "execution_count": null,
   "metadata": {
    "ExecuteTime": {
     "end_time": "2021-03-13T14:24:26.112642Z",
     "start_time": "2021-03-13T14:24:20.482495Z"
    },
    "run_control": {
     "marked": true
    }
   },
   "outputs": [],
   "source": [
    "years = range(2016,2021)\n",
    "\n",
    "df_datatran = pd.read_csv(f\"../data/processed/df_datatran_2009_2020.csv\", delimiter=\",\", encoding='iso-8859-1')\n",
    "\n",
    "SZ(df_datatran)\n",
    "DT(df_datatran)"
   ]
  },
  {
   "cell_type": "code",
   "execution_count": null,
   "metadata": {
    "ExecuteTime": {
     "end_time": "2021-03-10T01:26:24.349737Z",
     "start_time": "2021-03-10T01:26:24.229046Z"
    },
    "run_control": {
     "marked": false
    }
   },
   "outputs": [],
   "source": [
    "# df_pib = pd.read_excel('../data/raw/PIB dos Municípios - base de dados 2010-2017.xls')"
   ]
  },
  {
   "cell_type": "code",
   "execution_count": null,
   "metadata": {
    "ExecuteTime": {
     "end_time": "2021-03-10T01:26:24.466421Z",
     "start_time": "2021-03-10T01:26:24.351719Z"
    },
    "run_control": {
     "marked": false
    }
   },
   "outputs": [],
   "source": [
    "# df_populacao = pd.read_csv('../data/raw/populacao_por_municipio.csv')"
   ]
  },
  {
   "cell_type": "code",
   "execution_count": null,
   "metadata": {
    "ExecuteTime": {
     "end_time": "2021-03-10T01:26:24.582110Z",
     "start_time": "2021-03-10T01:26:24.468411Z"
    },
    "run_control": {
     "marked": false
    }
   },
   "outputs": [],
   "source": [
    "# df_depara_municipio = pd.read_excel('../data/raw/RELATORIO_DTB_BRASIL_MUNICIPIO.xls')"
   ]
  },
  {
   "cell_type": "markdown",
   "metadata": {},
   "source": [
    "# Data Processing"
   ]
  },
  {
   "cell_type": "markdown",
   "metadata": {
    "ExecuteTime": {
     "end_time": "2020-11-24T16:17:04.598463Z",
     "start_time": "2020-11-24T16:17:04.462219Z"
    }
   },
   "source": [
    "## PIB Dataset - DEPRECATED"
   ]
  },
  {
   "cell_type": "code",
   "execution_count": null,
   "metadata": {
    "ExecuteTime": {
     "end_time": "2021-03-10T01:26:24.696797Z",
     "start_time": "2021-03-10T01:26:24.583100Z"
    },
    "run_control": {
     "marked": false
    }
   },
   "outputs": [],
   "source": [
    "# df_pib = df_pib[['Ano', 'Código do Município', 'Nome do Município', 'Código da Unidade da Federação', 'Sigla da Unidade da Federação', 'Nome da Unidade da Federação', 'Produto Interno Bruto, \\na preços correntes\\n(R$ 1.000)', 'Produto Interno Bruto per capita, \\na preços correntes\\n(R$ 1,00)']]\n",
    "# \n",
    "# df_pib.columns = ['ano', 'id_municipio', 'municipio', 'id_uf', 'uf', 'nome_uf', 'pib', 'pib_per_capita']"
   ]
  },
  {
   "cell_type": "code",
   "execution_count": null,
   "metadata": {
    "ExecuteTime": {
     "end_time": "2021-03-10T01:26:24.811489Z",
     "start_time": "2021-03-10T01:26:24.697793Z"
    },
    "run_control": {
     "marked": false
    }
   },
   "outputs": [],
   "source": [
    "# df_pib = df_pib[df_pib['ano'] == 2017]"
   ]
  },
  {
   "cell_type": "code",
   "execution_count": null,
   "metadata": {
    "ExecuteTime": {
     "end_time": "2021-03-10T01:26:24.927181Z",
     "start_time": "2021-03-10T01:26:24.813497Z"
    },
    "run_control": {
     "marked": false
    }
   },
   "outputs": [],
   "source": [
    "# df_pib[['municipio', 'nome_uf']] = df_pib[['municipio', 'nome_uf']].apply(\n",
    "#     lambda x: x.str.normalize('NFKD').str.encode('ascii', errors='ignore').str.\n",
    "#     decode('utf-8').str.replace('[^\\w\\s]', '').str.lower().str.strip())"
   ]
  },
  {
   "cell_type": "markdown",
   "metadata": {},
   "source": [
    "Criando depara's"
   ]
  },
  {
   "cell_type": "code",
   "execution_count": null,
   "metadata": {
    "ExecuteTime": {
     "end_time": "2021-03-10T01:26:25.046815Z",
     "start_time": "2021-03-10T01:26:24.929085Z"
    },
    "run_control": {
     "marked": false
    }
   },
   "outputs": [],
   "source": [
    "# df_depara_uf = df_pib[['id_uf', 'uf', 'nome_uf']].drop_duplicates()"
   ]
  },
  {
   "cell_type": "code",
   "execution_count": null,
   "metadata": {
    "ExecuteTime": {
     "end_time": "2021-03-10T01:26:25.166451Z",
     "start_time": "2021-03-10T01:26:25.048764Z"
    },
    "run_control": {
     "marked": false
    }
   },
   "outputs": [],
   "source": [
    "# df_depara_municipio = df_pib[['id_municipio', 'municipio']].drop_duplicates()"
   ]
  },
  {
   "cell_type": "code",
   "execution_count": null,
   "metadata": {
    "ExecuteTime": {
     "end_time": "2021-03-10T01:26:25.300098Z",
     "start_time": "2021-03-10T01:26:25.167447Z"
    },
    "run_control": {
     "marked": false
    }
   },
   "outputs": [],
   "source": [
    "# df_depara_uf_municipio = df_pib[['id_municipio', 'municipio', 'id_uf', 'uf', 'nome_uf']].drop_duplicates()"
   ]
  },
  {
   "cell_type": "markdown",
   "metadata": {},
   "source": [
    "População Dataset"
   ]
  },
  {
   "cell_type": "code",
   "execution_count": null,
   "metadata": {
    "ExecuteTime": {
     "end_time": "2021-03-10T01:26:25.424759Z",
     "start_time": "2021-03-10T01:26:25.301090Z"
    },
    "run_control": {
     "marked": false
    }
   },
   "outputs": [],
   "source": [
    "# df_populacao = df_populacao.merge(df_depara_municipio, how='left', on='id_municipio')"
   ]
  },
  {
   "cell_type": "markdown",
   "metadata": {},
   "source": [
    "## Datatran Dataset"
   ]
  },
  {
   "cell_type": "code",
   "execution_count": null,
   "metadata": {
    "ExecuteTime": {
     "end_time": "2021-03-13T14:25:47.335665Z",
     "start_time": "2021-03-13T14:24:26.143562Z"
    },
    "run_control": {
     "marked": true
    }
   },
   "outputs": [],
   "source": [
    "df_datatran = make_dataset(df_datatran, years)"
   ]
  },
  {
   "cell_type": "code",
   "execution_count": null,
   "metadata": {
    "ExecuteTime": {
     "end_time": "2021-03-06T19:10:25.006427Z",
     "start_time": "2021-03-06T19:10:24.855829Z"
    },
    "code_folding": [
     0
    ],
    "run_control": {
     "marked": false
    }
   },
   "outputs": [],
   "source": [
    "# plot_data = [\n",
    "#     go.Histogram(\n",
    "#         x=df_datatran['risco']\n",
    "#     )\n",
    "# ]\n",
    "\n",
    "# plot_layout = go.Layout(\n",
    "#         title='Distribuição do risco'\n",
    "#     )\n",
    "# fig = go.Figure(data=plot_data, layout=plot_layout)\n",
    "# pyoff.iplot(fig)"
   ]
  },
  {
   "cell_type": "code",
   "execution_count": null,
   "metadata": {
    "ExecuteTime": {
     "end_time": "2021-03-06T19:10:25.161051Z",
     "start_time": "2021-03-06T19:10:25.008423Z"
    },
    "code_folding": [
     0
    ],
    "run_control": {
     "marked": false
    }
   },
   "outputs": [],
   "source": [
    "# plot_data = [\n",
    "#     go.Histogram(\n",
    "#         x=np.log(df_datatran['risco'])\n",
    "#     )\n",
    "# ]\n",
    "# \n",
    "# plot_layout = go.Layout(\n",
    "#         title='Distribuição do risco'\n",
    "#     )\n",
    "# fig = go.Figure(data=plot_data, layout=plot_layout)\n",
    "# pyoff.iplot(fig)"
   ]
  },
  {
   "cell_type": "code",
   "execution_count": null,
   "metadata": {
    "ExecuteTime": {
     "end_time": "2021-03-06T19:10:25.320587Z",
     "start_time": "2021-03-06T19:10:25.163008Z"
    },
    "code_folding": [
     0
    ],
    "run_control": {
     "marked": false
    }
   },
   "outputs": [],
   "source": [
    "# df_datatran['risco'] = df_datatran.groupby(['br', 'km'])['valor_1'].cumsum()\n",
    "# df_acidentes_ate_data = df_datatran.groupby(['data_inversa', 'valor_1'])['valor_1'].sum()\n",
    "# df_acidentes_ate_data = df_acidentes_ate_data.groupby(['valor_1']).cumsum().reset_index(name='qtd_acidentes_ate_data')\n",
    "# df_datatran = df_datatran.merge(df_acidentes_ate_data[['data_inversa', 'qtd_acidentes_ate_data']], how='left', on='data_inversa')"
   ]
  },
  {
   "cell_type": "markdown",
   "metadata": {},
   "source": [
    "Agrupar causas de acidentes para diminuir a cardinalidade do problema"
   ]
  },
  {
   "cell_type": "code",
   "execution_count": null,
   "metadata": {
    "ExecuteTime": {
     "end_time": "2021-03-06T19:10:26.734723Z",
     "start_time": "2021-03-06T19:10:26.581603Z"
    },
    "code_folding": [
     0
    ],
    "run_control": {
     "marked": false
    }
   },
   "outputs": [],
   "source": [
    "# dict_causa_acidente = {\n",
    "#     'falta de atencao':'falta de atencao', \n",
    "#     'falta de atencao a conducao':'falta de atencao',\n",
    "#     'dormindo':'dormindo', \n",
    "#     'condutor dormindo':'dormindo',\n",
    "#     'deficiencia ou nao acionamento do sistema de iluminacaosinalizacao do veiculo': 'defeito mecanico', \n",
    "#     'defeito mecanico em veiculo':'defeito mecanico', \n",
    "#     'avarias eou desgaste excessivo no pneu':'defeito mecanico', \n",
    "#     'defeito mecanico no veiculo':'defeito mecanico',\n",
    "#     'ingestao de alcool':'ingestao de substancias psicoativas', \n",
    "#     'ingestao de substancias psicoativas':'ingestao de substancias psicoativas',\n",
    "#     'restricao de visibilidade':'restricao de visibilidade', \n",
    "#     'sinalizacao da via insuficiente ou inadequada':'restricao de visibilidade',\n",
    "#     'outras':'outras', \n",
    "#     'animais na pista':'animais na pista', \n",
    "#     'desobediencia a sinalizacao':'desobediencia a sinalizacao', \n",
    "#     'velocidade incompativel':'velocidade incompativel', \n",
    "#     'ultrapassagem indevida':'ultrapassagem indevida', \n",
    "#     'nao guardar distancia de seguranca':'nao guardar distancia de seguranca', \n",
    "#     'defeito na via':'defeito na via', \n",
    "#     'fenomenos da natureza':'fenomenos da natureza', \n",
    "#     'desobediencia as normas de transito pelo condutor':'desobediencia as normas de transito pelo condutor', \n",
    "#     'pista escorregadia':'pista escorregadia', \n",
    "#     'mal subito':'mal subito', \n",
    "#     'carga excessiva eou mal acondicionada':'carga excessiva eou mal acondicionada', \n",
    "#     'objeto estatico sobre o leito carrocavel':'objeto estatico sobre o leito carrocavel', \n",
    "#     'agressao externa':'agressao externa', \n",
    "#     'falta de atencao do pedestre':'falta de atencao do pedestre', \n",
    "#     'desobediencia as normas de transito pelo pedestre':'desobediencia as normas de transito pelo pedestre', \n",
    "#     'ingestao de alcool eou substancias psicoativas pelo pedestre':'ingestao de alcool eou substancias psicoativas pelo pedestre'\n",
    "# }"
   ]
  },
  {
   "cell_type": "code",
   "execution_count": null,
   "metadata": {
    "ExecuteTime": {
     "end_time": "2021-03-06T19:10:26.898285Z",
     "start_time": "2021-03-06T19:10:26.737715Z"
    },
    "run_control": {
     "marked": false
    }
   },
   "outputs": [],
   "source": [
    "# df_datatran['causa_acidente'] = df_datatran.apply(lambda x: dict_causa_acidente[x['causa_acidente']], axis=1)"
   ]
  },
  {
   "cell_type": "markdown",
   "metadata": {},
   "source": [
    "Agrupar tipo de acidentes para diminuir a cardinalidade do problema"
   ]
  },
  {
   "cell_type": "code",
   "execution_count": null,
   "metadata": {
    "ExecuteTime": {
     "end_time": "2021-03-06T19:10:27.078802Z",
     "start_time": "2021-03-06T19:10:26.900281Z"
    },
    "code_folding": [
     0
    ],
    "run_control": {
     "marked": false
    }
   },
   "outputs": [],
   "source": [
    "# dict_tipo_acidente = {\n",
    "#     'colisao traseira': 'colisao',\n",
    "#     'saida de pista': 'capotamento',\n",
    "#     'colisao com objeto fixo': 'colisao',\n",
    "#     'colisao transversal': 'colisao',\n",
    "#     'tombamento': 'capotamento',\n",
    "#     'queda de motocicleta  bicicleta  veiculo': 'capotamento',\n",
    "#     'atropelamento de animal': 'atropelamento', \n",
    "#     'capotamento': 'capotamento',\n",
    "#     'colisao lateral': 'colisao',\n",
    "#     'colisao frontal': 'colisao',\n",
    "#     'atropelamento de pessoa': 'atropelamento',\n",
    "#     'colisao com objeto movel': 'colisao',\n",
    "#     'danos eventuais': 'outras',\n",
    "#     'incendio': 'outras',\n",
    "#     'colisao com bicicleta': 'colisao',\n",
    "#     'derramamento de carga': 'outras',\n",
    "#     'queda de ocupante de veiculo': 'atropelamento',\n",
    "#     'colisao com objeto estatico': 'colisao',\n",
    "#     'saida de leito carrocavel': 'outras',\n",
    "#     'atropelamento de pedestre': 'atropelamento',\n",
    "#     'colisao com objeto em movimento': 'colisao',\n",
    "#     'engavetamento': 'colisao'\n",
    "# }"
   ]
  },
  {
   "cell_type": "code",
   "execution_count": null,
   "metadata": {
    "ExecuteTime": {
     "end_time": "2021-03-06T19:10:27.259320Z",
     "start_time": "2021-03-06T19:10:27.080797Z"
    },
    "run_control": {
     "marked": false
    },
    "scrolled": true
   },
   "outputs": [],
   "source": [
    "# df_datatran['tipo_acidente'] = df_datatran.apply(lambda x: dict_tipo_acidente[x['tipo_acidente']], axis=1)"
   ]
  },
  {
   "cell_type": "markdown",
   "metadata": {},
   "source": [
    "Feriados"
   ]
  },
  {
   "cell_type": "code",
   "execution_count": null,
   "metadata": {
    "ExecuteTime": {
     "end_time": "2021-03-06T13:47:17.457091Z",
     "start_time": "2021-03-06T13:47:17.313476Z"
    },
    "code_folding": [
     0
    ],
    "run_control": {
     "marked": false
    }
   },
   "outputs": [],
   "source": [
    "# df_datatran['dia'] = df_datatran['data_inversa'].dt.day\n",
    "# df_datatran['mes'] = df_datatran['data_inversa'].dt.month\n",
    "# df_datatran['ano'] = df_datatran['data_inversa'].dt.year\n",
    "# df_datatran['diadoano'] = df_datatran['data_inversa'].dt.dayofyear"
   ]
  },
  {
   "cell_type": "code",
   "execution_count": null,
   "metadata": {
    "ExecuteTime": {
     "end_time": "2021-03-06T13:47:17.608686Z",
     "start_time": "2021-03-06T13:47:17.458089Z"
    },
    "code_folding": [
     0
    ],
    "run_control": {
     "marked": false
    },
    "scrolled": true
   },
   "outputs": [],
   "source": [
    "# plot_data = [\n",
    "#     go.Histogram(\n",
    "#         x=df_datatran['diff_ac_feriado_dias']\n",
    "#     )\n",
    "# ]\n",
    "# \n",
    "# plot_layout = go.Layout(\n",
    "#         title='Número acidentes por janela feriado'\n",
    "#     )\n",
    "# fig = go.Figure(data=plot_data, layout=plot_layout)\n",
    "# pyoff.iplot(fig)"
   ]
  },
  {
   "cell_type": "code",
   "execution_count": null,
   "metadata": {
    "ExecuteTime": {
     "end_time": "2021-03-06T13:47:17.756291Z",
     "start_time": "2021-03-06T13:47:17.610682Z"
    },
    "code_folding": [
     0
    ],
    "run_control": {
     "marked": false
    },
    "scrolled": true
   },
   "outputs": [],
   "source": [
    "# plot_data = [\n",
    "#     go.Histogram(\n",
    "#         x=df_datatran['holiday_nome']\n",
    "#     )\n",
    "# ]\n",
    "# \n",
    "# plot_layout = go.Layout(\n",
    "#         title='Número acidentes por feriado'\n",
    "#     )\n",
    "# fig = go.Figure(data=plot_data, layout=plot_layout)\n",
    "# pyoff.iplot(fig)"
   ]
  },
  {
   "cell_type": "markdown",
   "metadata": {},
   "source": [
    "# Clustering"
   ]
  },
  {
   "cell_type": "markdown",
   "metadata": {},
   "source": [
    "## K-Means"
   ]
  },
  {
   "cell_type": "code",
   "execution_count": null,
   "metadata": {
    "ExecuteTime": {
     "end_time": "2021-03-06T13:47:18.205092Z",
     "start_time": "2021-03-06T13:47:18.053497Z"
    },
    "run_control": {
     "marked": false
    }
   },
   "outputs": [],
   "source": [
    "# from sklearn.preprocessing import LabelEncoder\n",
    "# \n",
    "# lb_make = LabelEncoder()\n",
    "# tx_data[\"SEGMENTO_AZURE_CODE\"] = lb_make.fit_transform(tx_data[\"SEGMENTO_AZURE\"])"
   ]
  },
  {
   "cell_type": "code",
   "execution_count": null,
   "metadata": {
    "ExecuteTime": {
     "end_time": "2021-03-11T01:39:52.113622Z",
     "start_time": "2021-03-11T01:39:51.491104Z"
    }
   },
   "outputs": [],
   "source": [
    "df_datatran = df_datatran.loc[df_datatran['data_inversa'] < '2020-01-01', :]"
   ]
  },
  {
   "cell_type": "code",
   "execution_count": null,
   "metadata": {
    "ExecuteTime": {
     "end_time": "2021-03-11T01:41:00.486188Z",
     "start_time": "2021-03-11T01:41:00.064724Z"
    }
   },
   "outputs": [],
   "source": [
    "def nb_cluster_silhouette_method(n_clusters):\n",
    "    # Create a subplot with 1 row and 2 columns\n",
    "    fig, (ax1, ax2) = plt.subplots(1, 2)\n",
    "    fig.set_size_inches(18, 7)\n",
    "\n",
    "    # The 1st subplot is the silhouette plot\n",
    "    ax1.set_xlim([-1, 1])\n",
    "    # The (n_clusters+1)*10 is for inserting blank space between silhouette plots of individual clusters, to demarcate them clearly.\n",
    "    ax1.set_ylim([0, df_kmeans.shape[0] + (n_clusters + 1) * 10])\n",
    "\n",
    "    # Initialize the clusterer with n_clusters value and a random generator seed of 42 for reproducibility.\n",
    "    clusterer = KMeans(n_clusters=n_clusters, random_state=42)\n",
    "    cluster_labels = clusterer.fit_predict(df_kmeans)\n",
    "\n",
    "    # The silhouette_score gives the average value for all the samples.\n",
    "    # This gives a perspective into the density and separation of the formed clusters\n",
    "    silhouette_avg = silhouette_score(df_kmeans, cluster_labels)\n",
    "    print(\"For n_clusters =\", n_clusters,\n",
    "          \"The average silhouette_score is :\", silhouette_avg)\n",
    "\n",
    "    # Compute the silhouette scores for each sample\n",
    "    sample_silhouette_values = silhouette_samples(df_kmeans, cluster_labels)\n",
    "\n",
    "    y_lower = 10\n",
    "    for i in range(n_clusters):\n",
    "        # Aggregate the silhouette scores for samples belonging to cluster i, and sort them\n",
    "        ith_cluster_silhouette_values = sample_silhouette_values[cluster_labels == i]\n",
    "\n",
    "        ith_cluster_silhouette_values.sort()\n",
    "\n",
    "        size_cluster_i = ith_cluster_silhouette_values.shape[0]\n",
    "        y_upper = y_lower + size_cluster_i\n",
    "\n",
    "        color = cm.nipy_spectral(float(i) / n_clusters)\n",
    "        ax1.fill_betweenx(np.arange(y_lower, y_upper),\n",
    "                          0, ith_cluster_silhouette_values,\n",
    "                          facecolor=color, edgecolor=color, alpha=0.7)\n",
    "\n",
    "        # Label the silhouette plots with their cluster numbers at the middle\n",
    "        ax1.text(-0.05, y_lower + 0.5 * size_cluster_i, str(i))\n",
    "\n",
    "        # Compute the new y_lower for next plot\n",
    "        y_lower = y_upper + 10  # 10 for the 0 samples\n",
    "\n",
    "    ax1.set_title(\"The silhouette plot for the various clusters.\")\n",
    "    ax1.set_xlabel(\"The silhouette coefficient values\")\n",
    "    ax1.set_ylabel(\"Cluster label\")\n",
    "\n",
    "    # The vertical line for average silhouette score of all the values\n",
    "    ax1.axvline(x=silhouette_avg, color=\"red\", linestyle=\"--\")\n",
    "\n",
    "    ax1.set_yticks([])  # Clear the yaxis labels / ticks\n",
    "    ax1.set_xticks([-1, -0.8, -0.6, -0.4, -0.2, 0, 0.2, 0.4, 0.6, 0.8, 1])\n",
    "\n",
    "    # 2nd Plot showing the actual clusters formed\n",
    "    colors = cm.nipy_spectral(cluster_labels.astype(float) / n_clusters)\n",
    "    ax2.scatter(df_kmeans['latitude'], df_kmeans['longitude'], marker='.', s=30, lw=0, alpha=0.7,\n",
    "                c=colors, edgecolor='k')\n",
    "\n",
    "    # Labeling the clusters\n",
    "    centers = clusterer.cluster_centers_\n",
    "    # Draw white circles at cluster centers\n",
    "    ax2.scatter(centers[:, 0], centers[:, 1], marker='o',\n",
    "                c=\"white\", alpha=1, s=200, edgecolor='k')\n",
    "\n",
    "    for i, c in enumerate(centers):\n",
    "        ax2.scatter(c[0], c[1], marker='$%d$' % i, alpha=1,\n",
    "                    s=50, edgecolor='k')\n",
    "\n",
    "    ax2.set_title(\"The visualization of the clustered data.\")\n",
    "    ax2.set_xlabel(\"Feature space for the 1st feature\")\n",
    "    ax2.set_ylabel(\"Feature space for the 2nd feature\")\n",
    "\n",
    "    plt.suptitle((\"Silhouette analysis for KMeans clustering on sample data \"\n",
    "                  \"with n_clusters = %d\" % n_clusters),\n",
    "                 fontsize=14, fontweight='bold')\n",
    "\n",
    "plt.show()"
   ]
  },
  {
   "cell_type": "code",
   "execution_count": null,
   "metadata": {
    "ExecuteTime": {
     "end_time": "2021-03-13T13:26:06.164648Z",
     "start_time": "2021-03-11T01:43:03.856451Z"
    },
    "scrolled": true
   },
   "outputs": [],
   "source": [
    "# for i in range(2,11):\n",
    "#     nb_cluster_silhouette_method(i)"
   ]
  },
  {
   "cell_type": "code",
   "execution_count": null,
   "metadata": {
    "ExecuteTime": {
     "end_time": "2021-03-06T17:34:01.763043Z",
     "start_time": "2021-03-06T17:34:01.332162Z"
    },
    "run_control": {
     "marked": false
    }
   },
   "outputs": [],
   "source": [
    "df_kmeans['cluster_coords'].value_counts().plot(kind='bar', title='Qtde amostras por cluster')"
   ]
  },
  {
   "cell_type": "code",
   "execution_count": null,
   "metadata": {
    "ExecuteTime": {
     "end_time": "2021-03-06T17:34:06.186835Z",
     "start_time": "2021-03-06T17:34:01.822857Z"
    },
    "run_control": {
     "marked": false
    }
   },
   "outputs": [],
   "source": [
    "df_datatran = df_datatran.merge(df_kmeans[['latitude', 'longitude', 'risco_morte', 'cluster_coords']], how='left', on=['latitude','longitude','risco_morte'])"
   ]
  },
  {
   "cell_type": "code",
   "execution_count": null,
   "metadata": {
    "ExecuteTime": {
     "end_time": "2021-03-06T17:34:07.714763Z",
     "start_time": "2021-03-06T17:34:06.207778Z"
    },
    "run_control": {
     "marked": false
    }
   },
   "outputs": [],
   "source": [
    "df_datatran.drop_duplicates(subset='id', inplace=True)"
   ]
  },
  {
   "cell_type": "code",
   "execution_count": null,
   "metadata": {
    "ExecuteTime": {
     "end_time": "2021-03-06T17:34:11.935420Z",
     "start_time": "2021-03-06T17:34:07.744683Z"
    },
    "run_control": {
     "marked": false
    }
   },
   "outputs": [],
   "source": [
    "fig = px.scatter(df_datatran, x=\"longitude\", y=\"latitude\", color=\"cluster_coords\", title='Cluster de coordenadas', width=500, height=500)\n",
    "fig.show()"
   ]
  },
  {
   "cell_type": "markdown",
   "metadata": {},
   "source": [
    "## DBSCAN"
   ]
  },
  {
   "cell_type": "code",
   "execution_count": null,
   "metadata": {
    "ExecuteTime": {
     "end_time": "2021-02-21T18:03:18.193399Z",
     "start_time": "2021-02-21T18:03:17.970392Z"
    },
    "run_control": {
     "marked": false
    }
   },
   "outputs": [],
   "source": [
    "from sklearn.cluster import DBSCAN\n",
    "from geopy.distance import great_circle\n",
    "from shapely.geometry import MultiPoint"
   ]
  },
  {
   "cell_type": "code",
   "execution_count": null,
   "metadata": {
    "ExecuteTime": {
     "end_time": "2021-02-21T18:04:09.085574Z",
     "start_time": "2021-02-21T18:03:34.958534Z"
    },
    "run_control": {
     "marked": false
    }
   },
   "outputs": [],
   "source": [
    "kms_per_radian = 6371.0088\n",
    "epsilon = 1.5 / kms_per_radian\n",
    "db = DBSCAN(eps=epsilon, min_samples=1, algorithm='ball_tree', metric='haversine').fit(np.radians(df_kmeans))\n",
    "cluster_labels = db.labels_\n",
    "num_clusters = len(set(cluster_labels))\n",
    "clusters = pd.Series([df_kmeans[cluster_labels == n] for n in range(num_clusters)])\n",
    "print('Number of clusters: {}'.format(num_clusters))"
   ]
  },
  {
   "cell_type": "code",
   "execution_count": null,
   "metadata": {
    "ExecuteTime": {
     "end_time": "2021-02-21T18:04:21.012777Z",
     "start_time": "2021-02-21T18:04:09.086575Z"
    },
    "run_control": {
     "marked": false
    }
   },
   "outputs": [],
   "source": [
    "# Compute DBSCAN\n",
    "db = DBSCAN(eps=0.3, min_samples=10).fit(df_kmeans)\n",
    "core_samples_mask = np.zeros_like(db.labels_, dtype=bool)\n",
    "core_samples_mask[db.core_sample_indices_] = True\n",
    "labels = db.labels_\n",
    "\n",
    "# Number of clusters in labels, ignoring noise if present.\n",
    "n_clusters_ = len(set(labels)) - (1 if -1 in labels else 0)\n",
    "n_noise_ = list(labels).count(-1)\n",
    "\n",
    "print('Estimated number of clusters: %d' % n_clusters_)\n",
    "print('Estimated number of noise points: %d' % n_noise_)"
   ]
  },
  {
   "cell_type": "code",
   "execution_count": null,
   "metadata": {
    "ExecuteTime": {
     "end_time": "2021-02-21T18:04:22.130729Z",
     "start_time": "2021-02-21T18:04:21.014772Z"
    },
    "run_control": {
     "marked": false
    }
   },
   "outputs": [],
   "source": [
    "# Black removed and is used for noise instead.\n",
    "unique_labels = set(labels)\n",
    "colors = [plt.cm.Spectral(each)\n",
    "          for each in np.linspace(0, 1, len(unique_labels))]\n",
    "for k, col in zip(unique_labels, colors):\n",
    "    if k == -1:\n",
    "        # Black used for noise.\n",
    "        col = [0, 0, 0, 1]\n",
    "\n",
    "    class_member_mask = (labels == k)\n",
    "\n",
    "    xy = df_kmeans[class_member_mask & core_samples_mask]\n",
    "    plt.plot(xy['latitude'], xy['longitude'], 'o', markerfacecolor=tuple(col),\n",
    "             markeredgecolor='k', markersize=14)\n",
    "\n",
    "    xy = df_kmeans[class_member_mask & ~core_samples_mask]\n",
    "    plt.plot(xy['latitude'], xy['longitude'], 'o', markerfacecolor=tuple(col),\n",
    "             markeredgecolor='k', markersize=6)\n",
    "\n",
    "plt.title('Estimated number of clusters: %d' % n_clusters_)\n",
    "plt.show()"
   ]
  },
  {
   "cell_type": "code",
   "execution_count": null,
   "metadata": {
    "ExecuteTime": {
     "end_time": "2021-02-16T16:51:36.520384Z",
     "start_time": "2021-02-16T16:51:36.133950Z"
    },
    "run_control": {
     "marked": false
    }
   },
   "outputs": [],
   "source": [
    "df_kmeans[class_member_mask & ~core_samples_mask]"
   ]
  },
  {
   "cell_type": "markdown",
   "metadata": {},
   "source": [
    "Drop unwanted columns"
   ]
  },
  {
   "cell_type": "code",
   "execution_count": null,
   "metadata": {
    "ExecuteTime": {
     "end_time": "2021-03-06T17:34:13.658035Z",
     "start_time": "2021-03-06T17:34:13.157374Z"
    },
    "run_control": {
     "marked": false
    }
   },
   "outputs": [],
   "source": [
    "drop_columns = [\n",
    "    'horario'\n",
    "    , 'br'\n",
    "    , 'km'\n",
    "    , 'municipio'\n",
    "    , 'causa_acidente'\n",
    "    , 'tipo_acidente'\n",
    "    , 'classificacao_acidente'\n",
    "    , 'ano'\n",
    "    , 'mortos'\n",
    "    , 'feridos_leves'\n",
    "    , 'feridos_graves'\n",
    "    , 'ilesos'\n",
    "    , 'ignorados'\n",
    "    , 'feridos'\n",
    "    , 'veiculos'\n",
    "    , 'latitude'\n",
    "    , 'longitude'\n",
    "    , 'regional'\n",
    "    , 'delegacia'\n",
    "    , 'uop'\n",
    "    , 'd'\n",
    "    , 'ufbr'\n",
    "]\n",
    "\n",
    "df_datatran.drop(drop_columns, axis=1, inplace=True)\n",
    "df_datatran.head()"
   ]
  },
  {
   "cell_type": "code",
   "execution_count": null,
   "metadata": {
    "ExecuteTime": {
     "end_time": "2021-03-06T17:34:15.302638Z",
     "start_time": "2021-03-06T17:34:14.846858Z"
    },
    "run_control": {
     "marked": false
    }
   },
   "outputs": [],
   "source": [
    "df_datatran.isnull().sum().sum()"
   ]
  },
  {
   "cell_type": "code",
   "execution_count": null,
   "metadata": {
    "ExecuteTime": {
     "end_time": "2021-03-06T17:36:11.660414Z",
     "start_time": "2021-03-06T17:36:11.311193Z"
    },
    "run_control": {
     "marked": false
    }
   },
   "outputs": [],
   "source": [
    "df_datatran_2020 = df_datatran.loc[df_datatran['data_inversa'] >= '2020-01-01', :]"
   ]
  },
  {
   "cell_type": "markdown",
   "metadata": {},
   "source": [
    "# Under/Oversampling "
   ]
  },
  {
   "cell_type": "code",
   "execution_count": null,
   "metadata": {
    "ExecuteTime": {
     "end_time": "2021-02-16T18:00:51.309855Z",
     "start_time": "2021-02-16T18:00:50.910295Z"
    },
    "code_folding": [],
    "run_control": {
     "marked": false
    }
   },
   "outputs": [],
   "source": [
    "#df_SMOTE.to_parquet('../data/processed/datasetSMOTENC2020.parquet', index=False)"
   ]
  },
  {
   "cell_type": "code",
   "execution_count": null,
   "metadata": {
    "ExecuteTime": {
     "end_time": "2021-02-16T18:01:20.835236Z",
     "start_time": "2021-02-16T18:01:20.268444Z"
    },
    "run_control": {
     "marked": false
    }
   },
   "outputs": [],
   "source": [
    "#df_class_0_under = df_class_0.sample(count_class_1)\n",
    "#df_datatran_under = pd.concat([df_class_0_under, df_class_1], axis=0)\n",
    "\n",
    "#print('Random under-sampling:')\n",
    "#print(df_datatran_under['contem_vitima_fatal'].value_counts())\n",
    "\n",
    "#df_datatran_under['contem_vitima_fatal'].value_counts().plot(kind='bar', title='Count (target)');"
   ]
  },
  {
   "cell_type": "markdown",
   "metadata": {},
   "source": [
    "Oversampling por cópia simples - deprecated"
   ]
  },
  {
   "cell_type": "code",
   "execution_count": null,
   "metadata": {
    "ExecuteTime": {
     "end_time": "2021-02-16T18:00:57.297575Z",
     "start_time": "2021-02-16T18:00:55.854255Z"
    },
    "run_control": {
     "marked": false
    },
    "scrolled": true
   },
   "outputs": [],
   "source": [
    "#df_SMOTE['contem_vitima_fatal'].value_counts().plot(kind='bar', title='Count (target)');"
   ]
  },
  {
   "cell_type": "markdown",
   "metadata": {},
   "source": [
    "Oversampling SMOTENC"
   ]
  },
  {
   "cell_type": "code",
   "execution_count": null,
   "metadata": {
    "ExecuteTime": {
     "end_time": "2021-03-06T17:34:15.668660Z",
     "start_time": "2021-03-06T17:34:15.317600Z"
    },
    "run_control": {
     "marked": false
    }
   },
   "outputs": [],
   "source": [
    "cat_columns = [\n",
    "      'dia_semana'\n",
    "    , 'fase_dia'\n",
    "    , 'sentido_via'\n",
    "    , 'condicao_metereologica'\n",
    "    , 'tipo_pista'\n",
    "    , 'tracado_via'\n",
    "    , 'uf'\n",
    "    , 'uso_solo'\n",
    "    , 'em_janela_feriado'\n",
    "]"
   ]
  },
  {
   "cell_type": "code",
   "execution_count": null,
   "metadata": {
    "ExecuteTime": {
     "end_time": "2021-03-06T17:34:16.025706Z",
     "start_time": "2021-03-06T17:34:15.675641Z"
    },
    "run_control": {
     "marked": false
    }
   },
   "outputs": [],
   "source": [
    "all_clusters = df_datatran['cluster_coords'].unique()\n",
    "all_clusters.sort()\n",
    "all_clusters"
   ]
  },
  {
   "cell_type": "code",
   "execution_count": null,
   "metadata": {
    "ExecuteTime": {
     "end_time": "2021-03-06T17:34:51.079254Z",
     "start_time": "2021-03-06T17:34:16.031691Z"
    },
    "run_control": {
     "marked": false
    }
   },
   "outputs": [],
   "source": [
    "from imblearn.over_sampling import SMOTENC\n",
    "from sklearn.model_selection import train_test_split\n",
    "\n",
    "#Splitando os dados de teste e treino para balancear apenas os dados de treino\n",
    "new_df2_split = df_datatran.drop(['data_inversa'], axis=1)\n",
    "\n",
    "# list_df_train_resampled = []\n",
    "# list_df_test = []\n",
    "\n",
    "# for cluster in all_clusters:\n",
    "#     df_cluster = new_df2_split.loc[new_df2_split['cluster_coords']==cluster, :]\n",
    "\n",
    "#     new_df_split_train, df_split_test, target_df_split_train, target_df_split_test = train_test_split(df_cluster.drop(['contem_vitima_fatal'], axis=1), df_cluster['contem_vitima_fatal'], test_size=0.3, stratify=df_cluster[['contem_vitima_fatal', 'cluster_coords']])\n",
    "\n",
    "#     df_split_test['contem_vitima_fatal'] = target_df_split_test\n",
    "\n",
    "#     cat_col_indices = []\n",
    "#     for cat in cat_columns:\n",
    "#         cat_col_indices.append(new_df_split_train.columns.get_loc(cat))\n",
    "#     cat_col_indices = sorted(cat_col_indices)\n",
    "    \n",
    "#     smote_nc = SMOTENC(categorical_features = cat_col_indices)#,k_neighbors = 100)\n",
    "\n",
    "#     df_train_resampled, target_df_resampled = smote_nc.fit_resample(new_df_split_train, target_df_split_train)\n",
    "#     df_train_resampled['contem_vitima_fatal'] = target_df_resampled\n",
    "\n",
    "#     list_df_train_resampled.append(df_train_resampled)\n",
    "#     list_df_test.append(df_split_test)\n",
    "\n",
    "# df_train_resampled = pd.concat(list_df_train_resampled)\n",
    "# df_test = pd.concat(list_df_test)\n",
    "\n",
    "new_df_split_train, df_split_test, target_df_split_train, target_df_split_test = train_test_split(new_df2_split.drop(['contem_vitima_fatal'], axis=1), new_df2_split['contem_vitima_fatal'], test_size=0.3, stratify=new_df2_split[['contem_vitima_fatal', 'cluster_coords']])\n",
    "\n",
    "df_split_test['contem_vitima_fatal'] = target_df_split_test\n",
    "\n",
    "cat_col_indices = []\n",
    "for cat in cat_columns:\n",
    "    cat_col_indices.append(new_df_split_train.columns.get_loc(cat))\n",
    "cat_col_indices = sorted(cat_col_indices)\n",
    "\n",
    "smote_nc = SMOTENC(categorical_features = cat_col_indices)#,k_neighbors = 100)\n",
    "\n",
    "df_train_resampled, target_df_resampled = smote_nc.fit_resample(new_df_split_train, target_df_split_train)\n",
    "df_train_resampled['contem_vitima_fatal'] = target_df_resampled\n",
    "\n",
    "df_test = df_split_test"
   ]
  },
  {
   "cell_type": "code",
   "execution_count": null,
   "metadata": {
    "ExecuteTime": {
     "end_time": "2021-03-06T17:34:51.490081Z",
     "start_time": "2021-03-06T17:34:51.086128Z"
    },
    "run_control": {
     "marked": false
    }
   },
   "outputs": [],
   "source": [
    "df_datatran['contem_vitima_fatal'].value_counts().plot(kind='bar', title='Antes Balanceamento');"
   ]
  },
  {
   "cell_type": "code",
   "execution_count": null,
   "metadata": {
    "ExecuteTime": {
     "end_time": "2021-03-06T17:34:51.915908Z",
     "start_time": "2021-03-06T17:34:51.544902Z"
    },
    "run_control": {
     "marked": false
    }
   },
   "outputs": [],
   "source": [
    "df_train_resampled['contem_vitima_fatal'].value_counts().plot(kind='bar', title='Depois Balancemento');"
   ]
  },
  {
   "cell_type": "markdown",
   "metadata": {},
   "source": [
    "# Export de dados para modelagem"
   ]
  },
  {
   "cell_type": "code",
   "execution_count": null,
   "metadata": {
    "ExecuteTime": {
     "end_time": "2021-03-06T17:34:52.278943Z",
     "start_time": "2021-03-06T17:34:51.949823Z"
    },
    "run_control": {
     "marked": false
    }
   },
   "outputs": [],
   "source": [
    "SZ(df_datatran)"
   ]
  },
  {
   "cell_type": "code",
   "execution_count": null,
   "metadata": {
    "ExecuteTime": {
     "end_time": "2021-03-06T17:34:52.605075Z",
     "start_time": "2021-03-06T17:34:52.289914Z"
    },
    "run_control": {
     "marked": false
    }
   },
   "outputs": [],
   "source": [
    "SZ(df_train_resampled)"
   ]
  },
  {
   "cell_type": "code",
   "execution_count": null,
   "metadata": {
    "ExecuteTime": {
     "end_time": "2021-03-06T17:34:52.944166Z",
     "start_time": "2021-03-06T17:34:52.616051Z"
    },
    "run_control": {
     "marked": false
    }
   },
   "outputs": [],
   "source": [
    "SZ(df_test)"
   ]
  },
  {
   "cell_type": "code",
   "execution_count": null,
   "metadata": {
    "ExecuteTime": {
     "end_time": "2021-03-06T17:34:54.784278Z",
     "start_time": "2021-03-06T17:34:52.953136Z"
    },
    "run_control": {
     "marked": false
    }
   },
   "outputs": [],
   "source": [
    "df_datatran.to_parquet('../data/processed/datasetCompDesb_v1.parquet', index=False)\n",
    "df_train_resampled.to_parquet('../data/processed/dataset_SMOTENC_TREINO_v1.parquet', index=False)\n",
    "df_test.to_parquet('../data/processed/dataset_SMOTENC_TESTE_v1.parquet', index=False)"
   ]
  },
  {
   "cell_type": "markdown",
   "metadata": {},
   "source": [
    "## FIM DA GERAÇÃO DE DADOS PARA MODELAGEM"
   ]
  },
  {
   "cell_type": "markdown",
   "metadata": {},
   "source": [
    "## Teste dataset desbalanceado para SMOTE"
   ]
  },
  {
   "cell_type": "code",
   "execution_count": null,
   "metadata": {
    "ExecuteTime": {
     "end_time": "2021-03-06T17:36:18.927108Z",
     "start_time": "2021-03-06T17:36:18.456366Z"
    },
    "run_control": {
     "marked": false
    }
   },
   "outputs": [],
   "source": [
    "df_datatran_2020.to_parquet('../data/processed/datasetSMOTENC2020_v1.parquet', index=False)"
   ]
  },
  {
   "cell_type": "code",
   "execution_count": null,
   "metadata": {
    "ExecuteTime": {
     "end_time": "2021-03-06T17:36:19.289140Z",
     "start_time": "2021-03-06T17:36:18.928105Z"
    },
    "run_control": {
     "marked": false
    }
   },
   "outputs": [],
   "source": [
    "df_datatran_2020['contem_vitima_fatal'].value_counts().plot(kind='bar', title='Count (target)');"
   ]
  },
  {
   "cell_type": "markdown",
   "metadata": {},
   "source": [
    "## Join Datasets - PIB DEPRECATED"
   ]
  },
  {
   "cell_type": "code",
   "execution_count": null,
   "metadata": {
    "ExecuteTime": {
     "end_time": "2021-01-10T14:43:24.569921Z",
     "start_time": "2021-01-10T14:43:21.535983Z"
    },
    "run_control": {
     "marked": false
    }
   },
   "outputs": [],
   "source": [
    "#df_final = df_datatran.merge(df_pib[['municipio', 'uf', 'id_municipio', 'pib', 'pib_per_capita']], how='left', on=['uf', 'municipio'])"
   ]
  },
  {
   "cell_type": "code",
   "execution_count": null,
   "metadata": {
    "ExecuteTime": {
     "end_time": "2021-01-10T14:43:25.938677Z",
     "start_time": "2021-01-10T14:43:24.573873Z"
    },
    "run_control": {
     "marked": false
    }
   },
   "outputs": [],
   "source": [
    "#df_final = df_final.merge(df_populacao, how='left', on=['ano', 'id_municipio', 'municipio'])"
   ]
  },
  {
   "cell_type": "code",
   "execution_count": null,
   "metadata": {
    "ExecuteTime": {
     "end_time": "2021-01-10T14:43:27.492775Z",
     "start_time": "2021-01-10T14:43:25.948571Z"
    },
    "run_control": {
     "marked": false
    }
   },
   "outputs": [],
   "source": [
    "#df_final[['pib', 'pib_per_capita', 'populacao']] = df_final[['uf', 'pib', 'pib_per_capita', 'populacao']].groupby(\"uf\").transform(lambda x: x.fillna(x.mean()))"
   ]
  },
  {
   "cell_type": "code",
   "execution_count": null,
   "metadata": {
    "ExecuteTime": {
     "end_time": "2021-01-10T14:43:27.934801Z",
     "start_time": "2021-01-10T14:43:27.496773Z"
    },
    "run_control": {
     "marked": false
    }
   },
   "outputs": [],
   "source": [
    "#df_final.head()"
   ]
  },
  {
   "cell_type": "code",
   "execution_count": null,
   "metadata": {
    "ExecuteTime": {
     "end_time": "2020-12-02T13:15:38.138651Z",
     "start_time": "2020-12-02T13:15:25.269873Z"
    },
    "run_control": {
     "marked": false
    }
   },
   "outputs": [],
   "source": [
    "# df_final.to_csv('../data/processed/dataset_v4.csv', index=False, encoding='iso-8859-1')\n",
    "# df_final.to_parquet('../data/processed/dataset_v4.parquet', index=False)"
   ]
  },
  {
   "cell_type": "markdown",
   "metadata": {},
   "source": [
    "# Exploratory Analysis - DEPRECATED"
   ]
  },
  {
   "cell_type": "code",
   "execution_count": null,
   "metadata": {
    "ExecuteTime": {
     "end_time": "2021-01-10T14:43:28.922895Z",
     "start_time": "2021-01-10T14:43:27.940139Z"
    },
    "run_control": {
     "marked": false
    }
   },
   "outputs": [],
   "source": [
    "#df_datatran[['pessoas', 'mortos', 'feridos_leves', 'feridos_graves', 'ilesos', 'ignorados', 'feridos', 'veiculos']].describe()"
   ]
  },
  {
   "cell_type": "code",
   "execution_count": null,
   "metadata": {
    "ExecuteTime": {
     "end_time": "2021-01-10T14:43:29.423487Z",
     "start_time": "2021-01-10T14:43:28.926900Z"
    },
    "run_control": {
     "marked": false
    }
   },
   "outputs": [],
   "source": [
    "#df_datatran.head()"
   ]
  },
  {
   "cell_type": "code",
   "execution_count": null,
   "metadata": {
    "ExecuteTime": {
     "end_time": "2021-01-10T14:43:30.233685Z",
     "start_time": "2021-01-10T14:43:29.432443Z"
    },
    "run_control": {
     "marked": false
    }
   },
   "outputs": [],
   "source": [
    "#df_datatran_causa_acidente_count = df_datatran.groupby(['causa_acidente'])['id'].count().reset_index()\n",
    "\n",
    "#df_datatran_causa_acidente_count.set_index('causa_acidente', inplace=True)"
   ]
  },
  {
   "cell_type": "code",
   "execution_count": null,
   "metadata": {
    "ExecuteTime": {
     "end_time": "2021-01-10T14:43:30.758014Z",
     "start_time": "2021-01-10T14:43:30.239277Z"
    },
    "run_control": {
     "marked": false
    }
   },
   "outputs": [],
   "source": [
    "#df_datatran_causa_acidente_count.sort_values(by='id', ascending=True).plot(kind='barh', figsize=(10,10))"
   ]
  }
 ],
 "metadata": {
  "kernelspec": {
   "display_name": "Python 3",
   "language": "python",
   "name": "python3"
  },
  "language_info": {
   "codemirror_mode": {
    "name": "ipython",
    "version": 3
   },
   "file_extension": ".py",
   "mimetype": "text/x-python",
   "name": "python",
   "nbconvert_exporter": "python",
   "pygments_lexer": "ipython3",
   "version": "3.7.9"
  },
  "toc": {
   "nav_menu": {},
   "number_sections": true,
   "sideBar": true,
   "skip_h1_title": false,
   "title_cell": "Table of Contents",
   "title_sidebar": "Contents",
   "toc_cell": false,
   "toc_position": {},
   "toc_section_display": true,
   "toc_window_display": false
  }
 },
 "nbformat": 4,
 "nbformat_minor": 4
}
