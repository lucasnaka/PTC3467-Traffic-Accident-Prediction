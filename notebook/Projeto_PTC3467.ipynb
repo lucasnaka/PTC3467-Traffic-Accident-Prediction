{
 "cells": [
  {
   "cell_type": "markdown",
   "metadata": {},
   "source": [
    "# Imports"
   ]
  },
  {
   "cell_type": "code",
   "execution_count": 1,
   "metadata": {
    "ExecuteTime": {
     "end_time": "2020-09-28T11:09:11.298824Z",
     "start_time": "2020-09-28T11:09:10.686010Z"
    }
   },
   "outputs": [],
   "source": [
    "import pandas as pd"
   ]
  },
  {
   "cell_type": "code",
   "execution_count": 2,
   "metadata": {
    "ExecuteTime": {
     "end_time": "2020-09-28T11:09:11.312473Z",
     "start_time": "2020-09-28T11:09:11.300532Z"
    }
   },
   "outputs": [
    {
     "data": {
      "text/html": [
       "<style>.container { width:100% !important; }</style>"
      ],
      "text/plain": [
       "<IPython.core.display.HTML object>"
      ]
     },
     "metadata": {},
     "output_type": "display_data"
    }
   ],
   "source": [
    "from IPython.core.display import display, HTML\n",
    "display(HTML(\"<style>.container { width:100% !important; }</style>\"))"
   ]
  },
  {
   "cell_type": "markdown",
   "metadata": {},
   "source": [
    "# Functions"
   ]
  },
  {
   "cell_type": "code",
   "execution_count": 3,
   "metadata": {
    "ExecuteTime": {
     "end_time": "2020-09-28T11:09:11.320444Z",
     "start_time": "2020-09-28T11:09:11.315467Z"
    }
   },
   "outputs": [],
   "source": [
    "# Print rapido para dimensão do Dataframe\n",
    "def SZ(df):\n",
    "    print(f\"\"\"\n",
    "--- Dimensão ---\n",
    "Linhas:  {df.shape[0]}\n",
    "Colunas: {df.shape[1]}\"\"\")"
   ]
  },
  {
   "cell_type": "code",
   "execution_count": 4,
   "metadata": {
    "ExecuteTime": {
     "end_time": "2020-09-28T11:09:11.964479Z",
     "start_time": "2020-09-28T11:09:11.960488Z"
    }
   },
   "outputs": [],
   "source": [
    "# Print rapido para dTypes do Dataframe\n",
    "def DT(df):\n",
    "    print(f\"\"\"\n",
    "--- DataTypes ---\n",
    "{df.dtypes}\n",
    "    \"\"\")"
   ]
  },
  {
   "cell_type": "markdown",
   "metadata": {},
   "source": [
    "# Reading Files"
   ]
  },
  {
   "cell_type": "code",
   "execution_count": 5,
   "metadata": {
    "ExecuteTime": {
     "end_time": "2020-09-28T11:09:14.549322Z",
     "start_time": "2020-09-28T11:09:12.934103Z"
    }
   },
   "outputs": [],
   "source": [
    "# df_datatran2020 = pd.read_csv(\"../dataset/datatran2020.csv\", delimiter=\";\", encoding='iso-8859-1')\n",
    "df_datatran2019 = pd.read_csv(\"../dataset/datatran2019.csv\", delimiter=\";\", encoding='iso-8859-1')\n",
    "df_datatran2018 = pd.read_csv(\"../dataset/datatran2018.csv\", delimiter=\";\", encoding='iso-8859-1')\n",
    "df_datatran2017 = pd.read_csv(\"../dataset/datatran2017.csv\", delimiter=\";\", encoding='iso-8859-1')\n",
    "df_datatran2016 = pd.read_csv(\"../dataset/datatran2016.csv\", delimiter=\";\", encoding='iso-8859-1')\n",
    "df_datatran2015 = pd.read_csv(\"../dataset/datatran2015.csv\", delimiter=\";\", encoding='iso-8859-1')"
   ]
  },
  {
   "cell_type": "code",
   "execution_count": 9,
   "metadata": {
    "ExecuteTime": {
     "end_time": "2020-09-28T11:13:25.869527Z",
     "start_time": "2020-09-28T11:13:25.028779Z"
    }
   },
   "outputs": [
    {
     "name": "stdout",
     "output_type": "stream",
     "text": [
      "\n",
      "--- Dimensão ---\n",
      "Linhas:  444828\n",
      "Colunas: 31\n",
      "\n",
      "--- DataTypes ---\n",
      "id                               float64\n",
      "data_inversa              datetime64[ns]\n",
      "dia_semana                        object\n",
      "horario                           object\n",
      "uf                                object\n",
      "br                               float64\n",
      "km                                object\n",
      "municipio                         object\n",
      "causa_acidente                    object\n",
      "tipo_acidente                     object\n",
      "classificacao_acidente            object\n",
      "fase_dia                          object\n",
      "sentido_via                       object\n",
      "condicao_metereologica            object\n",
      "tipo_pista                        object\n",
      "tracado_via                       object\n",
      "uso_solo                          object\n",
      "ano                              float64\n",
      "pessoas                            int64\n",
      "mortos                             int64\n",
      "feridos_leves                      int64\n",
      "feridos_graves                     int64\n",
      "ilesos                             int64\n",
      "ignorados                          int64\n",
      "feridos                            int64\n",
      "veiculos                           int64\n",
      "latitude                         float64\n",
      "longitude                        float64\n",
      "regional                          object\n",
      "delegacia                         object\n",
      "uop                               object\n",
      "dtype: object\n",
      "    \n"
     ]
    }
   ],
   "source": [
    "df_datatran = pd.concat([df_datatran2015, df_datatran2016, df_datatran2017, df_datatran2018, df_datatran2019])\n",
    "\n",
    "df_datatran['data_inversa'] = pd.to_datetime(df_datatran['data_inversa'])\n",
    "\n",
    "df_datatran[['latitude', 'longitude']] = df_datatran[['latitude', 'longitude']].apply(lambda x: x.str.replace(',','.'))\n",
    "df_datatran['latitude'] = df_datatran['latitude'].astype('float64')\n",
    "df_datatran['longitude'] = df_datatran['longitude'].astype('float64')\n",
    "\n",
    "SZ(df_datatran)\n",
    "DT(df_datatran)"
   ]
  },
  {
   "cell_type": "code",
   "execution_count": 10,
   "metadata": {
    "ExecuteTime": {
     "end_time": "2020-09-28T11:13:31.944480Z",
     "start_time": "2020-09-28T11:13:31.885634Z"
    }
   },
   "outputs": [
    {
     "data": {
      "text/html": [
       "<div>\n",
       "<style scoped>\n",
       "    .dataframe tbody tr th:only-of-type {\n",
       "        vertical-align: middle;\n",
       "    }\n",
       "\n",
       "    .dataframe tbody tr th {\n",
       "        vertical-align: top;\n",
       "    }\n",
       "\n",
       "    .dataframe thead th {\n",
       "        text-align: right;\n",
       "    }\n",
       "</style>\n",
       "<table border=\"1\" class=\"dataframe\">\n",
       "  <thead>\n",
       "    <tr style=\"text-align: right;\">\n",
       "      <th></th>\n",
       "      <th>id</th>\n",
       "      <th>data_inversa</th>\n",
       "      <th>dia_semana</th>\n",
       "      <th>horario</th>\n",
       "      <th>uf</th>\n",
       "      <th>br</th>\n",
       "      <th>km</th>\n",
       "      <th>municipio</th>\n",
       "      <th>causa_acidente</th>\n",
       "      <th>tipo_acidente</th>\n",
       "      <th>...</th>\n",
       "      <th>feridos_graves</th>\n",
       "      <th>ilesos</th>\n",
       "      <th>ignorados</th>\n",
       "      <th>feridos</th>\n",
       "      <th>veiculos</th>\n",
       "      <th>latitude</th>\n",
       "      <th>longitude</th>\n",
       "      <th>regional</th>\n",
       "      <th>delegacia</th>\n",
       "      <th>uop</th>\n",
       "    </tr>\n",
       "  </thead>\n",
       "  <tbody>\n",
       "    <tr>\n",
       "      <th>0</th>\n",
       "      <td>83298209.0</td>\n",
       "      <td>2015-01-01</td>\n",
       "      <td>Quinta</td>\n",
       "      <td>00:05:00</td>\n",
       "      <td>RJ</td>\n",
       "      <td>101.0</td>\n",
       "      <td>327</td>\n",
       "      <td>NITEROI</td>\n",
       "      <td>Outras</td>\n",
       "      <td>Colisão traseira</td>\n",
       "      <td>...</td>\n",
       "      <td>0</td>\n",
       "      <td>2</td>\n",
       "      <td>0</td>\n",
       "      <td>0</td>\n",
       "      <td>2</td>\n",
       "      <td>NaN</td>\n",
       "      <td>NaN</td>\n",
       "      <td>NaN</td>\n",
       "      <td>NaN</td>\n",
       "      <td>NaN</td>\n",
       "    </tr>\n",
       "    <tr>\n",
       "      <th>1</th>\n",
       "      <td>83298218.0</td>\n",
       "      <td>2015-01-01</td>\n",
       "      <td>Quinta</td>\n",
       "      <td>01:20:00</td>\n",
       "      <td>MS</td>\n",
       "      <td>163.0</td>\n",
       "      <td>434.4</td>\n",
       "      <td>CAMPO GRANDE</td>\n",
       "      <td>Animais na Pista</td>\n",
       "      <td>Saída de Pista</td>\n",
       "      <td>...</td>\n",
       "      <td>0</td>\n",
       "      <td>1</td>\n",
       "      <td>0</td>\n",
       "      <td>1</td>\n",
       "      <td>1</td>\n",
       "      <td>NaN</td>\n",
       "      <td>NaN</td>\n",
       "      <td>NaN</td>\n",
       "      <td>NaN</td>\n",
       "      <td>NaN</td>\n",
       "    </tr>\n",
       "    <tr>\n",
       "      <th>2</th>\n",
       "      <td>83298220.0</td>\n",
       "      <td>2015-01-01</td>\n",
       "      <td>Quinta</td>\n",
       "      <td>01:45:00</td>\n",
       "      <td>RJ</td>\n",
       "      <td>40.0</td>\n",
       "      <td>64</td>\n",
       "      <td>PETROPOLIS</td>\n",
       "      <td>Outras</td>\n",
       "      <td>Colisão com objeto fixo</td>\n",
       "      <td>...</td>\n",
       "      <td>0</td>\n",
       "      <td>2</td>\n",
       "      <td>0</td>\n",
       "      <td>0</td>\n",
       "      <td>2</td>\n",
       "      <td>NaN</td>\n",
       "      <td>NaN</td>\n",
       "      <td>NaN</td>\n",
       "      <td>NaN</td>\n",
       "      <td>NaN</td>\n",
       "    </tr>\n",
       "    <tr>\n",
       "      <th>3</th>\n",
       "      <td>83298221.0</td>\n",
       "      <td>2015-01-01</td>\n",
       "      <td>Quinta</td>\n",
       "      <td>02:50:00</td>\n",
       "      <td>SC</td>\n",
       "      <td>101.0</td>\n",
       "      <td>356.1</td>\n",
       "      <td>SANGAO</td>\n",
       "      <td>Falta de atenção</td>\n",
       "      <td>Saída de Pista</td>\n",
       "      <td>...</td>\n",
       "      <td>0</td>\n",
       "      <td>0</td>\n",
       "      <td>0</td>\n",
       "      <td>4</td>\n",
       "      <td>1</td>\n",
       "      <td>NaN</td>\n",
       "      <td>NaN</td>\n",
       "      <td>NaN</td>\n",
       "      <td>NaN</td>\n",
       "      <td>NaN</td>\n",
       "    </tr>\n",
       "    <tr>\n",
       "      <th>4</th>\n",
       "      <td>83298222.0</td>\n",
       "      <td>2015-01-01</td>\n",
       "      <td>Quinta</td>\n",
       "      <td>02:50:00</td>\n",
       "      <td>RS</td>\n",
       "      <td>101.0</td>\n",
       "      <td>25.9</td>\n",
       "      <td>TRES CACHOEIRAS</td>\n",
       "      <td>Falta de atenção</td>\n",
       "      <td>Saída de Pista</td>\n",
       "      <td>...</td>\n",
       "      <td>0</td>\n",
       "      <td>1</td>\n",
       "      <td>0</td>\n",
       "      <td>0</td>\n",
       "      <td>1</td>\n",
       "      <td>NaN</td>\n",
       "      <td>NaN</td>\n",
       "      <td>NaN</td>\n",
       "      <td>NaN</td>\n",
       "      <td>NaN</td>\n",
       "    </tr>\n",
       "  </tbody>\n",
       "</table>\n",
       "<p>5 rows × 31 columns</p>\n",
       "</div>"
      ],
      "text/plain": [
       "           id data_inversa dia_semana   horario  uf     br     km  \\\n",
       "0  83298209.0   2015-01-01     Quinta  00:05:00  RJ  101.0    327   \n",
       "1  83298218.0   2015-01-01     Quinta  01:20:00  MS  163.0  434.4   \n",
       "2  83298220.0   2015-01-01     Quinta  01:45:00  RJ   40.0     64   \n",
       "3  83298221.0   2015-01-01     Quinta  02:50:00  SC  101.0  356.1   \n",
       "4  83298222.0   2015-01-01     Quinta  02:50:00  RS  101.0   25.9   \n",
       "\n",
       "         municipio    causa_acidente            tipo_acidente  ...  \\\n",
       "0          NITEROI            Outras         Colisão traseira  ...   \n",
       "1     CAMPO GRANDE  Animais na Pista           Saída de Pista  ...   \n",
       "2       PETROPOLIS            Outras  Colisão com objeto fixo  ...   \n",
       "3           SANGAO  Falta de atenção           Saída de Pista  ...   \n",
       "4  TRES CACHOEIRAS  Falta de atenção           Saída de Pista  ...   \n",
       "\n",
       "  feridos_graves ilesos ignorados feridos veiculos latitude longitude  \\\n",
       "0              0      2         0       0        2      NaN       NaN   \n",
       "1              0      1         0       1        1      NaN       NaN   \n",
       "2              0      2         0       0        2      NaN       NaN   \n",
       "3              0      0         0       4        1      NaN       NaN   \n",
       "4              0      1         0       0        1      NaN       NaN   \n",
       "\n",
       "   regional  delegacia  uop  \n",
       "0       NaN        NaN  NaN  \n",
       "1       NaN        NaN  NaN  \n",
       "2       NaN        NaN  NaN  \n",
       "3       NaN        NaN  NaN  \n",
       "4       NaN        NaN  NaN  \n",
       "\n",
       "[5 rows x 31 columns]"
      ]
     },
     "execution_count": 10,
     "metadata": {},
     "output_type": "execute_result"
    }
   ],
   "source": [
    "df_datatran.head()"
   ]
  },
  {
   "cell_type": "markdown",
   "metadata": {},
   "source": [
    "# Data Processing"
   ]
  },
  {
   "cell_type": "code",
   "execution_count": 11,
   "metadata": {
    "ExecuteTime": {
     "end_time": "2020-09-28T11:13:43.888473Z",
     "start_time": "2020-09-28T11:13:32.396206Z"
    }
   },
   "outputs": [],
   "source": [
    "string_columns = ['dia_semana', \n",
    "                  'causa_acidente',\n",
    "                  'tipo_acidente',\n",
    "                  'classificacao_acidente',\n",
    "                  'fase_dia',\n",
    "                  'sentido_via',\n",
    "                  'condicao_metereologica',\n",
    "                  'tipo_pista',\n",
    "                  'tracado_via',\n",
    "                  'uso_solo',\n",
    "                  'regional',\n",
    "                  'delegacia',\n",
    "                  'uop']\n",
    "\n",
    "df_datatran[string_columns] = df_datatran[string_columns].apply(\n",
    "    lambda x: x.str.normalize('NFKD').str.encode('ascii', errors='ignore').str.\n",
    "    decode('utf-8').str.replace('[^\\w\\s]', '').str.lower().str.strip())"
   ]
  },
  {
   "cell_type": "code",
   "execution_count": 12,
   "metadata": {
    "ExecuteTime": {
     "end_time": "2020-09-28T11:13:45.288761Z",
     "start_time": "2020-09-28T11:13:43.890467Z"
    }
   },
   "outputs": [],
   "source": [
    "df_datatran[string_columns] = df_datatran[string_columns].fillna('')\n",
    "df_datatran[string_columns] = df_datatran[string_columns].replace('null', '')"
   ]
  },
  {
   "cell_type": "code",
   "execution_count": 13,
   "metadata": {
    "ExecuteTime": {
     "end_time": "2020-09-28T11:13:52.857491Z",
     "start_time": "2020-09-28T11:13:45.291720Z"
    }
   },
   "outputs": [],
   "source": [
    "df_datatran.to_csv('../output/datatran_processed.csv', index=False, encoding='iso-8859-1')"
   ]
  },
  {
   "cell_type": "markdown",
   "metadata": {},
   "source": [
    "# Exploratory Analysis"
   ]
  },
  {
   "cell_type": "code",
   "execution_count": null,
   "metadata": {
    "ExecuteTime": {
     "end_time": "2020-09-28T00:09:28.074902Z",
     "start_time": "2020-09-28T00:09:27.520597Z"
    }
   },
   "outputs": [],
   "source": [
    "df_datatran[['pessoas', 'mortos', 'feridos_leves', 'feridos_graves', 'ilesos', 'ignorados', 'feridos', 'veiculos']].describe()"
   ]
  },
  {
   "cell_type": "code",
   "execution_count": null,
   "metadata": {
    "ExecuteTime": {
     "end_time": "2020-09-28T00:20:03.695629Z",
     "start_time": "2020-09-28T00:20:03.650752Z"
    }
   },
   "outputs": [],
   "source": [
    "df_datatran.head()"
   ]
  },
  {
   "cell_type": "code",
   "execution_count": null,
   "metadata": {
    "ExecuteTime": {
     "end_time": "2020-09-28T00:22:50.881618Z",
     "start_time": "2020-09-28T00:22:48.111615Z"
    }
   },
   "outputs": [],
   "source": [
    "df_datatran_causa_acidente_count = df_datatran.groupby(['causa_acidente'])['id'].count().reset_index()\n",
    "\n",
    "df_datatran_causa_acidente_count.set_index('causa_acidente', inplace=True)"
   ]
  },
  {
   "cell_type": "code",
   "execution_count": null,
   "metadata": {
    "ExecuteTime": {
     "end_time": "2020-09-28T00:19:16.668987Z",
     "start_time": "2020-09-28T00:19:15.718131Z"
    }
   },
   "outputs": [],
   "source": [
    "df_datatran_causa_acidente_count.sort_values(by='id', ascending=True).plot(kind='barh', figsize=(10,10))"
   ]
  },
  {
   "cell_type": "code",
   "execution_count": null,
   "metadata": {},
   "outputs": [],
   "source": []
  }
 ],
 "metadata": {
  "kernelspec": {
   "display_name": "Python 3",
   "language": "python",
   "name": "python3"
  },
  "language_info": {
   "codemirror_mode": {
    "name": "ipython",
    "version": 3
   },
   "file_extension": ".py",
   "mimetype": "text/x-python",
   "name": "python",
   "nbconvert_exporter": "python",
   "pygments_lexer": "ipython3",
   "version": "3.7.4"
  },
  "toc": {
   "nav_menu": {},
   "number_sections": true,
   "sideBar": true,
   "skip_h1_title": false,
   "title_cell": "Table of Contents",
   "title_sidebar": "Contents",
   "toc_cell": false,
   "toc_position": {},
   "toc_section_display": true,
   "toc_window_display": false
  }
 },
 "nbformat": 4,
 "nbformat_minor": 4
}
