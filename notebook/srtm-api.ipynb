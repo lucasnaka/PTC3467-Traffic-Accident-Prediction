{
 "cells": [
  {
   "cell_type": "code",
   "execution_count": null,
   "metadata": {},
   "outputs": [],
   "source": [
    "import srtm\n",
    "import pandas as pd\n",
    "import numpy as np\n",
    "elevation_data = srtm.get_data(local_cache_dir=\"tmp_cache\")\n",
    "print('CGN Airport elevation (meters):', elevation_data.get_elevation(50.865833, 7.142778))"
   ]
  },
  {
   "cell_type": "code",
   "execution_count": null,
   "metadata": {},
   "outputs": [],
   "source": [
    "df_datatran = pd.read_csv(f\"../data/processed/df_datatran_2009_2020.csv\", delimiter=\",\", encoding='iso-8859-1')"
   ]
  },
  {
   "cell_type": "code",
   "execution_count": null,
   "metadata": {
    "scrolled": true
   },
   "outputs": [],
   "source": [
    "df_datatran.dropna(subset=['latitude', 'longitude'], inplace=True)\n",
    "df_datatran = df_datatran.head(100)"
   ]
  },
  {
   "cell_type": "code",
   "execution_count": null,
   "metadata": {},
   "outputs": [],
   "source": [
    "x = df_datatran.iloc[0]\n",
    "x"
   ]
  },
  {
   "cell_type": "code",
   "execution_count": null,
   "metadata": {},
   "outputs": [],
   "source": [
    "df_datatran.apply(lambda x: print(x['latitude'], x['longitude']), axis=1)"
   ]
  },
  {
   "cell_type": "code",
   "execution_count": null,
   "metadata": {},
   "outputs": [],
   "source": [
    "alt_ac0 = df_datatran.apply(lambda x: elevation_data.get_elevation(x['latitude'], x['longitude']), axis=1)"
   ]
  },
  {
   "cell_type": "code",
   "execution_count": null,
   "metadata": {},
   "outputs": [],
   "source": [
    "df_utm = df_datatran.apply(lambda x: utm.from_latlon(x['latitude'], x['longitude']), axis=1)"
   ]
  },
  {
   "cell_type": "code",
   "execution_count": null,
   "metadata": {},
   "outputs": [],
   "source": [
    "dt_latlonm1 = df_utm.apply(lambda x: utm.to_latlon(x[0]-50,x[1]-50,x[2],x[3]))\n",
    "dt_latlonm2 = df_utm.apply(lambda x: utm.to_latlon(x[0]-50,x[1]+50,x[2],x[3]))\n",
    "dt_latlonm3 = df_utm.apply(lambda x: utm.to_latlon(x[0]+50,x[1]-50,x[2],x[3]))\n",
    "dt_latlonm4 = df_utm.apply(lambda x: utm.to_latlon(x[0]+50,x[1]+50,x[2],x[3]))"
   ]
  },
  {
   "cell_type": "code",
   "execution_count": null,
   "metadata": {},
   "outputs": [],
   "source": [
    "alt_ac1 = dt_latlonm1.apply(lambda x: elevation_data.get_elevation(x[0],x[1]))\n",
    "alt_ac2 = dt_latlonm2.apply(lambda x: elevation_data.get_elevation(x[0],x[1]))\n",
    "alt_ac3 = dt_latlonm3.apply(lambda x: elevation_data.get_elevation(x[0],x[1]))\n",
    "alt_ac4 = dt_latlonm4.apply(lambda x: elevation_data.get_elevation(x[0],x[1]))"
   ]
  },
  {
   "cell_type": "code",
   "execution_count": null,
   "metadata": {},
   "outputs": [],
   "source": [
    "dev1 = alt_ac1 - alt_ac0\n",
    "dev2 = alt_ac2 - alt_ac0\n",
    "dev3 = alt_ac3 - alt_ac0\n",
    "dev4 = alt_ac4 - alt_ac0\n",
    "\n",
    "stddevalt = np.sqrt((dev1**2 + dev2**2 + dev3**2 + dev4**2)/4)"
   ]
  },
  {
   "cell_type": "code",
   "execution_count": null,
   "metadata": {},
   "outputs": [],
   "source": [
    "stddevalt"
   ]
  },
  {
   "cell_type": "code",
   "execution_count": null,
   "metadata": {},
   "outputs": [],
   "source": []
  }
 ],
 "metadata": {
  "kernelspec": {
   "display_name": "Python 3",
   "language": "python",
   "name": "python3"
  },
  "language_info": {
   "codemirror_mode": {
    "name": "ipython",
    "version": 3
   },
   "file_extension": ".py",
   "mimetype": "text/x-python",
   "name": "python",
   "nbconvert_exporter": "python",
   "pygments_lexer": "ipython3",
   "version": "3.8.5"
  }
 },
 "nbformat": 4,
 "nbformat_minor": 4
}
