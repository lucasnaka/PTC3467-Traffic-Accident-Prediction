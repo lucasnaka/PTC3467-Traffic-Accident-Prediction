{
 "cells": [
  {
   "cell_type": "markdown",
   "metadata": {},
   "source": [
    "# Initial Configs\n"
   ]
  },
  {
   "cell_type": "code",
   "execution_count": null,
   "metadata": {
    "ExecuteTime": {
     "end_time": "2021-02-16T16:52:22.646566Z",
     "start_time": "2021-02-16T16:52:21.423148Z"
    },
    "run_control": {
     "marked": true
    }
   },
   "outputs": [],
   "source": [
    "%reload_ext autoreload\n",
    "%autoreload 2\n",
    "%matplotlib inline"
   ]
  },
  {
   "cell_type": "markdown",
   "metadata": {},
   "source": [
    "# Imports"
   ]
  },
  {
   "cell_type": "code",
   "execution_count": null,
   "metadata": {
    "ExecuteTime": {
     "end_time": "2021-02-16T16:52:27.273639Z",
     "start_time": "2021-02-16T16:52:22.663142Z"
    },
    "run_control": {
     "marked": true
    },
    "scrolled": true
   },
   "outputs": [],
   "source": [
    "import pandas as pd\n",
    "import numpy as np\n",
    "\n",
    "import matplotlib.pyplot as plt\n",
    "\n",
    "#import plotly for visualization\n",
    "import chart_studio.plotly as py\n",
    "import plotly.offline as pyoff\n",
    "import plotly.graph_objs as go\n",
    "import plotly.express as px\n",
    "import sys\n",
    "from IPython.core.display import display, HTML\n",
    "sys.path.append('..')\n",
    "pyoff.init_notebook_mode()\n",
    "\n",
    "import os\n",
    "from os import listdir\n",
    "from os.path import isfile, join\n",
    "from bs4 import BeautifulSoup\n",
    "import json\n",
    "\n",
    "import geopandas as gpd\n",
    "from shapely.geometry.polygon import Polygon\n",
    "from shapely.geometry import shape,Point\n",
    "\n",
    "from bokeh.resources import INLINE\n",
    "import bokeh.io\n",
    "from bokeh import *"
   ]
  },
  {
   "cell_type": "markdown",
   "metadata": {},
   "source": [
    "# Package configs"
   ]
  },
  {
   "cell_type": "code",
   "execution_count": null,
   "metadata": {
    "ExecuteTime": {
     "end_time": "2021-02-16T16:52:29.288284Z",
     "start_time": "2021-02-16T16:52:27.737676Z"
    },
    "run_control": {
     "marked": true
    }
   },
   "outputs": [],
   "source": [
    "pd.set_option('display.max_columns', None)\n",
    "display(HTML(\"<style>.container { width:100% !important; }</style>\"))\n",
    "pd.set_option('plotting.backend', 'pandas_bokeh')\n",
    "bokeh.io.output_notebook(INLINE)"
   ]
  },
  {
   "cell_type": "markdown",
   "metadata": {},
   "source": [
    "# Functions"
   ]
  },
  {
   "cell_type": "code",
   "execution_count": null,
   "metadata": {
    "ExecuteTime": {
     "end_time": "2021-02-16T16:52:29.869016Z",
     "start_time": "2021-02-16T16:52:29.596165Z"
    },
    "run_control": {
     "marked": true
    }
   },
   "outputs": [],
   "source": [
    "# Print rapido para dimensão do Dataframe\n",
    "def SZ(df):\n",
    "    print(f\"\"\"\n",
    "--- Dimensão ---\n",
    "Linhas:  {df.shape[0]}\n",
    "Colunas: {df.shape[1]}\"\"\")"
   ]
  },
  {
   "cell_type": "code",
   "execution_count": null,
   "metadata": {
    "ExecuteTime": {
     "end_time": "2021-02-16T16:52:30.188576Z",
     "start_time": "2021-02-16T16:52:29.884373Z"
    },
    "run_control": {
     "marked": true
    }
   },
   "outputs": [],
   "source": [
    "# Print rapido para dTypes do Dataframe\n",
    "def DT(df):\n",
    "    print(f\"\"\"\n",
    "--- DataTypes ---\n",
    "{df.dtypes}\n",
    "    \"\"\")"
   ]
  },
  {
   "cell_type": "markdown",
   "metadata": {},
   "source": [
    "# Read Files"
   ]
  },
  {
   "cell_type": "code",
   "execution_count": null,
   "metadata": {
    "ExecuteTime": {
     "end_time": "2021-02-16T16:52:50.271418Z",
     "start_time": "2021-02-16T16:52:30.208935Z"
    },
    "run_control": {
     "marked": true
    }
   },
   "outputs": [],
   "source": [
    "years = range(2009,2021)\n",
    "\n",
    "list_datatran = []\n",
    "\n",
    "for year in years:\n",
    "    list_datatran.append(pd.read_csv(f\"../data/raw/datatran{year}.csv\", delimiter=\";\", encoding='iso-8859-1'))\n",
    "    \n",
    "df_datatran = pd.concat(list_datatran)\n",
    "\n",
    "df_datatran[['latitude', 'longitude']] = df_datatran[['latitude', 'longitude']].apply(lambda x: x.str.replace(',','.'))\n",
    "df_datatran['latitude'] = df_datatran['latitude'].astype('float64')\n",
    "df_datatran['longitude'] = df_datatran['longitude'].astype('float64')\n",
    "\n",
    "SZ(df_datatran)\n",
    "DT(df_datatran)"
   ]
  },
  {
   "cell_type": "markdown",
   "metadata": {},
   "source": [
    "# Transform KML to Dataframe"
   ]
  },
  {
   "cell_type": "code",
   "execution_count": null,
   "metadata": {
    "ExecuteTime": {
     "end_time": "2021-02-16T16:52:50.522253Z",
     "start_time": "2021-02-16T16:52:50.289380Z"
    },
    "run_control": {
     "marked": true
    }
   },
   "outputs": [],
   "source": [
    "ufs = ['AC', 'AL', 'AM', 'AP', 'BA', 'CE', 'DF', 'ES', 'GO', 'MA', 'MG', 'MS', 'MT', 'PA', 'PB', 'PE', 'PI', 'PR', 'RJ', 'RN', 'RO', 'RR', 'RS', 'SC', 'SE', 'SP', 'TO']"
   ]
  },
  {
   "cell_type": "code",
   "execution_count": null,
   "metadata": {
    "ExecuteTime": {
     "end_time": "2021-02-16T16:52:50.825866Z",
     "start_time": "2021-02-16T16:52:50.538511Z"
    },
    "run_control": {
     "marked": true
    }
   },
   "outputs": [],
   "source": [
    "df_estados = pd.DataFrame(columns=['uf', 'latitude', 'longitude'])"
   ]
  },
  {
   "cell_type": "code",
   "execution_count": null,
   "metadata": {
    "ExecuteTime": {
     "end_time": "2021-02-16T16:52:51.508179Z",
     "start_time": "2021-02-16T16:52:50.842291Z"
    },
    "run_control": {
     "marked": true
    }
   },
   "outputs": [],
   "source": [
    "for uf in ufs:\n",
    "    with open(f'../data/raw/{uf}.kml', 'r', encoding=\"utf8\") as f:\n",
    "            soup = BeautifulSoup(f, 'html.parser')\n",
    "            all_coordinates = soup.find_all(\"coordinates\")\n",
    "            for item in all_coordinates:\n",
    "                coordinates = item.text.replace('\\n', '').replace('\\t','').split(' ')\n",
    "                latitude = []\n",
    "                longitude = []\n",
    "                for lat_long in coordinates:\n",
    "                        lat = lat_long.split(\",\")[0]\n",
    "                        long = lat_long.split(\",\")[1]\n",
    "                        latitude.append(float(lat))\n",
    "                        longitude.append(float(long))\n",
    "\n",
    "            df_this_uf = pd.DataFrame({'uf':[uf], 'latitude':[latitude], 'longitude':[longitude]})\n",
    "            df_estados = pd.concat([df_estados, df_this_uf])"
   ]
  },
  {
   "cell_type": "markdown",
   "metadata": {},
   "source": [
    "# Find UF for each accident"
   ]
  },
  {
   "cell_type": "markdown",
   "metadata": {},
   "source": [
    "Transform uf coordinates in a polygon"
   ]
  },
  {
   "cell_type": "code",
   "execution_count": null,
   "metadata": {
    "ExecuteTime": {
     "end_time": "2021-02-16T16:52:51.938109Z",
     "start_time": "2021-02-16T16:52:51.536690Z"
    },
    "run_control": {
     "marked": true
    }
   },
   "outputs": [],
   "source": [
    "def create_polygon(x):\n",
    "    return Polygon(list(zip(list(x['latitude']), list(x['longitude']))))\n",
    "\n",
    "df_estados['poly'] = df_estados.apply(create_polygon, axis=1)\n",
    "df_estados_geo = gpd.GeoDataFrame(df_estados, geometry=df_estados.poly)\n",
    "\n",
    "df_estados_geo['area'] = df_estados_geo['geometry'].area\n",
    "\n",
    "df_estados_geo = df_estados_geo[['uf','poly','geometry','area']]\n",
    "df_estados_geo = df_estados_geo.set_index('uf')"
   ]
  },
  {
   "cell_type": "code",
   "execution_count": null,
   "metadata": {
    "ExecuteTime": {
     "end_time": "2021-02-16T16:52:52.800413Z",
     "start_time": "2021-02-16T16:52:51.956776Z"
    },
    "run_control": {
     "marked": true
    }
   },
   "outputs": [],
   "source": [
    "df_estados_geo[df_estados_geo.index=='MG']['geometry'].plot()"
   ]
  },
  {
   "cell_type": "code",
   "execution_count": null,
   "metadata": {
    "ExecuteTime": {
     "end_time": "2021-02-16T16:52:53.523860Z",
     "start_time": "2021-02-16T16:52:52.829023Z"
    },
    "run_control": {
     "marked": true
    }
   },
   "outputs": [],
   "source": [
    "# Remove instances without latitude and longitude\n",
    "df_datatran_coord = df_datatran.dropna(subset=['latitude', 'longitude'])"
   ]
  },
  {
   "cell_type": "code",
   "execution_count": null,
   "metadata": {
    "ExecuteTime": {
     "end_time": "2021-02-16T16:52:59.374972Z",
     "start_time": "2021-02-16T16:52:53.544748Z"
    },
    "run_control": {
     "marked": true
    }
   },
   "outputs": [],
   "source": [
    "df_datatran_geo = gpd.GeoDataFrame(df_datatran_coord, geometry=gpd.points_from_xy(df_datatran_coord['longitude'], df_datatran_coord['latitude']))"
   ]
  },
  {
   "cell_type": "code",
   "execution_count": null,
   "metadata": {
    "ExecuteTime": {
     "end_time": "2021-02-16T16:53:41.806926Z",
     "start_time": "2021-02-16T16:52:59.411348Z"
    },
    "run_control": {
     "marked": true
    }
   },
   "outputs": [],
   "source": [
    "%%time\n",
    "df_within = gpd.sjoin(df_datatran_geo, df_estados_geo, op='within')"
   ]
  },
  {
   "cell_type": "code",
   "execution_count": null,
   "metadata": {
    "ExecuteTime": {
     "end_time": "2021-02-16T16:53:42.128847Z",
     "start_time": "2021-02-16T16:53:41.843848Z"
    },
    "run_control": {
     "marked": true
    }
   },
   "outputs": [],
   "source": [
    "df_within = df_within[['id', 'latitude', 'longitude', 'index_right', 'poly', 'area']]\n",
    "df_within.rename(columns={'index_right':'uf'}, inplace=True)"
   ]
  },
  {
   "cell_type": "code",
   "execution_count": null,
   "metadata": {
    "ExecuteTime": {
     "end_time": "2021-02-16T16:53:43.319252Z",
     "start_time": "2021-02-16T16:53:42.139699Z"
    },
    "run_control": {
     "marked": true
    }
   },
   "outputs": [],
   "source": [
    "# If an accident is in more than 1 uf, keep the one with the largest area\n",
    "dfWithinGeoUnique = df_within.groupby(['id'])['area'].min().reset_index()\n",
    "\n",
    "dfWithinGeoUniqueInfos = dfWithinGeoUnique.merge(df_within, how='left', on=['id', 'area'])\n",
    "\n",
    "dfFinal = dfWithinGeoUniqueInfos[~dfWithinGeoUniqueInfos['area'].isna()]\n",
    "\n",
    "keep_cols = ['id', 'latitude', 'longitude', 'uf']"
   ]
  },
  {
   "cell_type": "code",
   "execution_count": null,
   "metadata": {
    "ExecuteTime": {
     "end_time": "2021-02-16T16:53:43.870052Z",
     "start_time": "2021-02-16T16:53:43.344743Z"
    },
    "run_control": {
     "marked": true
    }
   },
   "outputs": [],
   "source": [
    "dfFinal = dfFinal[keep_cols].drop_duplicates()\n",
    "SZ(dfFinal)\n",
    "DT(dfFinal)"
   ]
  },
  {
   "cell_type": "code",
   "execution_count": null,
   "metadata": {
    "ExecuteTime": {
     "end_time": "2021-02-16T16:53:47.172273Z",
     "start_time": "2021-02-16T16:53:46.965952Z"
    },
    "run_control": {
     "marked": true
    }
   },
   "outputs": [],
   "source": [
    "dfFinal.rename(columns={'uf':'uf_kml'}, inplace=True)"
   ]
  },
  {
   "cell_type": "code",
   "execution_count": null,
   "metadata": {
    "ExecuteTime": {
     "end_time": "2021-02-16T16:53:52.218086Z",
     "start_time": "2021-02-16T16:53:47.176710Z"
    },
    "run_control": {
     "marked": true
    }
   },
   "outputs": [],
   "source": [
    "df_datatran = df_datatran.merge(dfFinal[['id', 'uf_kml']], how='left', on='id')"
   ]
  },
  {
   "cell_type": "code",
   "execution_count": null,
   "metadata": {
    "ExecuteTime": {
     "end_time": "2021-02-16T17:02:14.848207Z",
     "start_time": "2021-02-16T17:02:13.911240Z"
    },
    "run_control": {
     "marked": true
    }
   },
   "outputs": [],
   "source": [
    "df_datatran.loc[(~df_datatran['latitude'].isna()) & (~df_datatran['longitude'].isna()) & (df_datatran['uf'] == 'PE'),'uf_kml'] = 'PE'"
   ]
  },
  {
   "cell_type": "code",
   "execution_count": null,
   "metadata": {
    "ExecuteTime": {
     "end_time": "2021-02-16T17:03:22.845506Z",
     "start_time": "2021-02-16T17:03:22.281241Z"
    },
    "run_control": {
     "marked": true
    }
   },
   "outputs": [],
   "source": [
    "# Se o acidente não se encaixou em nenhum das uf, anular a latitude e longitude dele, pois está incorreta\n",
    "df_datatran.loc[df_datatran['uf_kml'].isna(), ['latitude', 'longitude']] = [np.nan, np.nan]"
   ]
  },
  {
   "cell_type": "code",
   "execution_count": null,
   "metadata": {
    "ExecuteTime": {
     "end_time": "2021-02-16T17:03:34.109000Z",
     "start_time": "2021-02-16T17:03:33.493046Z"
    },
    "run_control": {
     "marked": true
    }
   },
   "outputs": [],
   "source": [
    "del df_datatran['uf_kml']"
   ]
  },
  {
   "cell_type": "code",
   "execution_count": null,
   "metadata": {
    "ExecuteTime": {
     "end_time": "2021-02-16T17:04:55.955020Z",
     "start_time": "2021-02-16T17:04:05.588011Z"
    }
   },
   "outputs": [],
   "source": [
    "df_datatran.to_csv('../data/processed/df_datatran_2009_2020.csv', index=False)"
   ]
  },
  {
   "cell_type": "code",
   "execution_count": null,
   "metadata": {
    "ExecuteTime": {
     "end_time": "2021-02-13T22:51:05.172351Z",
     "start_time": "2021-02-13T22:51:04.427804Z"
    }
   },
   "outputs": [],
   "source": [
    "#plot recency\n",
    "plot_data = [\n",
    "    go.Histogram(\n",
    "        x=df_datatran_geo[~df_datatran_geo['id'].isin(dfFinal['id'])]['uf']\n",
    "    )\n",
    "]\n",
    "\n",
    "plot_layout = go.Layout(\n",
    "        title='POC Age [Days] Histogram'\n",
    "    )\n",
    "fig = go.Figure(data=plot_data, layout=plot_layout)\n",
    "pyoff.iplot(fig)"
   ]
  }
 ],
 "metadata": {
  "kernelspec": {
   "display_name": "Python 3",
   "language": "python",
   "name": "python3"
  },
  "language_info": {
   "codemirror_mode": {
    "name": "ipython",
    "version": 3
   },
   "file_extension": ".py",
   "mimetype": "text/x-python",
   "name": "python",
   "nbconvert_exporter": "python",
   "pygments_lexer": "ipython3",
   "version": "3.7.9"
  },
  "toc": {
   "nav_menu": {},
   "number_sections": true,
   "sideBar": true,
   "skip_h1_title": false,
   "title_cell": "Table of Contents",
   "title_sidebar": "Contents",
   "toc_cell": false,
   "toc_position": {},
   "toc_section_display": true,
   "toc_window_display": false
  }
 },
 "nbformat": 4,
 "nbformat_minor": 4
}
