{
 "cells": [
  {
   "cell_type": "markdown",
   "metadata": {},
   "source": [
    "# Initial Configs"
   ]
  },
  {
   "cell_type": "code",
   "execution_count": null,
   "metadata": {
    "ExecuteTime": {
     "end_time": "2021-01-10T14:45:59.355054Z",
     "start_time": "2021-01-10T14:45:58.359373Z"
    }
   },
   "outputs": [],
   "source": [
    "%reload_ext autoreload\n",
    "%autoreload 2\n",
    "%matplotlib inline"
   ]
  },
  {
   "cell_type": "markdown",
   "metadata": {},
   "source": [
    "# Imports"
   ]
  },
  {
   "cell_type": "code",
   "execution_count": null,
   "metadata": {
    "ExecuteTime": {
     "end_time": "2021-01-10T14:46:02.055996Z",
     "start_time": "2021-01-10T14:45:59.359674Z"
    },
    "run_control": {
     "marked": true
    }
   },
   "outputs": [],
   "source": [
    "from __future__ import division\n",
    "from datetime import datetime, timedelta,date\n",
    "import pandas as pd\n",
    "import numpy as np\n",
    "import sys\n",
    "\n",
    "#import plotly for visualization\n",
    "import chart_studio.plotly as py\n",
    "import plotly.offline as pyoff\n",
    "import plotly.graph_objs as go\n",
    "import plotly.express as px\n",
    "from IPython.core.display import display, HTML\n",
    "sys.path.append('..')\n",
    "pyoff.init_notebook_mode()\n",
    "\n",
    "#do not show warnings\n",
    "import warnings\n",
    "warnings.filterwarnings(\"ignore\")\n",
    "\n",
    "from bokeh.resources import INLINE\n",
    "import bokeh.io\n",
    "from bokeh import *"
   ]
  },
  {
   "cell_type": "markdown",
   "metadata": {},
   "source": [
    "# Package configs"
   ]
  },
  {
   "cell_type": "code",
   "execution_count": null,
   "metadata": {
    "ExecuteTime": {
     "end_time": "2021-01-10T14:46:06.479914Z",
     "start_time": "2021-01-10T14:46:05.486546Z"
    },
    "run_control": {
     "marked": true
    }
   },
   "outputs": [],
   "source": [
    "pd.set_option('display.max_columns', None)\n",
    "display(HTML(\"<style>.container { width:100% !important; }</style>\"))\n",
    "pd.set_option('plotting.backend', 'pandas_bokeh')\n",
    "bokeh.io.output_notebook(INLINE)"
   ]
  },
  {
   "cell_type": "markdown",
   "metadata": {},
   "source": [
    "# Functions"
   ]
  },
  {
   "cell_type": "code",
   "execution_count": null,
   "metadata": {
    "ExecuteTime": {
     "end_time": "2021-01-10T14:46:06.728901Z",
     "start_time": "2021-01-10T14:46:06.483547Z"
    },
    "run_control": {
     "marked": true
    }
   },
   "outputs": [],
   "source": [
    "# Print rapido para dimensão do Dataframe\n",
    "def SZ(df):\n",
    "    print(f\"\"\"\n",
    "--- Dimensão ---\n",
    "Linhas:  {df.shape[0]}\n",
    "Colunas: {df.shape[1]}\"\"\")"
   ]
  },
  {
   "cell_type": "code",
   "execution_count": null,
   "metadata": {
    "ExecuteTime": {
     "end_time": "2021-01-10T14:46:06.931124Z",
     "start_time": "2021-01-10T14:46:06.734198Z"
    },
    "run_control": {
     "marked": true
    }
   },
   "outputs": [],
   "source": [
    "# Print rapido para dTypes do Dataframe\n",
    "def DT(df):\n",
    "    print(f\"\"\"\n",
    "--- DataTypes ---\n",
    "{df.dtypes}\n",
    "    \"\"\")"
   ]
  },
  {
   "cell_type": "markdown",
   "metadata": {},
   "source": [
    "# Reading files"
   ]
  },
  {
   "cell_type": "code",
   "execution_count": null,
   "metadata": {
    "ExecuteTime": {
     "end_time": "2021-01-10T14:46:12.073149Z",
     "start_time": "2021-01-10T14:46:06.936252Z"
    },
    "run_control": {
     "marked": true
    }
   },
   "outputs": [],
   "source": [
    "df_datatran = pd.read_csv('../output/datatran_processed.csv', encoding='iso-8859-1')\n",
    "SZ(df_datatran)\n",
    "DT(df_datatran)"
   ]
  },
  {
   "cell_type": "code",
   "execution_count": null,
   "metadata": {
    "ExecuteTime": {
     "end_time": "2021-01-10T14:46:12.425837Z",
     "start_time": "2021-01-10T14:46:12.074147Z"
    }
   },
   "outputs": [],
   "source": [
    "df_datatran.head()"
   ]
  },
  {
   "cell_type": "markdown",
   "metadata": {},
   "source": [
    "# Categorization"
   ]
  },
  {
   "cell_type": "markdown",
   "metadata": {},
   "source": [
    "No nosso dataset temos 8 colunas com dados numéricos discretos: 'pessoas', 'mortos', 'feridos_leves', 'feridos_graves', 'ilesos', 'ignorados', 'feridos', 'veiculos'"
   ]
  },
  {
   "cell_type": "code",
   "execution_count": null,
   "metadata": {
    "ExecuteTime": {
     "end_time": "2021-01-10T14:46:12.709219Z",
     "start_time": "2021-01-10T14:46:12.432673Z"
    }
   },
   "outputs": [],
   "source": [
    "# Numeric features\n",
    "cols_num = ['pessoas',\n",
    "    'mortos',\n",
    "    'feridos_leves',\n",
    "    'feridos_graves',\n",
    "    'ilesos',\n",
    "    'ignorados',\n",
    "    'feridos',\n",
    "    'veiculos']"
   ]
  },
  {
   "cell_type": "code",
   "execution_count": null,
   "metadata": {
    "ExecuteTime": {
     "end_time": "2021-01-10T14:46:13.509814Z",
     "start_time": "2021-01-10T14:46:12.714666Z"
    }
   },
   "outputs": [],
   "source": [
    "df_datatran[cols_num].describe()"
   ]
  },
  {
   "cell_type": "markdown",
   "metadata": {},
   "source": [
    "Remove outliers"
   ]
  },
  {
   "cell_type": "code",
   "execution_count": null,
   "metadata": {
    "ExecuteTime": {
     "end_time": "2021-01-10T14:46:17.102087Z",
     "start_time": "2021-01-10T14:46:13.514285Z"
    }
   },
   "outputs": [],
   "source": [
    "import scipy.stats\n",
    "from scipy import stats\n",
    "import swifter"
   ]
  },
  {
   "cell_type": "code",
   "execution_count": null,
   "metadata": {
    "ExecuteTime": {
     "end_time": "2021-01-10T14:46:17.599861Z",
     "start_time": "2021-01-10T14:46:17.106613Z"
    }
   },
   "outputs": [],
   "source": [
    "z_score = stats.zscore(df_datatran[cols_num].select_dtypes(include=[np.number]))"
   ]
  },
  {
   "cell_type": "code",
   "execution_count": null,
   "metadata": {
    "ExecuteTime": {
     "end_time": "2021-01-10T14:46:18.557140Z",
     "start_time": "2021-01-10T14:46:17.604716Z"
    }
   },
   "outputs": [],
   "source": [
    "abs_z_scores = np.abs(z_score)\n",
    "filtered_entries = (abs_z_scores < 3).all(axis=1)\n",
    "df_datatran = df_datatran[filtered_entries][cols_num]"
   ]
  },
  {
   "cell_type": "code",
   "execution_count": null,
   "metadata": {
    "ExecuteTime": {
     "end_time": "2021-01-10T14:46:19.252241Z",
     "start_time": "2021-01-10T14:46:18.562124Z"
    }
   },
   "outputs": [],
   "source": [
    "df_datatran.describe()"
   ]
  },
  {
   "cell_type": "markdown",
   "metadata": {},
   "source": [
    "Correlation Matrix"
   ]
  },
  {
   "cell_type": "code",
   "execution_count": null,
   "metadata": {
    "ExecuteTime": {
     "end_time": "2021-01-10T14:47:03.750802Z",
     "start_time": "2021-01-10T14:47:01.873848Z"
    }
   },
   "outputs": [],
   "source": [
    "import seaborn as sn\n",
    "import matplotlib.pyplot as plt\n",
    "\n",
    "corrMatrix = df_datatran[cols_num].corr()\n",
    "sn.heatmap(corrMatrix, annot=True)\n",
    "plt.show()"
   ]
  },
  {
   "cell_type": "code",
   "execution_count": null,
   "metadata": {},
   "outputs": [],
   "source": []
  }
 ],
 "metadata": {
  "kernelspec": {
   "display_name": "Python 3",
   "language": "python",
   "name": "python3"
  },
  "language_info": {
   "codemirror_mode": {
    "name": "ipython",
    "version": 3
   },
   "file_extension": ".py",
   "mimetype": "text/x-python",
   "name": "python",
   "nbconvert_exporter": "python",
   "pygments_lexer": "ipython3",
   "version": "3.7.9"
  },
  "toc": {
   "nav_menu": {},
   "number_sections": true,
   "sideBar": true,
   "skip_h1_title": false,
   "title_cell": "Table of Contents",
   "title_sidebar": "Contents",
   "toc_cell": false,
   "toc_position": {},
   "toc_section_display": true,
   "toc_window_display": false
  }
 },
 "nbformat": 4,
 "nbformat_minor": 4
}
