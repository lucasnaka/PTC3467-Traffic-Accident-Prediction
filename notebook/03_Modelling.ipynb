{
 "cells": [
  {
   "cell_type": "markdown",
   "metadata": {},
   "source": [
    "# Initial Configs\n"
   ]
  },
  {
   "cell_type": "code",
   "execution_count": null,
   "metadata": {
    "ExecuteTime": {
     "end_time": "2021-02-02T02:12:06.017775Z",
     "start_time": "2021-02-02T02:12:05.640699Z"
    },
    "run_control": {
     "marked": true
    }
   },
   "outputs": [],
   "source": [
    "%reload_ext autoreload\n",
    "%autoreload 2\n",
    "%matplotlib inline"
   ]
  },
  {
   "cell_type": "markdown",
   "metadata": {},
   "source": [
    "# Imports"
   ]
  },
  {
   "cell_type": "code",
   "execution_count": null,
   "metadata": {
    "ExecuteTime": {
     "end_time": "2021-02-02T02:12:09.610972Z",
     "start_time": "2021-02-02T02:12:06.022755Z"
    },
    "run_control": {
     "marked": true
    }
   },
   "outputs": [],
   "source": [
    "from __future__ import division\n",
    "#import libraries\n",
    "# from datetime import datetime, timedelta, date\n",
    "import pandas as pd\n",
    "import matplotlib.pyplot as plt\n",
    "import numpy as np\n",
    "from scipy import stats\n",
    "from scipy.stats import randint as sp_randint\n",
    "from scipy.stats import uniform as sp_uniform\n",
    "import swifter\n",
    "import seaborn as sns\n",
    "\n",
    "#do not show warnings\n",
    "import warnings\n",
    "warnings.filterwarnings(\"ignore\")\n",
    "\n",
    "#import plotly for visualization\n",
    "import chart_studio.plotly as py\n",
    "import plotly.offline as pyoff\n",
    "import plotly.graph_objs as go\n",
    "import plotly.express as px\n",
    "import sys\n",
    "from IPython.core.display import display, HTML\n",
    "sys.path.append('..')\n",
    "pyoff.init_notebook_mode()\n",
    "\n",
    "from pycaret.classification import *\n",
    "from sklearn.metrics import accuracy_score, precision_score, f1_score, recall_score, classification_report\n",
    "from sklearn.metrics import plot_confusion_matrix\n",
    "from sklearn.model_selection import train_test_split\n",
    "from bokeh.resources import INLINE\n",
    "import bokeh.io\n",
    "from bokeh import *\n",
    "\n",
    "from tqdm import tqdm_notebook as tqdm"
   ]
  },
  {
   "cell_type": "code",
   "execution_count": null,
   "metadata": {
    "ExecuteTime": {
     "end_time": "2021-02-02T02:12:09.898200Z",
     "start_time": "2021-02-02T02:12:09.632910Z"
    },
    "run_control": {
     "marked": true
    }
   },
   "outputs": [],
   "source": [
    "from src.visualization.visualize import plot_scatter_segment, pareto_gen\n",
    "from src.utils.frame_utils import stratified_df, date_time_features, reduce_mem_usage\n",
    "from src.utils.cluster_utils import order_cluster\n",
    "from src.utils.eval_utils import evaluate_all"
   ]
  },
  {
   "cell_type": "markdown",
   "metadata": {},
   "source": [
    "# Package configs"
   ]
  },
  {
   "cell_type": "code",
   "execution_count": null,
   "metadata": {
    "ExecuteTime": {
     "end_time": "2021-02-02T02:12:10.430879Z",
     "start_time": "2021-02-02T02:12:09.907176Z"
    },
    "run_control": {
     "marked": true
    }
   },
   "outputs": [],
   "source": [
    "pd.set_option('display.max_columns', None)\n",
    "display(HTML(\"<style>.container { width:100% !important; }</style>\"))\n",
    "pd.set_option('plotting.backend', 'pandas_bokeh')\n",
    "bokeh.io.output_notebook(INLINE)"
   ]
  },
  {
   "cell_type": "code",
   "execution_count": null,
   "metadata": {
    "ExecuteTime": {
     "end_time": "2021-02-02T01:25:10.436897Z",
     "start_time": "2021-02-02T01:25:09.900822Z"
    },
    "code_folding": [
     0
    ]
   },
   "outputs": [],
   "source": [
    "# Print rapido para dimensão do Dataframe\n",
    "def SZ(df):\n",
    "    print(f\"\"\"\n",
    "--- Dimensão ---\n",
    "Linhas:  {df.shape[0]}\n",
    "Colunas: {df.shape[1]}\"\"\")"
   ]
  },
  {
   "cell_type": "code",
   "execution_count": null,
   "metadata": {},
   "outputs": [],
   "source": [
    "# Print rapido para dTypes do Dataframe\n",
    "def DT(df):\n",
    "    print(f\"\"\"\n",
    "--- DataTypes ---\n",
    "{df.dtypes}\n",
    "    \"\"\")"
   ]
  },
  {
   "cell_type": "code",
   "execution_count": null,
   "metadata": {},
   "outputs": [],
   "source": [
    "#print de distribuição de features numéricas\n",
    "def distFeaturesNumericas(df,num_columns):\n",
    "    for col in num_columns:\n",
    "        plt.figure(figsize = (30,5))\n",
    "        plt.hist([df[df['contem_vitima_fatal'] == 0][col],df[df['contem_vitima_fatal'] == 1][col]],bins = 30, color=['blue','pink'], label=['no fatal','yes fatal'])\n",
    "        plt.legend()\n",
    "        plt.ylabel('Count')\n",
    "        plt.title(col)\n",
    "        plt.show()"
   ]
  },
  {
   "cell_type": "code",
   "execution_count": null,
   "metadata": {},
   "outputs": [],
   "source": [
    "#print de distribuição de features categóricas\n",
    "def distFeaturesCategoricas(df,cat_columns):\n",
    "    for col in cat_columns:\n",
    "        N_0 = len(df[df['contem_vitima_fatal'] == 0][col].value_counts().index)\n",
    "        count_0 = df[df['contem_vitima_fatal'] == 0][col].value_counts().values\n",
    "\n",
    "        ind_0 = np.arange(N_0)  # the x locations for the groups\n",
    "        width = 0.35       # the width of the bars\n",
    "\n",
    "        fig = plt.figure(figsize = (30,5))\n",
    "        ax = fig.add_subplot(111)\n",
    "        rects1 = ax.bar(ind_0, count_0, width, color='blue')\n",
    "\n",
    "        N_1 = len(df[df['contem_vitima_fatal'] == 1][col].value_counts().index)\n",
    "        ind_1 = np.arange(N_1)  # the x locations for the groups\n",
    "        count_1 = df[df['contem_vitima_fatal'] == 1][col].value_counts().values\n",
    "        rects2 = ax.bar(ind_1+width, count_1, width, color='pink')\n",
    "\n",
    "        ax.set_ylabel('Count')\n",
    "        ax.set_title(col)\n",
    "        ax.set_xticks(ind_0 + width / 2)\n",
    "        ax.set_xticklabels(df[df['contem_vitima_fatal'] == 0][col].value_counts().index)\n",
    "\n",
    "        ax.legend( (rects1[0], rects2[0]), ('not fatal', 'yes fatal') )\n",
    "\n",
    "        plt.show()"
   ]
  },
  {
   "cell_type": "markdown",
   "metadata": {},
   "source": [
    "# Data"
   ]
  },
  {
   "cell_type": "markdown",
   "metadata": {},
   "source": [
    "## Loads"
   ]
  },
  {
   "cell_type": "markdown",
   "metadata": {},
   "source": [
    "Carregando dados de treinamento e teste"
   ]
  },
  {
   "cell_type": "code",
   "execution_count": null,
   "metadata": {
    "ExecuteTime": {
     "end_time": "2021-02-02T02:12:11.452028Z",
     "start_time": "2021-02-02T02:12:10.882666Z"
    },
    "run_control": {
     "marked": true
    }
   },
   "outputs": [],
   "source": [
    "df_datatran_train = pd.read_parquet('../data/processed/dataset_SMOTENC_TREINO.parquet')\n",
    "df_datatran_test = pd.read_parquet('../data/processed/dataset_SMOTENC_TESTE.parquet')\n",
    "#df_datatran.head()"
   ]
  },
  {
   "cell_type": "code",
   "execution_count": null,
   "metadata": {},
   "outputs": [],
   "source": [
    "SZ(df_datatran_train)\n",
    "DT(df_datatran_train)\n",
    "#df_datatran_train['contem_vitima_fatal'].value_counts().plot(kind='bar', title='Treino');"
   ]
  },
  {
   "cell_type": "code",
   "execution_count": null,
   "metadata": {},
   "outputs": [],
   "source": [
    "SZ(df_datatran_test)\n",
    "DT(df_datatran_test)\n",
    "#df_datatran_test['contem_vitima_fatal'].value_counts().plot(kind='bar', title='Teste');"
   ]
  },
  {
   "cell_type": "markdown",
   "metadata": {},
   "source": [
    "Carregando dados de validação/avaliação"
   ]
  },
  {
   "cell_type": "code",
   "execution_count": null,
   "metadata": {},
   "outputs": [],
   "source": [
    "df_2020 = pd.read_parquet('../data/processed/datasetSMOTENC2020.parquet')\n",
    "#df_2020['data_inversa'] = pd.to_datetime(df_2020['data_inversa'])\n",
    "#df_2020.head()\n",
    "df_2020 = df_2020.drop(['data_inversa'], axis=1)\n",
    "\n",
    "SZ(df_2020)\n",
    "DT(df_2020)"
   ]
  },
  {
   "cell_type": "markdown",
   "metadata": {},
   "source": [
    "# Modelling Classification via PyCaret"
   ]
  },
  {
   "cell_type": "markdown",
   "metadata": {},
   "source": [
    "You can see the documentation in [Pycaret Classification](https://pycaret.org/classification/)"
   ]
  },
  {
   "cell_type": "code",
   "execution_count": null,
   "metadata": {
    "ExecuteTime": {
     "end_time": "2021-02-02T02:12:11.915533Z",
     "start_time": "2021-02-02T02:12:11.693383Z"
    },
    "run_control": {
     "marked": true
    }
   },
   "outputs": [],
   "source": [
    "ignore_columns = ['id'] #['id', 'data_inversa', 'risco_morte']"
   ]
  },
  {
   "cell_type": "code",
   "execution_count": null,
   "metadata": {
    "ExecuteTime": {
     "end_time": "2021-02-02T02:12:13.392580Z",
     "start_time": "2021-02-02T02:12:13.190123Z"
    },
    "run_control": {
     "marked": true
    }
   },
   "outputs": [],
   "source": [
    "cat_columns = [\n",
    "      'dia_semana'\n",
    "    , 'fase_dia'\n",
    "    , 'sentido_via'\n",
    "    , 'condicao_metereologica'\n",
    "    , 'tipo_pista'\n",
    "    , 'tracado_via'\n",
    "    , 'uf'\n",
    "    , 'uso_solo'\n",
    "    , 'em_janela_feriado'\n",
    "]"
   ]
  },
  {
   "cell_type": "code",
   "execution_count": null,
   "metadata": {
    "ExecuteTime": {
     "end_time": "2021-02-02T02:12:13.594041Z",
     "start_time": "2021-02-02T02:12:13.399563Z"
    },
    "run_control": {
     "marked": true
    }
   },
   "outputs": [],
   "source": [
    "num_columns = [\n",
    "    'coordenada_x'\n",
    "    , 'coordenada_y'\n",
    "    , 'coordenada_z'\n",
    "    , 'risco'\n",
    "    , 'risco_morte'\n",
    "    ,'pessoas'\n",
    "]"
   ]
  },
  {
   "cell_type": "code",
   "execution_count": null,
   "metadata": {},
   "outputs": [],
   "source": [
    "distFeaturesNumericas(df_datatran_train,num_columns)"
   ]
  },
  {
   "cell_type": "code",
   "execution_count": null,
   "metadata": {},
   "outputs": [],
   "source": [
    "distFeaturesCategoricas(df_datatran_test,cat_columns)"
   ]
  },
  {
   "cell_type": "code",
   "execution_count": null,
   "metadata": {
    "ExecuteTime": {
     "end_time": "2021-02-02T02:12:13.827418Z",
     "start_time": "2021-02-02T02:12:13.605013Z"
    },
    "run_control": {
     "marked": true
    }
   },
   "outputs": [],
   "source": [
    "folds = 5"
   ]
  },
  {
   "cell_type": "code",
   "execution_count": null,
   "metadata": {
    "ExecuteTime": {
     "end_time": "2021-02-02T02:12:40.207202Z",
     "start_time": "2021-02-02T02:12:13.839387Z"
    },
    "run_control": {
     "marked": true
    },
    "scrolled": false
   },
   "outputs": [],
   "source": [
    "exp_reg = setup(df_datatran_train, target = 'contem_vitima_fatal', \n",
    "                numeric_features = num_columns,\n",
    "                categorical_features = cat_columns,\n",
    "                ignore_features = ignore_columns,\n",
    "                normalize=True,\n",
    "                pca=False, \n",
    "                create_clusters=False,\n",
    "                fix_imbalance=False,\n",
    "                #fix_imbalance_method = smote_nc,\n",
    "                data_split_stratify=True,\n",
    "                ignore_low_variance=True, \n",
    "                transformation=False, \n",
    "                train_size=0.8, \n",
    "                combine_rare_levels=True,\n",
    "                fold=folds,\n",
    "                rare_level_threshold=0.10,\n",
    "                feature_ratio=False,\n",
    "                feature_interaction=False,\n",
    "                feature_selection=True,\n",
    "                remove_multicollinearity=True, \n",
    "                remove_perfect_collinearity=True, \n",
    "                remove_outliers=False, \n",
    "                polynomial_features=False,\n",
    "                session_id=123,\n",
    "                #log_experiment=True,\n",
    "                experiment_name='Predict Fatal Victim smotek5',\n",
    "#                 log_plots=True,\n",
    "#                 log_profile=False,\n",
    "#                 log_data=True,\n",
    "                silent=False,\n",
    "                verbose=True,\n",
    "                profile=False,\n",
    "               )"
   ]
  },
  {
   "cell_type": "code",
   "execution_count": null,
   "metadata": {
    "ExecuteTime": {
     "end_time": "2020-12-02T13:34:02.132256Z",
     "start_time": "2020-12-02T13:34:01.846296Z"
    }
   },
   "outputs": [],
   "source": [
    "models()"
   ]
  },
  {
   "cell_type": "markdown",
   "metadata": {},
   "source": [
    "## Comparing All Models"
   ]
  },
  {
   "cell_type": "markdown",
   "metadata": {},
   "source": [
    "Comparing all models to evaluate performance is the recommended starting point for modeling once the setup is completed (unless you exactly know what kind of model you need, which is often not the case). This function trains all models in the model library and scores them using stratified cross validation for metric evaluation. The output prints a score grid that shows average Accuracy, Recall, Precision, F1, Kappa, and MCC accross the folds (10 by default) along with training times."
   ]
  },
  {
   "cell_type": "code",
   "execution_count": null,
   "metadata": {
    "ExecuteTime": {
     "end_time": "2021-02-02T11:03:02.816623Z",
     "start_time": "2021-02-02T02:12:40.207202Z"
    },
    "run_control": {
     "marked": false
    },
    "scrolled": false
   },
   "outputs": [],
   "source": [
    "%%time\n",
    "best = compare_models(\n",
    "    sort='AUC',\n",
    "    exclude=['ridge', 'svm', 'lr', 'ada', 'lda', 'nb', 'qda'],\n",
    "    fold=folds,\n",
    "    n_select=3,\n",
    "    turbo=True)"
   ]
  },
  {
   "cell_type": "markdown",
   "metadata": {},
   "source": [
    "Note: The AUC metric is not available for Multiclass classification however the column will still be shown with zero values to maintain consistency between the Binary Classification and Multiclass Classification display grids."
   ]
  },
  {
   "cell_type": "markdown",
   "metadata": {},
   "source": [
    "## Create a Model"
   ]
  },
  {
   "cell_type": "markdown",
   "metadata": {},
   "source": [
    "`create_model` is the most granular function in PyCaret and is often the foundation behind most of the PyCaret functionalities. As the name suggests this function trains and evaluates a model using cross validation that can be set with fold parameter. The output prints a score grid that shows Accuracy, Recall, Precision, F1, Kappa and MCC by fold."
   ]
  },
  {
   "cell_type": "code",
   "execution_count": null,
   "metadata": {
    "ExecuteTime": {
     "end_time": "2021-01-25T15:19:07.799806Z",
     "start_time": "2021-01-25T15:10:54.691115Z"
    }
   },
   "outputs": [],
   "source": [
    "model_et = create_model('et', fold=folds)"
   ]
  },
  {
   "cell_type": "code",
   "execution_count": null,
   "metadata": {
    "ExecuteTime": {
     "end_time": "2021-02-02T11:07:30.881088Z",
     "start_time": "2021-02-02T11:04:11.263934Z"
    }
   },
   "outputs": [],
   "source": [
    "model_rf = create_model('rf', fold=folds)"
   ]
  },
  {
   "cell_type": "code",
   "execution_count": null,
   "metadata": {
    "ExecuteTime": {
     "end_time": "2021-01-25T15:25:20.095269Z",
     "start_time": "2021-01-25T15:24:49.398520Z"
    }
   },
   "outputs": [],
   "source": [
    "model_dt = create_model('dt', fold=folds)"
   ]
  },
  {
   "cell_type": "code",
   "execution_count": null,
   "metadata": {
    "ExecuteTime": {
     "end_time": "2021-01-25T15:25:54.096004Z",
     "start_time": "2021-01-25T15:25:20.095269Z"
    }
   },
   "outputs": [],
   "source": [
    "model_lgbm = create_model('lightgbm', fold=folds)"
   ]
  },
  {
   "cell_type": "code",
   "execution_count": null,
   "metadata": {
    "ExecuteTime": {
     "end_time": "2021-01-25T15:37:12.279029Z",
     "start_time": "2021-01-25T15:25:54.096004Z"
    }
   },
   "outputs": [],
   "source": [
    "model_cat = create_model('catboost', fold=folds)"
   ]
  },
  {
   "cell_type": "code",
   "execution_count": null,
   "metadata": {
    "ExecuteTime": {
     "end_time": "2021-01-25T15:40:50.249303Z",
     "start_time": "2021-01-25T15:37:12.279029Z"
    }
   },
   "outputs": [],
   "source": [
    "model_xgb = create_model('xgboost', fold=folds)"
   ]
  },
  {
   "cell_type": "markdown",
   "metadata": {},
   "source": [
    "## Tune a Model"
   ]
  },
  {
   "cell_type": "markdown",
   "metadata": {},
   "source": [
    "When a model is created using the create_model() function it uses the default hyperparameters to train the model. In order to tune hyperparameters, the tune_model() function is used. This function automatically tunes the hyperparameters of a model using Random Grid Search on a pre-defined search space. The output prints a score grid that shows Accuracy, AUC, Recall, Precision, F1, Kappa, and MCC by fold for the best model. To use the custom search grid, you can pass custom_grid parameter in the tune_model function (see 9.2 KNN tuning below)."
   ]
  },
  {
   "cell_type": "code",
   "execution_count": null,
   "metadata": {
    "ExecuteTime": {
     "end_time": "2020-12-07T20:30:48.144683Z",
     "start_time": "2020-12-07T20:05:31.494906Z"
    }
   },
   "outputs": [],
   "source": [
    "param_test ={'learning_rate' : [1e-5, 1e-3, 1e-2, 5e-1, 1e-1],\n",
    "             'n_estimators' : sp_randint(10, 1000),\n",
    "             'num_leaves': sp_randint(6, 75), \n",
    "             'min_child_samples': sp_randint(100, 500), \n",
    "             'min_child_weight': [1e-5, 1e-3, 1e-2, 1e-1, 1, 1e1, 1e2, 1e3, 1e4],\n",
    "             'subsample': sp_uniform(loc=0.2, scale=0.8), \n",
    "             'colsample_bytree': sp_uniform(loc=0.4, scale=0.6),\n",
    "             'reg_alpha': [0, 1e-1, 1, 2, 5, 7, 10, 50, 100],\n",
    "             'reg_lambda': [0, 1e-1, 1, 5, 10, 20, 50, 100]}\n",
    "\n",
    "tuned_model_lgbm = tune_model(model_lgbm, n_iter=100, custom_grid=param_test, optimize='AUC', choose_better=True)"
   ]
  },
  {
   "cell_type": "markdown",
   "metadata": {},
   "source": [
    "The `tune_model()` function is a random grid search of hyperparameters over a pre-defined search space."
   ]
  },
  {
   "cell_type": "code",
   "execution_count": null,
   "metadata": {
    "ExecuteTime": {
     "end_time": "2020-12-07T22:04:46.278788Z",
     "start_time": "2020-12-07T20:30:48.146366Z"
    },
    "scrolled": true
   },
   "outputs": [],
   "source": [
    "tuned_model_cat = tune_model(model_cat, n_iter=100, optimize='AUC', choose_better=True)"
   ]
  },
  {
   "cell_type": "markdown",
   "metadata": {},
   "source": [
    "## Ensemble Model"
   ]
  },
  {
   "cell_type": "code",
   "execution_count": null,
   "metadata": {
    "ExecuteTime": {
     "end_time": "2020-12-07T22:53:18.433945Z",
     "start_time": "2020-12-07T22:04:46.280753Z"
    }
   },
   "outputs": [],
   "source": [
    "bagging_tuned_model_cat = ensemble_model(tuned_model_cat, fold=folds)"
   ]
  },
  {
   "cell_type": "code",
   "execution_count": null,
   "metadata": {
    "ExecuteTime": {
     "end_time": "2020-12-07T22:54:56.577136Z",
     "start_time": "2020-12-07T22:53:18.435906Z"
    }
   },
   "outputs": [],
   "source": [
    "bagging_tuned_model_lgbm = ensemble_model(tuned_model_lgbm, fold=folds)"
   ]
  },
  {
   "cell_type": "markdown",
   "metadata": {},
   "source": [
    "## Stack Model"
   ]
  },
  {
   "cell_type": "code",
   "execution_count": null,
   "metadata": {
    "ExecuteTime": {
     "end_time": "2020-12-07T23:43:03.995526Z",
     "start_time": "2020-12-07T22:54:56.579121Z"
    }
   },
   "outputs": [],
   "source": [
    "stacked_models = stack_models(estimator_list = best[1:], meta_model = best[0])"
   ]
  },
  {
   "cell_type": "markdown",
   "metadata": {},
   "source": [
    "## Plot a Model"
   ]
  },
  {
   "cell_type": "markdown",
   "metadata": {},
   "source": [
    "Before model finalization, the `plot_model()` function can be used to analyze the performance across different aspects such as AUC, confusion_matrix, decision boundary etc. This function takes a trained model object and returns a plot based on the test / hold-out set."
   ]
  },
  {
   "cell_type": "code",
   "execution_count": null,
   "metadata": {
    "ExecuteTime": {
     "end_time": "2021-02-02T11:07:36.597560Z",
     "start_time": "2021-02-02T11:07:30.886079Z"
    }
   },
   "outputs": [],
   "source": [
    "plot_model(model_cat, 'confusion_matrix')"
   ]
  },
  {
   "cell_type": "code",
   "execution_count": null,
   "metadata": {},
   "outputs": [],
   "source": [
    "plot_model(model_dt, 'confusion_matrix')"
   ]
  },
  {
   "cell_type": "code",
   "execution_count": null,
   "metadata": {
    "ExecuteTime": {
     "end_time": "2021-02-02T11:07:41.793589Z",
     "start_time": "2021-02-02T11:07:36.602551Z"
    }
   },
   "outputs": [],
   "source": [
    "plot_model(model_rf, 'class_report')"
   ]
  },
  {
   "cell_type": "code",
   "execution_count": null,
   "metadata": {
    "ExecuteTime": {
     "end_time": "2020-12-08T01:03:13.657355Z",
     "start_time": "2020-12-08T01:03:10.615982Z"
    }
   },
   "outputs": [],
   "source": [
    "plot_model(bagging_tuned_model_cat, 'auc')"
   ]
  },
  {
   "cell_type": "code",
   "execution_count": null,
   "metadata": {
    "ExecuteTime": {
     "end_time": "2020-12-08T01:03:16.925543Z",
     "start_time": "2020-12-08T01:03:13.659349Z"
    }
   },
   "outputs": [],
   "source": [
    "plot_model(bagging_tuned_model_cat, 'pr')"
   ]
  },
  {
   "cell_type": "code",
   "execution_count": null,
   "metadata": {
    "ExecuteTime": {
     "end_time": "2020-12-08T01:03:20.147355Z",
     "start_time": "2020-12-08T01:03:16.938514Z"
    }
   },
   "outputs": [],
   "source": [
    "plot_model(bagging_tuned_model_cat, 'error')"
   ]
  },
  {
   "cell_type": "code",
   "execution_count": null,
   "metadata": {
    "ExecuteTime": {
     "end_time": "2020-12-08T01:03:23.001333Z",
     "start_time": "2020-12-08T01:03:20.154514Z"
    }
   },
   "outputs": [],
   "source": [
    "plot_model(bagging_tuned_model_cat, 'calibration')"
   ]
  },
  {
   "cell_type": "code",
   "execution_count": null,
   "metadata": {
    "ExecuteTime": {
     "end_time": "2020-12-08T01:09:23.713673Z",
     "start_time": "2020-12-08T01:03:23.009311Z"
    }
   },
   "outputs": [],
   "source": [
    "plot_model(bagging_tuned_model_cat, 'boundary')"
   ]
  },
  {
   "cell_type": "code",
   "execution_count": null,
   "metadata": {
    "ExecuteTime": {
     "end_time": "2020-12-08T01:09:36.217423Z",
     "start_time": "2020-12-08T01:09:23.718897Z"
    }
   },
   "outputs": [],
   "source": [
    "plot_model(bagging_tuned_model_cat, 'dimension')"
   ]
  },
  {
   "cell_type": "code",
   "execution_count": null,
   "metadata": {
    "ExecuteTime": {
     "end_time": "2020-12-08T12:53:29.087629Z",
     "start_time": "2020-12-08T01:09:36.222695Z"
    }
   },
   "outputs": [],
   "source": [
    "plot_model(bagging_tuned_model_cat, 'vc')"
   ]
  },
  {
   "cell_type": "code",
   "execution_count": null,
   "metadata": {
    "ExecuteTime": {
     "end_time": "2020-12-08T12:53:29.105400Z",
     "start_time": "2020-12-08T01:03:13.381Z"
    }
   },
   "outputs": [],
   "source": [
    "plot_model(bagging_tuned_model_cat, 'manifold')"
   ]
  },
  {
   "cell_type": "code",
   "execution_count": null,
   "metadata": {
    "ExecuteTime": {
     "end_time": "2020-12-08T12:53:29.109480Z",
     "start_time": "2020-12-08T01:03:13.561Z"
    }
   },
   "outputs": [],
   "source": [
    "plot_model(bagging_tuned_model_cat, 'learning')"
   ]
  },
  {
   "cell_type": "code",
   "execution_count": null,
   "metadata": {
    "ExecuteTime": {
     "end_time": "2020-12-08T12:53:29.113485Z",
     "start_time": "2020-12-08T01:03:13.740Z"
    }
   },
   "outputs": [],
   "source": [
    "plot_model(bagging_tuned_model_cat, 'rfe')"
   ]
  },
  {
   "cell_type": "code",
   "execution_count": null,
   "metadata": {
    "ExecuteTime": {
     "end_time": "2020-12-08T12:53:29.117755Z",
     "start_time": "2020-12-08T01:03:14.106Z"
    }
   },
   "outputs": [],
   "source": [
    "plot_model(bagging_tuned_model_cat, 'threshold')"
   ]
  },
  {
   "cell_type": "code",
   "execution_count": null,
   "metadata": {
    "ExecuteTime": {
     "end_time": "2021-01-25T15:40:52.612793Z",
     "start_time": "2021-01-25T15:40:50.249303Z"
    },
    "scrolled": false
   },
   "outputs": [],
   "source": [
    "plot_model(model_et, 'feature')"
   ]
  },
  {
   "cell_type": "code",
   "execution_count": null,
   "metadata": {
    "ExecuteTime": {
     "end_time": "2021-02-02T11:07:44.227153Z",
     "start_time": "2021-02-02T11:07:41.797579Z"
    }
   },
   "outputs": [],
   "source": [
    "plot_model(model_rf, 'feature')"
   ]
  },
  {
   "cell_type": "code",
   "execution_count": null,
   "metadata": {
    "ExecuteTime": {
     "end_time": "2021-01-25T15:40:54.961200Z",
     "start_time": "2021-01-25T15:40:54.402161Z"
    }
   },
   "outputs": [],
   "source": [
    "plot_model(model_dt, 'feature')"
   ]
  },
  {
   "cell_type": "code",
   "execution_count": null,
   "metadata": {
    "ExecuteTime": {
     "end_time": "2021-01-25T15:40:55.511039Z",
     "start_time": "2021-01-25T15:40:54.963196Z"
    }
   },
   "outputs": [],
   "source": [
    "plot_model(model_cat, 'feature')"
   ]
  },
  {
   "cell_type": "code",
   "execution_count": null,
   "metadata": {},
   "outputs": [],
   "source": [
    "plot_model(tuned_model_cat, 'feature')"
   ]
  },
  {
   "cell_type": "code",
   "execution_count": null,
   "metadata": {
    "ExecuteTime": {
     "end_time": "2021-01-25T15:40:56.115803Z",
     "start_time": "2021-01-25T15:40:55.511039Z"
    }
   },
   "outputs": [],
   "source": [
    "plot_model(model_lgbm, 'feature')"
   ]
  },
  {
   "cell_type": "code",
   "execution_count": null,
   "metadata": {
    "ExecuteTime": {
     "end_time": "2021-01-25T15:40:56.968123Z",
     "start_time": "2021-01-25T15:40:56.115803Z"
    }
   },
   "outputs": [],
   "source": [
    "plot_model(model_xgb, 'feature')"
   ]
  },
  {
   "cell_type": "markdown",
   "metadata": {},
   "source": [
    "## Optimize Threshold"
   ]
  },
  {
   "cell_type": "code",
   "execution_count": null,
   "metadata": {
    "ExecuteTime": {
     "end_time": "2021-01-30T14:56:51.391524Z",
     "start_time": "2021-01-30T14:56:46.917325Z"
    }
   },
   "outputs": [],
   "source": [
    "model_predicted_test = predict_model(model_rf)"
   ]
  },
  {
   "cell_type": "code",
   "execution_count": null,
   "metadata": {
    "ExecuteTime": {
     "end_time": "2020-12-08T00:33:01.769892Z",
     "start_time": "2020-12-08T00:32:44.053455Z"
    }
   },
   "outputs": [],
   "source": [
    "f1_score_array = []\n",
    "thresholds_list = np.linspace(0,1,101)\n",
    "\n",
    "with tqdm(total = len(thresholds_list)) as pbar:\n",
    "    for threshold in thresholds_list:\n",
    "        model_predicted_test['contem_vitima_fatal'] = model_predicted_test['contem_vitima_fatal'].astype(int)\n",
    "        model_predicted_test['y_pred'] = model_predicted_test.apply(lambda x: 1 if x['Score'] >= threshold else 0, axis=1)\n",
    "\n",
    "        f1_score_array.append(f1_score(model_predicted_test['contem_vitima_fatal'], model_predicted_test['y_pred']))\n",
    "\n",
    "        pbar.update()\n",
    "\n",
    "    print(f'Best threshold for model = {thresholds_list[np.argmax(f1_score_array)]}')\n",
    "\n",
    "    plt.plot(thresholds_list, f1_score_array)\n",
    "    plt.axvline(x=thresholds_list[np.argmax(f1_score_array)])\n",
    "    plt.show()"
   ]
  },
  {
   "cell_type": "markdown",
   "metadata": {},
   "source": [
    "## Predict Model"
   ]
  },
  {
   "cell_type": "code",
   "execution_count": null,
   "metadata": {
    "ExecuteTime": {
     "end_time": "2021-02-02T11:07:44.643671Z",
     "start_time": "2021-02-02T11:07:44.227153Z"
    }
   },
   "outputs": [],
   "source": [
    "def generate_metrics(df, y_true, y_pred, average='macro', labels = [0, 1]):\n",
    "    df['y_true'] = df[y_true].astype(str)\n",
    "    df['y_pred'] = df[y_pred].astype(str)\n",
    "    \n",
    "    print(classification_report(df['y_true'], df['y_pred'], labels=labels))"
   ]
  },
  {
   "cell_type": "code",
   "execution_count": null,
   "metadata": {
    "ExecuteTime": {
     "end_time": "2020-11-24T19:50:08.349205Z",
     "start_time": "2020-11-24T19:50:07.723566Z"
    }
   },
   "outputs": [],
   "source": [
    "# tuned_model_xgb_final = finalize_model(tuned_model_xgb)"
   ]
  },
  {
   "cell_type": "code",
   "execution_count": null,
   "metadata": {
    "ExecuteTime": {
     "end_time": "2021-02-02T11:07:46.046259Z",
     "start_time": "2021-02-02T11:07:44.647660Z"
    }
   },
   "outputs": [],
   "source": [
    "df_train = get_config(\"X_train\").reset_index()[['index']].merge(new_df.drop(ignore_columns, axis=1).reset_index(), how='left', on='index')\n",
    "del df_train['index']"
   ]
  },
  {
   "cell_type": "code",
   "execution_count": null,
   "metadata": {
    "ExecuteTime": {
     "end_time": "2021-02-02T11:08:07.698952Z",
     "start_time": "2021-02-02T11:07:46.046259Z"
    }
   },
   "outputs": [],
   "source": [
    "model_predicted_train = predict_model(model_rf, data=df_train)"
   ]
  },
  {
   "cell_type": "code",
   "execution_count": null,
   "metadata": {
    "ExecuteTime": {
     "end_time": "2021-02-02T11:08:11.499108Z",
     "start_time": "2021-02-02T11:08:07.698952Z"
    }
   },
   "outputs": [],
   "source": [
    "model_predicted_test = predict_model(model_rf)"
   ]
  },
  {
   "cell_type": "code",
   "execution_count": null,
   "metadata": {
    "ExecuteTime": {
     "end_time": "2021-02-02T11:08:41.227516Z",
     "start_time": "2021-02-02T11:08:11.499108Z"
    }
   },
   "outputs": [],
   "source": [
    "print('------------------- Train Metrics -------------------')\n",
    "generate_metrics(model_predicted_train, 'contem_vitima_fatal', 'Label')\n",
    "\n",
    "print('------------------- Test Metrics -------------------')\n",
    "generate_metrics(model_predicted_test, 'contem_vitima_fatal', 'Label')"
   ]
  },
  {
   "cell_type": "code",
   "execution_count": null,
   "metadata": {
    "ExecuteTime": {
     "end_time": "2020-11-24T19:51:15.972335Z",
     "start_time": "2020-11-24T19:51:01.469561Z"
    }
   },
   "outputs": [],
   "source": [
    "model_predicted_train = predict_model(model_lgbm, data=df_train)"
   ]
  },
  {
   "cell_type": "code",
   "execution_count": null,
   "metadata": {
    "ExecuteTime": {
     "end_time": "2020-11-24T19:51:18.051853Z",
     "start_time": "2020-11-24T19:51:15.974959Z"
    }
   },
   "outputs": [],
   "source": [
    "model_predicted_test = predict_model(model_lgbm)"
   ]
  },
  {
   "cell_type": "code",
   "execution_count": null,
   "metadata": {
    "ExecuteTime": {
     "end_time": "2020-11-24T19:51:39.439050Z",
     "start_time": "2020-11-24T19:51:18.051853Z"
    }
   },
   "outputs": [],
   "source": [
    "print('------------------- Train Metrics -------------------')\n",
    "generate_metrics(model_predicted_train, 'contem_vitima_fatal', 'Label')\n",
    "\n",
    "print('------------------- Test Metrics -------------------')\n",
    "generate_metrics(model_predicted_test, 'contem_vitima_fatal', 'Label')"
   ]
  },
  {
   "cell_type": "code",
   "execution_count": null,
   "metadata": {
    "ExecuteTime": {
     "end_time": "2020-11-24T19:51:51.721544Z",
     "start_time": "2020-11-24T19:51:39.441047Z"
    }
   },
   "outputs": [],
   "source": [
    "model_predicted_train = predict_model(model_cat, data=df_train)"
   ]
  },
  {
   "cell_type": "code",
   "execution_count": null,
   "metadata": {
    "ExecuteTime": {
     "end_time": "2020-11-24T19:51:53.009934Z",
     "start_time": "2020-11-24T19:51:51.721544Z"
    }
   },
   "outputs": [],
   "source": [
    "model_predicted_test = predict_model(model_cat)"
   ]
  },
  {
   "cell_type": "code",
   "execution_count": null,
   "metadata": {
    "ExecuteTime": {
     "end_time": "2020-11-24T19:52:17.245450Z",
     "start_time": "2020-11-24T19:51:53.011396Z"
    }
   },
   "outputs": [],
   "source": [
    "print('------------------- Train Metrics -------------------')\n",
    "generate_metrics(model_predicted_train, 'contem_vitima_fatal', 'Label')\n",
    "\n",
    "print('------------------- Test Metrics -------------------')\n",
    "generate_metrics(model_predicted_test, 'contem_vitima_fatal', 'Label')"
   ]
  },
  {
   "cell_type": "code",
   "execution_count": null,
   "metadata": {
    "ExecuteTime": {
     "end_time": "2020-10-30T18:24:44.330347Z",
     "start_time": "2020-10-30T18:24:42.901851Z"
    }
   },
   "outputs": [],
   "source": [
    "plot_data = [\n",
    "    go.Histogram(\n",
    "        x = tx_data['TARGET'],\n",
    "        orientation='v',\n",
    "        name='Segmentos'\n",
    "    )\n",
    "]\n",
    "\n",
    "plot_layout = go.Layout(\n",
    "        width=700,\n",
    "        height=300\n",
    "    )\n",
    "fig = go.Figure(data=plot_data, layout=plot_layout)\n",
    "pyoff.iplot(fig)"
   ]
  },
  {
   "cell_type": "code",
   "execution_count": null,
   "metadata": {},
   "outputs": [],
   "source": [
    "r = evaluate_all(lgbm_final_pred_test['y_true'], lgbm_final_pred_test['y_pred'])"
   ]
  },
  {
   "cell_type": "code",
   "execution_count": null,
   "metadata": {},
   "outputs": [],
   "source": [
    "lgbm_final_pred_test.to_csv(\"../data/processed/Predict Revenue Purchase_LGBM_129.csv\", index=False)"
   ]
  },
  {
   "cell_type": "markdown",
   "metadata": {},
   "source": [
    "Finalize and Save Model"
   ]
  },
  {
   "cell_type": "code",
   "execution_count": null,
   "metadata": {
    "ExecuteTime": {
     "end_time": "2021-02-02T11:14:01.565573Z",
     "start_time": "2021-02-02T11:09:27.818732Z"
    }
   },
   "outputs": [],
   "source": [
    "model_rf_finalized = finalize_model(model_rf)"
   ]
  },
  {
   "cell_type": "code",
   "execution_count": null,
   "metadata": {
    "ExecuteTime": {
     "end_time": "2021-02-02T11:14:03.850555Z",
     "start_time": "2021-02-02T11:14:01.569563Z"
    }
   },
   "outputs": [],
   "source": [
    "save_model(model_rf, \"../models/model_rf_02_02_2021\", verbose=True)"
   ]
  },
  {
   "cell_type": "code",
   "execution_count": null,
   "metadata": {
    "ExecuteTime": {
     "end_time": "2021-01-24T13:51:32.140058Z",
     "start_time": "2021-01-24T13:51:18.710882Z"
    }
   },
   "outputs": [],
   "source": [
    "model_predicted_et = predict_model(model_et)\n",
    "\n",
    "print('------------------- et -------------------')\n",
    "generate_metrics(model_predicted_et, 'contem_vitima_fatal', 'Label')"
   ]
  },
  {
   "cell_type": "code",
   "execution_count": null,
   "metadata": {
    "ExecuteTime": {
     "end_time": "2021-01-24T13:51:43.904796Z",
     "start_time": "2021-01-24T13:51:32.141055Z"
    }
   },
   "outputs": [],
   "source": [
    "model_predicted_rf = predict_model(model_rf)\n",
    "\n",
    "print('------------------- rf -------------------')\n",
    "generate_metrics(model_predicted_rf, 'contem_vitima_fatal', 'Label')"
   ]
  },
  {
   "cell_type": "code",
   "execution_count": null,
   "metadata": {
    "ExecuteTime": {
     "end_time": "2021-01-24T13:51:52.096657Z",
     "start_time": "2021-01-24T13:51:43.905761Z"
    }
   },
   "outputs": [],
   "source": [
    "model_predicted_dt = predict_model(model_dt)\n",
    "\n",
    "print('------------------- dt -------------------')\n",
    "generate_metrics(model_predicted_dt, 'contem_vitima_fatal', 'Label')"
   ]
  },
  {
   "cell_type": "code",
   "execution_count": null,
   "metadata": {
    "ExecuteTime": {
     "end_time": "2021-01-24T13:51:59.826450Z",
     "start_time": "2021-01-24T13:51:52.097654Z"
    }
   },
   "outputs": [],
   "source": [
    "model_predicted_cat = predict_model(model_cat)\n",
    "\n",
    "print('------------------- cat -------------------')\n",
    "generate_metrics(model_predicted_cat, 'contem_vitima_fatal', 'Label')"
   ]
  },
  {
   "cell_type": "code",
   "execution_count": null,
   "metadata": {
    "ExecuteTime": {
     "end_time": "2021-01-24T13:52:08.807732Z",
     "start_time": "2021-01-24T13:51:59.827448Z"
    }
   },
   "outputs": [],
   "source": [
    "model_predicted_lgbm = predict_model(model_lgbm)\n",
    "\n",
    "print('------------------- lgbm -------------------')\n",
    "generate_metrics(model_predicted_lgbm, 'contem_vitima_fatal', 'Label')"
   ]
  },
  {
   "cell_type": "code",
   "execution_count": null,
   "metadata": {
    "ExecuteTime": {
     "end_time": "2021-01-24T13:52:19.406935Z",
     "start_time": "2021-01-24T13:52:08.808761Z"
    }
   },
   "outputs": [],
   "source": [
    "model_predicted_xgb = predict_model(model_xgb)\n",
    "\n",
    "print('------------------- xgb -------------------')\n",
    "generate_metrics(model_predicted_xgb, 'contem_vitima_fatal', 'Label')"
   ]
  },
  {
   "cell_type": "code",
   "execution_count": null,
   "metadata": {},
   "outputs": [],
   "source": [
    "df_2020 = pd.read_parquet('../data/processed/datasetSMOTENC2020.parquet')\n",
    "df_2020['data_inversa'] = pd.to_datetime(df_2020['data_inversa'])\n",
    "df_2020.head()\n",
    "df_2020 = df_2020.drop(['data_inversa','risco_morte','em_janela_feriado'], axis=1)\n",
    "\n",
    "SZ(new_df_resampled)\n",
    "DT(new_df_resampled)\n",
    "SZ(df_2020)\n",
    "DT(df_2020)"
   ]
  },
  {
   "cell_type": "code",
   "execution_count": null,
   "metadata": {},
   "outputs": [],
   "source": [
    "df_train = get_config(\"X_train\").reset_index()[['index']].merge(new_df_resampled.drop(ignore_columns, axis=1).reset_index(), how='left', on='index')\n",
    "df_train.head()"
   ]
  },
  {
   "cell_type": "code",
   "execution_count": null,
   "metadata": {},
   "outputs": [],
   "source": [
    "SZ(df_train)\n",
    "DT(df_train)\n",
    "SZ(df_2020)\n",
    "DT(df_2020)\n"
   ]
  },
  {
   "cell_type": "code",
   "execution_count": null,
   "metadata": {
    "ExecuteTime": {
     "end_time": "2021-02-02T02:12:12.388266Z",
     "start_time": "2021-02-02T02:12:11.925503Z"
    },
    "run_control": {
     "marked": true
    }
   },
   "outputs": [],
   "source": [
    "z_score2020 = stats.zscore(df_2020.drop(['id'], axis=1).drop(['contem_vitima_fatal'], axis=1).select_dtypes(include=[np.number]))"
   ]
  },
  {
   "cell_type": "code",
   "execution_count": null,
   "metadata": {
    "ExecuteTime": {
     "end_time": "2021-02-02T02:12:12.725370Z",
     "start_time": "2021-02-02T02:12:12.397257Z"
    },
    "run_control": {
     "marked": true
    }
   },
   "outputs": [],
   "source": [
    "abs_z_scores2020 = np.abs(z_score2020)\n",
    "filtered_entries2020 = (abs_z_scores2020 < 3).all(axis=1)\n",
    "sum(filtered_entries2020)#\n",
    "new_df2020 = df_2020[filtered_entries2020]"
   ]
  },
  {
   "cell_type": "code",
   "execution_count": null,
   "metadata": {},
   "outputs": [],
   "source": [
    "#df_2020['contem_vitima_fatal'].value_counts().plot(kind='bar', title='Count (target)');\n",
    "df_2020_0 = df_2020[df_2020['contem_vitima_fatal'] == 0]\n",
    "df_2020_1 = df_2020[df_2020['contem_vitima_fatal'] == 1]\n",
    "print(df_2020_0.shape[0]/(df_2020_0.shape[0]+df_2020_1.shape[0]))\n",
    "print(df_2020_1.shape[0]/(df_2020_0.shape[0]+df_2020_1.shape[0]))"
   ]
  },
  {
   "cell_type": "code",
   "execution_count": null,
   "metadata": {},
   "outputs": [],
   "source": [
    "model_predicted_cat = predict_model(model_cat, data=df_2020)"
   ]
  },
  {
   "cell_type": "code",
   "execution_count": null,
   "metadata": {},
   "outputs": [],
   "source": [
    "print('------------------- cat -------------------')\n",
    "from sklearn.metrics import confusion_matrix\n",
    "confusion_matrix(model_predicted_cat['contem_vitima_fatal'], model_predicted_cat['Label'])"
   ]
  },
  {
   "cell_type": "code",
   "execution_count": null,
   "metadata": {},
   "outputs": [],
   "source": [
    "new_df_2020_0 = new_df2020[new_df2020['contem_vitima_fatal'] == 0]\n",
    "new_df_2020_1 = new_df2020[new_df2020['contem_vitima_fatal'] == 1]\n",
    "print(new_df_2020_0.shape[0]/(new_df_2020_0.shape[0]+new_df_2020_1.shape[0]))\n",
    "print(new_df_2020_1.shape[0]/(new_df_2020_0.shape[0]+new_df_2020_1.shape[0]))"
   ]
  },
  {
   "cell_type": "code",
   "execution_count": null,
   "metadata": {},
   "outputs": [],
   "source": [
    "model_predicted_cat2 = predict_model(model_cat, data=new_df2020)"
   ]
  },
  {
   "cell_type": "code",
   "execution_count": null,
   "metadata": {},
   "outputs": [],
   "source": [
    "print('------------------- cat 2-------------------')\n",
    "confusion_matrix(model_predicted_cat2['contem_vitima_fatal'], model_predicted_cat2['Label'])"
   ]
  },
  {
   "cell_type": "code",
   "execution_count": null,
   "metadata": {},
   "outputs": [],
   "source": [
    "model_predicted_dt = predict_model(model_dt, data=df_2020)\n",
    "\n",
    "print('------------------- dt -------------------')\n",
    "confusion_matrix(model_predicted_dt['contem_vitima_fatal'], model_predicted_dt['Label'])"
   ]
  },
  {
   "cell_type": "code",
   "execution_count": null,
   "metadata": {},
   "outputs": [],
   "source": [
    "df_train = get_config(\"X_train\").reset_index()[['index']].merge(new_df_resampled.drop(ignore_columns, axis=1).reset_index(), how='left', on='index')\n",
    "df_test = get_config(\"X_test\").reset_index()[['index']].merge(new_df_resampled.drop(ignore_columns, axis=1).reset_index(), how='left', on='index')"
   ]
  },
  {
   "cell_type": "code",
   "execution_count": null,
   "metadata": {},
   "outputs": [],
   "source": [
    "model_predicted_cat_train = predict_model(model_cat, data=df_train)\n",
    "confusion_matrix(model_predicted_cat_train['contem_vitima_fatal'], model_predicted_cat_train['Label'])"
   ]
  },
  {
   "cell_type": "code",
   "execution_count": null,
   "metadata": {},
   "outputs": [],
   "source": [
    "model_predicted_cat_test = predict_model(model_cat, data=new_df_split_test)\n",
    "confusion_matrix(model_predicted_cat_test['contem_vitima_fatal'], model_predicted_cat_test['Label'])"
   ]
  },
  {
   "cell_type": "code",
   "execution_count": null,
   "metadata": {},
   "outputs": [],
   "source": [
    "model_predicted_cat = predict_model(model_cat, data=df_2020)\n",
    "confusion_matrix(model_predicted_cat['contem_vitima_fatal'], model_predicted_cat['Label'])"
   ]
  },
  {
   "cell_type": "code",
   "execution_count": null,
   "metadata": {},
   "outputs": [],
   "source": [
    "model_predicted_tunedcat = predict_model(tuned_model_cat, data=df_2020)\n",
    "confusion_matrix(model_predicted_tunedcat['contem_vitima_fatal'], model_predicted_tunedcat['Label'])"
   ]
  },
  {
   "cell_type": "code",
   "execution_count": null,
   "metadata": {},
   "outputs": [],
   "source": [
    "model_predicted_tunedcat_test = predict_model(tuned_model_cat, data=new_df_split_test)\n",
    "confusion_matrix(model_predicted_tunedcat_test['contem_vitima_fatal'], model_predicted_tunedcat_test['Label'])"
   ]
  },
  {
   "cell_type": "code",
   "execution_count": null,
   "metadata": {},
   "outputs": [],
   "source": [
    "model_predicted_dt_train = predict_model(model_dt, data=df_train)\n",
    "confusion_matrix(model_predicted_dt_train['contem_vitima_fatal'], model_predicted_dt_train['Label'])"
   ]
  },
  {
   "cell_type": "code",
   "execution_count": null,
   "metadata": {},
   "outputs": [],
   "source": [
    "from sklearn.metrics import confusion_matrix\n",
    "model_predicted_dt_test = predict_model(model_dt, data=new_df_split_test)\n",
    "confusion_matrix(model_predicted_dt_test['contem_vitima_fatal'], model_predicted_dt_test['Label'])"
   ]
  },
  {
   "cell_type": "code",
   "execution_count": null,
   "metadata": {},
   "outputs": [],
   "source": [
    "model_predicted_dt = predict_model(model_dt, data=df_2020)\n",
    "confusion_matrix(model_predicted_dt['contem_vitima_fatal'], model_predicted_dt['Label'])"
   ]
  },
  {
   "cell_type": "code",
   "execution_count": null,
   "metadata": {},
   "outputs": [],
   "source": [
    "print('------------------- dt test-------------------')\n",
    "print(\"Accuracy : \",accuracy_score(model_predicted_dt_test['contem_vitima_fatal'], model_predicted_dt_test['Label']))\n",
    "#print()\n",
    "print(\"Recall : \",recall_score(model_predicted_dt_test['contem_vitima_fatal'], model_predicted_dt_test['Label']))\n",
    "print(\"Precision : \",precision_score(model_predicted_dt_test['contem_vitima_fatal'], model_predicted_dt_test['Label']))\n",
    "\n",
    "\n",
    "print('------------------- cat test-------------------')\n",
    "print(\"Accuracy : \",accuracy_score(model_predicted_cat_test['contem_vitima_fatal'], model_predicted_cat_test['Label']))\n",
    "print(\"Recall : \",recall_score(model_predicted_cat_test['contem_vitima_fatal'], model_predicted_cat_test['Label']))\n",
    "print(\"Precision : \",precision_score(model_predicted_cat_test['contem_vitima_fatal'], model_predicted_cat_test['Label']))\n",
    "\n",
    "\n",
    "print('------------------- dt 2020-------------------')\n",
    "print(\"Accuracy : \",accuracy_score(model_predicted_dt['contem_vitima_fatal'], model_predicted_dt['Label']))\n",
    "print(\"Recall : \",recall_score(model_predicted_dt['contem_vitima_fatal'], model_predicted_dt['Label']))\n",
    "print(\"Precision : \",precision_score(model_predicted_dt['contem_vitima_fatal'], model_predicted_dt['Label']))\n",
    "\n",
    "\n",
    "print('------------------- cat 2020-------------------')\n",
    "print(\"Accuracy : \",accuracy_score(model_predicted_cat['contem_vitima_fatal'], model_predicted_cat['Label']))\n",
    "print(\"Recall : \",recall_score(model_predicted_cat['contem_vitima_fatal'], model_predicted_cat['Label']))\n",
    "print(\"Precision : \",precision_score(model_predicted_cat['contem_vitima_fatal'], model_predicted_cat['Label']))\n"
   ]
  },
  {
   "cell_type": "code",
   "execution_count": null,
   "metadata": {},
   "outputs": [],
   "source": [
    "print('------------------- cat 2020-------------------')\n",
    "print(\"Accuracy : \",accuracy_score(model_predicted_cat['contem_vitima_fatal'], model_predicted_cat['Label']))\n",
    "print(\"Recall : \",recall_score(model_predicted_cat['contem_vitima_fatal'], model_predicted_cat['Label']))\n",
    "print(\"Precision : \",precision_score(model_predicted_cat['contem_vitima_fatal'], model_predicted_cat['Label']))"
   ]
  },
  {
   "cell_type": "code",
   "execution_count": null,
   "metadata": {},
   "outputs": [],
   "source": [
    "df_train_split = get_config(\"X_train\").reset_index()[['index']].merge(new_df_resampled.drop(ignore_columns, axis=1).reset_index(), how='left', on='index')\n",
    "model_predicted_cat_train_split = predict_model(model_cat, data=df_train_split)\n",
    "print('------------------- cat train split-------------------')\n",
    "print(\"Accuracy : \",accuracy_score(model_predicted_cat_train_split['contem_vitima_fatal'], model_predicted_cat_train_split['Label']))\n",
    "print(\"Recall : \",recall_score(model_predicted_cat_train_split['contem_vitima_fatal'], model_predicted_cat_train_split['Label']))\n",
    "print(\"Precision : \",precision_score(model_predicted_cat_train_split['contem_vitima_fatal'], model_predicted_cat_train_split['Label']))\n",
    "\n",
    "model_predicted_cat_split = predict_model(model_cat, data=new_df_split_test)\n",
    "print('------------------- cat test split-------------------')\n",
    "print(\"Accuracy : \",accuracy_score(model_predicted_cat_split['contem_vitima_fatal'], model_predicted_cat_split['Label']))\n",
    "print(\"Recall : \",recall_score(model_predicted_cat_split['contem_vitima_fatal'], model_predicted_cat_split['Label']))\n",
    "print(\"Precision : \",precision_score(model_predicted_cat_split['contem_vitima_fatal'], model_predicted_cat_split['Label']))\n",
    "\n",
    "\n",
    "model_predicted_cat = predict_model(model_cat, data=df_2020)\n",
    "print('------------------- cat 2020-------------------')\n",
    "print(\"Accuracy : \",accuracy_score(model_predicted_cat['contem_vitima_fatal'], model_predicted_cat['Label']))\n",
    "print(\"Recall : \",recall_score(model_predicted_cat['contem_vitima_fatal'], model_predicted_cat['Label']))\n",
    "print(\"Precision : \",precision_score(model_predicted_cat['contem_vitima_fatal'], model_predicted_cat['Label']))"
   ]
  },
  {
   "cell_type": "code",
   "execution_count": null,
   "metadata": {},
   "outputs": [],
   "source": [
    "df_test = get_config(\"X_test\").reset_index()[['index']].merge(new_df_split_test.drop(ignore_columns, axis=1).reset_index(), how='left', on='index')\n",
    "df_test[df_test['index']==26]"
   ]
  },
  {
   "cell_type": "code",
   "execution_count": null,
   "metadata": {},
   "outputs": [],
   "source": [
    "new_df_split_test.sort_index().iloc[[5]]"
   ]
  },
  {
   "cell_type": "code",
   "execution_count": null,
   "metadata": {},
   "outputs": [],
   "source": [
    "df_test.equals(new_df_split_test)"
   ]
  },
  {
   "cell_type": "code",
   "execution_count": null,
   "metadata": {},
   "outputs": [],
   "source": []
  },
  {
   "cell_type": "code",
   "execution_count": null,
   "metadata": {},
   "outputs": [],
   "source": []
  }
 ],
 "metadata": {
  "kernel_info": {
   "name": "train_models"
  },
  "kernelspec": {
   "display_name": "Python 3",
   "language": "python",
   "name": "python3"
  },
  "language_info": {
   "codemirror_mode": {
    "name": "ipython",
    "version": 3
   },
   "file_extension": ".py",
   "mimetype": "text/x-python",
   "name": "python",
   "nbconvert_exporter": "python",
   "pygments_lexer": "ipython3",
   "version": "3.7.9"
  },
  "toc": {
   "nav_menu": {},
   "number_sections": true,
   "sideBar": true,
   "skip_h1_title": false,
   "title_cell": "Table of Contents",
   "title_sidebar": "Contents",
   "toc_cell": false,
   "toc_position": {
    "height": "calc(100% - 180px)",
    "left": "10px",
    "top": "150px",
    "width": "173.7px"
   },
   "toc_section_display": true,
   "toc_window_display": false
  },
  "toc-autonumbering": true,
  "toc-showmarkdowntxt": true,
  "varInspector": {
   "cols": {
    "lenName": 16,
    "lenType": 16,
    "lenVar": 40
   },
   "kernels_config": {
    "python": {
     "delete_cmd_postfix": "",
     "delete_cmd_prefix": "del ",
     "library": "var_list.py",
     "varRefreshCmd": "print(var_dic_list())"
    },
    "r": {
     "delete_cmd_postfix": ") ",
     "delete_cmd_prefix": "rm(",
     "library": "var_list.r",
     "varRefreshCmd": "cat(var_dic_list()) "
    }
   },
   "types_to_exclude": [
    "module",
    "function",
    "builtin_function_or_method",
    "instance",
    "_Feature"
   ],
   "window_display": false
  }
 },
 "nbformat": 4,
 "nbformat_minor": 4
}
