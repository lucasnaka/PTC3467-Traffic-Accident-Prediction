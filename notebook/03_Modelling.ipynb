{
 "cells": [
  {
   "cell_type": "markdown",
   "metadata": {},
   "source": [
    "# Initial Configs\n"
   ]
  },
  {
   "cell_type": "code",
   "execution_count": null,
   "metadata": {
    "ExecuteTime": {
     "end_time": "2021-02-27T14:45:32.514310Z",
     "start_time": "2021-02-27T14:45:31.681512Z"
    },
    "run_control": {
     "marked": true
    }
   },
   "outputs": [],
   "source": [
    "%reload_ext autoreload\n",
    "%autoreload 2\n",
    "%matplotlib inline"
   ]
  },
  {
   "cell_type": "markdown",
   "metadata": {},
   "source": [
    "# Imports"
   ]
  },
  {
   "cell_type": "code",
   "execution_count": null,
   "metadata": {
    "ExecuteTime": {
     "end_time": "2021-02-27T14:45:38.254767Z",
     "start_time": "2021-02-27T14:45:32.517296Z"
    },
    "run_control": {
     "marked": true
    }
   },
   "outputs": [],
   "source": [
    "from __future__ import division\n",
    "#import libraries\n",
    "# from datetime import datetime, timedelta, date\n",
    "import pandas as pd\n",
    "import matplotlib.pyplot as plt\n",
    "import numpy as np\n",
    "from scipy import stats\n",
    "from scipy.stats import randint as sp_randint\n",
    "from scipy.stats import uniform as sp_uniform\n",
    "import swifter\n",
    "import seaborn as sns\n",
    "\n",
    "#do not show warnings\n",
    "import warnings\n",
    "warnings.filterwarnings(\"ignore\")\n",
    "\n",
    "#import plotly for visualization\n",
    "import chart_studio.plotly as py\n",
    "import plotly.offline as pyoff\n",
    "import plotly.graph_objs as go\n",
    "import plotly.express as px\n",
    "import sys\n",
    "from IPython.core.display import display, HTML\n",
    "sys.path.append('..')\n",
    "pyoff.init_notebook_mode()\n",
    "\n",
    "from pycaret.classification import *\n",
    "from sklearn.metrics import accuracy_score, precision_score, f1_score, recall_score, classification_report\n",
    "from sklearn.metrics import plot_confusion_matrix\n",
    "from sklearn.model_selection import train_test_split\n",
    "from sklearn.metrics import roc_curve\n",
    "from bokeh.resources import INLINE\n",
    "import bokeh.io\n",
    "from bokeh import *\n",
    "\n",
    "from tqdm import tqdm_notebook as tqdm"
   ]
  },
  {
   "cell_type": "code",
   "execution_count": null,
   "metadata": {
    "ExecuteTime": {
     "end_time": "2021-02-27T14:45:38.479167Z",
     "start_time": "2021-02-27T14:45:38.256763Z"
    },
    "run_control": {
     "marked": true
    }
   },
   "outputs": [],
   "source": [
    "from src.visualization.visualize import plot_scatter_segment, pareto_gen\n",
    "from src.utils.frame_utils import stratified_df, date_time_features, reduce_mem_usage\n",
    "from src.utils.cluster_utils import order_cluster\n",
    "from src.utils.eval_utils import evaluate_all"
   ]
  },
  {
   "cell_type": "markdown",
   "metadata": {},
   "source": [
    "# Package configs"
   ]
  },
  {
   "cell_type": "code",
   "execution_count": null,
   "metadata": {
    "ExecuteTime": {
     "end_time": "2021-02-27T14:45:39.190741Z",
     "start_time": "2021-02-27T14:45:38.482160Z"
    },
    "run_control": {
     "marked": true
    }
   },
   "outputs": [],
   "source": [
    "pd.set_option('display.max_columns', None)\n",
    "display(HTML(\"<style>.container { width:100% !important; }</style>\"))\n",
    "pd.set_option('plotting.backend', 'pandas_bokeh')\n",
    "bokeh.io.output_notebook(INLINE)"
   ]
  },
  {
   "cell_type": "code",
   "execution_count": null,
   "metadata": {
    "ExecuteTime": {
     "end_time": "2021-02-27T14:45:39.437190Z",
     "start_time": "2021-02-27T14:45:39.191708Z"
    },
    "code_folding": [
     0
    ]
   },
   "outputs": [],
   "source": [
    "# ts = calendar.timegm(time.gmtime())\n",
    "# dt_object = datetime.fromtimestamp(ts)\n",
    "# date = dt_object.strftime('%m_%d_%Y')"
   ]
  },
  {
   "cell_type": "markdown",
   "metadata": {},
   "source": [
    "# Data"
   ]
  },
  {
   "cell_type": "markdown",
   "metadata": {},
   "source": [
    "## Loads"
   ]
  },
  {
   "cell_type": "code",
   "execution_count": null,
   "metadata": {
    "ExecuteTime": {
     "end_time": "2021-02-27T14:45:39.962279Z",
     "start_time": "2021-02-27T14:45:39.439183Z"
    },
    "run_control": {
     "marked": true
    }
   },
   "outputs": [],
   "source": [
    "df_train = pd.read_parquet('../data/processed/dataset_SMOTENC_TREINO.parquet')\n",
    "df_test = pd.read_parquet('../data/processed/dataset_SMOTENC_TESTE.parquet')\n",
    "# df_datatran = pd.read_parquet('../data/processed/dataset_v1.parquet')\n",
    "# df_datatran['data_inversa'] = pd.to_datetime(df_datatran['data_inversa'])\n",
    "# df_datatran.head()"
   ]
  },
  {
   "cell_type": "markdown",
   "metadata": {},
   "source": [
    "# Modelling Classification via PyCaret"
   ]
  },
  {
   "cell_type": "markdown",
   "metadata": {},
   "source": [
    "You can see the documentation in [Pycaret Classification](https://pycaret.org/classification/)"
   ]
  },
  {
   "cell_type": "code",
   "execution_count": null,
   "metadata": {
    "ExecuteTime": {
     "end_time": "2021-02-23T00:31:55.527096Z",
     "start_time": "2021-02-23T00:31:54.957436Z"
    }
   },
   "outputs": [],
   "source": [
    "# for i in range(6):\n",
    "#     print('Cluster:', i)\n",
    "#     print('Qtde amostras =', df_test.loc[df_test['cluster_coords']==i,:].shape[0])\n",
    "#     print('Qtde amostras 0 =', df_test.loc[(df_test['cluster_coords']==i) & (df_test['contem_vitima_fatal']==0),:].shape[0])\n",
    "#     print('Qtde amostras 1 =', df_test.loc[(df_test['cluster_coords']==i) & (df_test['contem_vitima_fatal']==1),:].shape[0])\n",
    "#     print('% amostras 0 =', df_test.loc[(df_test['cluster_coords']==i) & (df_test['contem_vitima_fatal']==0),:].shape[0]/df_test.loc[(df_test['cluster_coords']==i),:].shape[0])\n",
    "#     print('% amostras 1 =', df_test.loc[(df_test['cluster_coords']==i) & (df_test['contem_vitima_fatal']==1),:].shape[0]/df_test.loc[(df_test['cluster_coords']==i),:].shape[0])"
   ]
  },
  {
   "cell_type": "code",
   "execution_count": null,
   "metadata": {
    "ExecuteTime": {
     "end_time": "2021-02-27T14:46:11.376604Z",
     "start_time": "2021-02-27T14:46:11.181684Z"
    }
   },
   "outputs": [],
   "source": [
    "df_train = df_train.loc[df_train['cluster_coords']==1,:]\n",
    "df_test = df_test.loc[df_test['cluster_coords']==1,:]"
   ]
  },
  {
   "cell_type": "code",
   "execution_count": null,
   "metadata": {
    "ExecuteTime": {
     "end_time": "2021-02-23T00:31:56.860111Z",
     "start_time": "2021-02-23T00:31:56.236747Z"
    }
   },
   "outputs": [],
   "source": [
    "# df_train = df_train.loc[df_train['uf']=='MG',:]\n",
    "# df_test = df_test.loc[df_test['uf']=='MG',:]"
   ]
  },
  {
   "cell_type": "code",
   "execution_count": null,
   "metadata": {
    "ExecuteTime": {
     "end_time": "2021-02-23T00:31:57.423759Z",
     "start_time": "2021-02-23T00:31:56.865066Z"
    },
    "run_control": {
     "marked": false
    }
   },
   "outputs": [],
   "source": [
    "# df_train, df_test = train_test_split(df_datatran, stratify=df_datatran['contem_vitima_fatal'], random_state=33, test_size=0.20)"
   ]
  },
  {
   "cell_type": "code",
   "execution_count": null,
   "metadata": {
    "ExecuteTime": {
     "end_time": "2021-02-27T14:46:14.594428Z",
     "start_time": "2021-02-27T14:46:14.402423Z"
    },
    "run_control": {
     "marked": true
    }
   },
   "outputs": [],
   "source": [
    "df_train.columns"
   ]
  },
  {
   "cell_type": "code",
   "execution_count": null,
   "metadata": {
    "ExecuteTime": {
     "end_time": "2021-02-27T14:46:14.849357Z",
     "start_time": "2021-02-27T14:46:14.654273Z"
    },
    "run_control": {
     "marked": true
    }
   },
   "outputs": [],
   "source": [
    "ignore_columns = ['id', 'cluster_coords']"
   ]
  },
  {
   "cell_type": "code",
   "execution_count": null,
   "metadata": {
    "ExecuteTime": {
     "end_time": "2021-02-27T14:46:15.058306Z",
     "start_time": "2021-02-27T14:46:14.869305Z"
    },
    "run_control": {
     "marked": true
    }
   },
   "outputs": [],
   "source": [
    "cat_columns = [\n",
    "      'dia_semana'\n",
    "    , 'uf'\n",
    "    , 'fase_dia'\n",
    "    , 'sentido_via'\n",
    "    , 'condicao_metereologica'\n",
    "    , 'tipo_pista'\n",
    "    , 'tracado_via'\n",
    "    , 'uso_solo'\n",
    "    , 'em_janela_feriado'\n",
    "    #, 'cluster_coords'\n",
    "]"
   ]
  },
  {
   "cell_type": "code",
   "execution_count": null,
   "metadata": {
    "ExecuteTime": {
     "end_time": "2021-02-27T14:46:15.323183Z",
     "start_time": "2021-02-27T14:46:15.136099Z"
    },
    "run_control": {
     "marked": true
    }
   },
   "outputs": [],
   "source": [
    "num_columns = [\n",
    "    'risco'\n",
    "    , 'risco_morte'\n",
    "    , 'pessoas'\n",
    "    , 'coordenada_x'\n",
    "    , 'coordenada_y'\n",
    "    , 'coordenada_z'\n",
    "]"
   ]
  },
  {
   "cell_type": "code",
   "execution_count": null,
   "metadata": {
    "ExecuteTime": {
     "end_time": "2021-02-27T14:46:15.611210Z",
     "start_time": "2021-02-27T14:46:15.400976Z"
    },
    "run_control": {
     "marked": true
    }
   },
   "outputs": [],
   "source": [
    "folds = 5"
   ]
  },
  {
   "cell_type": "code",
   "execution_count": null,
   "metadata": {
    "ExecuteTime": {
     "end_time": "2021-02-27T14:47:11.657063Z",
     "start_time": "2021-02-27T14:46:18.497813Z"
    },
    "run_control": {
     "marked": true
    },
    "scrolled": false
   },
   "outputs": [],
   "source": [
    "exp_reg = setup(data=df_train,\n",
    "                test_data=df_test,\n",
    "                target = 'contem_vitima_fatal',\n",
    "                numeric_features = num_columns,\n",
    "                categorical_features = cat_columns,\n",
    "                ignore_features = ignore_columns,\n",
    "                normalize=True,\n",
    "                pca=False,\n",
    "                create_clusters=False,\n",
    "                fix_imbalance=False,\n",
    "                data_split_stratify=True,\n",
    "                ignore_low_variance=True,\n",
    "                transformation=False,\n",
    "                train_size=0.8,\n",
    "                combine_rare_levels=True,\n",
    "                fold=folds,\n",
    "                rare_level_threshold=0.10,\n",
    "                feature_ratio=False,\n",
    "                feature_interaction=False,\n",
    "                feature_selection=True,\n",
    "                feature_selection_method='boruta',\n",
    "                remove_multicollinearity=True,\n",
    "                remove_perfect_collinearity=True,\n",
    "                remove_outliers=False,\n",
    "                polynomial_features=False,\n",
    "                session_id=123,\n",
    "#                 log_experiment=True,\n",
    "                experiment_name='Predict Fatal Victim',\n",
    "#                 log_plots=True,\n",
    "#                 log_profile=False,\n",
    "#                 log_data=True,\n",
    "                silent=True,\n",
    "                verbose=True,\n",
    "                profile=False,\n",
    "               )"
   ]
  },
  {
   "cell_type": "code",
   "execution_count": null,
   "metadata": {
    "ExecuteTime": {
     "end_time": "2020-12-03T12:51:33.204053Z",
     "start_time": "2020-12-03T12:51:33.011707Z"
    }
   },
   "outputs": [],
   "source": [
    "# get_config(\"y_train\")"
   ]
  },
  {
   "cell_type": "code",
   "execution_count": null,
   "metadata": {
    "ExecuteTime": {
     "end_time": "2020-12-02T13:34:02.132256Z",
     "start_time": "2020-12-02T13:34:01.846296Z"
    }
   },
   "outputs": [],
   "source": [
    "models()"
   ]
  },
  {
   "cell_type": "markdown",
   "metadata": {},
   "source": [
    "## Comparing All Models"
   ]
  },
  {
   "cell_type": "markdown",
   "metadata": {},
   "source": [
    "Comparing all models to evaluate performance is the recommended starting point for modeling once the setup is completed (unless you exactly know what kind of model you need, which is often not the case). This function trains all models in the model library and scores them using stratified cross validation for metric evaluation. The output prints a score grid that shows average Accuracy, Recall, Precision, F1, Kappa, and MCC accross the folds (10 by default) along with training times."
   ]
  },
  {
   "cell_type": "code",
   "execution_count": null,
   "metadata": {
    "ExecuteTime": {
     "end_time": "2021-02-27T14:53:58.661013Z",
     "start_time": "2021-02-27T14:47:28.812229Z"
    },
    "run_control": {
     "marked": false
    },
    "scrolled": false
   },
   "outputs": [],
   "source": [
    "%%time\n",
    "best = compare_models(\n",
    "    sort='AUC',\n",
    "    exclude=['knn', 'ridge', 'svm', 'lr', 'ada', 'lda', 'nb', 'qda'],\n",
    "    fold=folds,\n",
    "    n_select=3,\n",
    "    turbo=True)"
   ]
  },
  {
   "cell_type": "markdown",
   "metadata": {},
   "source": [
    "Note: The AUC metric is not available for Multiclass classification however the column will still be shown with zero values to maintain consistency between the Binary Classification and Multiclass Classification display grids."
   ]
  },
  {
   "cell_type": "markdown",
   "metadata": {},
   "source": [
    "## Create a Model"
   ]
  },
  {
   "cell_type": "markdown",
   "metadata": {},
   "source": [
    "`create_model` is the most granular function in PyCaret and is often the foundation behind most of the PyCaret functionalities. As the name suggests this function trains and evaluates a model using cross validation that can be set with fold parameter. The output prints a score grid that shows Accuracy, Recall, Precision, F1, Kappa and MCC by fold."
   ]
  },
  {
   "cell_type": "code",
   "execution_count": null,
   "metadata": {
    "ExecuteTime": {
     "end_time": "2021-02-27T14:57:43.770204Z",
     "start_time": "2021-02-27T14:53:58.665999Z"
    }
   },
   "outputs": [],
   "source": [
    "model_cat = create_model('catboost', fold=folds)"
   ]
  },
  {
   "cell_type": "code",
   "execution_count": null,
   "metadata": {
    "ExecuteTime": {
     "end_time": "2021-02-27T14:57:44.854878Z",
     "start_time": "2021-02-27T14:57:43.775190Z"
    }
   },
   "outputs": [],
   "source": [
    "predict_model(model_cat)"
   ]
  },
  {
   "cell_type": "code",
   "execution_count": null,
   "metadata": {
    "ExecuteTime": {
     "end_time": "2021-02-21T18:45:21.386035Z",
     "start_time": "2021-02-21T18:42:35.876490Z"
    }
   },
   "outputs": [],
   "source": [
    "model_et = create_model('et', fold=folds)"
   ]
  },
  {
   "cell_type": "code",
   "execution_count": null,
   "metadata": {
    "ExecuteTime": {
     "end_time": "2021-02-21T18:47:17.504254Z",
     "start_time": "2021-02-21T18:45:21.386035Z"
    }
   },
   "outputs": [],
   "source": [
    "model_rf = create_model('rf', fold=folds)"
   ]
  },
  {
   "cell_type": "code",
   "execution_count": null,
   "metadata": {
    "ExecuteTime": {
     "end_time": "2021-02-23T00:34:33.749993Z",
     "start_time": "2021-02-23T00:34:16.956855Z"
    }
   },
   "outputs": [],
   "source": [
    "model_lgbm = create_model('lightgbm', fold=folds)"
   ]
  },
  {
   "cell_type": "code",
   "execution_count": null,
   "metadata": {
    "ExecuteTime": {
     "end_time": "2021-01-25T15:40:50.249303Z",
     "start_time": "2021-01-25T15:37:12.279029Z"
    }
   },
   "outputs": [],
   "source": [
    "model_xgb = create_model('xgboost', fold=folds)"
   ]
  },
  {
   "cell_type": "markdown",
   "metadata": {},
   "source": [
    "## Tune a Model"
   ]
  },
  {
   "cell_type": "markdown",
   "metadata": {},
   "source": [
    "When a model is created using the create_model() function it uses the default hyperparameters to train the model. In order to tune hyperparameters, the tune_model() function is used. This function automatically tunes the hyperparameters of a model using Random Grid Search on a pre-defined search space. The output prints a score grid that shows Accuracy, AUC, Recall, Precision, F1, Kappa, and MCC by fold for the best model. To use the custom search grid, you can pass custom_grid parameter in the tune_model function (see 9.2 KNN tuning below)."
   ]
  },
  {
   "cell_type": "code",
   "execution_count": null,
   "metadata": {
    "ExecuteTime": {
     "end_time": "2020-12-07T20:30:48.144683Z",
     "start_time": "2020-12-07T20:05:31.494906Z"
    }
   },
   "outputs": [],
   "source": [
    "param_test ={'learning_rate' : [1e-5, 1e-3, 1e-2, 5e-1, 1e-1],\n",
    "             'n_estimators' : sp_randint(10, 1000),\n",
    "             'num_leaves': sp_randint(6, 75), \n",
    "             'min_child_samples': sp_randint(100, 500), \n",
    "             'min_child_weight': [1e-5, 1e-3, 1e-2, 1e-1, 1, 1e1, 1e2, 1e3, 1e4],\n",
    "             'subsample': sp_uniform(loc=0.2, scale=0.8), \n",
    "             'colsample_bytree': sp_uniform(loc=0.4, scale=0.6),\n",
    "             'reg_alpha': [0, 1e-1, 1, 2, 5, 7, 10, 50, 100],\n",
    "             'reg_lambda': [0, 1e-1, 1, 5, 10, 20, 50, 100]}\n",
    "\n",
    "tuned_model_lgbm = tune_model(model_lgbm, n_iter=100, custom_grid=param_test, optimize='AUC', choose_better=True)"
   ]
  },
  {
   "cell_type": "markdown",
   "metadata": {},
   "source": [
    "The `tune_model()` function is a random grid search of hyperparameters over a pre-defined search space."
   ]
  },
  {
   "cell_type": "code",
   "execution_count": null,
   "metadata": {
    "ExecuteTime": {
     "end_time": "2020-12-07T22:04:46.278788Z",
     "start_time": "2020-12-07T20:30:48.146366Z"
    }
   },
   "outputs": [],
   "source": [
    "tuned_model_cat = tune_model(model_cat, n_iter=100, optimize='AUC', choose_better=True)"
   ]
  },
  {
   "cell_type": "markdown",
   "metadata": {},
   "source": [
    "## Ensemble Model"
   ]
  },
  {
   "cell_type": "code",
   "execution_count": null,
   "metadata": {
    "ExecuteTime": {
     "end_time": "2020-12-07T22:53:18.433945Z",
     "start_time": "2020-12-07T22:04:46.280753Z"
    }
   },
   "outputs": [],
   "source": [
    "bagging_tuned_model_cat = ensemble_model(tuned_model_cat, fold=folds)"
   ]
  },
  {
   "cell_type": "code",
   "execution_count": null,
   "metadata": {
    "ExecuteTime": {
     "end_time": "2020-12-07T22:54:56.577136Z",
     "start_time": "2020-12-07T22:53:18.435906Z"
    }
   },
   "outputs": [],
   "source": [
    "bagging_tuned_model_lgbm = ensemble_model(tuned_model_lgbm, fold=folds)"
   ]
  },
  {
   "cell_type": "markdown",
   "metadata": {},
   "source": [
    "## Stack Model"
   ]
  },
  {
   "cell_type": "code",
   "execution_count": null,
   "metadata": {
    "ExecuteTime": {
     "end_time": "2020-12-07T23:43:03.995526Z",
     "start_time": "2020-12-07T22:54:56.579121Z"
    }
   },
   "outputs": [],
   "source": [
    "stacked_models = stack_models(estimator_list = best[1:], meta_model = best[0])"
   ]
  },
  {
   "cell_type": "markdown",
   "metadata": {},
   "source": [
    "## Plot a Model"
   ]
  },
  {
   "cell_type": "markdown",
   "metadata": {},
   "source": [
    "Before model finalization, the `plot_model()` function can be used to analyze the performance across different aspects such as AUC, confusion_matrix, decision boundary etc. This function takes a trained model object and returns a plot based on the test / hold-out set."
   ]
  },
  {
   "cell_type": "code",
   "execution_count": null,
   "metadata": {
    "ExecuteTime": {
     "end_time": "2021-02-23T00:34:35.078298Z",
     "start_time": "2021-02-23T00:34:33.752986Z"
    }
   },
   "outputs": [],
   "source": [
    "plot_model(model_lgbm, 'confusion_matrix')"
   ]
  },
  {
   "cell_type": "code",
   "execution_count": null,
   "metadata": {
    "ExecuteTime": {
     "end_time": "2021-02-23T00:34:36.213252Z",
     "start_time": "2021-02-23T00:34:35.078298Z"
    }
   },
   "outputs": [],
   "source": [
    "plot_model(model_lgbm, 'class_report')"
   ]
  },
  {
   "cell_type": "code",
   "execution_count": null,
   "metadata": {
    "ExecuteTime": {
     "end_time": "2021-02-23T00:34:37.398447Z",
     "start_time": "2021-02-23T00:34:36.214250Z"
    }
   },
   "outputs": [],
   "source": [
    "plot_model(model_lgbm, 'auc')"
   ]
  },
  {
   "cell_type": "code",
   "execution_count": null,
   "metadata": {
    "ExecuteTime": {
     "end_time": "2021-02-23T00:34:38.528124Z",
     "start_time": "2021-02-23T00:34:37.400412Z"
    }
   },
   "outputs": [],
   "source": [
    "plot_model(model_lgbm, 'pr')"
   ]
  },
  {
   "cell_type": "code",
   "execution_count": null,
   "metadata": {
    "ExecuteTime": {
     "end_time": "2021-02-23T00:12:19.216497Z",
     "start_time": "2021-02-23T00:12:17.266860Z"
    }
   },
   "outputs": [],
   "source": [
    "plot_model(model_lgbm, 'error')"
   ]
  },
  {
   "cell_type": "code",
   "execution_count": null,
   "metadata": {
    "ExecuteTime": {
     "end_time": "2021-02-23T00:12:21.188803Z",
     "start_time": "2021-02-23T00:12:19.740508Z"
    }
   },
   "outputs": [],
   "source": [
    "plot_model(model_lgbm, 'calibration')"
   ]
  },
  {
   "cell_type": "code",
   "execution_count": null,
   "metadata": {
    "ExecuteTime": {
     "end_time": "2021-02-23T00:18:33.760302Z",
     "start_time": "2021-02-23T00:17:45.620348Z"
    }
   },
   "outputs": [],
   "source": [
    "calibrated_lgbm = calibrate_model(model_lgbm, method='isotonic')"
   ]
  },
  {
   "cell_type": "code",
   "execution_count": null,
   "metadata": {
    "ExecuteTime": {
     "end_time": "2021-02-23T00:18:35.474032Z",
     "start_time": "2021-02-23T00:18:33.762292Z"
    }
   },
   "outputs": [],
   "source": [
    "plot_model(calibrated_lgbm, 'calibration')"
   ]
  },
  {
   "cell_type": "code",
   "execution_count": null,
   "metadata": {
    "ExecuteTime": {
     "end_time": "2021-02-23T00:18:35.678949Z",
     "start_time": "2021-02-23T00:18:35.474032Z"
    }
   },
   "outputs": [],
   "source": [
    "plot_model(model_lgbm, 'threshold')"
   ]
  },
  {
   "cell_type": "code",
   "execution_count": null,
   "metadata": {
    "ExecuteTime": {
     "end_time": "2021-02-23T00:18:36.190234Z",
     "start_time": "2021-02-23T00:18:35.679947Z"
    },
    "scrolled": false
   },
   "outputs": [],
   "source": [
    "plot_model(model_lgbm, 'feature')"
   ]
  },
  {
   "cell_type": "markdown",
   "metadata": {},
   "source": [
    "## Optimize Threshold"
   ]
  },
  {
   "cell_type": "code",
   "execution_count": null,
   "metadata": {
    "ExecuteTime": {
     "end_time": "2021-02-27T14:57:45.331630Z",
     "start_time": "2021-02-27T14:57:44.858868Z"
    }
   },
   "outputs": [],
   "source": [
    "from itertools import product # Biblioteca para achar valores mais próximos entre 2 arrays"
   ]
  },
  {
   "cell_type": "code",
   "execution_count": null,
   "metadata": {
    "ExecuteTime": {
     "end_time": "2021-02-27T15:02:57.848971Z",
     "start_time": "2021-02-27T15:02:57.439612Z"
    }
   },
   "outputs": [],
   "source": [
    "model_predicted_test = predict_model(model_cat, probability_threshold=0.0)"
   ]
  },
  {
   "cell_type": "code",
   "execution_count": null,
   "metadata": {
    "ExecuteTime": {
     "end_time": "2021-02-27T15:03:30.430207Z",
     "start_time": "2021-02-27T15:03:03.363194Z"
    }
   },
   "outputs": [],
   "source": [
    "f1_score_array, precision_score_array, recall_score_array = [], [], []\n",
    "thresholds_list = np.linspace(0,1,101)\n",
    "\n",
    "with tqdm(total = len(thresholds_list)) as pbar:\n",
    "    for threshold in thresholds_list:\n",
    "        model_predicted_test['contem_vitima_fatal'] = model_predicted_test['contem_vitima_fatal'].astype(int)\n",
    "        model_predicted_test['y_pred'] = model_predicted_test.apply(lambda x: 1 if x['Score'] >= threshold else 0, axis=1)\n",
    "\n",
    "        f1_score_array.append(f1_score(model_predicted_test['contem_vitima_fatal'], model_predicted_test['y_pred']))\n",
    "        precision_score_array.append(precision_score(model_predicted_test['contem_vitima_fatal'], model_predicted_test['y_pred']))\n",
    "        recall_score_array.append(recall_score(model_predicted_test['contem_vitima_fatal'], model_predicted_test['y_pred']))\n",
    "        \n",
    "        pbar.update()\n",
    "    \n",
    "    plt.plot(thresholds_list, f1_score_array)\n",
    "    plt.axvline(x=thresholds_list[np.argmax(f1_score_array)])\n",
    "    plt.title(f'Best threshold based on F1-Score = {thresholds_list[np.argmax(f1_score_array)]}')\n",
    "    plt.show()\n",
    "    \n",
    "    #Find closest values between precision and recall arrays\n",
    "    closest_pr = sorted(product(precision_score_array, recall_score_array), key=lambda t: abs(t[0]-t[1]))[0]\n",
    "    \n",
    "    # Get index of closest values between precision and recall arrays\n",
    "    indices_precision = [i for i, x in enumerate(precision_score_array) if x == closest_pr[0]]\n",
    "    indices_recall = [i for i, x in enumerate(precision_score_array) if x == closest_pr[1]]\n",
    "    indice_best_threshold = list(set(indices_precision) & set(indices_recall))[0]\n",
    "    \n",
    "    plt.plot(thresholds_list, precision_score_array)\n",
    "    plt.plot(thresholds_list, recall_score_array)\n",
    "    plt.axvline(x=thresholds_list[indice_best_threshold])\n",
    "    plt.title(f'Best threshold based on Precision x Recall = {thresholds_list[indice_best_threshold]}')\n",
    "    plt.show()"
   ]
  },
  {
   "cell_type": "markdown",
   "metadata": {},
   "source": [
    "## Predict Model"
   ]
  },
  {
   "cell_type": "code",
   "execution_count": null,
   "metadata": {
    "ExecuteTime": {
     "end_time": "2021-02-02T11:07:44.643671Z",
     "start_time": "2021-02-02T11:07:44.227153Z"
    }
   },
   "outputs": [],
   "source": [
    "def generate_metrics(df, y_true, y_pred, average='macro', labels = [0, 1]):\n",
    "    df['y_true'] = df[y_true].astype(str)\n",
    "    df['y_pred'] = df[y_pred].astype(str)\n",
    "    \n",
    "    print(classification_report(df['y_true'], df['y_pred'], labels=labels))"
   ]
  },
  {
   "cell_type": "code",
   "execution_count": null,
   "metadata": {
    "ExecuteTime": {
     "end_time": "2020-11-24T19:50:08.349205Z",
     "start_time": "2020-11-24T19:50:07.723566Z"
    }
   },
   "outputs": [],
   "source": [
    "# tuned_model_xgb_final = finalize_model(tuned_model_xgb)"
   ]
  },
  {
   "cell_type": "code",
   "execution_count": null,
   "metadata": {
    "ExecuteTime": {
     "end_time": "2021-02-02T11:07:46.046259Z",
     "start_time": "2021-02-02T11:07:44.647660Z"
    }
   },
   "outputs": [],
   "source": [
    "df_train = get_config(\"X_train\").reset_index()[['index']].merge(new_df.drop(ignore_columns, axis=1).reset_index(), how='left', on='index')\n",
    "del df_train['index']"
   ]
  },
  {
   "cell_type": "code",
   "execution_count": null,
   "metadata": {
    "ExecuteTime": {
     "end_time": "2021-02-02T11:08:07.698952Z",
     "start_time": "2021-02-02T11:07:46.046259Z"
    }
   },
   "outputs": [],
   "source": [
    "model_predicted_train = predict_model(model_rf, data=df_train)"
   ]
  },
  {
   "cell_type": "code",
   "execution_count": null,
   "metadata": {
    "ExecuteTime": {
     "end_time": "2021-02-02T11:08:11.499108Z",
     "start_time": "2021-02-02T11:08:07.698952Z"
    }
   },
   "outputs": [],
   "source": [
    "model_predicted_test = predict_model(model_rf)"
   ]
  },
  {
   "cell_type": "code",
   "execution_count": null,
   "metadata": {
    "ExecuteTime": {
     "end_time": "2021-02-02T11:08:41.227516Z",
     "start_time": "2021-02-02T11:08:11.499108Z"
    }
   },
   "outputs": [],
   "source": [
    "print('------------------- Train Metrics -------------------')\n",
    "generate_metrics(model_predicted_train, 'contem_vitima_fatal', 'Label')\n",
    "\n",
    "print('------------------- Test Metrics -------------------')\n",
    "generate_metrics(model_predicted_test, 'contem_vitima_fatal', 'Label')"
   ]
  },
  {
   "cell_type": "code",
   "execution_count": null,
   "metadata": {
    "ExecuteTime": {
     "end_time": "2020-11-24T19:51:15.972335Z",
     "start_time": "2020-11-24T19:51:01.469561Z"
    }
   },
   "outputs": [],
   "source": [
    "model_predicted_train = predict_model(model_lgbm, data=df_train)"
   ]
  },
  {
   "cell_type": "code",
   "execution_count": null,
   "metadata": {
    "ExecuteTime": {
     "end_time": "2020-11-24T19:51:18.051853Z",
     "start_time": "2020-11-24T19:51:15.974959Z"
    }
   },
   "outputs": [],
   "source": [
    "model_predicted_test = predict_model(model_lgbm)"
   ]
  },
  {
   "cell_type": "code",
   "execution_count": null,
   "metadata": {
    "ExecuteTime": {
     "end_time": "2020-11-24T19:51:39.439050Z",
     "start_time": "2020-11-24T19:51:18.051853Z"
    }
   },
   "outputs": [],
   "source": [
    "print('------------------- Train Metrics -------------------')\n",
    "generate_metrics(model_predicted_train, 'contem_vitima_fatal', 'Label')\n",
    "\n",
    "print('------------------- Test Metrics -------------------')\n",
    "generate_metrics(model_predicted_test, 'contem_vitima_fatal', 'Label')"
   ]
  },
  {
   "cell_type": "code",
   "execution_count": null,
   "metadata": {
    "ExecuteTime": {
     "end_time": "2020-11-24T19:51:51.721544Z",
     "start_time": "2020-11-24T19:51:39.441047Z"
    }
   },
   "outputs": [],
   "source": [
    "model_predicted_train = predict_model(model_cat, data=df_train, probability_threshold=0.0)"
   ]
  },
  {
   "cell_type": "code",
   "execution_count": null,
   "metadata": {
    "ExecuteTime": {
     "end_time": "2020-11-24T19:51:53.009934Z",
     "start_time": "2020-11-24T19:51:51.721544Z"
    }
   },
   "outputs": [],
   "source": [
    "model_predicted_test = predict_model(model_cat)"
   ]
  },
  {
   "cell_type": "code",
   "execution_count": null,
   "metadata": {
    "ExecuteTime": {
     "end_time": "2020-11-24T19:52:17.245450Z",
     "start_time": "2020-11-24T19:51:53.011396Z"
    }
   },
   "outputs": [],
   "source": [
    "print('------------------- Train Metrics -------------------')\n",
    "generate_metrics(model_predicted_train, 'contem_vitima_fatal', 'Label')\n",
    "\n",
    "print('------------------- Test Metrics -------------------')\n",
    "generate_metrics(model_predicted_test, 'contem_vitima_fatal', 'Label')"
   ]
  },
  {
   "cell_type": "code",
   "execution_count": null,
   "metadata": {
    "ExecuteTime": {
     "end_time": "2020-10-30T18:24:44.330347Z",
     "start_time": "2020-10-30T18:24:42.901851Z"
    }
   },
   "outputs": [],
   "source": [
    "plot_data = [\n",
    "    go.Histogram(\n",
    "        x = tx_data['TARGET'],\n",
    "        orientation='v',\n",
    "        name='Segmentos'\n",
    "    )\n",
    "]\n",
    "\n",
    "plot_layout = go.Layout(\n",
    "        width=700,\n",
    "        height=300\n",
    "    )\n",
    "fig = go.Figure(data=plot_data, layout=plot_layout)\n",
    "pyoff.iplot(fig)"
   ]
  },
  {
   "cell_type": "code",
   "execution_count": null,
   "metadata": {},
   "outputs": [],
   "source": [
    "r = evaluate_all(lgbm_final_pred_test['y_true'], lgbm_final_pred_test['y_pred'])"
   ]
  },
  {
   "cell_type": "code",
   "execution_count": null,
   "metadata": {},
   "outputs": [],
   "source": [
    "lgbm_final_pred_test.to_csv(\"../data/processed/Predict Revenue Purchase_LGBM_129.csv\", index=False)"
   ]
  },
  {
   "cell_type": "markdown",
   "metadata": {},
   "source": [
    "Finalize and Save Model"
   ]
  },
  {
   "cell_type": "code",
   "execution_count": null,
   "metadata": {
    "ExecuteTime": {
     "end_time": "2021-02-02T11:14:01.565573Z",
     "start_time": "2021-02-02T11:09:27.818732Z"
    }
   },
   "outputs": [],
   "source": [
    "model_rf_finalized = finalize_model(model_rf)"
   ]
  },
  {
   "cell_type": "code",
   "execution_count": null,
   "metadata": {
    "ExecuteTime": {
     "end_time": "2021-02-02T11:14:03.850555Z",
     "start_time": "2021-02-02T11:14:01.569563Z"
    }
   },
   "outputs": [],
   "source": [
    "save_model(model_rf, \"../models/model_rf_02_02_2021\", verbose=True)"
   ]
  },
  {
   "cell_type": "code",
   "execution_count": null,
   "metadata": {
    "ExecuteTime": {
     "end_time": "2021-01-24T13:51:32.140058Z",
     "start_time": "2021-01-24T13:51:18.710882Z"
    }
   },
   "outputs": [],
   "source": [
    "model_predicted_et = predict_model(model_et)\n",
    "\n",
    "print('------------------- et -------------------')\n",
    "generate_metrics(model_predicted_et, 'contem_vitima_fatal', 'Label')"
   ]
  },
  {
   "cell_type": "code",
   "execution_count": null,
   "metadata": {
    "ExecuteTime": {
     "end_time": "2021-01-24T13:51:43.904796Z",
     "start_time": "2021-01-24T13:51:32.141055Z"
    }
   },
   "outputs": [],
   "source": [
    "model_predicted_rf = predict_model(model_rf)\n",
    "\n",
    "print('------------------- rf -------------------')\n",
    "generate_metrics(model_predicted_rf, 'contem_vitima_fatal', 'Label')"
   ]
  },
  {
   "cell_type": "code",
   "execution_count": null,
   "metadata": {
    "ExecuteTime": {
     "end_time": "2021-01-24T13:51:52.096657Z",
     "start_time": "2021-01-24T13:51:43.905761Z"
    }
   },
   "outputs": [],
   "source": [
    "model_predicted_dt = predict_model(model_dt)\n",
    "\n",
    "print('------------------- dt -------------------')\n",
    "generate_metrics(model_predicted_dt, 'contem_vitima_fatal', 'Label')"
   ]
  },
  {
   "cell_type": "code",
   "execution_count": null,
   "metadata": {
    "ExecuteTime": {
     "end_time": "2021-01-24T13:51:59.826450Z",
     "start_time": "2021-01-24T13:51:52.097654Z"
    }
   },
   "outputs": [],
   "source": [
    "model_predicted_cat = predict_model(model_cat)\n",
    "\n",
    "print('------------------- cat -------------------')\n",
    "generate_metrics(model_predicted_cat, 'contem_vitima_fatal', 'Label')"
   ]
  },
  {
   "cell_type": "code",
   "execution_count": null,
   "metadata": {
    "ExecuteTime": {
     "end_time": "2021-01-24T13:52:08.807732Z",
     "start_time": "2021-01-24T13:51:59.827448Z"
    }
   },
   "outputs": [],
   "source": [
    "model_predicted_lgbm = predict_model(model_lgbm)\n",
    "\n",
    "print('------------------- lgbm -------------------')\n",
    "generate_metrics(model_predicted_lgbm, 'contem_vitima_fatal', 'Label')"
   ]
  },
  {
   "cell_type": "code",
   "execution_count": null,
   "metadata": {
    "ExecuteTime": {
     "end_time": "2021-01-24T13:52:19.406935Z",
     "start_time": "2021-01-24T13:52:08.808761Z"
    }
   },
   "outputs": [],
   "source": [
    "model_predicted_xgb = predict_model(model_xgb)\n",
    "\n",
    "print('------------------- xgb -------------------')\n",
    "generate_metrics(model_predicted_xgb, 'contem_vitima_fatal', 'Label')"
   ]
  },
  {
   "cell_type": "code",
   "execution_count": null,
   "metadata": {},
   "outputs": [],
   "source": []
  }
 ],
 "metadata": {
  "kernel_info": {
   "name": "train_models"
  },
  "kernelspec": {
   "display_name": "Python 3",
   "language": "python",
   "name": "python3"
  },
  "language_info": {
   "codemirror_mode": {
    "name": "ipython",
    "version": 3
   },
   "file_extension": ".py",
   "mimetype": "text/x-python",
   "name": "python",
   "nbconvert_exporter": "python",
   "pygments_lexer": "ipython3",
   "version": "3.7.9"
  },
  "toc": {
   "nav_menu": {},
   "number_sections": true,
   "sideBar": true,
   "skip_h1_title": false,
   "title_cell": "Table of Contents",
   "title_sidebar": "Contents",
   "toc_cell": false,
   "toc_position": {
    "height": "calc(100% - 180px)",
    "left": "10px",
    "top": "150px",
    "width": "173.7px"
   },
   "toc_section_display": true,
   "toc_window_display": false
  },
  "toc-autonumbering": true,
  "toc-showmarkdowntxt": true,
  "varInspector": {
   "cols": {
    "lenName": 16,
    "lenType": 16,
    "lenVar": 40
   },
   "kernels_config": {
    "python": {
     "delete_cmd_postfix": "",
     "delete_cmd_prefix": "del ",
     "library": "var_list.py",
     "varRefreshCmd": "print(var_dic_list())"
    },
    "r": {
     "delete_cmd_postfix": ") ",
     "delete_cmd_prefix": "rm(",
     "library": "var_list.r",
     "varRefreshCmd": "cat(var_dic_list()) "
    }
   },
   "types_to_exclude": [
    "module",
    "function",
    "builtin_function_or_method",
    "instance",
    "_Feature"
   ],
   "window_display": false
  }
 },
 "nbformat": 4,
 "nbformat_minor": 4
}
