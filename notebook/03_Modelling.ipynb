{
 "cells": [
  {
   "cell_type": "markdown",
   "metadata": {},
   "source": [
    "# Initial Configs\n"
   ]
  },
  {
   "cell_type": "code",
   "execution_count": null,
   "metadata": {
    "ExecuteTime": {
     "end_time": "2020-11-16T13:10:20.547983Z",
     "start_time": "2020-11-16T13:10:19.386200Z"
    },
    "run_control": {
     "marked": true
    }
   },
   "outputs": [],
   "source": [
    "%reload_ext autoreload\n",
    "%autoreload 2\n",
    "%matplotlib inline"
   ]
  },
  {
   "cell_type": "markdown",
   "metadata": {},
   "source": [
    "# Imports"
   ]
  },
  {
   "cell_type": "code",
   "execution_count": null,
   "metadata": {
    "ExecuteTime": {
     "end_time": "2020-11-16T13:10:36.970403Z",
     "start_time": "2020-11-16T13:10:20.552830Z"
    },
    "run_control": {
     "marked": true
    }
   },
   "outputs": [],
   "source": [
    "from __future__ import division\n",
    "#import libraries\n",
    "from datetime import datetime, timedelta,date\n",
    "import pandas as pd\n",
    "from sklearn.metrics import classification_report, confusion_matrix\n",
    "import matplotlib.pyplot as plt\n",
    "import numpy as np\n",
    "from scipy import stats\n",
    "import seaborn as sns\n",
    "\n",
    "#do not show warnings\n",
    "import warnings\n",
    "warnings.filterwarnings(\"ignore\")\n",
    "\n",
    "#import plotly for visualization\n",
    "import chart_studio.plotly as py\n",
    "import plotly.offline as pyoff\n",
    "import plotly.graph_objs as go\n",
    "import plotly.express as px\n",
    "import sys\n",
    "from IPython.core.display import display, HTML\n",
    "sys.path.append('..')\n",
    "pyoff.init_notebook_mode()\n",
    "\n",
    "#import machine learning related libraries\n",
    "from sklearn.svm import SVC, SVR\n",
    "import xgboost as xgb\n",
    "import lightgbm as lgb\n",
    "import mlflow\n",
    "from sklearn.model_selection import KFold, cross_val_score, train_test_split\n",
    "from bokeh.resources import INLINE\n",
    "import bokeh.io\n",
    "from bokeh import *"
   ]
  },
  {
   "cell_type": "code",
   "execution_count": null,
   "metadata": {
    "ExecuteTime": {
     "end_time": "2020-11-16T13:10:37.522457Z",
     "start_time": "2020-11-16T13:10:36.976032Z"
    },
    "run_control": {
     "marked": true
    }
   },
   "outputs": [],
   "source": [
    "from src.visualization.visualize import plot_scatter_segment, pareto_gen\n",
    "from src.utils.frame_utils import stratified_df, date_time_features, reduce_mem_usage\n",
    "from src.utils.cluster_utils import order_cluster\n",
    "from src.utils.eval_utils import evaluate_all"
   ]
  },
  {
   "cell_type": "markdown",
   "metadata": {},
   "source": [
    "# Package configs"
   ]
  },
  {
   "cell_type": "code",
   "execution_count": null,
   "metadata": {
    "ExecuteTime": {
     "end_time": "2020-11-16T13:10:39.399441Z",
     "start_time": "2020-11-16T13:10:37.522457Z"
    },
    "run_control": {
     "marked": true
    }
   },
   "outputs": [],
   "source": [
    "pd.set_option('display.max_columns', None)\n",
    "display(HTML(\"<style>.container { width:100% !important; }</style>\"))\n",
    "pd.set_option('plotting.backend', 'pandas_bokeh')\n",
    "bokeh.io.output_notebook(INLINE)"
   ]
  },
  {
   "cell_type": "code",
   "execution_count": null,
   "metadata": {
    "ExecuteTime": {
     "end_time": "2020-11-16T13:10:39.928542Z",
     "start_time": "2020-11-16T13:10:39.402404Z"
    },
    "code_folding": [
     0
    ]
   },
   "outputs": [],
   "source": [
    "# ts = calendar.timegm(time.gmtime())\n",
    "# dt_object = datetime.fromtimestamp(ts)\n",
    "# date = dt_object.strftime('%m_%d_%Y')"
   ]
  },
  {
   "cell_type": "markdown",
   "metadata": {},
   "source": [
    "# Data"
   ]
  },
  {
   "cell_type": "markdown",
   "metadata": {},
   "source": [
    "## Loads"
   ]
  },
  {
   "cell_type": "code",
   "execution_count": null,
   "metadata": {
    "ExecuteTime": {
     "end_time": "2020-11-16T13:10:41.985292Z",
     "start_time": "2020-11-16T13:10:39.932804Z"
    },
    "run_control": {
     "marked": true
    }
   },
   "outputs": [],
   "source": [
    "df_datatran = pd.read_parquet('../data/processed/dataset_v1.parquet')\n",
    "df_datatran['data_inversa'] = pd.to_datetime(df_datatran['data_inversa'])\n",
    "df_datatran.head()"
   ]
  },
  {
   "cell_type": "markdown",
   "metadata": {},
   "source": [
    "# Modelling Classification via PyCaret"
   ]
  },
  {
   "cell_type": "markdown",
   "metadata": {},
   "source": [
    "You can see the documentation in [Pycaret Classification](https://pycaret.org/classification/)"
   ]
  },
  {
   "cell_type": "code",
   "execution_count": null,
   "metadata": {
    "ExecuteTime": {
     "end_time": "2020-11-16T13:10:44.829638Z",
     "start_time": "2020-11-16T13:10:41.987290Z"
    },
    "run_control": {
     "marked": true
    }
   },
   "outputs": [],
   "source": [
    "from pycaret.classification import *"
   ]
  },
  {
   "cell_type": "code",
   "execution_count": null,
   "metadata": {
    "ExecuteTime": {
     "end_time": "2020-11-16T13:13:36.605719Z",
     "start_time": "2020-11-16T13:13:35.045298Z"
    },
    "run_control": {
     "marked": true
    }
   },
   "outputs": [],
   "source": [
    "df_train, df_test = train_test_split(df_datatran, stratify=df_datatran['contem_vitima_fatal'], random_state=33, test_size=0.20)"
   ]
  },
  {
   "cell_type": "code",
   "execution_count": null,
   "metadata": {
    "ExecuteTime": {
     "end_time": "2020-11-16T13:14:06.912509Z",
     "start_time": "2020-11-16T13:14:06.414528Z"
    },
    "run_control": {
     "marked": true
    }
   },
   "outputs": [],
   "source": [
    "drop_columns = [\n",
    "    'id'\n",
    "    , 'br'\n",
    "    , 'km'\n",
    "    , 'sentido_via'\n",
    "    , 'classificacao_acidente'\n",
    "    , 'causa_acidente'\n",
    "    , 'ano'\n",
    "    , 'data_inversa'\n",
    "    , 'horario'\n",
    "    , 'ano'\n",
    "    , 'mortos'\n",
    "    , 'regional'\n",
    "    , 'delegacia'\n",
    "    , 'uop'\n",
    "]"
   ]
  },
  {
   "cell_type": "code",
   "execution_count": null,
   "metadata": {
    "ExecuteTime": {
     "end_time": "2020-11-16T13:14:23.078301Z",
     "start_time": "2020-11-16T13:14:22.156112Z"
    },
    "run_control": {
     "marked": true
    },
    "scrolled": true
   },
   "outputs": [],
   "source": [
    "df_train.drop(drop_columns, axis=1).isnull().sum().sum()"
   ]
  },
  {
   "cell_type": "code",
   "execution_count": null,
   "metadata": {
    "ExecuteTime": {
     "end_time": "2020-11-16T13:14:26.427490Z",
     "start_time": "2020-11-16T13:14:25.845560Z"
    },
    "run_control": {
     "marked": true
    }
   },
   "outputs": [],
   "source": [
    "import scipy.stats\n",
    "import swifter"
   ]
  },
  {
   "cell_type": "code",
   "execution_count": null,
   "metadata": {
    "ExecuteTime": {
     "end_time": "2020-11-16T13:14:32.560340Z",
     "start_time": "2020-11-16T13:14:31.697657Z"
    },
    "run_control": {
     "marked": true
    }
   },
   "outputs": [],
   "source": [
    "z_score = stats.zscore(df_train.drop(drop_columns, axis=1).select_dtypes(include=[np.number]))"
   ]
  },
  {
   "cell_type": "code",
   "execution_count": null,
   "metadata": {
    "ExecuteTime": {
     "end_time": "2020-11-16T13:14:37.984621Z",
     "start_time": "2020-11-16T13:14:37.167615Z"
    },
    "run_control": {
     "marked": true
    }
   },
   "outputs": [],
   "source": [
    "abs_z_scores = np.abs(z_score)\n",
    "filtered_entries = (abs_z_scores < 3).all(axis=1)\n",
    "new_df = df_train[filtered_entries]"
   ]
  },
  {
   "cell_type": "code",
   "execution_count": null,
   "metadata": {
    "ExecuteTime": {
     "end_time": "2020-11-16T13:14:44.678378Z",
     "start_time": "2020-11-16T13:14:44.203067Z"
    },
    "run_control": {
     "marked": true
    }
   },
   "outputs": [],
   "source": [
    "print(new_df.shape)\n",
    "print(df_train.shape)"
   ]
  },
  {
   "cell_type": "code",
   "execution_count": null,
   "metadata": {
    "ExecuteTime": {
     "end_time": "2020-11-16T13:14:47.549157Z",
     "start_time": "2020-11-16T13:14:46.970955Z"
    }
   },
   "outputs": [],
   "source": [
    "df_train.drop(drop_columns, axis=1).head()"
   ]
  },
  {
   "cell_type": "code",
   "execution_count": null,
   "metadata": {
    "ExecuteTime": {
     "end_time": "2020-11-16T13:15:00.381975Z",
     "start_time": "2020-11-16T13:14:59.815926Z"
    }
   },
   "outputs": [],
   "source": [
    "cat_columns = [\n",
    "      'dia_semana'\n",
    "    , 'uf'\n",
    "#     , 'br'\n",
    "#     , 'km'\n",
    "    , 'municipio'\n",
    "#     , 'causa_acidente'\n",
    "    , 'tipo_acidente'\n",
    "#     , 'classificacao_acidente'\n",
    "    , 'fase_dia'\n",
    "#     , 'sentido_via'\n",
    "    , 'condicao_metereologica'\n",
    "    , 'tipo_pista'\n",
    "    , 'tracado_via'\n",
    "    , 'uso_solo'\n",
    "]"
   ]
  },
  {
   "cell_type": "code",
   "execution_count": null,
   "metadata": {
    "ExecuteTime": {
     "end_time": "2020-11-16T13:15:04.228051Z",
     "start_time": "2020-11-16T13:15:03.728605Z"
    }
   },
   "outputs": [],
   "source": [
    "num_columns = [\n",
    "    'pessoas'\n",
    "    , 'feridos_leves'\n",
    "    , 'feridos_graves'\n",
    "    , 'ilesos'\n",
    "    , 'ignorados'\n",
    "    , 'feridos'\n",
    "    , 'veiculos'\n",
    "]"
   ]
  },
  {
   "cell_type": "code",
   "execution_count": null,
   "metadata": {
    "ExecuteTime": {
     "end_time": "2020-11-16T13:18:34.113056Z",
     "start_time": "2020-11-16T13:18:33.644907Z"
    }
   },
   "outputs": [],
   "source": [
    "folds = 5"
   ]
  },
  {
   "cell_type": "code",
   "execution_count": null,
   "metadata": {
    "ExecuteTime": {
     "end_time": "2020-11-16T14:39:40.251020Z",
     "start_time": "2020-11-16T13:18:34.116048Z"
    },
    "scrolled": false
   },
   "outputs": [],
   "source": [
    "exp_reg = setup(new_df.drop(drop_columns, axis=1), target = 'contem_vitima_fatal', \n",
    "                numeric_features = num_columns,\n",
    "                categorical_features = cat_columns,\n",
    "                normalize=True, pca=False, \n",
    "                create_clusters=False,\n",
    "                fix_imbalance=True,\n",
    "                data_split_stratify=True,\n",
    "                ignore_low_variance=True, \n",
    "                transformation=False, \n",
    "                train_size=0.8, \n",
    "                combine_rare_levels=True,\n",
    "                fold=folds,\n",
    "                rare_level_threshold=0.10,\n",
    "                feature_ratio=False,\n",
    "                feature_interaction=False,\n",
    "                feature_selection=True,\n",
    "                remove_multicollinearity=True, \n",
    "                remove_perfect_collinearity=True, \n",
    "                remove_outliers=True, \n",
    "                polynomial_features=False,\n",
    "                session_id=123,\n",
    "                log_experiment=True,\n",
    "                experiment_name='Predict Fatal Victim v1',\n",
    "                log_plots=True,\n",
    "                log_profile=False,\n",
    "                log_data=True,\n",
    "                silent=False,\n",
    "                verbose=True,\n",
    "                profile=False,\n",
    "               )"
   ]
  },
  {
   "cell_type": "code",
   "execution_count": null,
   "metadata": {
    "ExecuteTime": {
     "end_time": "2020-10-30T14:25:18.561713Z",
     "start_time": "2020-10-30T14:25:18.322676Z"
    }
   },
   "outputs": [],
   "source": [
    "# get_config(\"X_train\").columns"
   ]
  },
  {
   "cell_type": "code",
   "execution_count": null,
   "metadata": {
    "ExecuteTime": {
     "end_time": "2020-10-30T18:14:12.076955Z",
     "start_time": "2020-10-30T18:14:11.790429Z"
    }
   },
   "outputs": [],
   "source": [
    "# get_config(\"X_train\")"
   ]
  },
  {
   "cell_type": "code",
   "execution_count": null,
   "metadata": {
    "ExecuteTime": {
     "end_time": "2020-10-31T22:04:56.746627Z",
     "start_time": "2020-10-31T22:04:56.484375Z"
    }
   },
   "outputs": [],
   "source": [
    "models()"
   ]
  },
  {
   "cell_type": "markdown",
   "metadata": {},
   "source": [
    "## Comparing All Models"
   ]
  },
  {
   "cell_type": "markdown",
   "metadata": {},
   "source": [
    "Comparing all models to evaluate performance is the recommended starting point for modeling once the setup is completed (unless you exactly know what kind of model you need, which is often not the case). This function trains all models in the model library and scores them using stratified cross validation for metric evaluation. The output prints a score grid that shows average Accuracy, Recall, Precision, F1, Kappa, and MCC accross the folds (10 by default) along with training times."
   ]
  },
  {
   "cell_type": "code",
   "execution_count": null,
   "metadata": {
    "ExecuteTime": {
     "start_time": "2020-10-31T22:05:02.812Z"
    }
   },
   "outputs": [],
   "source": [
    "%%time\n",
    "best = compare_models(\n",
    "    sort='Recall',\n",
    "    #exclude=['knn', 'lda', 'ada', 'qda', 'ridge', 'mlp', 'svm', 'rbfsvm'],\n",
    "    #fold=7,\n",
    "    n_select=3,\n",
    "    turbo=True)"
   ]
  },
  {
   "cell_type": "markdown",
   "metadata": {},
   "source": [
    "Note: The AUC metric is not available for Multiclass classification however the column will still be shown with zero values to maintain consistency between the Binary Classification and Multiclass Classification display grids."
   ]
  },
  {
   "cell_type": "markdown",
   "metadata": {},
   "source": [
    "## Create a Model"
   ]
  },
  {
   "cell_type": "markdown",
   "metadata": {},
   "source": [
    "`create_model` is the most granular function in PyCaret and is often the foundation behind most of the PyCaret functionalities. As the name suggests this function trains and evaluates a model using cross validation that can be set with fold parameter. The output prints a score grid that shows Accuracy, Recall, Precision, F1, Kappa and MCC by fold."
   ]
  },
  {
   "cell_type": "code",
   "execution_count": null,
   "metadata": {
    "ExecuteTime": {
     "end_time": "2020-10-30T14:47:56.651857Z",
     "start_time": "2020-10-30T14:47:45.225199Z"
    }
   },
   "outputs": [],
   "source": [
    "model_et = create_model('et')"
   ]
  },
  {
   "cell_type": "code",
   "execution_count": null,
   "metadata": {
    "ExecuteTime": {
     "end_time": "2020-10-30T14:49:35.191042Z",
     "start_time": "2020-10-30T14:47:56.656856Z"
    }
   },
   "outputs": [],
   "source": [
    "model_xgb = create_model('xgboost')"
   ]
  },
  {
   "cell_type": "code",
   "execution_count": null,
   "metadata": {
    "ExecuteTime": {
     "end_time": "2020-10-30T14:49:57.913195Z",
     "start_time": "2020-10-30T14:49:35.193038Z"
    }
   },
   "outputs": [],
   "source": [
    "model_lgbm = create_model('lightgbm')"
   ]
  },
  {
   "cell_type": "code",
   "execution_count": null,
   "metadata": {
    "ExecuteTime": {
     "end_time": "2020-10-30T14:56:46.766905Z",
     "start_time": "2020-10-30T14:49:57.915195Z"
    }
   },
   "outputs": [],
   "source": [
    "model_cat = create_model('catboost')"
   ]
  },
  {
   "cell_type": "markdown",
   "metadata": {},
   "source": [
    "## Tune a Model"
   ]
  },
  {
   "cell_type": "markdown",
   "metadata": {},
   "source": [
    "When a model is created using the create_model() function it uses the default hyperparameters to train the model. In order to tune hyperparameters, the tune_model() function is used. This function automatically tunes the hyperparameters of a model using Random Grid Search on a pre-defined search space. The output prints a score grid that shows Accuracy, AUC, Recall, Precision, F1, Kappa, and MCC by fold for the best model. To use the custom search grid, you can pass custom_grid parameter in the tune_model function (see 9.2 KNN tuning below)."
   ]
  },
  {
   "cell_type": "code",
   "execution_count": null,
   "metadata": {
    "ExecuteTime": {
     "end_time": "2020-10-30T14:57:19.120133Z",
     "start_time": "2020-10-30T14:56:47.511356Z"
    }
   },
   "outputs": [],
   "source": [
    "tuned_model_et = tune_model(model_et, n_iter=20, optimize='Precision', choose_better=True)"
   ]
  },
  {
   "cell_type": "code",
   "execution_count": null,
   "metadata": {
    "ExecuteTime": {
     "end_time": "2020-10-30T15:22:55.556200Z",
     "start_time": "2020-10-30T14:57:19.123126Z"
    }
   },
   "outputs": [],
   "source": [
    "tuned_model_xgb = tune_model(model_xgb, n_iter=20, optimize='Precision', choose_better=True)"
   ]
  },
  {
   "cell_type": "code",
   "execution_count": null,
   "metadata": {
    "ExecuteTime": {
     "end_time": "2020-10-30T15:30:54.036409Z",
     "start_time": "2020-10-30T15:22:55.560202Z"
    }
   },
   "outputs": [],
   "source": [
    "param_test ={'learning_rate' : [1e-5, 1e-3, 1e-2, 5e-1, 1e-1],\n",
    "             'n_estimators' : sp_randint(10, 1000),\n",
    "             'num_leaves': sp_randint(6, 75), \n",
    "             'min_child_samples': sp_randint(100, 500), \n",
    "             'min_child_weight': [1e-5, 1e-3, 1e-2, 1e-1, 1, 1e1, 1e2, 1e3, 1e4],\n",
    "             'subsample': sp_uniform(loc=0.2, scale=0.8), \n",
    "             'colsample_bytree': sp_uniform(loc=0.4, scale=0.6),\n",
    "             'reg_alpha': [0, 1e-1, 1, 2, 5, 7, 10, 50, 100],\n",
    "             'reg_lambda': [0, 1e-1, 1, 5, 10, 20, 50, 100]}\n",
    "\n",
    "tuned_model_lgbm = tune_model(model_lgbm, n_iter=50, custom_grid=param_test, optimize='Precision', choose_better=True)"
   ]
  },
  {
   "cell_type": "code",
   "execution_count": null,
   "metadata": {
    "ExecuteTime": {
     "end_time": "2020-10-30T16:28:53.534618Z",
     "start_time": "2020-10-30T15:30:54.040408Z"
    }
   },
   "outputs": [],
   "source": [
    "tuned_model_cat = tune_model(model_cat, n_iter=20, optimize='Precision', choose_better=True)"
   ]
  },
  {
   "cell_type": "markdown",
   "metadata": {},
   "source": [
    "The `tune_model()` function is a random grid search of hyperparameters over a pre-defined search space."
   ]
  },
  {
   "cell_type": "code",
   "execution_count": null,
   "metadata": {
    "ExecuteTime": {
     "end_time": "2020-10-30T16:33:37.184397Z",
     "start_time": "2020-10-30T16:28:53.542620Z"
    }
   },
   "outputs": [],
   "source": [
    "bagging_tuned_model_et = ensemble_model(tuned_model_et, fold=7)"
   ]
  },
  {
   "cell_type": "code",
   "execution_count": null,
   "metadata": {
    "ExecuteTime": {
     "end_time": "2020-10-30T16:57:34.511354Z",
     "start_time": "2020-10-30T16:33:37.184397Z"
    }
   },
   "outputs": [],
   "source": [
    "bagging_tuned_model_xgb = ensemble_model(tuned_model_xgb, fold=7)"
   ]
  },
  {
   "cell_type": "code",
   "execution_count": null,
   "metadata": {
    "ExecuteTime": {
     "end_time": "2020-10-30T17:14:08.841829Z",
     "start_time": "2020-10-30T16:57:34.513380Z"
    }
   },
   "outputs": [],
   "source": [
    "bagging_tuned_model_lgbm = ensemble_model(tuned_model_lgbm, fold=7)"
   ]
  },
  {
   "cell_type": "code",
   "execution_count": null,
   "metadata": {
    "ExecuteTime": {
     "end_time": "2020-10-30T17:30:33.237332Z",
     "start_time": "2020-10-30T17:14:08.854840Z"
    }
   },
   "outputs": [],
   "source": [
    "bagging_tuned_model_cat = ensemble_model(tuned_model_cat, fold=7)"
   ]
  },
  {
   "cell_type": "code",
   "execution_count": null,
   "metadata": {
    "ExecuteTime": {
     "end_time": "2020-10-30T17:30:33.240327Z",
     "start_time": "2020-10-30T15:05:16.608Z"
    }
   },
   "outputs": [],
   "source": [
    "stacked_models = stack_models(estimator_list = best[1:], meta_model = best[0])"
   ]
  },
  {
   "cell_type": "markdown",
   "metadata": {},
   "source": [
    "## Plot a Model"
   ]
  },
  {
   "cell_type": "markdown",
   "metadata": {},
   "source": [
    "Before model finalization, the `plot_model()` function can be used to analyze the performance across different aspects such as AUC, confusion_matrix, decision boundary etc. This function takes a trained model object and returns a plot based on the test / hold-out set."
   ]
  },
  {
   "cell_type": "code",
   "execution_count": null,
   "metadata": {
    "ExecuteTime": {
     "end_time": "2020-10-30T17:34:31.011385Z",
     "start_time": "2020-10-30T17:34:28.645539Z"
    }
   },
   "outputs": [],
   "source": [
    "plot_model(tuned_model_xgb, 'confusion_matrix')"
   ]
  },
  {
   "cell_type": "code",
   "execution_count": null,
   "metadata": {},
   "outputs": [],
   "source": [
    "plot_model(bagging_model, 'residuals')"
   ]
  },
  {
   "cell_type": "code",
   "execution_count": null,
   "metadata": {},
   "outputs": [],
   "source": [
    "plot_model(bagging_model, 'error')"
   ]
  },
  {
   "cell_type": "code",
   "execution_count": null,
   "metadata": {},
   "outputs": [],
   "source": [
    "plot_model(model_lgbm, 'feature')"
   ]
  },
  {
   "cell_type": "code",
   "execution_count": null,
   "metadata": {},
   "outputs": [],
   "source": [
    "models = [bagging_model, tuned_model, model_lgbm, tuned_model_lgbm]"
   ]
  },
  {
   "cell_type": "code",
   "execution_count": null,
   "metadata": {
    "ExecuteTime": {
     "end_time": "2020-10-30T18:30:27.284114Z",
     "start_time": "2020-10-30T18:30:26.881564Z"
    }
   },
   "outputs": [],
   "source": [
    "from sklearn.metrics import accuracy_score, precision_score, f1_score, recall_score, classification_report\n",
    "from sklearn.metrics import plot_confusion_matrix"
   ]
  },
  {
   "cell_type": "code",
   "execution_count": null,
   "metadata": {
    "ExecuteTime": {
     "end_time": "2020-10-30T18:39:42.487887Z",
     "start_time": "2020-10-30T18:39:42.006851Z"
    }
   },
   "outputs": [],
   "source": [
    "def generate_metrics(df, y_true, y_pred, average='macro', labels=['ASROTA', 'RESTAURANTE', 'PADARIA', 'SUB', 'BAR', 'LC', 'HOTEL']):\n",
    "#     df['y_true'] = get_config(\"target_inverse_transformer\").inverse_transform(df[y_true].values.reshape(-1, 1)).astype(int)\n",
    "#     df['y_pred'] = get_config(\"target_inverse_transformer\").inverse_transform(df[y_pred].values.reshape(-1, 1)).astype(int)\n",
    "    df['y_true'] = df[y_true].astype(str)\n",
    "    df['y_pred'] = df[y_pred].astype(str)\n",
    "    \n",
    "    print(classification_report(df['y_true'], df['y_pred'], labels=labels))\n",
    "    # accuracy = accuracy_score(df['y_true'], df['y_pred'])\n",
    "    # precision = precision_score(df['y_true'], df['y_pred'], average=average)\n",
    "    # f1 = f1_score(df['y_true'], df['y_pred'], labels=labels, average=average)\n",
    "    # recall = recall_score(df['y_true'], df['y_pred'], labels=labels, average=average)\n",
    "    # \n",
    "    # print('Accuracy = ', accuracy)\n",
    "    # print('Precision = ', precision)\n",
    "    # print('F1 = ', f1)\n",
    "    # print('Recall = ', recall)"
   ]
  },
  {
   "cell_type": "code",
   "execution_count": null,
   "metadata": {},
   "outputs": [],
   "source": [
    "for m in models:\n",
    "    holdout_predict = predict_modelct_model(m)\n",
    "    generate_predict_days(holdout_predict, 0, 'Label')\n"
   ]
  },
  {
   "cell_type": "code",
   "execution_count": null,
   "metadata": {
    "ExecuteTime": {
     "end_time": "2020-10-30T19:17:26.638580Z",
     "start_time": "2020-10-30T19:11:25.453114Z"
    }
   },
   "outputs": [],
   "source": [
    "tuned_model_xgb_final = finalize_model(tuned_model_xgb)"
   ]
  },
  {
   "cell_type": "code",
   "execution_count": null,
   "metadata": {
    "ExecuteTime": {
     "end_time": "2020-10-30T18:42:24.515054Z",
     "start_time": "2020-10-30T18:39:42.492412Z"
    }
   },
   "outputs": [],
   "source": [
    "bagging_tuned_model_xgb_pred_train = predict_model(bagging_tuned_model_xgb, data=X_train)\n",
    "bagging_tuned_model_xgb_pred_test = predict_model(bagging_tuned_model_xgb, data=X_test)\n",
    "\n",
    "bagging_tuned_model_xgb_pred_train.dropna(subset=['TARGET', 'Label'], inplace=True)\n",
    "bagging_tuned_model_xgb_pred_test.dropna(subset=['TARGET', 'Label'], inplace=True)\n",
    "\n",
    "print('------------------- Train Metrics -------------------')\n",
    "generate_metrics(bagging_tuned_model_xgb_pred_train, 'TARGET', 'Label')\n",
    "\n",
    "print('------------------- Test Metrics -------------------')\n",
    "generate_metrics(bagging_tuned_model_xgb_pred_test, 'TARGET', 'Label')"
   ]
  },
  {
   "cell_type": "code",
   "execution_count": null,
   "metadata": {
    "ExecuteTime": {
     "end_time": "2020-10-30T18:55:24.319062Z",
     "start_time": "2020-10-30T18:52:15.485019Z"
    }
   },
   "outputs": [],
   "source": [
    "tuned_model_lgbm_pred_train = predict_model(tuned_model_lgbm, data=X_train)\n",
    "tuned_model_lgbm_pred_test = predict_model(tuned_model_lgbm, data=X_test)\n",
    "\n",
    "tuned_model_lgbm_pred_train.dropna(subset=['TARGET', 'Label'], inplace=True)\n",
    "tuned_model_lgbm_pred_test.dropna(subset=['TARGET', 'Label'], inplace=True)\n",
    "\n",
    "print('------------------- Train Metrics ------------------')\n",
    "generate_metrics(tuned_model_lgbm_pred_train, 'TARGET', 'Label')\n",
    "\n",
    "print('------------------- Test Metrics ------------------')\n",
    "generate_metrics(tuned_model_lgbm_pred_test, 'TARGET', 'Label')"
   ]
  },
  {
   "cell_type": "code",
   "execution_count": null,
   "metadata": {
    "ExecuteTime": {
     "end_time": "2020-10-30T18:55:51.886396Z",
     "start_time": "2020-10-30T18:55:24.329063Z"
    }
   },
   "outputs": [],
   "source": [
    "tuned_model_xgb_pred_train = predict_model(tuned_model_xgb, data=X_train)\n",
    "tuned_model_xgb_pred_test = predict_model(tuned_model_xgb, data=X_test)\n",
    "\n",
    "tuned_model_xgb_pred_train.dropna(subset=['TARGET', 'Label'], inplace=True)\n",
    "tuned_model_xgb_pred_test.dropna(subset=['TARGET', 'Label'], inplace=True)\n",
    "\n",
    "print('------------------- Train Metrics ------------------')\n",
    "generate_metrics(tuned_model_xgb_pred_train, 'TARGET', 'Label')\n",
    "\n",
    "print('------------------- Test Metrics ------------------')\n",
    "generate_metrics(tuned_model_xgb_pred_test, 'TARGET', 'Label')"
   ]
  },
  {
   "cell_type": "code",
   "execution_count": null,
   "metadata": {
    "ExecuteTime": {
     "end_time": "2020-10-30T18:24:44.330347Z",
     "start_time": "2020-10-30T18:24:42.901851Z"
    }
   },
   "outputs": [],
   "source": [
    "plot_data = [\n",
    "    go.Histogram(\n",
    "        x = tx_data['TARGET'],\n",
    "        orientation='v',\n",
    "        name='Segmentos'\n",
    "    )\n",
    "]\n",
    "\n",
    "plot_layout = go.Layout(\n",
    "        width=700,\n",
    "        height=300\n",
    "    )\n",
    "fig = go.Figure(data=plot_data, layout=plot_layout)\n",
    "pyoff.iplot(fig)"
   ]
  },
  {
   "cell_type": "code",
   "execution_count": null,
   "metadata": {},
   "outputs": [],
   "source": [
    "r = evaluate_all(lgbm_final_pred_test['y_true'], lgbm_final_pred_test['y_pred'])"
   ]
  },
  {
   "cell_type": "code",
   "execution_count": null,
   "metadata": {},
   "outputs": [],
   "source": [
    "lgbm_final_pred_test.to_csv(\"../data/processed/Predict Revenue Purchase_LGBM_129.csv\", index=False)"
   ]
  },
  {
   "cell_type": "code",
   "execution_count": null,
   "metadata": {
    "ExecuteTime": {
     "end_time": "2020-10-30T20:22:12.007085Z",
     "start_time": "2020-10-30T20:22:10.950485Z"
    }
   },
   "outputs": [],
   "source": [
    "save_model(tuned_model_xgb, \"../models/Classification/tuned_model_xgb_v1\", verbose=True)"
   ]
  },
  {
   "cell_type": "markdown",
   "metadata": {
    "heading_collapsed": true
   },
   "source": [
    "### H2O"
   ]
  },
  {
   "cell_type": "code",
   "execution_count": null,
   "metadata": {
    "ExecuteTime": {
     "end_time": "2020-08-10T23:12:43.640463Z",
     "start_time": "2020-08-10T23:12:28.921426Z"
    },
    "hidden": true
   },
   "outputs": [],
   "source": [
    "import h2o\n",
    "from sklearn.preprocessing import MinMaxScaler\n",
    "h2o.init()"
   ]
  },
  {
   "cell_type": "code",
   "execution_count": null,
   "metadata": {
    "hidden": true
   },
   "outputs": [],
   "source": [
    "numerics = ['int16', 'int32', 'int64', 'float16', 'float32', 'float64']"
   ]
  },
  {
   "cell_type": "code",
   "execution_count": null,
   "metadata": {
    "hidden": true
   },
   "outputs": [],
   "source": [
    "mms = MinMaxScaler()\n",
    "numeric_columns = list(tx_data.drop(drop_columns, axis=1).select_dtypes(include=numerics).columns)\n",
    "h2o_df = tx_data.drop(drop_columns, axis=1).copy()\n",
    "h2o_df.loc[:, numeric_columns] = mms.fit_transform(h2o_df.loc[:, numeric_columns])\n",
    "h2o_df = pd.get_dummies(h2o_df, columns=cat_columns)"
   ]
  },
  {
   "cell_type": "code",
   "execution_count": null,
   "metadata": {
    "hidden": true
   },
   "outputs": [],
   "source": [
    "h2o_data = get_config(\"X\")\n",
    "h2o_data['y_true'] = get_config(\"y\").values"
   ]
  },
  {
   "cell_type": "code",
   "execution_count": null,
   "metadata": {
    "ExecuteTime": {
     "end_time": "2020-08-10T23:14:31.514910Z",
     "start_time": "2020-08-10T23:14:28.779223Z"
    },
    "hidden": true
   },
   "outputs": [],
   "source": [
    "h2o_data = h2o.H2OFrame(h2o_data)\n",
    "h2o_data.head(5)# The default head() command displays the first 10 rows."
   ]
  },
  {
   "cell_type": "code",
   "execution_count": null,
   "metadata": {
    "ExecuteTime": {
     "end_time": "2020-08-10T23:17:12.362374Z",
     "start_time": "2020-08-10T23:17:11.907510Z"
    },
    "hidden": true
   },
   "outputs": [],
   "source": [
    "h2o_data_split = h2o_data.split_frame(ratios = [0.8], seed = 1234)\n",
    "h2o_train = h2o_data_split[0] # using 80% for training\n",
    "h2o_test = h2o_data_split[1] #rest 20% for testingprint(wine_train.shape, wine_test.shape)"
   ]
  },
  {
   "cell_type": "code",
   "execution_count": null,
   "metadata": {
    "ExecuteTime": {
     "end_time": "2020-08-10T23:19:51.468232Z",
     "start_time": "2020-08-10T23:19:51.434355Z"
    },
    "hidden": true
   },
   "outputs": [],
   "source": [
    "predictors = list(h2o_data.columns)\n",
    "# remove_columns = ['UNB_PDV', 'Segment Range', 'NextPurchaseDayRange', 'NextPurchaseDay']\n",
    "# [predictors.remove(i) for i in remove_columns] # Since we need to predict quality\n",
    "predictors"
   ]
  },
  {
   "cell_type": "code",
   "execution_count": null,
   "metadata": {
    "ExecuteTime": {
     "end_time": "2020-08-10T23:20:48.604035Z",
     "start_time": "2020-08-10T23:20:47.896780Z"
    },
    "hidden": true
   },
   "outputs": [],
   "source": [
    "# Import the function for GLM\n",
    "from h2o.estimators.glm import H2OGeneralizedLinearEstimator# Set up GLM for regression\n",
    "glm = H2OGeneralizedLinearEstimator(family = 'gaussian', model_id = 'glm_default')# Use .train() to build the model\n",
    "glm.train(x = predictors, \n",
    "                  y = 'y_true', \n",
    "                  training_frame = h2o_train)\n",
    "print(glm)"
   ]
  },
  {
   "cell_type": "code",
   "execution_count": null,
   "metadata": {
    "ExecuteTime": {
     "end_time": "2020-08-10T23:21:26.598712Z",
     "start_time": "2020-08-10T23:21:26.516706Z"
    },
    "hidden": true
   },
   "outputs": [],
   "source": [
    "glm.model_performance(h2o_test)"
   ]
  },
  {
   "cell_type": "code",
   "execution_count": null,
   "metadata": {
    "ExecuteTime": {
     "end_time": "2020-08-10T23:21:56.803680Z",
     "start_time": "2020-08-10T23:21:56.668096Z"
    },
    "hidden": true
   },
   "outputs": [],
   "source": [
    "from h2o.automl import H2OAutoML\n",
    "aml = H2OAutoML(max_models = 20, max_runtime_secs=100, seed = 1)"
   ]
  },
  {
   "cell_type": "code",
   "execution_count": null,
   "metadata": {
    "ExecuteTime": {
     "end_time": "2020-08-10T23:24:03.251853Z",
     "start_time": "2020-08-10T23:22:28.090830Z"
    },
    "hidden": true
   },
   "outputs": [],
   "source": [
    "aml.train(x=predictors, y = 'y_true', \n",
    "                  training_frame = h2o_train, validation_frame=h2o_test)"
   ]
  },
  {
   "cell_type": "code",
   "execution_count": null,
   "metadata": {
    "ExecuteTime": {
     "end_time": "2020-08-10T23:24:03.658410Z",
     "start_time": "2020-08-10T23:24:03.618933Z"
    },
    "hidden": true
   },
   "outputs": [],
   "source": [
    "print(aml.leaderboard)"
   ]
  },
  {
   "cell_type": "code",
   "execution_count": null,
   "metadata": {
    "ExecuteTime": {
     "end_time": "2020-08-10T23:37:32.279747Z",
     "start_time": "2020-08-10T23:37:32.245154Z"
    },
    "hidden": true
   },
   "outputs": [],
   "source": [
    "y_test"
   ]
  },
  {
   "cell_type": "code",
   "execution_count": null,
   "metadata": {
    "ExecuteTime": {
     "end_time": "2020-08-10T23:40:16.711205Z",
     "start_time": "2020-08-10T23:40:16.678946Z"
    },
    "hidden": true
   },
   "outputs": [],
   "source": []
  },
  {
   "cell_type": "code",
   "execution_count": null,
   "metadata": {
    "ExecuteTime": {
     "end_time": "2020-08-10T23:41:09.601604Z",
     "start_time": "2020-08-10T23:41:09.543391Z"
    },
    "hidden": true
   },
   "outputs": [],
   "source": [
    "regression_results(y_test, np.array([y_test.median()]*(len(y_test))).reshape(-1, 1))"
   ]
  },
  {
   "cell_type": "code",
   "execution_count": null,
   "metadata": {
    "ExecuteTime": {
     "end_time": "2020-08-10T23:24:04.618653Z",
     "start_time": "2020-08-10T23:24:04.041175Z"
    },
    "hidden": true
   },
   "outputs": [],
   "source": [
    "metalearner = h2o.get_model(aml.leader.metalearner()['name'])\n",
    "metalearner.std_coef_plot()"
   ]
  },
  {
   "cell_type": "code",
   "execution_count": null,
   "metadata": {
    "ExecuteTime": {
     "end_time": "2020-08-10T23:51:21.296266Z",
     "start_time": "2020-08-10T23:51:21.172535Z"
    },
    "hidden": true
   },
   "outputs": [],
   "source": [
    "regression_results(h2o_test.as_data_frame()['y_true'], preds.as_data_frame())"
   ]
  },
  {
   "cell_type": "markdown",
   "metadata": {},
   "source": [
    "## Modelling Deep Learning"
   ]
  },
  {
   "cell_type": "code",
   "execution_count": null,
   "metadata": {},
   "outputs": [],
   "source": [
    "import tensorflow as tf"
   ]
  },
  {
   "cell_type": "code",
   "execution_count": null,
   "metadata": {},
   "outputs": [],
   "source": [
    "from tensorflow.keras.layers import Dense,Dropout\n",
    "from tensorflow.keras.models import Sequential\n",
    "from tensorflow.keras.optimizers import SGD,RMSprop\n",
    "from sklearn.model_selection import train_test_split\n",
    "from sklearn.preprocessing import MinMaxScaler\n",
    "from tensorflow.keras.layers import BatchNormalization\n",
    "from tensorflow.keras import backend as K\n",
    "from tensorflow.keras import metrics as tf_metrics\n",
    "from tensorflow.keras import losses"
   ]
  },
  {
   "cell_type": "code",
   "execution_count": null,
   "metadata": {},
   "outputs": [],
   "source": [
    "y_train = X_train['next_purchase_in_days']#.apply(np.log1p)\n",
    "X_train.drop('next_purchase_in_days', axis=1, inplace=True)"
   ]
  },
  {
   "cell_type": "code",
   "execution_count": null,
   "metadata": {},
   "outputs": [],
   "source": [
    "y_test = X_test['next_purchase_in_days']\n",
    "X_test.drop('next_purchase_in_days', axis=1, inplace=True)"
   ]
  },
  {
   "cell_type": "code",
   "execution_count": null,
   "metadata": {},
   "outputs": [],
   "source": [
    "X_train = X_train.drop(drop_columns, axis=1)"
   ]
  },
  {
   "cell_type": "code",
   "execution_count": null,
   "metadata": {},
   "outputs": [],
   "source": [
    "X_test_prep = X_test.drop(drop_columns, axis=1)"
   ]
  },
  {
   "cell_type": "code",
   "execution_count": null,
   "metadata": {},
   "outputs": [],
   "source": [
    "mms = MinMaxScaler().fit(X_train.drop(cat_columns, axis=1))"
   ]
  },
  {
   "cell_type": "code",
   "execution_count": null,
   "metadata": {},
   "outputs": [],
   "source": [
    "cols_numeric = list(X_train.columns[~X_train.columns.isin(cat_columns)])"
   ]
  },
  {
   "cell_type": "code",
   "execution_count": null,
   "metadata": {},
   "outputs": [],
   "source": [
    "X_train.loc[:, cols_numeric] = mms.transform(X_train.loc[:, cols_numeric])"
   ]
  },
  {
   "cell_type": "code",
   "execution_count": null,
   "metadata": {},
   "outputs": [],
   "source": [
    "X_test_prep = mms.transform(X_test_prep.loc[:, cols_numeric])"
   ]
  },
  {
   "cell_type": "code",
   "execution_count": null,
   "metadata": {},
   "outputs": [],
   "source": [
    "X_train = pd.get_dummies(X_train, columns=cat_columns)"
   ]
  },
  {
   "cell_type": "code",
   "execution_count": null,
   "metadata": {},
   "outputs": [],
   "source": [
    "X_test_prep = pd.get_dummies(X_train, columns=cat_columns)"
   ]
  },
  {
   "cell_type": "code",
   "execution_count": null,
   "metadata": {},
   "outputs": [],
   "source": [
    "X_train.drop(\"flag_covid_0\", axis=1, inplace=True)"
   ]
  },
  {
   "cell_type": "code",
   "execution_count": null,
   "metadata": {},
   "outputs": [],
   "source": [
    "X_train"
   ]
  },
  {
   "cell_type": "code",
   "execution_count": null,
   "metadata": {},
   "outputs": [],
   "source": [
    "X_train, X_val, y_train, y_val = train_test_split(X_train, y_train, random_state=33, test_size=0.20)"
   ]
  },
  {
   "cell_type": "code",
   "execution_count": null,
   "metadata": {},
   "outputs": [],
   "source": [
    "model = Sequential()\n",
    "BatchNormalization()\n",
    "model.add(Dense(512,input_dim=X_train.shape[1],activation='relu'))\n",
    "BatchNormalization()\n",
    "Dropout(0.5)\n",
    "model.add(Dense(128,activation='relu'))\n",
    "BatchNormalization()\n",
    "Dropout(0.8)\n",
    "model.add(Dense(64))\n",
    "BatchNormalization()\n",
    "model.add(Dense(1))\n",
    "#sgd = SGD(lr=0.01)\n",
    "mape_loss = tf.keras.losses.MeanAbsolutePercentageError()\n",
    "msle_loss = tf.keras.losses.MeanSquaredLogarithmicError()\n",
    "model.compile(optimizer='rmsprop', loss=msle_loss, metrics=['mean_squared_error', tf_metrics.MeanSquaredLogarithmicError()\n",
    "                                                         , tf_metrics.MeanAbsolutePercentageError()\n",
    "                                                         , tf_metrics.MeanAbsoluteError()])"
   ]
  },
  {
   "cell_type": "code",
   "execution_count": null,
   "metadata": {},
   "outputs": [],
   "source": [
    "%%time\n",
    "h = model.fit(X_train, y_train, validation_data=(X_val, y_val), use_multiprocessing=True, workers=-1, epochs=80, batch_size=128, verbose=1)"
   ]
  },
  {
   "cell_type": "code",
   "execution_count": null,
   "metadata": {},
   "outputs": [],
   "source": []
  }
 ],
 "metadata": {
  "kernel_info": {
   "name": "train_models"
  },
  "kernelspec": {
   "display_name": "Python 3",
   "language": "python",
   "name": "python3"
  },
  "language_info": {
   "codemirror_mode": {
    "name": "ipython",
    "version": 3
   },
   "file_extension": ".py",
   "mimetype": "text/x-python",
   "name": "python",
   "nbconvert_exporter": "python",
   "pygments_lexer": "ipython3",
   "version": "3.7.4"
  },
  "toc": {
   "nav_menu": {},
   "number_sections": true,
   "sideBar": true,
   "skip_h1_title": false,
   "title_cell": "Table of Contents",
   "title_sidebar": "Contents",
   "toc_cell": false,
   "toc_position": {
    "height": "calc(100% - 180px)",
    "left": "10px",
    "top": "150px",
    "width": "173.7px"
   },
   "toc_section_display": true,
   "toc_window_display": false
  },
  "toc-autonumbering": true,
  "toc-showmarkdowntxt": true,
  "varInspector": {
   "cols": {
    "lenName": 16,
    "lenType": 16,
    "lenVar": 40
   },
   "kernels_config": {
    "python": {
     "delete_cmd_postfix": "",
     "delete_cmd_prefix": "del ",
     "library": "var_list.py",
     "varRefreshCmd": "print(var_dic_list())"
    },
    "r": {
     "delete_cmd_postfix": ") ",
     "delete_cmd_prefix": "rm(",
     "library": "var_list.r",
     "varRefreshCmd": "cat(var_dic_list()) "
    }
   },
   "types_to_exclude": [
    "module",
    "function",
    "builtin_function_or_method",
    "instance",
    "_Feature"
   ],
   "window_display": false
  }
 },
 "nbformat": 4,
 "nbformat_minor": 4
}
