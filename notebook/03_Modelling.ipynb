{
 "cells": [
  {
   "cell_type": "markdown",
   "metadata": {},
   "source": [
    "# Initial Configs\n"
   ]
  },
  {
   "cell_type": "code",
   "execution_count": null,
   "metadata": {
    "ExecuteTime": {
     "end_time": "2021-02-10T22:50:35.805295Z",
     "start_time": "2021-02-10T22:50:33.508935Z"
    },
    "run_control": {
     "marked": true
    }
   },
   "outputs": [],
   "source": [
    "%reload_ext autoreload\n",
    "%autoreload 2\n",
    "%matplotlib inline"
   ]
  },
  {
   "cell_type": "markdown",
   "metadata": {},
   "source": [
    "# Imports"
   ]
  },
  {
   "cell_type": "code",
   "execution_count": null,
   "metadata": {
    "ExecuteTime": {
     "end_time": "2021-02-10T22:50:52.816519Z",
     "start_time": "2021-02-10T22:50:35.824304Z"
    },
    "run_control": {
     "marked": true
    }
   },
   "outputs": [],
   "source": [
    "from __future__ import division\n",
    "#import libraries\n",
    "# from datetime import datetime, timedelta, date\n",
    "import pandas as pd\n",
    "import matplotlib.pyplot as plt\n",
    "import numpy as np\n",
    "from scipy import stats\n",
    "from scipy.stats import randint as sp_randint\n",
    "from scipy.stats import uniform as sp_uniform\n",
    "import swifter\n",
    "import seaborn as sns\n",
    "\n",
    "#do not show warnings\n",
    "import warnings\n",
    "warnings.filterwarnings(\"ignore\")\n",
    "\n",
    "#import plotly for visualization\n",
    "import chart_studio.plotly as py\n",
    "import plotly.offline as pyoff\n",
    "import plotly.graph_objs as go\n",
    "import plotly.express as px\n",
    "import sys\n",
    "from IPython.core.display import display, HTML\n",
    "sys.path.append('..')\n",
    "pyoff.init_notebook_mode()\n",
    "\n",
    "from pycaret.classification import *\n",
    "from sklearn.metrics import accuracy_score, precision_score, f1_score, recall_score, classification_report\n",
    "from sklearn.metrics import plot_confusion_matrix\n",
    "from sklearn.model_selection import train_test_split\n",
    "from bokeh.resources import INLINE\n",
    "import bokeh.io\n",
    "from bokeh import *\n",
    "\n",
    "from tqdm import tqdm_notebook as tqdm"
   ]
  },
  {
   "cell_type": "code",
   "execution_count": null,
   "metadata": {
    "ExecuteTime": {
     "end_time": "2021-02-10T22:50:53.484740Z",
     "start_time": "2021-02-10T22:50:52.819337Z"
    },
    "run_control": {
     "marked": true
    }
   },
   "outputs": [],
   "source": [
    "from src.visualization.visualize import plot_scatter_segment, pareto_gen\n",
    "from src.utils.frame_utils import stratified_df, date_time_features, reduce_mem_usage\n",
    "from src.utils.cluster_utils import order_cluster\n",
    "from src.utils.eval_utils import evaluate_all"
   ]
  },
  {
   "cell_type": "markdown",
   "metadata": {},
   "source": [
    "# Package configs"
   ]
  },
  {
   "cell_type": "code",
   "execution_count": null,
   "metadata": {
    "ExecuteTime": {
     "end_time": "2021-02-10T22:50:56.082517Z",
     "start_time": "2021-02-10T22:50:53.496384Z"
    },
    "run_control": {
     "marked": true
    }
   },
   "outputs": [],
   "source": [
    "pd.set_option('display.max_columns', None)\n",
    "display(HTML(\"<style>.container { width:100% !important; }</style>\"))\n",
    "pd.set_option('plotting.backend', 'pandas_bokeh')\n",
    "bokeh.io.output_notebook(INLINE)"
   ]
  },
  {
   "cell_type": "code",
   "execution_count": null,
   "metadata": {
    "ExecuteTime": {
     "end_time": "2021-02-10T22:50:56.482984Z",
     "start_time": "2021-02-10T22:50:56.085679Z"
    },
    "code_folding": [
     0
    ]
   },
   "outputs": [],
   "source": [
    "# ts = calendar.timegm(time.gmtime())\n",
    "# dt_object = datetime.fromtimestamp(ts)\n",
    "# date = dt_object.strftime('%m_%d_%Y')"
   ]
  },
  {
   "cell_type": "markdown",
   "metadata": {},
   "source": [
    "# Data"
   ]
  },
  {
   "cell_type": "markdown",
   "metadata": {},
   "source": [
    "## Loads"
   ]
  },
  {
   "cell_type": "code",
   "execution_count": null,
   "metadata": {
    "ExecuteTime": {
     "end_time": "2021-02-10T22:50:58.471209Z",
     "start_time": "2021-02-10T22:50:57.123457Z"
    },
    "run_control": {
     "marked": true
    }
   },
   "outputs": [],
   "source": [
    "df_datatran = pd.read_parquet('../data/processed/dataset_v1.parquet')\n",
    "df_datatran['data_inversa'] = pd.to_datetime(df_datatran['data_inversa'])\n",
    "df_datatran.head()"
   ]
  },
  {
   "cell_type": "markdown",
   "metadata": {},
   "source": [
    "# Modelling Classification via PyCaret"
   ]
  },
  {
   "cell_type": "markdown",
   "metadata": {},
   "source": [
    "You can see the documentation in [Pycaret Classification](https://pycaret.org/classification/)"
   ]
  },
  {
   "cell_type": "code",
   "execution_count": null,
   "metadata": {
    "ExecuteTime": {
     "end_time": "2021-02-04T00:53:38.206399Z",
     "start_time": "2021-02-04T00:53:38.063413Z"
    },
    "run_control": {
     "marked": true
    }
   },
   "outputs": [],
   "source": [
    "# df_train, df_test = train_test_split(df_datatran, stratify=df_datatran['contem_vitima_fatal'], random_state=33, test_size=0.20)"
   ]
  },
  {
   "cell_type": "code",
   "execution_count": null,
   "metadata": {
    "ExecuteTime": {
     "end_time": "2021-02-10T22:52:03.976682Z",
     "start_time": "2021-02-10T22:52:03.449156Z"
    }
   },
   "outputs": [],
   "source": [
    "df_datatran.columns"
   ]
  },
  {
   "cell_type": "code",
   "execution_count": null,
   "metadata": {
    "ExecuteTime": {
     "end_time": "2021-02-10T22:53:06.627022Z",
     "start_time": "2021-02-10T22:53:06.158629Z"
    },
    "run_control": {
     "marked": true
    }
   },
   "outputs": [],
   "source": [
    "ignore_columns = ['id', 'data_inversa']"
   ]
  },
  {
   "cell_type": "code",
   "execution_count": null,
   "metadata": {
    "ExecuteTime": {
     "end_time": "2021-02-10T22:53:07.562561Z",
     "start_time": "2021-02-10T22:53:06.632101Z"
    },
    "run_control": {
     "marked": true
    }
   },
   "outputs": [],
   "source": [
    "z_score = stats.zscore(df_datatran.drop(ignore_columns, axis=1).drop(['contem_vitima_fatal'], axis=1).select_dtypes(include=[np.number]))"
   ]
  },
  {
   "cell_type": "code",
   "execution_count": null,
   "metadata": {
    "ExecuteTime": {
     "end_time": "2021-02-10T22:53:08.203837Z",
     "start_time": "2021-02-10T22:53:07.565553Z"
    },
    "run_control": {
     "marked": true
    }
   },
   "outputs": [],
   "source": [
    "abs_z_scores = np.abs(z_score)\n",
    "filtered_entries = (abs_z_scores < 3).all(axis=1)\n",
    "new_df = df_datatran[filtered_entries]"
   ]
  },
  {
   "cell_type": "code",
   "execution_count": null,
   "metadata": {
    "ExecuteTime": {
     "end_time": "2021-02-10T22:53:09.111851Z",
     "start_time": "2021-02-10T22:53:08.651725Z"
    },
    "run_control": {
     "marked": true
    }
   },
   "outputs": [],
   "source": [
    "print(new_df.shape)\n",
    "print(df_datatran.shape)"
   ]
  },
  {
   "cell_type": "code",
   "execution_count": null,
   "metadata": {
    "ExecuteTime": {
     "end_time": "2021-02-04T01:06:40.694933Z",
     "start_time": "2021-02-04T01:06:40.532355Z"
    }
   },
   "outputs": [],
   "source": [
    "df_datatran[df_datatran['contem_vitima_fatal']==1].shape[0]/(df_datatran.shape[0])"
   ]
  },
  {
   "cell_type": "code",
   "execution_count": null,
   "metadata": {
    "ExecuteTime": {
     "end_time": "2021-02-10T22:53:14.365553Z",
     "start_time": "2021-02-10T22:53:13.764409Z"
    },
    "run_control": {
     "marked": true
    }
   },
   "outputs": [],
   "source": [
    "df_datatran.head()"
   ]
  },
  {
   "cell_type": "code",
   "execution_count": null,
   "metadata": {
    "ExecuteTime": {
     "end_time": "2021-02-10T22:53:14.971098Z",
     "start_time": "2021-02-10T22:53:14.460155Z"
    },
    "run_control": {
     "marked": true
    }
   },
   "outputs": [],
   "source": [
    "cat_columns = [\n",
    "      'dia_semana'\n",
    "    , 'fase_dia'\n",
    "    , 'sentido_via'\n",
    "    , 'condicao_metereologica'\n",
    "    , 'em_janela_feriado'\n",
    "    , 'tipo_pista'\n",
    "    , 'tracado_via'\n",
    "    , 'uf'\n",
    "    , 'uso_solo'\n",
    "]"
   ]
  },
  {
   "cell_type": "code",
   "execution_count": null,
   "metadata": {
    "ExecuteTime": {
     "end_time": "2021-02-10T22:53:23.382334Z",
     "start_time": "2021-02-10T22:53:22.831675Z"
    },
    "run_control": {
     "marked": true
    }
   },
   "outputs": [],
   "source": [
    "num_columns = [\n",
    "    #'coordenada_x'\n",
    "    #, 'coordenada_y'\n",
    "    #, 'coordenada_z'\n",
    "    #, 'risco'\n",
    "    #, 'risco_morte'\n",
    "    #'pessoas'\n",
    "]"
   ]
  },
  {
   "cell_type": "code",
   "execution_count": null,
   "metadata": {
    "ExecuteTime": {
     "end_time": "2021-02-10T22:53:23.980162Z",
     "start_time": "2021-02-10T22:53:23.387488Z"
    },
    "run_control": {
     "marked": true
    }
   },
   "outputs": [],
   "source": [
    "folds = 5"
   ]
  },
  {
   "cell_type": "code",
   "execution_count": null,
   "metadata": {
    "ExecuteTime": {
     "end_time": "2021-02-04T01:04:35.480954Z",
     "start_time": "2021-02-04T01:04:35.309413Z"
    }
   },
   "outputs": [],
   "source": [
    "df = get_config('y_test').reset_index()"
   ]
  },
  {
   "cell_type": "code",
   "execution_count": null,
   "metadata": {
    "ExecuteTime": {
     "end_time": "2021-02-10T22:55:06.931025Z",
     "start_time": "2021-02-10T22:54:17.947329Z"
    },
    "run_control": {
     "marked": true
    },
    "scrolled": false
   },
   "outputs": [],
   "source": [
    "exp_reg = setup(new_df, target = 'contem_vitima_fatal', \n",
    "                numeric_features = num_columns,\n",
    "                categorical_features = cat_columns,\n",
    "                ignore_features = ignore_columns,\n",
    "                normalize=True,\n",
    "                pca=False, \n",
    "                create_clusters=False,\n",
    "                fix_imbalance=False,\n",
    "                data_split_stratify=True,\n",
    "                ignore_low_variance=True, \n",
    "                transformation=False, \n",
    "                train_size=0.8, \n",
    "                combine_rare_levels=True,\n",
    "                fold=folds,\n",
    "                rare_level_threshold=0.10,\n",
    "                feature_ratio=False,\n",
    "                feature_interaction=False,\n",
    "                feature_selection=True,\n",
    "                feature_selection_method='boruta',\n",
    "                remove_multicollinearity=True, \n",
    "                remove_perfect_collinearity=True, \n",
    "                remove_outliers=False, \n",
    "                polynomial_features=False,\n",
    "                session_id=123,\n",
    "#                 log_experiment=True,\n",
    "                experiment_name='Predict Fatal Victim',\n",
    "#                 log_plots=True,\n",
    "#                 log_profile=False,\n",
    "#                 log_data=True,\n",
    "                silent=False,\n",
    "                verbose=True,\n",
    "                profile=False,\n",
    "               )"
   ]
  },
  {
   "cell_type": "code",
   "execution_count": null,
   "metadata": {
    "ExecuteTime": {
     "end_time": "2020-12-03T12:51:33.204053Z",
     "start_time": "2020-12-03T12:51:33.011707Z"
    }
   },
   "outputs": [],
   "source": [
    "# get_config(\"y_train\")"
   ]
  },
  {
   "cell_type": "code",
   "execution_count": null,
   "metadata": {
    "ExecuteTime": {
     "end_time": "2020-12-02T13:34:02.132256Z",
     "start_time": "2020-12-02T13:34:01.846296Z"
    }
   },
   "outputs": [],
   "source": [
    "models()"
   ]
  },
  {
   "cell_type": "markdown",
   "metadata": {},
   "source": [
    "## Comparing All Models"
   ]
  },
  {
   "cell_type": "markdown",
   "metadata": {},
   "source": [
    "Comparing all models to evaluate performance is the recommended starting point for modeling once the setup is completed (unless you exactly know what kind of model you need, which is often not the case). This function trains all models in the model library and scores them using stratified cross validation for metric evaluation. The output prints a score grid that shows average Accuracy, Recall, Precision, F1, Kappa, and MCC accross the folds (10 by default) along with training times."
   ]
  },
  {
   "cell_type": "code",
   "execution_count": null,
   "metadata": {
    "ExecuteTime": {
     "start_time": "2021-02-10T22:54:48.024Z"
    },
    "run_control": {
     "marked": false
    },
    "scrolled": false
   },
   "outputs": [],
   "source": [
    "%%time\n",
    "best = compare_models(\n",
    "    sort='AUC',\n",
    "    exclude=['knn', 'ridge', 'svm', 'lr', 'ada', 'lda', 'nb', 'qda'],\n",
    "    fold=folds,\n",
    "    n_select=3,\n",
    "    turbo=True)"
   ]
  },
  {
   "cell_type": "markdown",
   "metadata": {},
   "source": [
    "Note: The AUC metric is not available for Multiclass classification however the column will still be shown with zero values to maintain consistency between the Binary Classification and Multiclass Classification display grids."
   ]
  },
  {
   "cell_type": "markdown",
   "metadata": {},
   "source": [
    "## Create a Model"
   ]
  },
  {
   "cell_type": "markdown",
   "metadata": {},
   "source": [
    "`create_model` is the most granular function in PyCaret and is often the foundation behind most of the PyCaret functionalities. As the name suggests this function trains and evaluates a model using cross validation that can be set with fold parameter. The output prints a score grid that shows Accuracy, Recall, Precision, F1, Kappa and MCC by fold."
   ]
  },
  {
   "cell_type": "code",
   "execution_count": null,
   "metadata": {
    "ExecuteTime": {
     "end_time": "2021-01-25T15:19:07.799806Z",
     "start_time": "2021-01-25T15:10:54.691115Z"
    }
   },
   "outputs": [],
   "source": [
    "model_et = create_model('et', fold=folds)"
   ]
  },
  {
   "cell_type": "code",
   "execution_count": null,
   "metadata": {
    "ExecuteTime": {
     "end_time": "2021-02-02T11:07:30.881088Z",
     "start_time": "2021-02-02T11:04:11.263934Z"
    }
   },
   "outputs": [],
   "source": [
    "model_rf = create_model('rf', fold=folds)"
   ]
  },
  {
   "cell_type": "code",
   "execution_count": null,
   "metadata": {
    "ExecuteTime": {
     "end_time": "2021-01-25T15:25:20.095269Z",
     "start_time": "2021-01-25T15:24:49.398520Z"
    }
   },
   "outputs": [],
   "source": [
    "model_dt = create_model('dt', fold=folds)"
   ]
  },
  {
   "cell_type": "code",
   "execution_count": null,
   "metadata": {
    "ExecuteTime": {
     "end_time": "2021-02-04T01:05:18.298765Z",
     "start_time": "2021-02-04T01:05:13.995608Z"
    }
   },
   "outputs": [],
   "source": [
    "model_lgbm = create_model('lightgbm', fold=folds)"
   ]
  },
  {
   "cell_type": "code",
   "execution_count": null,
   "metadata": {
    "ExecuteTime": {
     "end_time": "2021-01-25T15:37:12.279029Z",
     "start_time": "2021-01-25T15:25:54.096004Z"
    }
   },
   "outputs": [],
   "source": [
    "model_cat = create_model('catboost', fold=folds)"
   ]
  },
  {
   "cell_type": "code",
   "execution_count": null,
   "metadata": {
    "ExecuteTime": {
     "end_time": "2021-01-25T15:40:50.249303Z",
     "start_time": "2021-01-25T15:37:12.279029Z"
    }
   },
   "outputs": [],
   "source": [
    "model_xgb = create_model('xgboost', fold=folds)"
   ]
  },
  {
   "cell_type": "markdown",
   "metadata": {},
   "source": [
    "## Tune a Model"
   ]
  },
  {
   "cell_type": "markdown",
   "metadata": {},
   "source": [
    "When a model is created using the create_model() function it uses the default hyperparameters to train the model. In order to tune hyperparameters, the tune_model() function is used. This function automatically tunes the hyperparameters of a model using Random Grid Search on a pre-defined search space. The output prints a score grid that shows Accuracy, AUC, Recall, Precision, F1, Kappa, and MCC by fold for the best model. To use the custom search grid, you can pass custom_grid parameter in the tune_model function (see 9.2 KNN tuning below)."
   ]
  },
  {
   "cell_type": "code",
   "execution_count": null,
   "metadata": {
    "ExecuteTime": {
     "end_time": "2020-12-07T20:30:48.144683Z",
     "start_time": "2020-12-07T20:05:31.494906Z"
    }
   },
   "outputs": [],
   "source": [
    "param_test ={'learning_rate' : [1e-5, 1e-3, 1e-2, 5e-1, 1e-1],\n",
    "             'n_estimators' : sp_randint(10, 1000),\n",
    "             'num_leaves': sp_randint(6, 75), \n",
    "             'min_child_samples': sp_randint(100, 500), \n",
    "             'min_child_weight': [1e-5, 1e-3, 1e-2, 1e-1, 1, 1e1, 1e2, 1e3, 1e4],\n",
    "             'subsample': sp_uniform(loc=0.2, scale=0.8), \n",
    "             'colsample_bytree': sp_uniform(loc=0.4, scale=0.6),\n",
    "             'reg_alpha': [0, 1e-1, 1, 2, 5, 7, 10, 50, 100],\n",
    "             'reg_lambda': [0, 1e-1, 1, 5, 10, 20, 50, 100]}\n",
    "\n",
    "tuned_model_lgbm = tune_model(model_lgbm, n_iter=100, custom_grid=param_test, optimize='AUC', choose_better=True)"
   ]
  },
  {
   "cell_type": "markdown",
   "metadata": {},
   "source": [
    "The `tune_model()` function is a random grid search of hyperparameters over a pre-defined search space."
   ]
  },
  {
   "cell_type": "code",
   "execution_count": null,
   "metadata": {
    "ExecuteTime": {
     "end_time": "2020-12-07T22:04:46.278788Z",
     "start_time": "2020-12-07T20:30:48.146366Z"
    }
   },
   "outputs": [],
   "source": [
    "tuned_model_cat = tune_model(model_cat, n_iter=100, optimize='AUC', choose_better=True)"
   ]
  },
  {
   "cell_type": "markdown",
   "metadata": {},
   "source": [
    "## Ensemble Model"
   ]
  },
  {
   "cell_type": "code",
   "execution_count": null,
   "metadata": {
    "ExecuteTime": {
     "end_time": "2020-12-07T22:53:18.433945Z",
     "start_time": "2020-12-07T22:04:46.280753Z"
    }
   },
   "outputs": [],
   "source": [
    "bagging_tuned_model_cat = ensemble_model(tuned_model_cat, fold=folds)"
   ]
  },
  {
   "cell_type": "code",
   "execution_count": null,
   "metadata": {
    "ExecuteTime": {
     "end_time": "2020-12-07T22:54:56.577136Z",
     "start_time": "2020-12-07T22:53:18.435906Z"
    }
   },
   "outputs": [],
   "source": [
    "bagging_tuned_model_lgbm = ensemble_model(tuned_model_lgbm, fold=folds)"
   ]
  },
  {
   "cell_type": "markdown",
   "metadata": {},
   "source": [
    "## Stack Model"
   ]
  },
  {
   "cell_type": "code",
   "execution_count": null,
   "metadata": {
    "ExecuteTime": {
     "end_time": "2020-12-07T23:43:03.995526Z",
     "start_time": "2020-12-07T22:54:56.579121Z"
    }
   },
   "outputs": [],
   "source": [
    "stacked_models = stack_models(estimator_list = best[1:], meta_model = best[0])"
   ]
  },
  {
   "cell_type": "markdown",
   "metadata": {},
   "source": [
    "## Plot a Model"
   ]
  },
  {
   "cell_type": "markdown",
   "metadata": {},
   "source": [
    "Before model finalization, the `plot_model()` function can be used to analyze the performance across different aspects such as AUC, confusion_matrix, decision boundary etc. This function takes a trained model object and returns a plot based on the test / hold-out set."
   ]
  },
  {
   "cell_type": "code",
   "execution_count": null,
   "metadata": {
    "ExecuteTime": {
     "end_time": "2021-02-02T11:07:36.597560Z",
     "start_time": "2021-02-02T11:07:30.886079Z"
    }
   },
   "outputs": [],
   "source": [
    "plot_model(model_rf, 'confusion_matrix')"
   ]
  },
  {
   "cell_type": "code",
   "execution_count": null,
   "metadata": {
    "ExecuteTime": {
     "end_time": "2021-02-02T11:07:41.793589Z",
     "start_time": "2021-02-02T11:07:36.602551Z"
    }
   },
   "outputs": [],
   "source": [
    "plot_model(model_rf, 'class_report')"
   ]
  },
  {
   "cell_type": "code",
   "execution_count": null,
   "metadata": {
    "ExecuteTime": {
     "end_time": "2020-12-08T01:03:13.657355Z",
     "start_time": "2020-12-08T01:03:10.615982Z"
    }
   },
   "outputs": [],
   "source": [
    "plot_model(bagging_tuned_model_cat, 'auc')"
   ]
  },
  {
   "cell_type": "code",
   "execution_count": null,
   "metadata": {
    "ExecuteTime": {
     "end_time": "2020-12-08T01:03:16.925543Z",
     "start_time": "2020-12-08T01:03:13.659349Z"
    }
   },
   "outputs": [],
   "source": [
    "plot_model(bagging_tuned_model_cat, 'pr')"
   ]
  },
  {
   "cell_type": "code",
   "execution_count": null,
   "metadata": {
    "ExecuteTime": {
     "end_time": "2020-12-08T01:03:20.147355Z",
     "start_time": "2020-12-08T01:03:16.938514Z"
    }
   },
   "outputs": [],
   "source": [
    "plot_model(bagging_tuned_model_cat, 'error')"
   ]
  },
  {
   "cell_type": "code",
   "execution_count": null,
   "metadata": {
    "ExecuteTime": {
     "end_time": "2020-12-08T01:03:23.001333Z",
     "start_time": "2020-12-08T01:03:20.154514Z"
    }
   },
   "outputs": [],
   "source": [
    "plot_model(bagging_tuned_model_cat, 'calibration')"
   ]
  },
  {
   "cell_type": "code",
   "execution_count": null,
   "metadata": {
    "ExecuteTime": {
     "end_time": "2020-12-08T01:09:23.713673Z",
     "start_time": "2020-12-08T01:03:23.009311Z"
    }
   },
   "outputs": [],
   "source": [
    "plot_model(bagging_tuned_model_cat, 'boundary')"
   ]
  },
  {
   "cell_type": "code",
   "execution_count": null,
   "metadata": {
    "ExecuteTime": {
     "end_time": "2020-12-08T01:09:36.217423Z",
     "start_time": "2020-12-08T01:09:23.718897Z"
    }
   },
   "outputs": [],
   "source": [
    "plot_model(bagging_tuned_model_cat, 'dimension')"
   ]
  },
  {
   "cell_type": "code",
   "execution_count": null,
   "metadata": {
    "ExecuteTime": {
     "end_time": "2020-12-08T12:53:29.087629Z",
     "start_time": "2020-12-08T01:09:36.222695Z"
    }
   },
   "outputs": [],
   "source": [
    "plot_model(bagging_tuned_model_cat, 'vc')"
   ]
  },
  {
   "cell_type": "code",
   "execution_count": null,
   "metadata": {
    "ExecuteTime": {
     "end_time": "2020-12-08T12:53:29.105400Z",
     "start_time": "2020-12-08T01:03:13.381Z"
    }
   },
   "outputs": [],
   "source": [
    "plot_model(bagging_tuned_model_cat, 'manifold')"
   ]
  },
  {
   "cell_type": "code",
   "execution_count": null,
   "metadata": {
    "ExecuteTime": {
     "end_time": "2020-12-08T12:53:29.109480Z",
     "start_time": "2020-12-08T01:03:13.561Z"
    }
   },
   "outputs": [],
   "source": [
    "plot_model(bagging_tuned_model_cat, 'learning')"
   ]
  },
  {
   "cell_type": "code",
   "execution_count": null,
   "metadata": {
    "ExecuteTime": {
     "end_time": "2020-12-08T12:53:29.113485Z",
     "start_time": "2020-12-08T01:03:13.740Z"
    }
   },
   "outputs": [],
   "source": [
    "plot_model(bagging_tuned_model_cat, 'rfe')"
   ]
  },
  {
   "cell_type": "code",
   "execution_count": null,
   "metadata": {
    "ExecuteTime": {
     "end_time": "2020-12-08T12:53:29.117755Z",
     "start_time": "2020-12-08T01:03:14.106Z"
    }
   },
   "outputs": [],
   "source": [
    "plot_model(bagging_tuned_model_cat, 'threshold')"
   ]
  },
  {
   "cell_type": "code",
   "execution_count": null,
   "metadata": {
    "ExecuteTime": {
     "end_time": "2021-01-25T15:40:52.612793Z",
     "start_time": "2021-01-25T15:40:50.249303Z"
    },
    "scrolled": false
   },
   "outputs": [],
   "source": [
    "plot_model(model_et, 'feature')"
   ]
  },
  {
   "cell_type": "code",
   "execution_count": null,
   "metadata": {
    "ExecuteTime": {
     "end_time": "2021-02-02T11:07:44.227153Z",
     "start_time": "2021-02-02T11:07:41.797579Z"
    }
   },
   "outputs": [],
   "source": [
    "plot_model(model_rf, 'feature')"
   ]
  },
  {
   "cell_type": "code",
   "execution_count": null,
   "metadata": {
    "ExecuteTime": {
     "end_time": "2021-01-25T15:40:54.961200Z",
     "start_time": "2021-01-25T15:40:54.402161Z"
    }
   },
   "outputs": [],
   "source": [
    "plot_model(model_dt, 'feature')"
   ]
  },
  {
   "cell_type": "code",
   "execution_count": null,
   "metadata": {
    "ExecuteTime": {
     "end_time": "2021-01-25T15:40:55.511039Z",
     "start_time": "2021-01-25T15:40:54.963196Z"
    }
   },
   "outputs": [],
   "source": [
    "plot_model(model_cat, 'feature')"
   ]
  },
  {
   "cell_type": "code",
   "execution_count": null,
   "metadata": {
    "ExecuteTime": {
     "end_time": "2021-01-25T15:40:56.115803Z",
     "start_time": "2021-01-25T15:40:55.511039Z"
    }
   },
   "outputs": [],
   "source": [
    "plot_model(model_lgbm, 'feature')"
   ]
  },
  {
   "cell_type": "code",
   "execution_count": null,
   "metadata": {
    "ExecuteTime": {
     "end_time": "2021-01-25T15:40:56.968123Z",
     "start_time": "2021-01-25T15:40:56.115803Z"
    }
   },
   "outputs": [],
   "source": [
    "plot_model(model_xgb, 'feature')"
   ]
  },
  {
   "cell_type": "markdown",
   "metadata": {},
   "source": [
    "## Optimize Threshold"
   ]
  },
  {
   "cell_type": "code",
   "execution_count": null,
   "metadata": {
    "ExecuteTime": {
     "end_time": "2021-01-30T14:56:51.391524Z",
     "start_time": "2021-01-30T14:56:46.917325Z"
    }
   },
   "outputs": [],
   "source": [
    "model_predicted_test = predict_model(model_rf)"
   ]
  },
  {
   "cell_type": "code",
   "execution_count": null,
   "metadata": {
    "ExecuteTime": {
     "end_time": "2020-12-08T00:33:01.769892Z",
     "start_time": "2020-12-08T00:32:44.053455Z"
    }
   },
   "outputs": [],
   "source": [
    "f1_score_array = []\n",
    "thresholds_list = np.linspace(0,1,101)\n",
    "\n",
    "with tqdm(total = len(thresholds_list)) as pbar:\n",
    "    for threshold in thresholds_list:\n",
    "        model_predicted_test['contem_vitima_fatal'] = model_predicted_test['contem_vitima_fatal'].astype(int)\n",
    "        model_predicted_test['y_pred'] = model_predicted_test.apply(lambda x: 1 if x['Score'] >= threshold else 0, axis=1)\n",
    "\n",
    "        f1_score_array.append(f1_score(model_predicted_test['contem_vitima_fatal'], model_predicted_test['y_pred']))\n",
    "\n",
    "        pbar.update()\n",
    "\n",
    "    print(f'Best threshold for model = {thresholds_list[np.argmax(f1_score_array)]}')\n",
    "\n",
    "    plt.plot(thresholds_list, f1_score_array)\n",
    "    plt.axvline(x=thresholds_list[np.argmax(f1_score_array)])\n",
    "    plt.show()"
   ]
  },
  {
   "cell_type": "markdown",
   "metadata": {},
   "source": [
    "## Predict Model"
   ]
  },
  {
   "cell_type": "code",
   "execution_count": null,
   "metadata": {
    "ExecuteTime": {
     "end_time": "2021-02-02T11:07:44.643671Z",
     "start_time": "2021-02-02T11:07:44.227153Z"
    }
   },
   "outputs": [],
   "source": [
    "def generate_metrics(df, y_true, y_pred, average='macro', labels = [0, 1]):\n",
    "    df['y_true'] = df[y_true].astype(str)\n",
    "    df['y_pred'] = df[y_pred].astype(str)\n",
    "    \n",
    "    print(classification_report(df['y_true'], df['y_pred'], labels=labels))"
   ]
  },
  {
   "cell_type": "code",
   "execution_count": null,
   "metadata": {
    "ExecuteTime": {
     "end_time": "2020-11-24T19:50:08.349205Z",
     "start_time": "2020-11-24T19:50:07.723566Z"
    }
   },
   "outputs": [],
   "source": [
    "# tuned_model_xgb_final = finalize_model(tuned_model_xgb)"
   ]
  },
  {
   "cell_type": "code",
   "execution_count": null,
   "metadata": {
    "ExecuteTime": {
     "end_time": "2021-02-02T11:07:46.046259Z",
     "start_time": "2021-02-02T11:07:44.647660Z"
    }
   },
   "outputs": [],
   "source": [
    "df_train = get_config(\"X_train\").reset_index()[['index']].merge(new_df.drop(ignore_columns, axis=1).reset_index(), how='left', on='index')\n",
    "del df_train['index']"
   ]
  },
  {
   "cell_type": "code",
   "execution_count": null,
   "metadata": {
    "ExecuteTime": {
     "end_time": "2021-02-02T11:08:07.698952Z",
     "start_time": "2021-02-02T11:07:46.046259Z"
    }
   },
   "outputs": [],
   "source": [
    "model_predicted_train = predict_model(model_rf, data=df_train)"
   ]
  },
  {
   "cell_type": "code",
   "execution_count": null,
   "metadata": {
    "ExecuteTime": {
     "end_time": "2021-02-02T11:08:11.499108Z",
     "start_time": "2021-02-02T11:08:07.698952Z"
    }
   },
   "outputs": [],
   "source": [
    "model_predicted_test = predict_model(model_rf)"
   ]
  },
  {
   "cell_type": "code",
   "execution_count": null,
   "metadata": {
    "ExecuteTime": {
     "end_time": "2021-02-02T11:08:41.227516Z",
     "start_time": "2021-02-02T11:08:11.499108Z"
    }
   },
   "outputs": [],
   "source": [
    "print('------------------- Train Metrics -------------------')\n",
    "generate_metrics(model_predicted_train, 'contem_vitima_fatal', 'Label')\n",
    "\n",
    "print('------------------- Test Metrics -------------------')\n",
    "generate_metrics(model_predicted_test, 'contem_vitima_fatal', 'Label')"
   ]
  },
  {
   "cell_type": "code",
   "execution_count": null,
   "metadata": {
    "ExecuteTime": {
     "end_time": "2020-11-24T19:51:15.972335Z",
     "start_time": "2020-11-24T19:51:01.469561Z"
    }
   },
   "outputs": [],
   "source": [
    "model_predicted_train = predict_model(model_lgbm, data=df_train)"
   ]
  },
  {
   "cell_type": "code",
   "execution_count": null,
   "metadata": {
    "ExecuteTime": {
     "end_time": "2020-11-24T19:51:18.051853Z",
     "start_time": "2020-11-24T19:51:15.974959Z"
    }
   },
   "outputs": [],
   "source": [
    "model_predicted_test = predict_model(model_lgbm)"
   ]
  },
  {
   "cell_type": "code",
   "execution_count": null,
   "metadata": {
    "ExecuteTime": {
     "end_time": "2020-11-24T19:51:39.439050Z",
     "start_time": "2020-11-24T19:51:18.051853Z"
    }
   },
   "outputs": [],
   "source": [
    "print('------------------- Train Metrics -------------------')\n",
    "generate_metrics(model_predicted_train, 'contem_vitima_fatal', 'Label')\n",
    "\n",
    "print('------------------- Test Metrics -------------------')\n",
    "generate_metrics(model_predicted_test, 'contem_vitima_fatal', 'Label')"
   ]
  },
  {
   "cell_type": "code",
   "execution_count": null,
   "metadata": {
    "ExecuteTime": {
     "end_time": "2020-11-24T19:51:51.721544Z",
     "start_time": "2020-11-24T19:51:39.441047Z"
    }
   },
   "outputs": [],
   "source": [
    "model_predicted_train = predict_model(model_cat, data=df_train)"
   ]
  },
  {
   "cell_type": "code",
   "execution_count": null,
   "metadata": {
    "ExecuteTime": {
     "end_time": "2020-11-24T19:51:53.009934Z",
     "start_time": "2020-11-24T19:51:51.721544Z"
    }
   },
   "outputs": [],
   "source": [
    "model_predicted_test = predict_model(model_cat)"
   ]
  },
  {
   "cell_type": "code",
   "execution_count": null,
   "metadata": {
    "ExecuteTime": {
     "end_time": "2020-11-24T19:52:17.245450Z",
     "start_time": "2020-11-24T19:51:53.011396Z"
    }
   },
   "outputs": [],
   "source": [
    "print('------------------- Train Metrics -------------------')\n",
    "generate_metrics(model_predicted_train, 'contem_vitima_fatal', 'Label')\n",
    "\n",
    "print('------------------- Test Metrics -------------------')\n",
    "generate_metrics(model_predicted_test, 'contem_vitima_fatal', 'Label')"
   ]
  },
  {
   "cell_type": "code",
   "execution_count": null,
   "metadata": {
    "ExecuteTime": {
     "end_time": "2020-10-30T18:24:44.330347Z",
     "start_time": "2020-10-30T18:24:42.901851Z"
    }
   },
   "outputs": [],
   "source": [
    "plot_data = [\n",
    "    go.Histogram(\n",
    "        x = tx_data['TARGET'],\n",
    "        orientation='v',\n",
    "        name='Segmentos'\n",
    "    )\n",
    "]\n",
    "\n",
    "plot_layout = go.Layout(\n",
    "        width=700,\n",
    "        height=300\n",
    "    )\n",
    "fig = go.Figure(data=plot_data, layout=plot_layout)\n",
    "pyoff.iplot(fig)"
   ]
  },
  {
   "cell_type": "code",
   "execution_count": null,
   "metadata": {},
   "outputs": [],
   "source": [
    "r = evaluate_all(lgbm_final_pred_test['y_true'], lgbm_final_pred_test['y_pred'])"
   ]
  },
  {
   "cell_type": "code",
   "execution_count": null,
   "metadata": {},
   "outputs": [],
   "source": [
    "lgbm_final_pred_test.to_csv(\"../data/processed/Predict Revenue Purchase_LGBM_129.csv\", index=False)"
   ]
  },
  {
   "cell_type": "markdown",
   "metadata": {},
   "source": [
    "Finalize and Save Model"
   ]
  },
  {
   "cell_type": "code",
   "execution_count": null,
   "metadata": {
    "ExecuteTime": {
     "end_time": "2021-02-02T11:14:01.565573Z",
     "start_time": "2021-02-02T11:09:27.818732Z"
    }
   },
   "outputs": [],
   "source": [
    "model_rf_finalized = finalize_model(model_rf)"
   ]
  },
  {
   "cell_type": "code",
   "execution_count": null,
   "metadata": {
    "ExecuteTime": {
     "end_time": "2021-02-02T11:14:03.850555Z",
     "start_time": "2021-02-02T11:14:01.569563Z"
    }
   },
   "outputs": [],
   "source": [
    "save_model(model_rf, \"../models/model_rf_02_02_2021\", verbose=True)"
   ]
  },
  {
   "cell_type": "code",
   "execution_count": null,
   "metadata": {
    "ExecuteTime": {
     "end_time": "2021-01-24T13:51:32.140058Z",
     "start_time": "2021-01-24T13:51:18.710882Z"
    }
   },
   "outputs": [],
   "source": [
    "model_predicted_et = predict_model(model_et)\n",
    "\n",
    "print('------------------- et -------------------')\n",
    "generate_metrics(model_predicted_et, 'contem_vitima_fatal', 'Label')"
   ]
  },
  {
   "cell_type": "code",
   "execution_count": null,
   "metadata": {
    "ExecuteTime": {
     "end_time": "2021-01-24T13:51:43.904796Z",
     "start_time": "2021-01-24T13:51:32.141055Z"
    }
   },
   "outputs": [],
   "source": [
    "model_predicted_rf = predict_model(model_rf)\n",
    "\n",
    "print('------------------- rf -------------------')\n",
    "generate_metrics(model_predicted_rf, 'contem_vitima_fatal', 'Label')"
   ]
  },
  {
   "cell_type": "code",
   "execution_count": null,
   "metadata": {
    "ExecuteTime": {
     "end_time": "2021-01-24T13:51:52.096657Z",
     "start_time": "2021-01-24T13:51:43.905761Z"
    }
   },
   "outputs": [],
   "source": [
    "model_predicted_dt = predict_model(model_dt)\n",
    "\n",
    "print('------------------- dt -------------------')\n",
    "generate_metrics(model_predicted_dt, 'contem_vitima_fatal', 'Label')"
   ]
  },
  {
   "cell_type": "code",
   "execution_count": null,
   "metadata": {
    "ExecuteTime": {
     "end_time": "2021-01-24T13:51:59.826450Z",
     "start_time": "2021-01-24T13:51:52.097654Z"
    }
   },
   "outputs": [],
   "source": [
    "model_predicted_cat = predict_model(model_cat)\n",
    "\n",
    "print('------------------- cat -------------------')\n",
    "generate_metrics(model_predicted_cat, 'contem_vitima_fatal', 'Label')"
   ]
  },
  {
   "cell_type": "code",
   "execution_count": null,
   "metadata": {
    "ExecuteTime": {
     "end_time": "2021-01-24T13:52:08.807732Z",
     "start_time": "2021-01-24T13:51:59.827448Z"
    }
   },
   "outputs": [],
   "source": [
    "model_predicted_lgbm = predict_model(model_lgbm)\n",
    "\n",
    "print('------------------- lgbm -------------------')\n",
    "generate_metrics(model_predicted_lgbm, 'contem_vitima_fatal', 'Label')"
   ]
  },
  {
   "cell_type": "code",
   "execution_count": null,
   "metadata": {
    "ExecuteTime": {
     "end_time": "2021-01-24T13:52:19.406935Z",
     "start_time": "2021-01-24T13:52:08.808761Z"
    }
   },
   "outputs": [],
   "source": [
    "model_predicted_xgb = predict_model(model_xgb)\n",
    "\n",
    "print('------------------- xgb -------------------')\n",
    "generate_metrics(model_predicted_xgb, 'contem_vitima_fatal', 'Label')"
   ]
  },
  {
   "cell_type": "code",
   "execution_count": null,
   "metadata": {},
   "outputs": [],
   "source": []
  }
 ],
 "metadata": {
  "kernel_info": {
   "name": "train_models"
  },
  "kernelspec": {
   "display_name": "Python 3",
   "language": "python",
   "name": "python3"
  },
  "language_info": {
   "codemirror_mode": {
    "name": "ipython",
    "version": 3
   },
   "file_extension": ".py",
   "mimetype": "text/x-python",
   "name": "python",
   "nbconvert_exporter": "python",
   "pygments_lexer": "ipython3",
   "version": "3.7.9"
  },
  "toc": {
   "nav_menu": {},
   "number_sections": true,
   "sideBar": true,
   "skip_h1_title": false,
   "title_cell": "Table of Contents",
   "title_sidebar": "Contents",
   "toc_cell": false,
   "toc_position": {
    "height": "calc(100% - 180px)",
    "left": "10px",
    "top": "150px",
    "width": "173.7px"
   },
   "toc_section_display": true,
   "toc_window_display": false
  },
  "toc-autonumbering": true,
  "toc-showmarkdowntxt": true,
  "varInspector": {
   "cols": {
    "lenName": 16,
    "lenType": 16,
    "lenVar": 40
   },
   "kernels_config": {
    "python": {
     "delete_cmd_postfix": "",
     "delete_cmd_prefix": "del ",
     "library": "var_list.py",
     "varRefreshCmd": "print(var_dic_list())"
    },
    "r": {
     "delete_cmd_postfix": ") ",
     "delete_cmd_prefix": "rm(",
     "library": "var_list.r",
     "varRefreshCmd": "cat(var_dic_list()) "
    }
   },
   "types_to_exclude": [
    "module",
    "function",
    "builtin_function_or_method",
    "instance",
    "_Feature"
   ],
   "window_display": false
  }
 },
 "nbformat": 4,
 "nbformat_minor": 4
}
